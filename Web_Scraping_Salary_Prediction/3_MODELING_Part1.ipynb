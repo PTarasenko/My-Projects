{
 "cells": [
  {
   "cell_type": "markdown",
   "metadata": {},
   "source": [
    "# <span style=\"color:#820747\">3. Modeling (NLP + LogisticRegression to predict salary price).\n",
    "                                                                                             by Pavel Tarasenko"
   ]
  },
  {
   "cell_type": "markdown",
   "metadata": {},
   "source": [
    "# <span style=\"color:#6e750e\">Navigator:\n",
    "\n",
    "<b>[1. WebScraping](./1_WebScraping-and-Cleaning-Data.ipynb)\n",
    "\n",
    "<b>[2. My EDA](./2_EDA.ipynb)\n",
    "\n",
    "<b>[4. Factors that distinguish job category](./4_Factors that distinguish job category.ipynb)\n",
    "\n",
    "<b>[5. TECHNICAL REPORT](./Technical_report.txt)\n",
    "\n",
    "<b>[6. NON TECHNICAL REPORT](./Non_technical_report.txt)"
   ]
  },
  {
   "cell_type": "markdown",
   "metadata": {},
   "source": [
    "<span style=\"color:red\">\n",
    "--- comment ---\n",
    "\n",
    "<span style=\"color:#1d5dec\"> In this part I will do modeling to predict the price. Price will be predicted as 0 and 1, where 0 salary below median ($110000) and 1 salary above median. To do this I will use Natural Language Processing (NLP) to find predictors from 'title', 'summary', 'job_bio', 'company' and 'cities'. After I will fit it into LogisticRegression model, and train my model on train data, then I will test it on test data. Later I will take my data without salary and predict salary prices for the rest of jobs. Next step will be concatenation two parts into one. "
   ]
  },
  {
   "cell_type": "code",
   "execution_count": 91,
   "metadata": {
    "collapsed": true
   },
   "outputs": [],
   "source": [
    "# Import all necessary libraries.\n",
    "# -----------------------------------------------------\n",
    "import matplotlib.pyplot as plt\n",
    "import pandas as pd\n",
    "import bs4\n",
    "import re\n",
    "import time\n",
    "import numpy as np\n",
    "import sklearn\n",
    "from time import sleep\n",
    "import requests\n",
    "import seaborn as sns\n",
    "\n",
    "from statistics import median\n",
    "import matplotlib as mpl\n",
    "mpl.rc('patch', edgecolor = 'dimgray', linewidth=1)\n",
    "%config InlineBackend.figure_format = 'retina'\n",
    "%matplotlib inline\n",
    "from selenium import webdriver\n",
    "from bs4 import BeautifulSoup\n",
    "import urllib.request, urllib.parse, urllib.error\n",
    "\n",
    "from sklearn.model_selection import train_test_split\n",
    "from sklearn.feature_extraction.text import CountVectorizer\n",
    "from sklearn.model_selection import cross_val_score\n",
    "from sklearn import metrics\n",
    "from sklearn.linear_model import LogisticRegression\n",
    "from sklearn.metrics import classification_report, confusion_matrix, accuracy_score\n",
    "from sklearn.model_selection import train_test_split, GridSearchCV"
   ]
  },
  {
   "cell_type": "code",
   "execution_count": 3,
   "metadata": {
    "collapsed": true
   },
   "outputs": [],
   "source": [
    "# Load my working csv file into df variable.\n",
    "# -----------------------------------------------------\n",
    "df = pd.read_csv('4_salary_no_outliers.csv')"
   ]
  },
  {
   "cell_type": "code",
   "execution_count": 5,
   "metadata": {
    "collapsed": true
   },
   "outputs": [],
   "source": [
    "# Split the data and make it binary: 1 = salary > median and 0 = salary < median. Our Median == $110000\n",
    "# -----------------------------------------------------\n",
    "df[\"Salary_grater_median\"] = np.nan\n",
    "df.ix[df[\"salary\"] > df[\"salary\"].median(), \"Salary_grater_median\"] = 1\n",
    "df.ix[df[\"salary\"] <= df[\"salary\"].median(), \"Salary_grater_median\"] = 0"
   ]
  },
  {
   "cell_type": "code",
   "execution_count": 8,
   "metadata": {
    "collapsed": false
   },
   "outputs": [
    {
     "data": {
      "text/html": [
       "<div>\n",
       "<table border=\"1\" class=\"dataframe\">\n",
       "  <thead>\n",
       "    <tr style=\"text-align: right;\">\n",
       "      <th></th>\n",
       "      <th>location</th>\n",
       "      <th>title</th>\n",
       "      <th>company</th>\n",
       "      <th>salary</th>\n",
       "      <th>Salary_type</th>\n",
       "      <th>summary</th>\n",
       "      <th>job_bio</th>\n",
       "      <th>level</th>\n",
       "      <th>Salary_grater_median</th>\n",
       "    </tr>\n",
       "  </thead>\n",
       "  <tbody>\n",
       "    <tr>\n",
       "      <th>0</th>\n",
       "      <td>sydney</td>\n",
       "      <td>data science research engineer</td>\n",
       "      <td>macquarie university</td>\n",
       "      <td>106382.0</td>\n",
       "      <td>year</td>\n",
       "      <td>we are seeking a data science research enginee...</td>\n",
       "      <td>macquarie is the university of pioneering mind...</td>\n",
       "      <td>middle</td>\n",
       "      <td>0.0</td>\n",
       "    </tr>\n",
       "    <tr>\n",
       "      <th>1</th>\n",
       "      <td>sydney</td>\n",
       "      <td>senior software engineer  machine learning</td>\n",
       "      <td>rokt</td>\n",
       "      <td>137500.0</td>\n",
       "      <td>year</td>\n",
       "      <td>a strong statistical background and or experie...</td>\n",
       "      <td>exceptional opportunity to join one of the fas...</td>\n",
       "      <td>senior</td>\n",
       "      <td>1.0</td>\n",
       "    </tr>\n",
       "    <tr>\n",
       "      <th>2</th>\n",
       "      <td>sydney</td>\n",
       "      <td>event research analyst</td>\n",
       "      <td>destination nsw corporate services</td>\n",
       "      <td>93704.5</td>\n",
       "      <td>year</td>\n",
       "      <td>outline your experience in carrying out market...</td>\n",
       "      <td>event research analyst   0000650n  ongoing  fu...</td>\n",
       "      <td>middle</td>\n",
       "      <td>0.0</td>\n",
       "    </tr>\n",
       "  </tbody>\n",
       "</table>\n",
       "</div>"
      ],
      "text/plain": [
       "  location                                        title  \\\n",
       "0   sydney               data science research engineer   \n",
       "1   sydney  senior software engineer  machine learning    \n",
       "2   sydney                       event research analyst   \n",
       "\n",
       "                              company    salary Salary_type  \\\n",
       "0                macquarie university  106382.0        year   \n",
       "1                                rokt  137500.0        year   \n",
       "2  destination nsw corporate services   93704.5        year   \n",
       "\n",
       "                                             summary  \\\n",
       "0  we are seeking a data science research enginee...   \n",
       "1  a strong statistical background and or experie...   \n",
       "2  outline your experience in carrying out market...   \n",
       "\n",
       "                                             job_bio   level  \\\n",
       "0  macquarie is the university of pioneering mind...  middle   \n",
       "1  exceptional opportunity to join one of the fas...  senior   \n",
       "2  event research analyst   0000650n  ongoing  fu...  middle   \n",
       "\n",
       "   Salary_grater_median  \n",
       "0                   0.0  \n",
       "1                   1.0  \n",
       "2                   0.0  "
      ]
     },
     "execution_count": 8,
     "metadata": {},
     "output_type": "execute_result"
    }
   ],
   "source": [
    "# Check if I got what I want. \n",
    "# -----------------------------------------------------\n",
    "df.head(3)"
   ]
  },
  {
   "cell_type": "markdown",
   "metadata": {},
   "source": [
    "<span style=\"color:red\">\n",
    "--- comment ---\n",
    "\n",
    "<span style=\"color:#1d5dec\"> My DataFrame (df) doesnt include any nulls values, I will use it to train my model. "
   ]
  },
  {
   "cell_type": "code",
   "execution_count": 14,
   "metadata": {
    "collapsed": false
   },
   "outputs": [
    {
     "data": {
      "text/html": [
       "<div>\n",
       "<table border=\"1\" class=\"dataframe\">\n",
       "  <thead>\n",
       "    <tr style=\"text-align: right;\">\n",
       "      <th></th>\n",
       "      <th>Salary_grater_median</th>\n",
       "    </tr>\n",
       "  </thead>\n",
       "  <tbody>\n",
       "    <tr>\n",
       "      <th>0</th>\n",
       "      <td>0.0</td>\n",
       "    </tr>\n",
       "    <tr>\n",
       "      <th>1</th>\n",
       "      <td>1.0</td>\n",
       "    </tr>\n",
       "    <tr>\n",
       "      <th>2</th>\n",
       "      <td>0.0</td>\n",
       "    </tr>\n",
       "  </tbody>\n",
       "</table>\n",
       "</div>"
      ],
      "text/plain": [
       "   Salary_grater_median\n",
       "0                   0.0\n",
       "1                   1.0\n",
       "2                   0.0"
      ]
     },
     "execution_count": 14,
     "metadata": {},
     "output_type": "execute_result"
    }
   ],
   "source": [
    "# Split my data into target and features. Print out my target. \n",
    "# -----------------------------------------------------\n",
    "features = df.iloc[:,0:len(df_with_salary.columns)-1]\n",
    "target = pd.DataFrame(df['Salary_grater_median'])\n",
    "target.head(3)"
   ]
  },
  {
   "cell_type": "code",
   "execution_count": 15,
   "metadata": {
    "collapsed": false
   },
   "outputs": [
    {
     "data": {
      "text/html": [
       "<div>\n",
       "<table border=\"1\" class=\"dataframe\">\n",
       "  <thead>\n",
       "    <tr style=\"text-align: right;\">\n",
       "      <th></th>\n",
       "      <th>location</th>\n",
       "      <th>title</th>\n",
       "      <th>company</th>\n",
       "      <th>salary</th>\n",
       "      <th>Salary_type</th>\n",
       "      <th>summary</th>\n",
       "      <th>job_bio</th>\n",
       "      <th>level</th>\n",
       "    </tr>\n",
       "  </thead>\n",
       "  <tbody>\n",
       "    <tr>\n",
       "      <th>0</th>\n",
       "      <td>sydney</td>\n",
       "      <td>data science research engineer</td>\n",
       "      <td>macquarie university</td>\n",
       "      <td>106382.0</td>\n",
       "      <td>year</td>\n",
       "      <td>we are seeking a data science research enginee...</td>\n",
       "      <td>macquarie is the university of pioneering mind...</td>\n",
       "      <td>middle</td>\n",
       "    </tr>\n",
       "  </tbody>\n",
       "</table>\n",
       "</div>"
      ],
      "text/plain": [
       "  location                           title               company    salary  \\\n",
       "0   sydney  data science research engineer  macquarie university  106382.0   \n",
       "\n",
       "  Salary_type                                            summary  \\\n",
       "0        year  we are seeking a data science research enginee...   \n",
       "\n",
       "                                             job_bio   level  \n",
       "0  macquarie is the university of pioneering mind...  middle  "
      ]
     },
     "execution_count": 15,
     "metadata": {},
     "output_type": "execute_result"
    }
   ],
   "source": [
    "# Print out my features which I will use to aplly NLP on it, to find my predictors. \n",
    "# -----------------------------------------------------\n",
    "features.head(1)"
   ]
  },
  {
   "cell_type": "markdown",
   "metadata": {},
   "source": [
    "<span style=\"color:red\">\n",
    "--- comment ---\n",
    "\n",
    "<span style=\"color:#1d5dec\"> From here I will start using NLP to get my predictors for future use in my LogisticRegression to predict salary price. "
   ]
  },
  {
   "cell_type": "markdown",
   "metadata": {},
   "source": [
    "# <span style=\"color:#15b01a\"> 1. Search for words in title"
   ]
  },
  {
   "cell_type": "code",
   "execution_count": 16,
   "metadata": {
    "collapsed": false
   },
   "outputs": [
    {
     "data": {
      "text/html": [
       "<div>\n",
       "<table border=\"1\" class=\"dataframe\">\n",
       "  <thead>\n",
       "    <tr style=\"text-align: right;\">\n",
       "      <th></th>\n",
       "      <th>analyst</th>\n",
       "      <th>analytics</th>\n",
       "      <th>business</th>\n",
       "      <th>business analyst</th>\n",
       "      <th>commercial</th>\n",
       "      <th>commercial analyst</th>\n",
       "      <th>consultant</th>\n",
       "      <th>contract</th>\n",
       "      <th>data</th>\n",
       "      <th>data analyst</th>\n",
       "      <th>...</th>\n",
       "      <th>manager</th>\n",
       "      <th>project</th>\n",
       "      <th>research</th>\n",
       "      <th>scientist</th>\n",
       "      <th>senior</th>\n",
       "      <th>senior business</th>\n",
       "      <th>senior business analyst</th>\n",
       "      <th>sydney</th>\n",
       "      <th>systems</th>\n",
       "      <th>technical</th>\n",
       "    </tr>\n",
       "  </thead>\n",
       "  <tbody>\n",
       "    <tr>\n",
       "      <th>0</th>\n",
       "      <td>0</td>\n",
       "      <td>0</td>\n",
       "      <td>0</td>\n",
       "      <td>0</td>\n",
       "      <td>0</td>\n",
       "      <td>0</td>\n",
       "      <td>0</td>\n",
       "      <td>0</td>\n",
       "      <td>1</td>\n",
       "      <td>0</td>\n",
       "      <td>...</td>\n",
       "      <td>0</td>\n",
       "      <td>0</td>\n",
       "      <td>1</td>\n",
       "      <td>0</td>\n",
       "      <td>0</td>\n",
       "      <td>0</td>\n",
       "      <td>0</td>\n",
       "      <td>0</td>\n",
       "      <td>0</td>\n",
       "      <td>0</td>\n",
       "    </tr>\n",
       "    <tr>\n",
       "      <th>1</th>\n",
       "      <td>0</td>\n",
       "      <td>0</td>\n",
       "      <td>0</td>\n",
       "      <td>0</td>\n",
       "      <td>0</td>\n",
       "      <td>0</td>\n",
       "      <td>0</td>\n",
       "      <td>0</td>\n",
       "      <td>0</td>\n",
       "      <td>0</td>\n",
       "      <td>...</td>\n",
       "      <td>0</td>\n",
       "      <td>0</td>\n",
       "      <td>0</td>\n",
       "      <td>0</td>\n",
       "      <td>1</td>\n",
       "      <td>0</td>\n",
       "      <td>0</td>\n",
       "      <td>0</td>\n",
       "      <td>0</td>\n",
       "      <td>0</td>\n",
       "    </tr>\n",
       "    <tr>\n",
       "      <th>2</th>\n",
       "      <td>1</td>\n",
       "      <td>0</td>\n",
       "      <td>0</td>\n",
       "      <td>0</td>\n",
       "      <td>0</td>\n",
       "      <td>0</td>\n",
       "      <td>0</td>\n",
       "      <td>0</td>\n",
       "      <td>0</td>\n",
       "      <td>0</td>\n",
       "      <td>...</td>\n",
       "      <td>0</td>\n",
       "      <td>0</td>\n",
       "      <td>1</td>\n",
       "      <td>0</td>\n",
       "      <td>0</td>\n",
       "      <td>0</td>\n",
       "      <td>0</td>\n",
       "      <td>0</td>\n",
       "      <td>0</td>\n",
       "      <td>0</td>\n",
       "    </tr>\n",
       "    <tr>\n",
       "      <th>3</th>\n",
       "      <td>0</td>\n",
       "      <td>0</td>\n",
       "      <td>0</td>\n",
       "      <td>0</td>\n",
       "      <td>0</td>\n",
       "      <td>0</td>\n",
       "      <td>0</td>\n",
       "      <td>0</td>\n",
       "      <td>1</td>\n",
       "      <td>0</td>\n",
       "      <td>...</td>\n",
       "      <td>0</td>\n",
       "      <td>0</td>\n",
       "      <td>0</td>\n",
       "      <td>1</td>\n",
       "      <td>0</td>\n",
       "      <td>0</td>\n",
       "      <td>0</td>\n",
       "      <td>0</td>\n",
       "      <td>0</td>\n",
       "      <td>0</td>\n",
       "    </tr>\n",
       "    <tr>\n",
       "      <th>4</th>\n",
       "      <td>0</td>\n",
       "      <td>0</td>\n",
       "      <td>0</td>\n",
       "      <td>0</td>\n",
       "      <td>0</td>\n",
       "      <td>0</td>\n",
       "      <td>0</td>\n",
       "      <td>0</td>\n",
       "      <td>0</td>\n",
       "      <td>0</td>\n",
       "      <td>...</td>\n",
       "      <td>0</td>\n",
       "      <td>0</td>\n",
       "      <td>0</td>\n",
       "      <td>1</td>\n",
       "      <td>0</td>\n",
       "      <td>0</td>\n",
       "      <td>0</td>\n",
       "      <td>0</td>\n",
       "      <td>0</td>\n",
       "      <td>0</td>\n",
       "    </tr>\n",
       "    <tr>\n",
       "      <th>5</th>\n",
       "      <td>0</td>\n",
       "      <td>0</td>\n",
       "      <td>0</td>\n",
       "      <td>0</td>\n",
       "      <td>0</td>\n",
       "      <td>0</td>\n",
       "      <td>0</td>\n",
       "      <td>0</td>\n",
       "      <td>1</td>\n",
       "      <td>0</td>\n",
       "      <td>...</td>\n",
       "      <td>0</td>\n",
       "      <td>0</td>\n",
       "      <td>0</td>\n",
       "      <td>1</td>\n",
       "      <td>0</td>\n",
       "      <td>0</td>\n",
       "      <td>0</td>\n",
       "      <td>0</td>\n",
       "      <td>0</td>\n",
       "      <td>0</td>\n",
       "    </tr>\n",
       "  </tbody>\n",
       "</table>\n",
       "<p>6 rows × 28 columns</p>\n",
       "</div>"
      ],
      "text/plain": [
       "   analyst  analytics  business  business analyst  commercial  \\\n",
       "0        0          0         0                 0           0   \n",
       "1        0          0         0                 0           0   \n",
       "2        1          0         0                 0           0   \n",
       "3        0          0         0                 0           0   \n",
       "4        0          0         0                 0           0   \n",
       "5        0          0         0                 0           0   \n",
       "\n",
       "   commercial analyst  consultant  contract  data  data analyst    ...      \\\n",
       "0                   0           0         0     1             0    ...       \n",
       "1                   0           0         0     0             0    ...       \n",
       "2                   0           0         0     0             0    ...       \n",
       "3                   0           0         0     1             0    ...       \n",
       "4                   0           0         0     0             0    ...       \n",
       "5                   0           0         0     1             0    ...       \n",
       "\n",
       "   manager  project  research  scientist  senior  senior business  \\\n",
       "0        0        0         1          0       0                0   \n",
       "1        0        0         0          0       1                0   \n",
       "2        0        0         1          0       0                0   \n",
       "3        0        0         0          1       0                0   \n",
       "4        0        0         0          1       0                0   \n",
       "5        0        0         0          1       0                0   \n",
       "\n",
       "   senior business analyst  sydney  systems  technical  \n",
       "0                        0       0        0          0  \n",
       "1                        0       0        0          0  \n",
       "2                        0       0        0          0  \n",
       "3                        0       0        0          0  \n",
       "4                        0       0        0          0  \n",
       "5                        0       0        0          0  \n",
       "\n",
       "[6 rows x 28 columns]"
      ]
     },
     "execution_count": 16,
     "metadata": {},
     "output_type": "execute_result"
    }
   ],
   "source": [
    "# Fit my count vectorizer to the title and make our title data into title_train. I remove some unneeded words with \n",
    "# 'stop_words='english'', I set 'ngram_range = (1, 3)' to go through all combination words max 3 words. \n",
    "# 'min_df I set 0.25% which will show me only word which appears more than 0.25% in a text. \n",
    "# -----------------------------------------------------\n",
    "cvec = CountVectorizer(stop_words='english', ngram_range=(1, 3), min_df = .025)\n",
    "cvec.fit(features['title'])\n",
    "title_train = pd.DataFrame(cvec.transform(features['title']).todense(), columns=cvec.get_feature_names())\n",
    "title_train.head(6)"
   ]
  },
  {
   "cell_type": "code",
   "execution_count": 17,
   "metadata": {
    "collapsed": true
   },
   "outputs": [],
   "source": [
    "# Put our target next to n-grams table. It will be useful in my next loop to count word in two different categories.\n",
    "# -----------------------------------------------------\n",
    "words_to_target = pd.concat([title_train, target], axis=1)"
   ]
  },
  {
   "cell_type": "code",
   "execution_count": 25,
   "metadata": {
    "collapsed": false
   },
   "outputs": [
    {
     "name": "stdout",
     "output_type": "stream",
     "text": [
      "Most common words for:  0\n",
      "-------------------------\n",
      "analyst             293.0\n",
      "data                 96.0\n",
      "business             92.0\n",
      "business analyst     72.0\n",
      "data analyst         54.0\n",
      "senior               39.0\n",
      "financial            21.0\n",
      "finance              20.0\n",
      "commercial           18.0\n",
      "manager              17.0\n",
      "dtype: float64\n",
      "\n",
      "Most common words for:  1\n",
      "-------------------------\n",
      "Salary_grater_median    379.0\n",
      "analyst                 229.0\n",
      "business                131.0\n",
      "senior                  106.0\n",
      "business analyst        106.0\n",
      "data                     95.0\n",
      "senior business          27.0\n",
      "manager                  27.0\n",
      "engineer                 23.0\n",
      "developer                23.0\n",
      "dtype: float64\n",
      "\n"
     ]
    }
   ],
   "source": [
    "# Use for loop to count most common words in category grater than median and lower than median\n",
    "# -----------------------------------------------------\n",
    "for i in range(2):  # set range to go through 0 and 1\n",
    "    word_count = words_to_target[words_to_target[\"Salary_grater_median\"] == i].sum(axis=0)\n",
    "    print(\"Most common words for: \", i)\n",
    "    print('-------------------------')\n",
    "    w = word_count.sort_values(ascending = False).head(10)\n",
    "    print(w)\n",
    "    print('')"
   ]
  },
  {
   "cell_type": "code",
   "execution_count": 26,
   "metadata": {
    "collapsed": false
   },
   "outputs": [
    {
     "data": {
      "text/plain": [
       "Salary_grater_median            inf\n",
       "senior business            4.500000\n",
       "senior business analyst    3.500000\n",
       "senior                     2.717949\n",
       "lead                       2.000000\n",
       "contract                   2.000000\n",
       "engineer                   1.769231\n",
       "developer                  1.769231\n",
       "systems                    1.625000\n",
       "manager                    1.588235\n",
       "business analyst           1.472222\n",
       "analytics                  1.454545\n",
       "business                   1.423913\n",
       "data scientist             1.142857\n",
       "technical                  1.076923\n",
       "scientist                  1.000000\n",
       "data                       0.989583\n",
       "project                    0.909091\n",
       "finance                    0.850000\n",
       "consultant                 0.812500\n",
       "analyst                    0.781570\n",
       "sydney                     0.769231\n",
       "financial                  0.666667\n",
       "commercial analyst         0.571429\n",
       "digital                    0.500000\n",
       "commercial                 0.500000\n",
       "research                   0.312500\n",
       "data analyst               0.259259\n",
       "management                 0.235294\n",
       "Name: above_below_ratio, dtype: float64"
      ]
     },
     "execution_count": 26,
     "metadata": {},
     "output_type": "execute_result"
    }
   ],
   "source": [
    "# I create 2 separate lists below/above median with top appearing words. Now it can be combined and compared to\n",
    "# create ratios of appearances in above vs below median salaries.\n",
    "# -----------------------------------------------------\n",
    "word_count_below = words_to_target[words_to_target[\"Salary_grater_median\"] == 0].sum(axis = 0)\n",
    "word_count_above = words_to_target[words_to_target[\"Salary_grater_median\"] == 1].sum(axis = 0)\n",
    "\n",
    "# Creating as DataFrame, using method \".T\" to transpose columns with index.\n",
    "# -----------------------------------------------------\n",
    "word_count_compare = pd.DataFrame([word_count_below, word_count_above]).T\n",
    "\n",
    "# Create a new column 'above_below_ratio' to find frequency of words associated with my two groups 0/1 median jobs.\n",
    "# -----------------------------------------------------\n",
    "word_count_compare[\"above_below_ratio\"] = word_count_compare[1] / word_count_compare[0]\n",
    "word_count_compare.above_below_ratio.sort_values(ascending=False)"
   ]
  },
  {
   "cell_type": "code",
   "execution_count": null,
   "metadata": {
    "collapsed": true
   },
   "outputs": [],
   "source": [
    "# Later I will use top  5 and low  5 words to create my features."
   ]
  },
  {
   "cell_type": "markdown",
   "metadata": {},
   "source": [
    "<span style=\"color:red\">\n",
    "--- comment ---\n",
    "\n",
    "<span style=\"color:#1d5dec\"> Now I do same thing for the rest of my columns. "
   ]
  },
  {
   "cell_type": "markdown",
   "metadata": {},
   "source": [
    "# <span style=\"color:#15b01a\"> 2. Search for words in company"
   ]
  },
  {
   "cell_type": "code",
   "execution_count": 43,
   "metadata": {
    "collapsed": false
   },
   "outputs": [
    {
     "data": {
      "text/html": [
       "<div>\n",
       "<table border=\"1\" class=\"dataframe\">\n",
       "  <thead>\n",
       "    <tr style=\"text-align: right;\">\n",
       "      <th></th>\n",
       "      <th>australia</th>\n",
       "      <th>carter</th>\n",
       "      <th>consulting</th>\n",
       "      <th>group</th>\n",
       "      <th>half</th>\n",
       "      <th>half australia</th>\n",
       "      <th>hays</th>\n",
       "      <th>hudson</th>\n",
       "      <th>michael</th>\n",
       "      <th>michael page</th>\n",
       "      <th>...</th>\n",
       "      <th>recruitment</th>\n",
       "      <th>resources</th>\n",
       "      <th>robert</th>\n",
       "      <th>robert half</th>\n",
       "      <th>robert half australia</th>\n",
       "      <th>services</th>\n",
       "      <th>sharp</th>\n",
       "      <th>sharp carter</th>\n",
       "      <th>solutions</th>\n",
       "      <th>university</th>\n",
       "    </tr>\n",
       "  </thead>\n",
       "  <tbody>\n",
       "    <tr>\n",
       "      <th>0</th>\n",
       "      <td>0</td>\n",
       "      <td>0</td>\n",
       "      <td>0</td>\n",
       "      <td>0</td>\n",
       "      <td>0</td>\n",
       "      <td>0</td>\n",
       "      <td>0</td>\n",
       "      <td>0</td>\n",
       "      <td>0</td>\n",
       "      <td>0</td>\n",
       "      <td>...</td>\n",
       "      <td>0</td>\n",
       "      <td>0</td>\n",
       "      <td>0</td>\n",
       "      <td>0</td>\n",
       "      <td>0</td>\n",
       "      <td>0</td>\n",
       "      <td>0</td>\n",
       "      <td>0</td>\n",
       "      <td>0</td>\n",
       "      <td>1</td>\n",
       "    </tr>\n",
       "    <tr>\n",
       "      <th>1</th>\n",
       "      <td>0</td>\n",
       "      <td>0</td>\n",
       "      <td>0</td>\n",
       "      <td>0</td>\n",
       "      <td>0</td>\n",
       "      <td>0</td>\n",
       "      <td>0</td>\n",
       "      <td>0</td>\n",
       "      <td>0</td>\n",
       "      <td>0</td>\n",
       "      <td>...</td>\n",
       "      <td>0</td>\n",
       "      <td>0</td>\n",
       "      <td>0</td>\n",
       "      <td>0</td>\n",
       "      <td>0</td>\n",
       "      <td>0</td>\n",
       "      <td>0</td>\n",
       "      <td>0</td>\n",
       "      <td>0</td>\n",
       "      <td>0</td>\n",
       "    </tr>\n",
       "    <tr>\n",
       "      <th>2</th>\n",
       "      <td>0</td>\n",
       "      <td>0</td>\n",
       "      <td>0</td>\n",
       "      <td>0</td>\n",
       "      <td>0</td>\n",
       "      <td>0</td>\n",
       "      <td>0</td>\n",
       "      <td>0</td>\n",
       "      <td>0</td>\n",
       "      <td>0</td>\n",
       "      <td>...</td>\n",
       "      <td>0</td>\n",
       "      <td>0</td>\n",
       "      <td>0</td>\n",
       "      <td>0</td>\n",
       "      <td>0</td>\n",
       "      <td>1</td>\n",
       "      <td>0</td>\n",
       "      <td>0</td>\n",
       "      <td>0</td>\n",
       "      <td>0</td>\n",
       "    </tr>\n",
       "    <tr>\n",
       "      <th>3</th>\n",
       "      <td>0</td>\n",
       "      <td>0</td>\n",
       "      <td>0</td>\n",
       "      <td>0</td>\n",
       "      <td>0</td>\n",
       "      <td>0</td>\n",
       "      <td>0</td>\n",
       "      <td>0</td>\n",
       "      <td>0</td>\n",
       "      <td>0</td>\n",
       "      <td>...</td>\n",
       "      <td>0</td>\n",
       "      <td>1</td>\n",
       "      <td>0</td>\n",
       "      <td>0</td>\n",
       "      <td>0</td>\n",
       "      <td>0</td>\n",
       "      <td>0</td>\n",
       "      <td>0</td>\n",
       "      <td>0</td>\n",
       "      <td>0</td>\n",
       "    </tr>\n",
       "    <tr>\n",
       "      <th>4</th>\n",
       "      <td>0</td>\n",
       "      <td>0</td>\n",
       "      <td>0</td>\n",
       "      <td>0</td>\n",
       "      <td>0</td>\n",
       "      <td>0</td>\n",
       "      <td>0</td>\n",
       "      <td>0</td>\n",
       "      <td>0</td>\n",
       "      <td>0</td>\n",
       "      <td>...</td>\n",
       "      <td>0</td>\n",
       "      <td>0</td>\n",
       "      <td>0</td>\n",
       "      <td>0</td>\n",
       "      <td>0</td>\n",
       "      <td>0</td>\n",
       "      <td>0</td>\n",
       "      <td>0</td>\n",
       "      <td>0</td>\n",
       "      <td>0</td>\n",
       "    </tr>\n",
       "    <tr>\n",
       "      <th>5</th>\n",
       "      <td>0</td>\n",
       "      <td>0</td>\n",
       "      <td>0</td>\n",
       "      <td>1</td>\n",
       "      <td>0</td>\n",
       "      <td>0</td>\n",
       "      <td>0</td>\n",
       "      <td>0</td>\n",
       "      <td>0</td>\n",
       "      <td>0</td>\n",
       "      <td>...</td>\n",
       "      <td>0</td>\n",
       "      <td>0</td>\n",
       "      <td>0</td>\n",
       "      <td>0</td>\n",
       "      <td>0</td>\n",
       "      <td>0</td>\n",
       "      <td>0</td>\n",
       "      <td>0</td>\n",
       "      <td>0</td>\n",
       "      <td>0</td>\n",
       "    </tr>\n",
       "  </tbody>\n",
       "</table>\n",
       "<p>6 rows × 23 columns</p>\n",
       "</div>"
      ],
      "text/plain": [
       "   australia  carter  consulting  group  half  half australia  hays  hudson  \\\n",
       "0          0       0           0      0     0               0     0       0   \n",
       "1          0       0           0      0     0               0     0       0   \n",
       "2          0       0           0      0     0               0     0       0   \n",
       "3          0       0           0      0     0               0     0       0   \n",
       "4          0       0           0      0     0               0     0       0   \n",
       "5          0       0           0      1     0               0     0       0   \n",
       "\n",
       "   michael  michael page     ...      recruitment  resources  robert  \\\n",
       "0        0             0     ...                0          0       0   \n",
       "1        0             0     ...                0          0       0   \n",
       "2        0             0     ...                0          0       0   \n",
       "3        0             0     ...                0          1       0   \n",
       "4        0             0     ...                0          0       0   \n",
       "5        0             0     ...                0          0       0   \n",
       "\n",
       "   robert half  robert half australia  services  sharp  sharp carter  \\\n",
       "0            0                      0         0      0             0   \n",
       "1            0                      0         0      0             0   \n",
       "2            0                      0         1      0             0   \n",
       "3            0                      0         0      0             0   \n",
       "4            0                      0         0      0             0   \n",
       "5            0                      0         0      0             0   \n",
       "\n",
       "   solutions  university  \n",
       "0          0           1  \n",
       "1          0           0  \n",
       "2          0           0  \n",
       "3          0           0  \n",
       "4          0           0  \n",
       "5          0           0  \n",
       "\n",
       "[6 rows x 23 columns]"
      ]
     },
     "execution_count": 43,
     "metadata": {},
     "output_type": "execute_result"
    }
   ],
   "source": [
    "cvec = CountVectorizer(stop_words='english', ngram_range=(1, 3), min_df = .02)\n",
    "cvec.fit(features['company'])\n",
    "company_train = pd.DataFrame(cvec.transform(features['company']).todense(), columns=cvec.get_feature_names())\n",
    "company_train.head(6)"
   ]
  },
  {
   "cell_type": "code",
   "execution_count": 44,
   "metadata": {
    "collapsed": true
   },
   "outputs": [],
   "source": [
    "words_to_target_company = pd.concat([company_train, target], axis=1)"
   ]
  },
  {
   "cell_type": "code",
   "execution_count": 45,
   "metadata": {
    "collapsed": false
   },
   "outputs": [
    {
     "name": "stdout",
     "output_type": "stream",
     "text": [
      "Most common words for:  0\n",
      "-------------------------\n",
      "recruitment     51.0\n",
      "page            47.0\n",
      "michael         44.0\n",
      "michael page    44.0\n",
      "australia       36.0\n",
      "hays            30.0\n",
      "group           27.0\n",
      "pty             25.0\n",
      "university      25.0\n",
      "robert half     20.0\n",
      "dtype: float64\n",
      "\n",
      "Most common words for:  1\n",
      "-------------------------\n",
      "Salary_grater_median    379.0\n",
      "recruitment              48.0\n",
      "group                    34.0\n",
      "hudson                   29.0\n",
      "australia                24.0\n",
      "michael page             22.0\n",
      "michael                  22.0\n",
      "page                     22.0\n",
      "pty                      21.0\n",
      "hays                     20.0\n",
      "dtype: float64\n",
      "\n"
     ]
    }
   ],
   "source": [
    "for i in range(2):  # set range to go through 0 and 1\n",
    "    word_count = words_to_target_company[words_to_target_company[\"Salary_grater_median\"] == i].sum(axis=0)\n",
    "    print(\"Most common words for: \", i)\n",
    "    print('-------------------------')\n",
    "    w = word_count.sort_values(ascending = False).head(10)\n",
    "    print(w)\n",
    "    print('')"
   ]
  },
  {
   "cell_type": "code",
   "execution_count": 46,
   "metadata": {
    "collapsed": false
   },
   "outputs": [
    {
     "data": {
      "text/plain": [
       "Salary_grater_median          inf\n",
       "hudson                   4.142857\n",
       "carter                   2.800000\n",
       "sharp carter             2.800000\n",
       "sharp                    2.800000\n",
       "consulting               2.250000\n",
       "resources                1.571429\n",
       "group                    1.259259\n",
       "solutions                1.083333\n",
       "recruitment              0.941176\n",
       "robert half              0.900000\n",
       "robert                   0.900000\n",
       "half australia           0.900000\n",
       "robert half australia    0.900000\n",
       "half                     0.900000\n",
       "pty                      0.840000\n",
       "services                 0.727273\n",
       "morgan                   0.700000\n",
       "australia                0.666667\n",
       "hays                     0.666667\n",
       "michael                  0.500000\n",
       "michael page             0.500000\n",
       "page                     0.468085\n",
       "university               0.400000\n",
       "Name: above_below_ratio, dtype: float64"
      ]
     },
     "execution_count": 46,
     "metadata": {},
     "output_type": "execute_result"
    }
   ],
   "source": [
    "word_count_below = words_to_target_company[words_to_target_company[\"Salary_grater_median\"] == 0].sum(axis = 0)\n",
    "word_count_above = words_to_target_company[words_to_target_company[\"Salary_grater_median\"] == 1].sum(axis = 0)\n",
    "\n",
    "word_count_compare = pd.DataFrame([word_count_below, word_count_above]).T\n",
    "\n",
    "word_count_compare[\"above_below_ratio\"] = word_count_compare[1]/word_count_compare[0]\n",
    "word_count_compare.above_below_ratio.sort_values(ascending=False)"
   ]
  },
  {
   "cell_type": "code",
   "execution_count": null,
   "metadata": {
    "collapsed": true
   },
   "outputs": [],
   "source": [
    "# later I will use top = hudson & carter & sharp carter  low = university & page & michael page"
   ]
  },
  {
   "cell_type": "markdown",
   "metadata": {},
   "source": [
    "# <span style=\"color:#15b01a\"> 3. Search for words in summary"
   ]
  },
  {
   "cell_type": "code",
   "execution_count": 31,
   "metadata": {
    "collapsed": false
   },
   "outputs": [
    {
     "data": {
      "text/html": [
       "<div>\n",
       "<table border=\"1\" class=\"dataframe\">\n",
       "  <thead>\n",
       "    <tr style=\"text-align: right;\">\n",
       "      <th></th>\n",
       "      <th>ability</th>\n",
       "      <th>analyse</th>\n",
       "      <th>analysis</th>\n",
       "      <th>analyst</th>\n",
       "      <th>analyst join</th>\n",
       "      <th>analyst role</th>\n",
       "      <th>analysts</th>\n",
       "      <th>analytics</th>\n",
       "      <th>assist</th>\n",
       "      <th>based</th>\n",
       "      <th>...</th>\n",
       "      <th>support</th>\n",
       "      <th>systems</th>\n",
       "      <th>team</th>\n",
       "      <th>technical</th>\n",
       "      <th>technology</th>\n",
       "      <th>understanding</th>\n",
       "      <th>work</th>\n",
       "      <th>working</th>\n",
       "      <th>years</th>\n",
       "      <th>years experience</th>\n",
       "    </tr>\n",
       "  </thead>\n",
       "  <tbody>\n",
       "    <tr>\n",
       "      <th>0</th>\n",
       "      <td>0</td>\n",
       "      <td>0</td>\n",
       "      <td>0</td>\n",
       "      <td>0</td>\n",
       "      <td>0</td>\n",
       "      <td>0</td>\n",
       "      <td>0</td>\n",
       "      <td>1</td>\n",
       "      <td>0</td>\n",
       "      <td>0</td>\n",
       "      <td>...</td>\n",
       "      <td>0</td>\n",
       "      <td>0</td>\n",
       "      <td>0</td>\n",
       "      <td>0</td>\n",
       "      <td>0</td>\n",
       "      <td>0</td>\n",
       "      <td>0</td>\n",
       "      <td>0</td>\n",
       "      <td>0</td>\n",
       "      <td>0</td>\n",
       "    </tr>\n",
       "    <tr>\n",
       "      <th>1</th>\n",
       "      <td>0</td>\n",
       "      <td>0</td>\n",
       "      <td>0</td>\n",
       "      <td>0</td>\n",
       "      <td>0</td>\n",
       "      <td>0</td>\n",
       "      <td>0</td>\n",
       "      <td>0</td>\n",
       "      <td>0</td>\n",
       "      <td>0</td>\n",
       "      <td>...</td>\n",
       "      <td>0</td>\n",
       "      <td>0</td>\n",
       "      <td>0</td>\n",
       "      <td>0</td>\n",
       "      <td>0</td>\n",
       "      <td>0</td>\n",
       "      <td>0</td>\n",
       "      <td>0</td>\n",
       "      <td>0</td>\n",
       "      <td>0</td>\n",
       "    </tr>\n",
       "    <tr>\n",
       "      <th>2</th>\n",
       "      <td>0</td>\n",
       "      <td>0</td>\n",
       "      <td>0</td>\n",
       "      <td>0</td>\n",
       "      <td>0</td>\n",
       "      <td>0</td>\n",
       "      <td>0</td>\n",
       "      <td>0</td>\n",
       "      <td>0</td>\n",
       "      <td>0</td>\n",
       "      <td>...</td>\n",
       "      <td>0</td>\n",
       "      <td>0</td>\n",
       "      <td>0</td>\n",
       "      <td>0</td>\n",
       "      <td>0</td>\n",
       "      <td>0</td>\n",
       "      <td>0</td>\n",
       "      <td>0</td>\n",
       "      <td>0</td>\n",
       "      <td>0</td>\n",
       "    </tr>\n",
       "    <tr>\n",
       "      <th>3</th>\n",
       "      <td>0</td>\n",
       "      <td>0</td>\n",
       "      <td>0</td>\n",
       "      <td>0</td>\n",
       "      <td>0</td>\n",
       "      <td>0</td>\n",
       "      <td>0</td>\n",
       "      <td>1</td>\n",
       "      <td>0</td>\n",
       "      <td>0</td>\n",
       "      <td>...</td>\n",
       "      <td>0</td>\n",
       "      <td>0</td>\n",
       "      <td>0</td>\n",
       "      <td>0</td>\n",
       "      <td>0</td>\n",
       "      <td>0</td>\n",
       "      <td>0</td>\n",
       "      <td>0</td>\n",
       "      <td>0</td>\n",
       "      <td>0</td>\n",
       "    </tr>\n",
       "    <tr>\n",
       "      <th>4</th>\n",
       "      <td>0</td>\n",
       "      <td>0</td>\n",
       "      <td>0</td>\n",
       "      <td>0</td>\n",
       "      <td>0</td>\n",
       "      <td>0</td>\n",
       "      <td>0</td>\n",
       "      <td>0</td>\n",
       "      <td>0</td>\n",
       "      <td>0</td>\n",
       "      <td>...</td>\n",
       "      <td>0</td>\n",
       "      <td>0</td>\n",
       "      <td>0</td>\n",
       "      <td>0</td>\n",
       "      <td>0</td>\n",
       "      <td>0</td>\n",
       "      <td>0</td>\n",
       "      <td>0</td>\n",
       "      <td>0</td>\n",
       "      <td>0</td>\n",
       "    </tr>\n",
       "    <tr>\n",
       "      <th>5</th>\n",
       "      <td>0</td>\n",
       "      <td>0</td>\n",
       "      <td>0</td>\n",
       "      <td>0</td>\n",
       "      <td>0</td>\n",
       "      <td>0</td>\n",
       "      <td>0</td>\n",
       "      <td>0</td>\n",
       "      <td>0</td>\n",
       "      <td>0</td>\n",
       "      <td>...</td>\n",
       "      <td>0</td>\n",
       "      <td>0</td>\n",
       "      <td>0</td>\n",
       "      <td>0</td>\n",
       "      <td>0</td>\n",
       "      <td>0</td>\n",
       "      <td>0</td>\n",
       "      <td>0</td>\n",
       "      <td>0</td>\n",
       "      <td>0</td>\n",
       "    </tr>\n",
       "  </tbody>\n",
       "</table>\n",
       "<p>6 rows × 89 columns</p>\n",
       "</div>"
      ],
      "text/plain": [
       "   ability  analyse  analysis  analyst  analyst join  analyst role  analysts  \\\n",
       "0        0        0         0        0             0             0         0   \n",
       "1        0        0         0        0             0             0         0   \n",
       "2        0        0         0        0             0             0         0   \n",
       "3        0        0         0        0             0             0         0   \n",
       "4        0        0         0        0             0             0         0   \n",
       "5        0        0         0        0             0             0         0   \n",
       "\n",
       "   analytics  assist  based        ...         support  systems  team  \\\n",
       "0          1       0      0        ...               0        0     0   \n",
       "1          0       0      0        ...               0        0     0   \n",
       "2          0       0      0        ...               0        0     0   \n",
       "3          1       0      0        ...               0        0     0   \n",
       "4          0       0      0        ...               0        0     0   \n",
       "5          0       0      0        ...               0        0     0   \n",
       "\n",
       "   technical  technology  understanding  work  working  years  \\\n",
       "0          0           0              0     0        0      0   \n",
       "1          0           0              0     0        0      0   \n",
       "2          0           0              0     0        0      0   \n",
       "3          0           0              0     0        0      0   \n",
       "4          0           0              0     0        0      0   \n",
       "5          0           0              0     0        0      0   \n",
       "\n",
       "   years experience  \n",
       "0                 0  \n",
       "1                 0  \n",
       "2                 0  \n",
       "3                 0  \n",
       "4                 0  \n",
       "5                 0  \n",
       "\n",
       "[6 rows x 89 columns]"
      ]
     },
     "execution_count": 31,
     "metadata": {},
     "output_type": "execute_result"
    }
   ],
   "source": [
    "cvec = CountVectorizer(stop_words='english', ngram_range=(1, 3), min_df = .025)\n",
    "cvec.fit(features['summary'])\n",
    "company_train = pd.DataFrame(cvec.transform(features['summary']).todense(), columns=cvec.get_feature_names())\n",
    "company_train.head(6)"
   ]
  },
  {
   "cell_type": "code",
   "execution_count": 32,
   "metadata": {
    "collapsed": true
   },
   "outputs": [],
   "source": [
    "words_to_target_summary = pd.concat([company_train, target], axis=1)"
   ]
  },
  {
   "cell_type": "code",
   "execution_count": 33,
   "metadata": {
    "collapsed": false
   },
   "outputs": [
    {
     "name": "stdout",
     "output_type": "stream",
     "text": [
      "Most common words for:  0\n",
      "-------------------------\n",
      "data                384.0\n",
      "business            317.0\n",
      "analyst             203.0\n",
      "experience           86.0\n",
      "business analyst     72.0\n",
      "analysis             71.0\n",
      "team                 63.0\n",
      "big                  61.0\n",
      "role                 60.0\n",
      "financial            51.0\n",
      "dtype: float64\n",
      "\n",
      "Most common words for:  1\n",
      "-------------------------\n",
      "data                    389.0\n",
      "Salary_grater_median    379.0\n",
      "business                328.0\n",
      "analyst                 204.0\n",
      "business analyst        114.0\n",
      "experience              110.0\n",
      "senior                   62.0\n",
      "analysis                 61.0\n",
      "big                      55.0\n",
      "team                     54.0\n",
      "dtype: float64\n",
      "\n"
     ]
    }
   ],
   "source": [
    "for i in range(2):\n",
    "    word_count = words_to_target_summary[words_to_target_summary[\"Salary_grater_median\"] == i].sum(axis=0)\n",
    "    print(\"Most common words for: \", i)\n",
    "    print('-------------------------')\n",
    "    w = word_count.sort_values(ascending = False).head(10)\n",
    "    print(w)\n",
    "    print('')"
   ]
  },
  {
   "cell_type": "code",
   "execution_count": 34,
   "metadata": {
    "collapsed": false
   },
   "outputs": [
    {
     "data": {
      "text/plain": [
       "Salary_grater_median         inf\n",
       "senior business         4.500000\n",
       "based                   3.428571\n",
       "business analysts       2.625000\n",
       "processes               2.125000\n",
       "develop                 2.100000\n",
       "senior                  1.878788\n",
       "scientists              1.700000\n",
       "currently               1.636364\n",
       "projects                1.615385\n",
       "business analyst        1.583333\n",
       "process                 1.571429\n",
       "requirements            1.571429\n",
       "years experience        1.500000\n",
       "highly                  1.416667\n",
       "big data                1.416667\n",
       "technical               1.411765\n",
       "understanding           1.357143\n",
       "management              1.280000\n",
       "experience              1.279070\n",
       "planning                1.272727\n",
       "solutions               1.230769\n",
       "project                 1.222222\n",
       "seeking                 1.200000\n",
       "complex                 1.181818\n",
       "reporting               1.176471\n",
       "experience business     1.153846\n",
       "analysts                1.153846\n",
       "responsible             1.150000\n",
       "including               1.133333\n",
       "                          ...   \n",
       "large                   0.833333\n",
       "experienced             0.826087\n",
       "information             0.800000\n",
       "support                 0.789474\n",
       "analyse                 0.785714\n",
       "insights                0.777778\n",
       "analytics               0.727273\n",
       "technology              0.714286\n",
       "sets                    0.705882\n",
       "environment             0.692308\n",
       "high                    0.666667\n",
       "skills                  0.653846\n",
       "development             0.640000\n",
       "finance                 0.636364\n",
       "opportunity             0.620690\n",
       "research                0.611111\n",
       "provide                 0.576923\n",
       "services                0.571429\n",
       "financial               0.568627\n",
       "role                    0.566667\n",
       "key                     0.518519\n",
       "data analyst            0.485714\n",
       "assist                  0.466667\n",
       "new                     0.461538\n",
       "leading                 0.450000\n",
       "reports                 0.333333\n",
       "growth                  0.300000\n",
       "analyst role            0.294118\n",
       "commercial              0.289474\n",
       "sales                   0.086957\n",
       "Name: above_below_ratio, dtype: float64"
      ]
     },
     "execution_count": 34,
     "metadata": {},
     "output_type": "execute_result"
    }
   ],
   "source": [
    "word_count_below = words_to_target_summary[words_to_target_summary[\"Salary_grater_median\"] == 0].sum(axis = 0)\n",
    "word_count_above = words_to_target_summary[words_to_target_summary[\"Salary_grater_median\"] == 1].sum(axis = 0)\n",
    "\n",
    "word_count_compare = pd.DataFrame([word_count_below, word_count_above]).T\n",
    "\n",
    "word_count_compare[\"above_below_ratio\"] = word_count_compare[1] / word_count_compare[0]\n",
    "word_count_compare.above_below_ratio.sort_values(ascending=False)"
   ]
  },
  {
   "cell_type": "code",
   "execution_count": null,
   "metadata": {
    "collapsed": true
   },
   "outputs": [],
   "source": [
    "# Later I will use top  5 = senior business, business analysts, processes, develop, senior\n",
    "# low 5 = sales, commercial, analyst role, growth, reports"
   ]
  },
  {
   "cell_type": "markdown",
   "metadata": {},
   "source": [
    "# <span style=\"color:#15b01a\"> 4. Search for words in job_bio"
   ]
  },
  {
   "cell_type": "code",
   "execution_count": 35,
   "metadata": {
    "collapsed": true
   },
   "outputs": [],
   "source": [
    "cvec = CountVectorizer(stop_words='english', ngram_range=(1, 3), min_df = .035)\n",
    "cvec.fit(features['job_bio'])\n",
    "company_train = pd.DataFrame(cvec.transform(features['job_bio']).todense(), columns=cvec.get_feature_names())"
   ]
  },
  {
   "cell_type": "code",
   "execution_count": 36,
   "metadata": {
    "collapsed": true
   },
   "outputs": [],
   "source": [
    "words_to_target_jobbio = pd.concat([company_train, target], axis=1)"
   ]
  },
  {
   "cell_type": "code",
   "execution_count": 37,
   "metadata": {
    "collapsed": false
   },
   "outputs": [
    {
     "name": "stdout",
     "output_type": "stream",
     "text": [
      "Most common words for:  0\n",
      "-------------------------\n",
      "window          11914.0\n",
      "false            5480.0\n",
      "false window     5283.0\n",
      "ago              2995.0\n",
      "days             2493.0\n",
      "days ago         2469.0\n",
      "apply            2158.0\n",
      "data             1906.0\n",
      "business         1815.0\n",
      "analyst          1785.0\n",
      "dtype: float64\n",
      "\n",
      "Most common words for:  1\n",
      "-------------------------\n",
      "window          10150.0\n",
      "false            4671.0\n",
      "false window     4504.0\n",
      "ago              2580.0\n",
      "business         2470.0\n",
      "days             2118.0\n",
      "days ago         2091.0\n",
      "apply            1992.0\n",
      "data             1920.0\n",
      "analyst          1479.0\n",
      "dtype: float64\n",
      "\n"
     ]
    }
   ],
   "source": [
    "for i in range(2):\n",
    "    word_count = words_to_target_jobbio[words_to_target_jobbio[\"Salary_grater_median\"] == i].sum(axis=0)\n",
    "    print(\"Most common words for: \", i)\n",
    "    print('-------------------------')\n",
    "    w = word_count.sort_values(ascending = False).head(10)\n",
    "    print(w)\n",
    "    print('')"
   ]
  },
  {
   "cell_type": "code",
   "execution_count": 38,
   "metadata": {
    "collapsed": false
   },
   "outputs": [
    {
     "data": {
      "text/plain": [
       "Salary_grater_median            inf\n",
       "extension                  6.333333\n",
       "reporting analyst          5.555556\n",
       "business analysis          5.133333\n",
       "workshops                  5.000000\n",
       "business process           4.571429\n",
       "architect                  4.473684\n",
       "submit application         4.428571\n",
       "apply job senior           4.225806\n",
       "job senior                 4.225806\n",
       "source hudson              4.142857\n",
       "source hudson window       4.142857\n",
       "jobs hudson                4.142857\n",
       "hudson window              4.142857\n",
       "senior business analyst    3.812500\n",
       "senior business            3.695652\n",
       "submit                     3.625000\n",
       "advantageous               3.571429\n",
       "analyst data               3.500000\n",
       "nsw government days        3.222222\n",
       "proven experience          3.181818\n",
       "greythorn                  3.076923\n",
       "governance                 3.071429\n",
       "aws                        3.071429\n",
       "ict                        3.000000\n",
       "sydney nsw 20              3.000000\n",
       "ago senior business        3.000000\n",
       "business analysts          3.000000\n",
       "business processes         2.913043\n",
       "migration                  2.857143\n",
       "                             ...   \n",
       "social                     0.270588\n",
       "60                         0.259259\n",
       "media                      0.258824\n",
       "true apply review          0.250000\n",
       "source window              0.245614\n",
       "customer service           0.244898\n",
       "applied                    0.244898\n",
       "economic                   0.243902\n",
       "victorian government       0.237288\n",
       "largest                    0.235294\n",
       "type timesalary            0.230769\n",
       "timesalary                 0.230769\n",
       "job type                   0.218750\n",
       "assistant                  0.213333\n",
       "audit                      0.209877\n",
       "victorian                  0.204545\n",
       "interpret                  0.189189\n",
       "000 00                     0.185567\n",
       "000 00 yearexperience      0.178571\n",
       "00 yearexperience          0.172414\n",
       "yearexperience             0.172414\n",
       "degree qualified           0.160000\n",
       "ago data analyst           0.154639\n",
       "campaigns                  0.140351\n",
       "80                         0.129032\n",
       "account                    0.127907\n",
       "administrator              0.122449\n",
       "strong analytical          0.096774\n",
       "personnel                  0.069767\n",
       "institute                  0.057692\n",
       "Name: above_below_ratio, dtype: float64"
      ]
     },
     "execution_count": 38,
     "metadata": {},
     "output_type": "execute_result"
    }
   ],
   "source": [
    "word_count_below = words_to_target_jobbio[words_to_target_jobbio[\"Salary_grater_median\"] == 0].sum(axis = 0)\n",
    "word_count_above = words_to_target_jobbio[words_to_target_jobbio[\"Salary_grater_median\"] == 1].sum(axis = 0)\n",
    "\n",
    "word_count_compare = pd.DataFrame([word_count_below, word_count_above]).T\n",
    "\n",
    "word_count_compare[\"above_below_ratio\"] = word_count_compare[1] / word_count_compare[0]\n",
    "word_count_compare.above_below_ratio.sort_values(ascending=False)"
   ]
  },
  {
   "cell_type": "code",
   "execution_count": null,
   "metadata": {
    "collapsed": true
   },
   "outputs": [],
   "source": [
    "# Top 5 = extension, reporting analyst, business analysis, business process, architect \n",
    "# low 5 = institute, strong analytical, administrator, degree qualified , account "
   ]
  },
  {
   "cell_type": "markdown",
   "metadata": {},
   "source": [
    "# <span style=\"color:#735c12\">Prepearing features for modeling."
   ]
  },
  {
   "cell_type": "markdown",
   "metadata": {},
   "source": [
    "<span style=\"color:red\">\n",
    "--- comment ---\n",
    "\n",
    "<span style=\"color:#1d5dec\">Now I got all my words I can use to do predictors from them. I will do binary features now using all those words I got using NLP. Also I'm going to make cities in to binary and use them as a predictors too. As soon my DataFrame will be ready I will plot it on heatmap. "
   ]
  },
  {
   "cell_type": "code",
   "execution_count": 39,
   "metadata": {
    "collapsed": true
   },
   "outputs": [],
   "source": [
    "# Creating dammy variables. For the good_job_title if any of this words, I'm passing to check if they contains in \n",
    "# text, then make value = 1, same for the value = 0 but now we are using word which is less times appearing \n",
    "# in bio related to high sallary.                  \n",
    "# -----------------------------------------------------\n",
    "df_with_salary[\"good_job_title\"] = 0\n",
    "df_with_salary.ix[(df_with_salary[\"title\"].str.contains(\"senior business\") | \n",
    "            df_with_salary[\"title\"].str.contains(\"senior business analyst\") | \n",
    "            df_with_salary[\"title\"].str.contains(\"senior\") |\n",
    "            df_with_salary[\"title\"].str.contains(\"lead\") |\n",
    "            df_with_salary[\"title\"].str.contains(\"contract\"), \"good_job_title\")] = 1\n",
    "\n",
    "df_with_salary[\"bad_job_title\"] = 0\n",
    "df_with_salary.ix[(df_with_salary[\"title\"].str.contains(\"digital\") | \n",
    "            df_with_salary[\"title\"].str.contains(\"commercial\") | \n",
    "            df_with_salary[\"title\"].str.contains(\"research\") |\n",
    "            df_with_salary[\"title\"].str.contains(\"data analyst\") |\n",
    "            df_with_salary[\"title\"].str.contains(\"management\"), \"bad_job_title\")] = 1"
   ]
  },
  {
   "cell_type": "markdown",
   "metadata": {},
   "source": [
    "<span style=\"color:red\">\n",
    "--- comment ---\n",
    "\n",
    "<span style=\"color:#1d5dec\">Now I do the same to every column I got words from. "
   ]
  },
  {
   "cell_type": "code",
   "execution_count": 47,
   "metadata": {
    "collapsed": false
   },
   "outputs": [],
   "source": [
    "# Company\n",
    "# -----------------------------------------------------\n",
    "df_with_salary[\"good_company\"] = 0\n",
    "df_with_salary.ix[(df_with_salary[\"company\"].str.contains(\"hudson\") |\n",
    "                   df_with_salary[\"company\"].str.contains(\"carter\") |\n",
    "                   df_with_salary[\"company\"].str.contains(\"sharp carter\"), \"good_company\")] = 1\n",
    "\n",
    "df_with_salary[\"bad_company\"] = 0\n",
    "df_with_salary.ix[(df_with_salary[\"company\"].str.contains(\"university\") |\n",
    "                   df_with_salary[\"company\"].str.contains(\"page\") |\n",
    "                   df_with_salary[\"company\"].str.contains(\"michael page\"), \"bad_company\")] = 1"
   ]
  },
  {
   "cell_type": "code",
   "execution_count": 49,
   "metadata": {
    "collapsed": false
   },
   "outputs": [],
   "source": [
    "# Summary\n",
    "# -----------------------------------------------------\n",
    "df_with_salary[\"good_summary\"] = 0\n",
    "df_with_salary.ix[(df_with_salary[\"summary\"].str.contains(\"senior business\") |\n",
    "                   df_with_salary[\"summary\"].str.contains(\"business analysts\") |\n",
    "                   df_with_salary[\"summary\"].str.contains(\"processes\") |\n",
    "                   df_with_salary[\"summary\"].str.contains(\"develop\") |\n",
    "                   df_with_salary[\"summary\"].str.contains(\"senior\"), \"good_summary\")] = 1\n",
    "\n",
    "df_with_salary[\"bad_summary\"] = 0\n",
    "df_with_salary.ix[(df_with_salary[\"summary\"].str.contains(\"sales\") |\n",
    "                   df_with_salary[\"summary\"].str.contains(\"commercial\") |\n",
    "                   df_with_salary[\"summary\"].str.contains(\"analyst role\") |\n",
    "                   df_with_salary[\"summary\"].str.contains(\"growth\") |\n",
    "                   df_with_salary[\"summary\"].str.contains(\"reports\"), \"bad_summary\")] = 1"
   ]
  },
  {
   "cell_type": "code",
   "execution_count": 51,
   "metadata": {
    "collapsed": false
   },
   "outputs": [],
   "source": [
    "# job_bio\n",
    "# -----------------------------------------------------\n",
    "df_with_salary[\"good_bio\"] = 0\n",
    "df_with_salary.ix[(df_with_salary[\"job_bio\"].str.contains(\"extension\") |\n",
    "                   df_with_salary[\"job_bio\"].str.contains(\"reporting analyst\") |\n",
    "                   df_with_salary[\"job_bio\"].str.contains(\"business analysis\") |\n",
    "                   df_with_salary[\"job_bio\"].str.contains(\"business process\") |\n",
    "                   df_with_salary[\"job_bio\"].str.contains(\"architect\"), \"good_bio\")] = 1\n",
    "\n",
    "df_with_salary[\"bad_bio\"] = 0\n",
    "df_with_salary.ix[(df_with_salary[\"job_bio\"].str.contains(\"institute\") |\n",
    "                   df_with_salary[\"job_bio\"].str.contains(\"strong analytical\") |\n",
    "                   df_with_salary[\"job_bio\"].str.contains(\"administrator\") |\n",
    "                   df_with_salary[\"job_bio\"].str.contains(\"degree qualified\") |\n",
    "                   df_with_salary[\"job_bio\"].str.contains(\"account\"), \"bad_bio\")] = 1"
   ]
  },
  {
   "cell_type": "code",
   "execution_count": 53,
   "metadata": {
    "collapsed": true
   },
   "outputs": [],
   "source": [
    "# Make cities as dummy fitures\n",
    "# -----------------------------------------------------\n",
    "cities = pd.get_dummies(df_with_salary.location)\n",
    "df_with_salary = pd.concat([df_with_salary, cities], axis=1)"
   ]
  },
  {
   "cell_type": "code",
   "execution_count": 54,
   "metadata": {
    "collapsed": false
   },
   "outputs": [
    {
     "data": {
      "text/plain": [
       "(825, 22)"
      ]
     },
     "execution_count": 54,
     "metadata": {},
     "output_type": "execute_result"
    }
   ],
   "source": [
    "# Check shape of my DataFrame with dummy variables and regular columns, at this stage I got 22 columns.\n",
    "# -----------------------------------------------------\n",
    "df_with_salary.shape"
   ]
  },
  {
   "cell_type": "code",
   "execution_count": 56,
   "metadata": {
    "collapsed": false
   },
   "outputs": [
    {
     "data": {
      "text/html": [
       "<div>\n",
       "<table border=\"1\" class=\"dataframe\">\n",
       "  <thead>\n",
       "    <tr style=\"text-align: right;\">\n",
       "      <th></th>\n",
       "      <th>location</th>\n",
       "      <th>title</th>\n",
       "      <th>company</th>\n",
       "      <th>salary</th>\n",
       "      <th>Salary_type</th>\n",
       "      <th>summary</th>\n",
       "      <th>job_bio</th>\n",
       "      <th>level</th>\n",
       "      <th>Salary_grater_median</th>\n",
       "      <th>good_job_title</th>\n",
       "      <th>...</th>\n",
       "      <th>bad_company</th>\n",
       "      <th>good_summary</th>\n",
       "      <th>bad_summary</th>\n",
       "      <th>good_bio</th>\n",
       "      <th>bad_bio</th>\n",
       "      <th>adelaide</th>\n",
       "      <th>brisbane</th>\n",
       "      <th>melbourne</th>\n",
       "      <th>perth</th>\n",
       "      <th>sydney</th>\n",
       "    </tr>\n",
       "  </thead>\n",
       "  <tbody>\n",
       "    <tr>\n",
       "      <th>0</th>\n",
       "      <td>sydney</td>\n",
       "      <td>data science research engineer</td>\n",
       "      <td>macquarie university</td>\n",
       "      <td>106382.0</td>\n",
       "      <td>year</td>\n",
       "      <td>we are seeking a data science research enginee...</td>\n",
       "      <td>macquarie is the university of pioneering mind...</td>\n",
       "      <td>middle</td>\n",
       "      <td>0.0</td>\n",
       "      <td>0</td>\n",
       "      <td>...</td>\n",
       "      <td>1</td>\n",
       "      <td>0</td>\n",
       "      <td>0</td>\n",
       "      <td>1</td>\n",
       "      <td>1</td>\n",
       "      <td>0</td>\n",
       "      <td>0</td>\n",
       "      <td>0</td>\n",
       "      <td>0</td>\n",
       "      <td>1</td>\n",
       "    </tr>\n",
       "  </tbody>\n",
       "</table>\n",
       "<p>1 rows × 22 columns</p>\n",
       "</div>"
      ],
      "text/plain": [
       "  location                           title               company    salary  \\\n",
       "0   sydney  data science research engineer  macquarie university  106382.0   \n",
       "\n",
       "  Salary_type                                            summary  \\\n",
       "0        year  we are seeking a data science research enginee...   \n",
       "\n",
       "                                             job_bio   level  \\\n",
       "0  macquarie is the university of pioneering mind...  middle   \n",
       "\n",
       "   Salary_grater_median  good_job_title   ...    bad_company  good_summary  \\\n",
       "0                   0.0               0   ...              1             0   \n",
       "\n",
       "   bad_summary  good_bio  bad_bio  adelaide  brisbane  melbourne  perth  \\\n",
       "0            0         1        1         0         0          0      0   \n",
       "\n",
       "   sydney  \n",
       "0       1  \n",
       "\n",
       "[1 rows x 22 columns]"
      ]
     },
     "execution_count": 56,
     "metadata": {},
     "output_type": "execute_result"
    }
   ],
   "source": [
    "df_with_salary.head(1)"
   ]
  },
  {
   "cell_type": "code",
   "execution_count": 57,
   "metadata": {
    "collapsed": true
   },
   "outputs": [],
   "source": [
    "#Drop unneeded columns and keep only features with dummy variables, assign it in to new df_binary.\n",
    "# -----------------------------------------------------\n",
    "df_binary = df_with_salary.drop(['location', 'title', 'company', 'salary', 'Salary_type', 'summary', 'job_bio', 'level'], axis=1)"
   ]
  },
  {
   "cell_type": "code",
   "execution_count": 58,
   "metadata": {
    "collapsed": false
   },
   "outputs": [
    {
     "data": {
      "text/html": [
       "<div>\n",
       "<table border=\"1\" class=\"dataframe\">\n",
       "  <thead>\n",
       "    <tr style=\"text-align: right;\">\n",
       "      <th></th>\n",
       "      <th>Salary_grater_median</th>\n",
       "      <th>good_job_title</th>\n",
       "      <th>bad_job_title</th>\n",
       "      <th>good_company</th>\n",
       "      <th>bad_company</th>\n",
       "      <th>good_summary</th>\n",
       "      <th>bad_summary</th>\n",
       "      <th>good_bio</th>\n",
       "      <th>bad_bio</th>\n",
       "      <th>adelaide</th>\n",
       "      <th>brisbane</th>\n",
       "      <th>melbourne</th>\n",
       "      <th>perth</th>\n",
       "      <th>sydney</th>\n",
       "    </tr>\n",
       "  </thead>\n",
       "  <tbody>\n",
       "    <tr>\n",
       "      <th>0</th>\n",
       "      <td>0.0</td>\n",
       "      <td>0</td>\n",
       "      <td>1</td>\n",
       "      <td>0</td>\n",
       "      <td>1</td>\n",
       "      <td>0</td>\n",
       "      <td>0</td>\n",
       "      <td>1</td>\n",
       "      <td>1</td>\n",
       "      <td>0</td>\n",
       "      <td>0</td>\n",
       "      <td>0</td>\n",
       "      <td>0</td>\n",
       "      <td>1</td>\n",
       "    </tr>\n",
       "    <tr>\n",
       "      <th>1</th>\n",
       "      <td>1.0</td>\n",
       "      <td>1</td>\n",
       "      <td>0</td>\n",
       "      <td>0</td>\n",
       "      <td>0</td>\n",
       "      <td>0</td>\n",
       "      <td>0</td>\n",
       "      <td>0</td>\n",
       "      <td>0</td>\n",
       "      <td>0</td>\n",
       "      <td>0</td>\n",
       "      <td>0</td>\n",
       "      <td>0</td>\n",
       "      <td>1</td>\n",
       "    </tr>\n",
       "    <tr>\n",
       "      <th>2</th>\n",
       "      <td>0.0</td>\n",
       "      <td>0</td>\n",
       "      <td>1</td>\n",
       "      <td>0</td>\n",
       "      <td>0</td>\n",
       "      <td>0</td>\n",
       "      <td>0</td>\n",
       "      <td>0</td>\n",
       "      <td>0</td>\n",
       "      <td>0</td>\n",
       "      <td>0</td>\n",
       "      <td>0</td>\n",
       "      <td>0</td>\n",
       "      <td>1</td>\n",
       "    </tr>\n",
       "  </tbody>\n",
       "</table>\n",
       "</div>"
      ],
      "text/plain": [
       "   Salary_grater_median  good_job_title  bad_job_title  good_company  \\\n",
       "0                   0.0               0              1             0   \n",
       "1                   1.0               1              0             0   \n",
       "2                   0.0               0              1             0   \n",
       "\n",
       "   bad_company  good_summary  bad_summary  good_bio  bad_bio  adelaide  \\\n",
       "0            1             0            0         1        1         0   \n",
       "1            0             0            0         0        0         0   \n",
       "2            0             0            0         0        0         0   \n",
       "\n",
       "   brisbane  melbourne  perth  sydney  \n",
       "0         0          0      0       1  \n",
       "1         0          0      0       1  \n",
       "2         0          0      0       1  "
      ]
     },
     "execution_count": 58,
     "metadata": {},
     "output_type": "execute_result"
    }
   ],
   "source": [
    "# Now I got my binary features. \n",
    "# -----------------------------------------------------\n",
    "df_binary.head(3)"
   ]
  },
  {
   "cell_type": "markdown",
   "metadata": {},
   "source": [
    "<span style=\"color:red\">\n",
    "--- comment ---\n",
    "\n",
    "<span style=\"color:#1d5dec\">I will plot my features on heatmap, to see if there is any collinearity between features. From the graph I can see that only Melbourne vs Sydney has correlation 0.72 which is high but my threshold for collinearity is 0.75, In this case I keep everything without changes."
   ]
  },
  {
   "cell_type": "code",
   "execution_count": 74,
   "metadata": {
    "collapsed": false
   },
   "outputs": [
    {
     "data": {
      "image/png": "[encoded data removed]",
      "text/plain": [
       "<matplotlib.figure.Figure at 0x11dad3898>"
      ]
     },
     "metadata": {
      "image/png": {
       "height": 693,
       "width": 740
      }
     },
     "output_type": "display_data"
    }
   ],
   "source": [
    "matrix = df_binary.corr() # get pearson r correlation \n",
    "\n",
    "fig, ax = plt.subplots(figsize=(12,9))\n",
    "mask = np.zeros_like(matrix, dtype=np.bool)\n",
    "mask[np.triu_indices_from(mask)] = True\n",
    "plt.title('Correlation between my binary features', y=1.05, size = 20, color = '#920a4e')\n",
    "ax = sns.heatmap(matrix, mask=mask, ax=ax, cmap='Reds', annot=True)\n",
    "ax.set_xticklabels(ax.xaxis.get_ticklabels(), fontsize=14)\n",
    "ax.hlines([0, 1], *ax.get_xlim(), colors='#0804f9')\n",
    "ax.vlines([11, 12], *ax.get_xlim(), colors='#0804f9')\n",
    "\n",
    "plt.show()"
   ]
  },
  {
   "cell_type": "markdown",
   "metadata": {},
   "source": [
    "# <span style=\"color:#735c12\">Modeling"
   ]
  },
  {
   "cell_type": "markdown",
   "metadata": {},
   "source": [
    "<span style=\"color:red\">\n",
    "--- comment ---\n",
    "\n",
    "<span style=\"color:#1d5dec\">In this part I will use LinniarRegression model as I got binary data, and LR should give me good result if my features was colected in right way. "
   ]
  },
  {
   "cell_type": "code",
   "execution_count": 75,
   "metadata": {
    "collapsed": true
   },
   "outputs": [],
   "source": [
    "# Get my target variable in 1D format.\n",
    "# -----------------------------------------------------\n",
    "target = df_binary.iloc[::,0]"
   ]
  },
  {
   "cell_type": "code",
   "execution_count": 77,
   "metadata": {
    "collapsed": false
   },
   "outputs": [],
   "source": [
    "# Get my predictors.\n",
    "# -----------------------------------------------------\n",
    "features = df_binary.iloc[::,1:]"
   ]
  },
  {
   "cell_type": "code",
   "execution_count": 79,
   "metadata": {
    "collapsed": false
   },
   "outputs": [
    {
     "name": "stdout",
     "output_type": "stream",
     "text": [
      "df_binary shape:  (825, 14)\n",
      "target shape:  (825,)\n",
      "features shape:  (825, 13)\n"
     ]
    }
   ],
   "source": [
    "print('df_binary shape: ',df_binary.shape)\n",
    "print('target shape: ',target.shape)\n",
    "print('features shape: ',features.shape)"
   ]
  },
  {
   "cell_type": "code",
   "execution_count": 80,
   "metadata": {
    "collapsed": true
   },
   "outputs": [],
   "source": [
    "# Using train test split, I split my data into train and test parts.\n",
    "# -----------------------------------------------------\n",
    "X_train, X_test, y_train, y_test = train_test_split(features, target, test_size=0.25, stratify=target, random_state=34)"
   ]
  },
  {
   "cell_type": "code",
   "execution_count": 84,
   "metadata": {
    "collapsed": false
   },
   "outputs": [
    {
     "name": "stdout",
     "output_type": "stream",
     "text": [
      "X_train shape:  (618, 13)\n",
      "X_test shape:  (207, 13)\n",
      "-----------------\n",
      "y_train shape:  (618,)\n",
      "y_test shape:  (207,)\n"
     ]
    }
   ],
   "source": [
    "# Just check my train and test splited data shapes. \n",
    "# -----------------------------------------------------\n",
    "print('X_train shape: ',X_train.shape)\n",
    "print('X_test shape: ',X_test.shape)\n",
    "print('-----------------')\n",
    "print('y_train shape: ',y_train.shape)\n",
    "print('y_test shape: ',y_test.shape)"
   ]
  },
  {
   "cell_type": "markdown",
   "metadata": {},
   "source": [
    "# <span style=\"color:#735c12\">LogisticRegression"
   ]
  },
  {
   "cell_type": "markdown",
   "metadata": {},
   "source": [
    "<span style=\"color:red\">\n",
    "--- comment ---\n",
    "\n",
    "<span style=\"color:#1d5dec\">First check my baseline. Then fit my LR model, with crossvalidation. I got score 0.73 which is very good compare to my baseline 0.54. I tested my data on test data set and got result 0.76 which is good. I will try then find better parameters for LR using GridSearch. "
   ]
  },
  {
   "cell_type": "code",
   "execution_count": 88,
   "metadata": {
    "collapsed": false
   },
   "outputs": [
    {
     "name": "stdout",
     "output_type": "stream",
     "text": [
      "Baseline:  0.5406060606060605\n"
     ]
    }
   ],
   "source": [
    "# Baseline \n",
    "bl = 1 - target.mean()\n",
    "print('Baseline: ', bl)"
   ]
  },
  {
   "cell_type": "code",
   "execution_count": 85,
   "metadata": {
    "collapsed": false
   },
   "outputs": [
    {
     "data": {
      "text/plain": [
       "LogisticRegression(C=1.0, class_weight=None, dual=False, fit_intercept=True,\n",
       "          intercept_scaling=1, max_iter=100, multi_class='ovr', n_jobs=1,\n",
       "          penalty='l2', random_state=None, solver='liblinear', tol=0.0001,\n",
       "          verbose=0, warm_start=False)"
      ]
     },
     "execution_count": 85,
     "metadata": {},
     "output_type": "execute_result"
    }
   ],
   "source": [
    "lr = LogisticRegression()\n",
    "lr.fit(X_train, y_train)"
   ]
  },
  {
   "cell_type": "code",
   "execution_count": 86,
   "metadata": {
    "collapsed": false
   },
   "outputs": [
    {
     "name": "stdout",
     "output_type": "stream",
     "text": [
      "Score: 0.73786407767\n",
      "Cross-validated scores: [ 0.76923077  0.71153846  0.69902913  0.6407767   0.71568627  0.74509804]\n"
     ]
    }
   ],
   "source": [
    "print(\"Score:\", lr.score(X_train, y_train))   \n",
    "scores = cross_val_score(lr, X_train, y_train, cv = 6)\n",
    "print(\"Cross-validated scores:\", scores)"
   ]
  },
  {
   "cell_type": "code",
   "execution_count": 102,
   "metadata": {
    "collapsed": false
   },
   "outputs": [
    {
     "name": "stdout",
     "output_type": "stream",
     "text": [
      "Score:  0.763285024155\n"
     ]
    }
   ],
   "source": [
    "# Test my test data\n",
    "# -----------------------------------------------------\n",
    "y_probs = lr.predict(X_test)   \n",
    "print(\"Score: \", lr.score(X_test, y_test))"
   ]
  },
  {
   "cell_type": "markdown",
   "metadata": {},
   "source": [
    "# <span style=\"color:#735c12\">GridSerach for better parameters for LR"
   ]
  },
  {
   "cell_type": "code",
   "execution_count": 95,
   "metadata": {
    "collapsed": false
   },
   "outputs": [
    {
     "data": {
      "text/plain": [
       "dict_keys(['C', 'class_weight', 'dual', 'fit_intercept', 'intercept_scaling', 'max_iter', 'multi_class', 'n_jobs', 'penalty', 'random_state', 'solver', 'tol', 'verbose', 'warm_start'])"
      ]
     },
     "execution_count": 95,
     "metadata": {},
     "output_type": "execute_result"
    }
   ],
   "source": [
    "# Check what parameters I can use for LR.\n",
    "# -----------------------------------------------------\n",
    "LogisticRegression().get_params().keys()"
   ]
  },
  {
   "cell_type": "code",
   "execution_count": 101,
   "metadata": {
    "collapsed": false
   },
   "outputs": [
    {
     "name": "stdout",
     "output_type": "stream",
     "text": [
      "Fitting 3 folds for each of 80 candidates, totalling 240 fits\n",
      "{'C': 0.49238826317067413, 'penalty': 'l2', 'solver': 'liblinear'}\n",
      "0.731391585761\n"
     ]
    },
    {
     "name": "stderr",
     "output_type": "stream",
     "text": [
      "[Parallel(n_jobs=1)]: Done 240 out of 240 | elapsed:    0.9s finished\n"
     ]
    }
   ],
   "source": [
    "lr_params = {\n",
    "    'penalty':['l1','l2'],\n",
    "    'C':np.logspace(-4, 2, 40),\n",
    "    'solver':['liblinear']\n",
    "}\n",
    "\n",
    "lr_gs = GridSearchCV(LogisticRegression(), lr_params, cv=3, verbose=1)\n",
    "lr_gs.fit(X_train, y_train)\n",
    "\n",
    "best_lr = lr_gs.best_estimator_\n",
    "print(lr_gs.best_params_)\n",
    "print(lr_gs.best_score_)"
   ]
  },
  {
   "cell_type": "markdown",
   "metadata": {},
   "source": [
    "<span style=\"color:red\">\n",
    "--- comment ---\n",
    "\n",
    "<span style=\"color:#1d5dec\">Using GridSearch I didn't find better parameters, so I will stick with what I have got. "
   ]
  },
  {
   "cell_type": "markdown",
   "metadata": {},
   "source": [
    "# <span style=\"color:#735c12\">Create Confusion Matrix and classification report."
   ]
  },
  {
   "cell_type": "markdown",
   "metadata": {},
   "source": [
    "<span style=\"color:red\">\n",
    "--- comment ---\n",
    "\n",
    "<span style=\"color:#1d5dec\"> From the confusion matrix I can see that we have True positive predicted 69 and False positive 26, also 89 True Negative and 23 False negative. Overall acuracy is not too bad 0.76. "
   ]
  },
  {
   "cell_type": "code",
   "execution_count": 103,
   "metadata": {
    "collapsed": false
   },
   "outputs": [
    {
     "name": "stdout",
     "output_type": "stream",
     "text": [
      "[[89 23]\n",
      " [26 69]]\n",
      "              precision    recall  f1-score   support\n",
      "\n",
      "Below_median       0.77      0.79      0.78       112\n",
      "Above_median       0.75      0.73      0.74        95\n",
      "\n",
      " avg / total       0.76      0.76      0.76       207\n",
      "\n"
     ]
    }
   ],
   "source": [
    "# Printing confusion matrix \n",
    "# -----------------------------------------------------\n",
    "print(confusion_matrix(y_test, y_probs,))\n",
    "\n",
    "# Printing classification report\n",
    "# -----------------------------------------------------\n",
    "target_names = ['Below_median', 'Above_median']\n",
    "print(classification_report(y_test, y_probs, target_names = target_names))"
   ]
  },
  {
   "cell_type": "markdown",
   "metadata": {},
   "source": [
    "# <span style=\"color:#820747\">Predicting our salary with NaN values."
   ]
  },
  {
   "cell_type": "code",
   "execution_count": 114,
   "metadata": {
    "collapsed": true
   },
   "outputs": [],
   "source": [
    "# Load data with all data including nan salary. \n",
    "# -----------------------------------------------------\n",
    "null_salary = pd.read_csv('3_FOR_NLP.csv')"
   ]
  },
  {
   "cell_type": "code",
   "execution_count": 115,
   "metadata": {
    "collapsed": true
   },
   "outputs": [],
   "source": [
    "# Separate all nulls from our data\n",
    "# -----------------------------------------------------\n",
    "null_salary = null_salary[null_salary.salary.isnull()]"
   ]
  },
  {
   "cell_type": "code",
   "execution_count": 116,
   "metadata": {
    "collapsed": true
   },
   "outputs": [],
   "source": [
    "# Choose only data I need\n",
    "# -----------------------------------------------------\n",
    "predict_data = null_salary.iloc[::,0:7]"
   ]
  },
  {
   "cell_type": "code",
   "execution_count": 117,
   "metadata": {
    "collapsed": false
   },
   "outputs": [
    {
     "data": {
      "text/html": [
       "<div>\n",
       "<table border=\"1\" class=\"dataframe\">\n",
       "  <thead>\n",
       "    <tr style=\"text-align: right;\">\n",
       "      <th></th>\n",
       "      <th>location</th>\n",
       "      <th>title</th>\n",
       "      <th>company</th>\n",
       "      <th>salary</th>\n",
       "      <th>Salary_type</th>\n",
       "      <th>summary</th>\n",
       "      <th>job_bio</th>\n",
       "    </tr>\n",
       "  </thead>\n",
       "  <tbody>\n",
       "    <tr>\n",
       "      <th>868</th>\n",
       "      <td>sydney</td>\n",
       "      <td>junior data analyst scientist</td>\n",
       "      <td>international institute of data   analytics</td>\n",
       "      <td>NaN</td>\n",
       "      <td>NaN</td>\n",
       "      <td>in data science and big data analytics  the id...</td>\n",
       "      <td>the international institute of data   analytic...</td>\n",
       "    </tr>\n",
       "    <tr>\n",
       "      <th>869</th>\n",
       "      <td>sydney</td>\n",
       "      <td>senior data scientist</td>\n",
       "      <td>amazon com</td>\n",
       "      <td>NaN</td>\n",
       "      <td>NaN</td>\n",
       "      <td>a senior data scientist will   our data scient...</td>\n",
       "      <td>excited by using massive amounts of data to de...</td>\n",
       "    </tr>\n",
       "  </tbody>\n",
       "</table>\n",
       "</div>"
      ],
      "text/plain": [
       "    location                          title  \\\n",
       "868   sydney  junior data analyst scientist   \n",
       "869   sydney          senior data scientist   \n",
       "\n",
       "                                         company  salary Salary_type  \\\n",
       "868  international institute of data   analytics     NaN         NaN   \n",
       "869                                   amazon com     NaN         NaN   \n",
       "\n",
       "                                               summary  \\\n",
       "868  in data science and big data analytics  the id...   \n",
       "869  a senior data scientist will   our data scient...   \n",
       "\n",
       "                                               job_bio  \n",
       "868  the international institute of data   analytic...  \n",
       "869  excited by using massive amounts of data to de...  "
      ]
     },
     "execution_count": 117,
     "metadata": {},
     "output_type": "execute_result"
    }
   ],
   "source": [
    "predict_data.head(2)"
   ]
  },
  {
   "cell_type": "markdown",
   "metadata": {},
   "source": [
    "<span style=\"color:red\">\n",
    "--- comment ---\n",
    "\n",
    "<span style=\"color:#1d5dec\"> To predict my NaNs values I have to create dammy variables for this part of Data, I already got word from NLP, so I dont need to repeat it. Only make dummy."
   ]
  },
  {
   "cell_type": "code",
   "execution_count": 118,
   "metadata": {
    "collapsed": true
   },
   "outputs": [],
   "source": [
    "# Title\n",
    "# -----------------------------------------------------\n",
    "predict_data[\"good_job_title\"] = 0\n",
    "predict_data.ix[(predict_data[\"title\"].str.contains(\"senior business\") | \n",
    "            predict_data[\"title\"].str.contains(\"senior business analyst\") | \n",
    "            predict_data[\"title\"].str.contains(\"senior\") |\n",
    "            predict_data[\"title\"].str.contains(\"lead\") |\n",
    "            predict_data[\"title\"].str.contains(\"contract\"), \"good_job_title\")] = 1\n",
    "\n",
    "predict_data[\"bad_job_title\"] = 0\n",
    "predict_data.ix[(predict_data[\"title\"].str.contains(\"digital\") | \n",
    "            predict_data[\"title\"].str.contains(\"commercial\") | \n",
    "            predict_data[\"title\"].str.contains(\"research\") |\n",
    "            predict_data[\"title\"].str.contains(\"data analyst\") |\n",
    "            predict_data[\"title\"].str.contains(\"management\"), \"bad_job_title\")] = 1"
   ]
  },
  {
   "cell_type": "code",
   "execution_count": 120,
   "metadata": {
    "collapsed": false
   },
   "outputs": [],
   "source": [
    "# Company\n",
    "# -----------------------------------------------------\n",
    "predict_data[\"good_company\"] = 0\n",
    "predict_data.ix[(predict_data[\"company\"].str.contains(\"hudson\") |\n",
    "                   predict_data[\"company\"].str.contains(\"carter\") |\n",
    "                   predict_data[\"company\"].str.contains(\"sharp carter\"), \"good_company\")] = 1\n",
    "\n",
    "predict_data[\"bad_company\"] = 0\n",
    "predict_data.ix[(predict_data[\"company\"].str.contains(\"university\") |\n",
    "                   predict_data[\"company\"].str.contains(\"page\") |\n",
    "                   predict_data[\"company\"].str.contains(\"michael page\"), \"bad_company\")] = 1"
   ]
  },
  {
   "cell_type": "code",
   "execution_count": 121,
   "metadata": {
    "collapsed": true
   },
   "outputs": [],
   "source": [
    "# Summary\n",
    "# -----------------------------------------------------\n",
    "predict_data[\"good_summary\"] = 0\n",
    "predict_data.ix[(predict_data[\"summary\"].str.contains(\"senior business\") |\n",
    "                   predict_data[\"summary\"].str.contains(\"business analysts\") |\n",
    "                   predict_data[\"summary\"].str.contains(\"processes\") |\n",
    "                   predict_data[\"summary\"].str.contains(\"develop\") |\n",
    "                   predict_data[\"summary\"].str.contains(\"senior\"), \"good_summary\")] = 1\n",
    "\n",
    "predict_data[\"bad_summary\"] = 0\n",
    "predict_data.ix[(predict_data[\"summary\"].str.contains(\"sales\") |\n",
    "                   predict_data[\"summary\"].str.contains(\"commercial\") |\n",
    "                   predict_data[\"summary\"].str.contains(\"analyst role\") |\n",
    "                   predict_data[\"summary\"].str.contains(\"growth\") |\n",
    "                   predict_data[\"summary\"].str.contains(\"reports\"), \"bad_summary\")] = 1"
   ]
  },
  {
   "cell_type": "code",
   "execution_count": 122,
   "metadata": {
    "collapsed": true
   },
   "outputs": [],
   "source": [
    "# job_bio\n",
    "# -----------------------------------------------------\n",
    "predict_data[\"good_bio\"] = 0\n",
    "predict_data.ix[(predict_data[\"job_bio\"].str.contains(\"extension\") |\n",
    "                   predict_data[\"job_bio\"].str.contains(\"reporting analyst\") |\n",
    "                   predict_data[\"job_bio\"].str.contains(\"business analysis\") |\n",
    "                   predict_data[\"job_bio\"].str.contains(\"business process\") |\n",
    "                   predict_data[\"job_bio\"].str.contains(\"architect\"), \"good_bio\")] = 1\n",
    "\n",
    "predict_data[\"bad_bio\"] = 0\n",
    "predict_data.ix[(predict_data[\"job_bio\"].str.contains(\"institute\") |\n",
    "                   predict_data[\"job_bio\"].str.contains(\"strong analytical\") |\n",
    "                   predict_data[\"job_bio\"].str.contains(\"administrator\") |\n",
    "                   predict_data[\"job_bio\"].str.contains(\"degree qualified\") |\n",
    "                   predict_data[\"job_bio\"].str.contains(\"account\"), \"bad_bio\")] = 1"
   ]
  },
  {
   "cell_type": "code",
   "execution_count": 124,
   "metadata": {
    "collapsed": false
   },
   "outputs": [],
   "source": [
    "# Cities\n",
    "# -----------------------------------------------------\n",
    "cities = pd.get_dummies(predict_data.location)\n",
    "predict_data = pd.concat([predict_data, cities], axis=1)"
   ]
  },
  {
   "cell_type": "code",
   "execution_count": 126,
   "metadata": {
    "collapsed": false
   },
   "outputs": [],
   "source": [
    "# Drop unneeded columns and keep only binaries.\n",
    "# -----------------------------------------------------\n",
    "predict_data = predict_data.drop(['location', 'title', 'company', 'salary', 'Salary_type', 'summary', 'job_bio'], axis=1)"
   ]
  },
  {
   "cell_type": "code",
   "execution_count": 127,
   "metadata": {
    "collapsed": false
   },
   "outputs": [
    {
     "data": {
      "text/html": [
       "<div>\n",
       "<table border=\"1\" class=\"dataframe\">\n",
       "  <thead>\n",
       "    <tr style=\"text-align: right;\">\n",
       "      <th></th>\n",
       "      <th>good_job_title</th>\n",
       "      <th>bad_job_title</th>\n",
       "      <th>good_company</th>\n",
       "      <th>bad_company</th>\n",
       "      <th>good_summary</th>\n",
       "      <th>bad_summary</th>\n",
       "      <th>good_bio</th>\n",
       "      <th>bad_bio</th>\n",
       "      <th>adelaide</th>\n",
       "      <th>brisbane</th>\n",
       "      <th>melbourne</th>\n",
       "      <th>perth</th>\n",
       "      <th>sydney</th>\n",
       "    </tr>\n",
       "  </thead>\n",
       "  <tbody>\n",
       "    <tr>\n",
       "      <th>868</th>\n",
       "      <td>0</td>\n",
       "      <td>1</td>\n",
       "      <td>0</td>\n",
       "      <td>0</td>\n",
       "      <td>0</td>\n",
       "      <td>0</td>\n",
       "      <td>0</td>\n",
       "      <td>1</td>\n",
       "      <td>0</td>\n",
       "      <td>0</td>\n",
       "      <td>0</td>\n",
       "      <td>0</td>\n",
       "      <td>1</td>\n",
       "    </tr>\n",
       "    <tr>\n",
       "      <th>869</th>\n",
       "      <td>1</td>\n",
       "      <td>0</td>\n",
       "      <td>0</td>\n",
       "      <td>0</td>\n",
       "      <td>1</td>\n",
       "      <td>0</td>\n",
       "      <td>0</td>\n",
       "      <td>0</td>\n",
       "      <td>0</td>\n",
       "      <td>0</td>\n",
       "      <td>0</td>\n",
       "      <td>0</td>\n",
       "      <td>1</td>\n",
       "    </tr>\n",
       "  </tbody>\n",
       "</table>\n",
       "</div>"
      ],
      "text/plain": [
       "     good_job_title  bad_job_title  good_company  bad_company  good_summary  \\\n",
       "868               0              1             0            0             0   \n",
       "869               1              0             0            0             1   \n",
       "\n",
       "     bad_summary  good_bio  bad_bio  adelaide  brisbane  melbourne  perth  \\\n",
       "868            0         0        1         0         0          0      0   \n",
       "869            0         0        0         0         0          0      0   \n",
       "\n",
       "     sydney  \n",
       "868       1  \n",
       "869       1  "
      ]
     },
     "execution_count": 127,
     "metadata": {},
     "output_type": "execute_result"
    }
   ],
   "source": [
    "predict_data.head(2)"
   ]
  },
  {
   "cell_type": "code",
   "execution_count": 128,
   "metadata": {
    "collapsed": false
   },
   "outputs": [
    {
     "data": {
      "text/plain": [
       "(3570, 13)"
      ]
     },
     "execution_count": 128,
     "metadata": {},
     "output_type": "execute_result"
    }
   ],
   "source": [
    "predict_data.shape"
   ]
  },
  {
   "cell_type": "markdown",
   "metadata": {},
   "source": [
    "<span style=\"color:red\">\n",
    "--- comment ---\n",
    "\n",
    "<span style=\"color:#1d5dec\"> Now I can start doing prediction for my NaN values, all data ready for this. After prediction there is one more column in my null_salary DataFrame, where I have got predicted salary."
   ]
  },
  {
   "cell_type": "code",
   "execution_count": 129,
   "metadata": {
    "collapsed": true
   },
   "outputs": [],
   "source": [
    "# Generating median salary predictions for unsalaried job postings\n",
    "# -----------------------------------------------------\n",
    "predict_salary = lr.predict(predict_data)   \n",
    "null_salary[\"Salary_grater_median\"] = predict_salary"
   ]
  },
  {
   "cell_type": "code",
   "execution_count": 131,
   "metadata": {
    "collapsed": false
   },
   "outputs": [
    {
     "data": {
      "text/html": [
       "<div>\n",
       "<table border=\"1\" class=\"dataframe\">\n",
       "  <thead>\n",
       "    <tr style=\"text-align: right;\">\n",
       "      <th></th>\n",
       "      <th>location</th>\n",
       "      <th>title</th>\n",
       "      <th>company</th>\n",
       "      <th>salary</th>\n",
       "      <th>Salary_type</th>\n",
       "      <th>summary</th>\n",
       "      <th>job_bio</th>\n",
       "      <th>level</th>\n",
       "      <th>Salary_grater_median</th>\n",
       "    </tr>\n",
       "  </thead>\n",
       "  <tbody>\n",
       "    <tr>\n",
       "      <th>868</th>\n",
       "      <td>sydney</td>\n",
       "      <td>junior data analyst scientist</td>\n",
       "      <td>international institute of data   analytics</td>\n",
       "      <td>NaN</td>\n",
       "      <td>NaN</td>\n",
       "      <td>in data science and big data analytics  the id...</td>\n",
       "      <td>the international institute of data   analytic...</td>\n",
       "      <td>junior</td>\n",
       "      <td>0.0</td>\n",
       "    </tr>\n",
       "    <tr>\n",
       "      <th>869</th>\n",
       "      <td>sydney</td>\n",
       "      <td>senior data scientist</td>\n",
       "      <td>amazon com</td>\n",
       "      <td>NaN</td>\n",
       "      <td>NaN</td>\n",
       "      <td>a senior data scientist will   our data scient...</td>\n",
       "      <td>excited by using massive amounts of data to de...</td>\n",
       "      <td>senior</td>\n",
       "      <td>1.0</td>\n",
       "    </tr>\n",
       "    <tr>\n",
       "      <th>870</th>\n",
       "      <td>sydney</td>\n",
       "      <td>data scientist</td>\n",
       "      <td>buildingiq</td>\n",
       "      <td>NaN</td>\n",
       "      <td>NaN</td>\n",
       "      <td>we are looking for a data scientist to be a pa...</td>\n",
       "      <td>job description   location – sydney  australia...</td>\n",
       "      <td>middle</td>\n",
       "      <td>1.0</td>\n",
       "    </tr>\n",
       "  </tbody>\n",
       "</table>\n",
       "</div>"
      ],
      "text/plain": [
       "    location                          title  \\\n",
       "868   sydney  junior data analyst scientist   \n",
       "869   sydney          senior data scientist   \n",
       "870   sydney                 data scientist   \n",
       "\n",
       "                                         company  salary Salary_type  \\\n",
       "868  international institute of data   analytics     NaN         NaN   \n",
       "869                                   amazon com     NaN         NaN   \n",
       "870                                   buildingiq     NaN         NaN   \n",
       "\n",
       "                                               summary  \\\n",
       "868  in data science and big data analytics  the id...   \n",
       "869  a senior data scientist will   our data scient...   \n",
       "870  we are looking for a data scientist to be a pa...   \n",
       "\n",
       "                                               job_bio   level  \\\n",
       "868  the international institute of data   analytic...  junior   \n",
       "869  excited by using massive amounts of data to de...  senior   \n",
       "870  job description   location – sydney  australia...  middle   \n",
       "\n",
       "     Salary_grater_median  \n",
       "868                   0.0  \n",
       "869                   1.0  \n",
       "870                   1.0  "
      ]
     },
     "execution_count": 131,
     "metadata": {},
     "output_type": "execute_result"
    }
   ],
   "source": [
    "null_salary.head(3)"
   ]
  },
  {
   "cell_type": "code",
   "execution_count": 132,
   "metadata": {
    "collapsed": false
   },
   "outputs": [
    {
     "data": {
      "text/plain": [
       "0.0    1831\n",
       "1.0    1739\n",
       "Name: Salary_grater_median, dtype: int64"
      ]
     },
     "execution_count": 132,
     "metadata": {},
     "output_type": "execute_result"
    }
   ],
   "source": [
    "# Check how many 0 and 1 I got. Seems almost the same. \n",
    "# -----------------------------------------------------\n",
    "null_salary.Salary_grater_median.value_counts()"
   ]
  },
  {
   "cell_type": "code",
   "execution_count": 133,
   "metadata": {
    "collapsed": false
   },
   "outputs": [
    {
     "data": {
      "text/plain": [
       "0.48711484593837534"
      ]
     },
     "execution_count": 133,
     "metadata": {},
     "output_type": "execute_result"
    }
   ],
   "source": [
    "# Almost 49% in data above median salary, and 51% below median salary. \n",
    "# -----------------------------------------------------\n",
    "null_salary.Salary_grater_median.mean()"
   ]
  },
  {
   "cell_type": "markdown",
   "metadata": {},
   "source": [
    "<span style=\"color:red\">\n",
    "--- comment ---\n",
    "\n",
    "<span style=\"color:#1d5dec\">I plot 2 graph. 1st with predicted salary and 2nd one with given salary. I can see on this two graphs they are have same shapes, just a bit different. Now I want to concatenate my predicted data with given. "
   ]
  },
  {
   "cell_type": "code",
   "execution_count": 152,
   "metadata": {
    "collapsed": false
   },
   "outputs": [
    {
     "data": {
      "image/png": "[encoded data removed]",
      "text/plain": [
       "<matplotlib.figure.Figure at 0x11d0ae860>"
      ]
     },
     "metadata": {
      "image/png": {
       "height": 387,
       "width": 842
      }
     },
     "output_type": "display_data"
    }
   ],
   "source": [
    "# Data which was without salary. Salary was predicted. \n",
    "# -----------------------------------------------------\n",
    "fig, ax = plt.subplots(figsize=(14,5))\n",
    "city_predictions = pd.DataFrame(null_salary[[\"location\", \"Salary_grater_median\"]])\n",
    "city_predictions['median_salary_prediction'] = city_predictions.Salary_grater_median.map({0:\"below_median\", 1:\"above_median\"})\n",
    "sns.countplot(x = \"location\", hue = \"median_salary_prediction\", data = city_predictions)\n",
    "plt.ylabel(\"Number of Job Postings\",fontsize=15)\n",
    "plt.xticks(rotation = 45,fontsize=15)\n",
    "sns.plt.title('Plot of Salary Predictions by Location without given salary',fontsize=20)\n",
    "plt.show()"
   ]
  },
  {
   "cell_type": "code",
   "execution_count": 148,
   "metadata": {
    "collapsed": false
   },
   "outputs": [
    {
     "data": {
      "image/png": "[encoded data removed]",
      "text/plain": [
       "<matplotlib.figure.Figure at 0x11d6776d8>"
      ]
     },
     "metadata": {
      "image/png": {
       "height": 387,
       "width": 833
      }
     },
     "output_type": "display_data"
    }
   ],
   "source": [
    "# Data which was with a given salary\n",
    "# -----------------------------------------------------\n",
    "fig, ax = plt.subplots(figsize=(14,5))\n",
    "city_predictions1 = pd.DataFrame(df[[\"location\", \"Salary_grater_median\"]])\n",
    "city_predictions1['median_salary_prediction'] = city_predictions1.Salary_grater_median.map({0:\"below_median\", 1:\"above_median\"})\n",
    "sns.countplot(x = \"location\", hue = \"median_salary_prediction\", data = city_predictions1)\n",
    "plt.ylabel(\"Number of Job Postings\")\n",
    "plt.xticks(rotation = 45,fontsize=15)\n",
    "sns.plt.title('Plot of Salary Predictions by Location with given salary', fontsize=20)\n",
    "plt.show()"
   ]
  },
  {
   "cell_type": "code",
   "execution_count": 153,
   "metadata": {
    "collapsed": true
   },
   "outputs": [],
   "source": [
    "df_with_sal_NoNulls = df[df['salary'].notnull()]"
   ]
  },
  {
   "cell_type": "code",
   "execution_count": 156,
   "metadata": {
    "collapsed": false
   },
   "outputs": [],
   "source": [
    "# Concatenate our 2 DataFrames \n",
    "# -----------------------------------------------------\n",
    "df_all_salary = pd.concat([df_with_sal_NoNulls, null_salary], axis=0)"
   ]
  },
  {
   "cell_type": "code",
   "execution_count": 158,
   "metadata": {
    "collapsed": false
   },
   "outputs": [
    {
     "data": {
      "text/plain": [
       "(4395, 9)"
      ]
     },
     "execution_count": 158,
     "metadata": {},
     "output_type": "execute_result"
    }
   ],
   "source": [
    "# Check for shape. I have got 4395 which is seems right. \n",
    "# -----------------------------------------------------\n",
    "df_all_salary.shape"
   ]
  },
  {
   "cell_type": "code",
   "execution_count": 159,
   "metadata": {
    "collapsed": false
   },
   "outputs": [
    {
     "data": {
      "text/html": [
       "<div>\n",
       "<table border=\"1\" class=\"dataframe\">\n",
       "  <thead>\n",
       "    <tr style=\"text-align: right;\">\n",
       "      <th></th>\n",
       "      <th>location</th>\n",
       "      <th>title</th>\n",
       "      <th>company</th>\n",
       "      <th>salary</th>\n",
       "      <th>Salary_type</th>\n",
       "      <th>summary</th>\n",
       "      <th>job_bio</th>\n",
       "      <th>level</th>\n",
       "      <th>Salary_grater_median</th>\n",
       "    </tr>\n",
       "  </thead>\n",
       "  <tbody>\n",
       "    <tr>\n",
       "      <th>0</th>\n",
       "      <td>sydney</td>\n",
       "      <td>data science research engineer</td>\n",
       "      <td>macquarie university</td>\n",
       "      <td>106382.0</td>\n",
       "      <td>year</td>\n",
       "      <td>we are seeking a data science research enginee...</td>\n",
       "      <td>macquarie is the university of pioneering mind...</td>\n",
       "      <td>middle</td>\n",
       "      <td>0.0</td>\n",
       "    </tr>\n",
       "    <tr>\n",
       "      <th>1</th>\n",
       "      <td>sydney</td>\n",
       "      <td>senior software engineer  machine learning</td>\n",
       "      <td>rokt</td>\n",
       "      <td>137500.0</td>\n",
       "      <td>year</td>\n",
       "      <td>a strong statistical background and or experie...</td>\n",
       "      <td>exceptional opportunity to join one of the fas...</td>\n",
       "      <td>senior</td>\n",
       "      <td>1.0</td>\n",
       "    </tr>\n",
       "  </tbody>\n",
       "</table>\n",
       "</div>"
      ],
      "text/plain": [
       "  location                                        title               company  \\\n",
       "0   sydney               data science research engineer  macquarie university   \n",
       "1   sydney  senior software engineer  machine learning                   rokt   \n",
       "\n",
       "     salary Salary_type                                            summary  \\\n",
       "0  106382.0        year  we are seeking a data science research enginee...   \n",
       "1  137500.0        year  a strong statistical background and or experie...   \n",
       "\n",
       "                                             job_bio   level  \\\n",
       "0  macquarie is the university of pioneering mind...  middle   \n",
       "1  exceptional opportunity to join one of the fas...  senior   \n",
       "\n",
       "   Salary_grater_median  \n",
       "0                   0.0  \n",
       "1                   1.0  "
      ]
     },
     "execution_count": 159,
     "metadata": {},
     "output_type": "execute_result"
    }
   ],
   "source": [
    "df_all_salary.head(2)"
   ]
  },
  {
   "cell_type": "code",
   "execution_count": 160,
   "metadata": {
    "collapsed": false
   },
   "outputs": [
    {
     "data": {
      "image/png": "[encoded data removed]",
      "text/plain": [
       "<matplotlib.figure.Figure at 0x11e56d438>"
      ]
     },
     "metadata": {
      "image/png": {
       "height": 387,
       "width": 838
      }
     },
     "output_type": "display_data"
    }
   ],
   "source": [
    "# Concatenated data. We can now compare to 2 graphs above. \n",
    "# -----------------------------------------------------\n",
    "fig, ax = plt.subplots(figsize=(14,5))\n",
    "city_predictions1 = pd.DataFrame(df_all_salary[[\"location\", \"Salary_grater_median\"]])\n",
    "city_predictions1['median_salary_prediction'] = city_predictions1.Salary_grater_median.map({0:\"below_median\", 1:\"above_median\"})\n",
    "sns.countplot(x = \"location\", hue = \"median_salary_prediction\", data = city_predictions1)\n",
    "plt.ylabel(\"Number of Job Postings\")\n",
    "plt.xticks(rotation = 45,fontsize=15)\n",
    "sns.plt.title('Plot of Salary Predictions by Location Whole Data',  fontsize=20)\n",
    "plt.show()"
   ]
  },
  {
   "cell_type": "code",
   "execution_count": 161,
   "metadata": {
    "collapsed": true
   },
   "outputs": [],
   "source": [
    "# Save new clean and predicted data.\n",
    "# -----------------------------------------------------\n",
    "df_all_salary.to_csv('ALL_SALARY_PREDICTED.csv')"
   ]
  },
  {
   "cell_type": "code",
   "execution_count": null,
   "metadata": {
    "collapsed": true
   },
   "outputs": [],
   "source": []
  }
 ],
 "metadata": {
  "kernelspec": {
   "display_name": "Python 3",
   "language": "python",
   "name": "python3"
  },
  "language_info": {
   "codemirror_mode": {
    "name": "ipython",
    "version": 3
   },
   "file_extension": ".py",
   "mimetype": "text/x-python",
   "name": "python",
   "nbconvert_exporter": "python",
   "pygments_lexer": "ipython3",
   "version": "3.6.0"
  },
  "toc": {
   "base_numbering": 1,
   "nav_menu": {},
   "number_sections": false,
   "sideBar": true,
   "skip_h1_title": false,
   "title_cell": "Table of Contents",
   "title_sidebar": "Contents",
   "toc_cell": false,
   "toc_position": {},
   "toc_section_display": true,
   "toc_window_display": false
  }
 },
 "nbformat": 4,
 "nbformat_minor": 2
}
