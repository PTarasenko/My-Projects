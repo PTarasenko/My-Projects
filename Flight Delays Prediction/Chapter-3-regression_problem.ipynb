{
 "cells": [
  {
   "cell_type": "markdown",
   "metadata": {},
   "source": [
    "<span style=\"color:#929591\">Chapter 3.\n",
    "# <span style=\"color:#820747\">Flight Delays Prediction 2018. Regression Problem."
   ]
  },
  {
   "cell_type": "markdown",
   "metadata": {},
   "source": [
    "<img src=\"img/pl3.jpg\">"
   ]
  },
  {
   "cell_type": "markdown",
   "metadata": {},
   "source": [
    "<span style=\"color:#610023\">In this part of my project, I will build model using LinearRegression, for the Air Traffic Controllers in USA which they can use after predicting if delay acure. This model will estimate exact length of delay, and how strong it is we will see as soon as I build it. Next chapter will be devoted to the same problem, but with classification solution. Where I will predicting intervals rather than continuous values. First step will be redo my categorical features, and focus not on number of delays but on length of delays.  "
   ]
  },
  {
   "cell_type": "markdown",
   "metadata": {},
   "source": [
    "# <span style=\"color:#a83c09\">Navigator:\n",
    "\n",
    "<b>[Dictionary](img/dictionary.txt)\n",
    "\n",
    "<b>[1. EDA](./Chapter-1-EDA.ipynb)\n",
    "\n",
    "<b>[2. Delay. Prediction | Classification problem](./Chapter-2-features-creation-classification problem.ipynb)\n",
    "\n",
    "<b>[4. Length Interval of Delay. Prediction | MultiClass Classification problem](./Chapter-4-classification_problem_timeinterval.ipynb)"
   ]
  },
  {
   "cell_type": "markdown",
   "metadata": {},
   "source": [
    "<img src=\"img/lin.jpg\">"
   ]
  },
  {
   "cell_type": "markdown",
   "metadata": {},
   "source": [
    "# <span style=\"color:#a83c09\">Chapter Structure:"
   ]
  },
  {
   "cell_type": "markdown",
   "metadata": {},
   "source": [
    "A. <b>Null Values Dropping and Features Selection.</b><br>\n",
    "         \n",
    "B. <b>Outliers.</b><br>\n",
    "\n",
    "C. <b>Tuning of Target and Predictors.</b><br>\n",
    "\n",
    "         1. Target: Length of Delay on Arrival.\n",
    "         2. Predictor: Day of the Week.\n",
    "         3. Predictor: Airline Code.\n",
    "         4. Predictor: Tail Number.\n",
    "         5. Predictor: Flight Number.\n",
    "         6. Predictor: Origin Airport.\n",
    "         7. Predictor: State Origin.\n",
    "         8. Predictor: State Destination.\n",
    "         9. Predictor: Arrival Time.\n",
    "         10. Predictor: Arrival Time.\n",
    "         11. Predictor: Scheduled Length of Flight Time.\n",
    "         12. Predictor: Distance of the Flight.\n",
    "         \n",
    "D. <b>Categorical Variables into Dummies.</b><br>\n",
    "\n",
    "E. <b>Check for Multicollinearity.</b><br>\n",
    "\n",
    "F. <b>Models Building.</b><br>\n",
    "\n",
    "         1. Separation: Features and Target Splitting.\n",
    "         2. Standardization: All data into same scale.\n",
    "         3. Split: Train | Test.\n",
    "         4. Model: LinearRegression.\n",
    "            - Fit Best Parameters into my Model.\n",
    "         5. Model: Ridge regression R2.\n",
    "            - Find an optimal value for Ridge regression alpha using RidgeCV.\n",
    "            - Cross-validate the Ridge Regression R2.\n",
    "         6. Model: Lasso Regression.\n",
    "            - Find an Optimal value for Lasso Regression Alpha using LassoCV.\n",
    "            - Cross-validate the Lasso Regression.\n",
    "         7. Model: Elastic Net Regression.\n",
    "            - Find an optimal value for Elastic Net regression alpha using ElasticNetCV.\n",
    "            - Cross-validate the ElasticNet R2\n",
    "         8. Model: RandomForestRegressor.\n",
    "            - GridSearch for RandomForestRegressor.\n",
    "            - Fit Best Parameters into my Model.\n",
    "         9. Conclusion."
   ]
  },
  {
   "cell_type": "markdown",
   "metadata": {},
   "source": [
    "<img src=\"img/lin.jpg\">"
   ]
  },
  {
   "cell_type": "markdown",
   "metadata": {},
   "source": [
    "<span style=\"color:#be0119\"><b>\n",
    "--- comment ---</b>\n",
    "\n",
    "<span style=\"color:#1e488f\"> Loading libraries which I will use during third part of the project. I will use sklearn library as it provides a range of supervised and unsupervised learning algorithms via a consistent interface in Python. And it is very easy to use this library. Also I will load Ridge, Lasso, ElasticNet, LinearRegression, RidgeCV, LassoCV, ElasticNetCV, and will try to find best values for them, and then R^2 scores using cross validation. "
   ]
  },
  {
   "cell_type": "code",
   "execution_count": 208,
   "metadata": {
    "collapsed": true
   },
   "outputs": [],
   "source": [
    "import pandas as pd\n",
    "import numpy as np\n",
    "import seaborn as sns\n",
    "import matplotlib.pyplot as plt\n",
    "\n",
    "from numpy import *\n",
    "\n",
    "from sklearn.feature_extraction.text import CountVectorizer\n",
    "from sklearn.model_selection import cross_val_score\n",
    "from sklearn import metrics\n",
    "from sklearn.metrics import classification_report, confusion_matrix, accuracy_score\n",
    "from sklearn.model_selection import train_test_split, GridSearchCV\n",
    "from sklearn import metrics\n",
    "from sklearn.linear_model import LinearRegression\n",
    "from sklearn.linear_model import Ridge, Lasso, ElasticNet, LinearRegression, RidgeCV, LassoCV, ElasticNetCV\n",
    "from sklearn.tree import DecisionTreeRegressor\n",
    "from sklearn.preprocessing import StandardScaler\n",
    "from sklearn.ensemble import RandomForestRegressor\n",
    "\n",
    "import itertools\n",
    "\n",
    "%config InlineBackend.figure_format = 'retina'\n",
    "%matplotlib inline\n",
    "\n",
    "import datetime, warnings, scipy "
   ]
  },
  {
   "cell_type": "markdown",
   "metadata": {},
   "source": [
    "# <span style=\"color:#040273\">Part A. Null Values Dropping and Features Selection"
   ]
  },
  {
   "cell_type": "markdown",
   "metadata": {},
   "source": [
    "<span style=\"color:#be0119\"><b>\n",
    "--- comment ---</b>\n",
    "\n",
    "<span style=\"color:#1e488f\"> I am predicting flight delays on arrival. Also I want to know about possible delays before plane start moving from the gate in departure airport. In this case I can use only information which not related to how long plane was moving to runway or how long plane was in the air, etc."
   ]
  },
  {
   "cell_type": "code",
   "execution_count": 119,
   "metadata": {
    "collapsed": false
   },
   "outputs": [
    {
     "name": "stdout",
     "output_type": "stream",
     "text": [
      "Number of records and columns:  (570007, 45)\n",
      "----------------------------------------------------------\n",
      "Columns:  Index(['Unnamed: 0', 'ID', 'YEAR', 'MONTH', 'DAY', 'DAY_OF_WEEK',\n",
      "       'AIRLINE_CODE', 'AIRLINE', 'TAIL_NUMBER', 'FLIGHT_NUMBER', 'DATE',\n",
      "       'ORIGIN_AIRPORT', 'AIRPORT_ORIGIN', 'CITY_ORIGIN', 'STATE_ORIGIN',\n",
      "       'LATITUDE_ORIGIN', 'LONGITUDE_ORIGIN', 'DESTINATION_AIRPORT',\n",
      "       'AIRPORT_DESTINATION', 'CITY_DESTINATION', 'STATE_DESTINATION',\n",
      "       'LATITUDE_DESTINATION', 'LONGITUDE_DESTINATION', 'SCHEDULED_DEPARTURE',\n",
      "       'DEPARTURE_TIME', 'DEPARTURE_DELAY', 'TAXI_OUT', 'WHEELS_OFF',\n",
      "       'WHEELS_ON', 'TAXI_IN', 'SCHEDULED_ARRIVAL', 'ARRIVAL_TIME',\n",
      "       'ARRIVAL_DELAY', 'CANCELLED', 'CANCELLATION_REASON', 'DIVERTED',\n",
      "       'SCHEDULED_TIME', 'ELAPSED_TIME', 'AIR_TIME', 'DISTANCE',\n",
      "       'AIRLINE_DELAY', 'WEATHER_DELAY', 'AIR_SYSTEM_DELAY', 'SECURITY_DELAY',\n",
      "       'LATE_AIRCRAFT_DELAY'],\n",
      "      dtype='object')\n"
     ]
    }
   ],
   "source": [
    "# Load my dataset and check shape with columns name. \n",
    "# ________________________________________________________\n",
    "df = pd.read_csv('1_full_file_ready_to_slice.csv', low_memory=False)\n",
    "print('Number of records and columns: ',df.shape)\n",
    "print('----------------------------------------------------------')\n",
    "print('Columns: ',df.columns)"
   ]
  },
  {
   "cell_type": "code",
   "execution_count": 120,
   "metadata": {
    "collapsed": false
   },
   "outputs": [
    {
     "data": {
      "text/plain": [
       "DAY_OF_WEEK                 0\n",
       "AIRLINE_CODE                0\n",
       "TAIL_NUMBER              1969\n",
       "FLIGHT_NUMBER               0\n",
       "ORIGIN_AIRPORT              0\n",
       "CITY_ORIGIN                 0\n",
       "STATE_ORIGIN                0\n",
       "DESTINATION_AIRPORT         0\n",
       "STATE_DESTINATION           0\n",
       "SCHEDULED_DEPARTURE         0\n",
       "DEPARTURE_DELAY         17332\n",
       "TAXI_OUT                17072\n",
       "SCHEDULED_ARRIVAL           0\n",
       "ARRIVAL_DELAY           18626\n",
       "SCHEDULED_TIME              0\n",
       "DISTANCE                    0\n",
       "AIRLINE_DELAY          472257\n",
       "WEATHER_DELAY          472257\n",
       "AIR_SYSTEM_DELAY       472257\n",
       "SECURITY_DELAY         472257\n",
       "LATE_AIRCRAFT_DELAY    472257\n",
       "dtype: int64"
      ]
     },
     "execution_count": 120,
     "metadata": {},
     "output_type": "execute_result"
    }
   ],
   "source": [
    "# Dropping unneeded columns and check for null values\n",
    "# ________________________________________________________\n",
    "df.drop(['Unnamed: 0', 'ID', 'YEAR', 'MONTH', 'DAY', 'AIRLINE', 'CANCELLATION_REASON', \n",
    "         'DATE', 'AIRPORT_ORIGIN', 'LATITUDE_ORIGIN', 'LONGITUDE_ORIGIN', 'AIRPORT_DESTINATION',\n",
    "         'LATITUDE_DESTINATION', 'LONGITUDE_DESTINATION', 'CITY_DESTINATION', 'DEPARTURE_TIME',\n",
    "         'WHEELS_OFF', 'WHEELS_ON', 'TAXI_IN', 'ARRIVAL_TIME', 'CANCELLED', 'CANCELLATION_REASON', \n",
    "         'DIVERTED', 'ELAPSED_TIME', 'AIR_TIME'], axis=1, inplace=True)\n",
    "\n",
    "df.isnull().sum()"
   ]
  },
  {
   "cell_type": "code",
   "execution_count": 123,
   "metadata": {
    "collapsed": false
   },
   "outputs": [
    {
     "name": "stdout",
     "output_type": "stream",
     "text": [
      "---------------------------------------------------\n",
      "Number of records after NaNs droping:  (550905, 21)\n",
      "---------------------------------------------------\n"
     ]
    }
   ],
   "source": [
    "# Fill all NaN's in features related to delays with '0'. Drop all nulls.\n",
    "# ________________________________________________________\n",
    "where_are_NaNs = isnan(df.AIRLINE_DELAY)\n",
    "df.AIRLINE_DELAY[where_are_NaNs] = 0\n",
    "\n",
    "where_are_NaNs = isnan(df.WEATHER_DELAY)\n",
    "df.WEATHER_DELAY[where_are_NaNs] = 0\n",
    "\n",
    "where_are_NaNs = isnan(df.AIR_SYSTEM_DELAY)\n",
    "df.AIR_SYSTEM_DELAY[where_are_NaNs] = 0\n",
    "\n",
    "where_are_NaNs = isnan(df.SECURITY_DELAY)\n",
    "df.SECURITY_DELAY[where_are_NaNs] = 0\n",
    "\n",
    "where_are_NaNs = isnan(df.LATE_AIRCRAFT_DELAY)\n",
    "df.LATE_AIRCRAFT_DELAY[where_are_NaNs] = 0\n",
    "\n",
    "\n",
    "df = df.dropna()\n",
    "print('---------------------------------------------------')\n",
    "print('Number of records after NaNs droping: ',df.shape)\n",
    "print('---------------------------------------------------')"
   ]
  },
  {
   "cell_type": "markdown",
   "metadata": {},
   "source": [
    "<img src=\"img/lin.jpg\">"
   ]
  },
  {
   "cell_type": "markdown",
   "metadata": {},
   "source": [
    "# <span style=\"color:#040273\">Part B. Outliers."
   ]
  },
  {
   "cell_type": "markdown",
   "metadata": {},
   "source": [
    "<span style=\"color:#be0119\"><b>\n",
    "--- comment ---</b>\n",
    "\n",
    "<span style=\"color:#1e488f\"> In this part I will show how many outliers I have on Arrival Delays. This type of delays could lead to inaccuracy of my model. This kind of delays are probably related to some events like (weather, breakdown, accident, e.t.c). Mean for all delays around <b>41 minutes</b>. I will desclude most of outliers on arrival, also I will count delay if it is more than 2 minutes. Interval will be <b>from 2 min to 120 min</b> everything else I will count as outliers. After removing outliers I will get <b>157948 records</b>, for my modeling."
   ]
  },
  {
   "cell_type": "code",
   "execution_count": 124,
   "metadata": {
    "collapsed": false
   },
   "outputs": [
    {
     "data": {
      "text/plain": [
       "(170555, 21)"
      ]
     },
     "execution_count": 124,
     "metadata": {},
     "output_type": "execute_result"
    }
   ],
   "source": [
    "# Choose delays on arrival from 2 min and above\n",
    "# ________________________________________________________\n",
    "df = df[df.ARRIVAL_DELAY >= 2]\n",
    "df.shape"
   ]
  },
  {
   "cell_type": "code",
   "execution_count": 125,
   "metadata": {
    "collapsed": false
   },
   "outputs": [
    {
     "data": {
      "text/plain": [
       "count    170555.000000\n",
       "mean         40.990935\n",
       "std          72.650309\n",
       "min           2.000000\n",
       "25%           8.000000\n",
       "50%          19.000000\n",
       "75%          45.000000\n",
       "max        2023.000000\n",
       "Name: ARRIVAL_DELAY, dtype: float64"
      ]
     },
     "execution_count": 125,
     "metadata": {},
     "output_type": "execute_result"
    }
   ],
   "source": [
    "# Show how much right skewed my delays.\n",
    "# ________________________________________________________\n",
    "df.ARRIVAL_DELAY.describe()"
   ]
  },
  {
   "cell_type": "code",
   "execution_count": 126,
   "metadata": {
    "collapsed": false
   },
   "outputs": [
    {
     "data": {
      "image/png": "[encoded data removed]",
      "text/plain": [
       "<Figure size 864x504 with 1 Axes>"
      ]
     },
     "metadata": {
      "image/png": {
       "height": 494,
       "width": 854
      }
     },
     "output_type": "display_data"
    }
   ],
   "source": [
    "# As we can see there is very big right skewness.\n",
    "# ________________________________________________________\n",
    "fig, ax = plt.subplots(figsize=(12,7))\n",
    "bar = df.ARRIVAL_DELAY.plot(kind='hist', bins=50, color= '#9e003a', histtype='bar', ec='w')\n",
    "plt.title('Distribution of Flight Delays on Arrival', size = 20, color='#9f2305')\n",
    "plt.xlabel('\\nLength of delays (min)', size=20)\n",
    "plt.ylabel('Number of delays\\n', size=20)\n",
    "bar.spines['top'].set_visible(False)\n",
    "bar.spines['right'].set_visible(False)\n",
    "plt.tight_layout()\n",
    "fig = bar.get_figure()"
   ]
  },
  {
   "cell_type": "code",
   "execution_count": 127,
   "metadata": {
    "collapsed": false
   },
   "outputs": [
    {
     "name": "stderr",
     "output_type": "stream",
     "text": [
      "/Anaconda/anaconda/lib/python3.6/site-packages/seaborn/categorical.py:454: FutureWarning: remove_na is deprecated and is a private function. Do not use.\n",
      "  box_data = remove_na(group_data)\n"
     ]
    },
    {
     "data": {
      "image/png": "[encoded data removed]",
      "text/plain": [
       "<Figure size 1152x432 with 1 Axes>"
      ]
     },
     "metadata": {
      "image/png": {
       "height": 451,
       "width": 919
      }
     },
     "output_type": "display_data"
    }
   ],
   "source": [
    "# Look at this outliers on box plot.\n",
    "# ________________________________________________________\n",
    "sns.set_style(\"darkgrid\")\n",
    "fig = plt.figure(1, figsize=(16,6))\n",
    "ax = sns.boxplot(data=df.ARRIVAL_DELAY.values, orient='h', fliersize=5, linewidth=2, notch=False, saturation=0.7, color='#02d8e9')\n",
    "plt.suptitle('Length of flight delays - for observation outliers', fontsize=19, color='#cb0162',  weight = 'bold')\n",
    "plt.xlabel('Delays in minutes', fontsize=20, labelpad=30, color='#730039')\n",
    "plt.xticks(fontsize=14)\n",
    "plt.show()"
   ]
  },
  {
   "cell_type": "code",
   "execution_count": 128,
   "metadata": {
    "collapsed": false
   },
   "outputs": [
    {
     "data": {
      "text/plain": [
       "(157948, 21)"
      ]
     },
     "execution_count": 128,
     "metadata": {},
     "output_type": "execute_result"
    }
   ],
   "source": [
    "# I will keep only delays up to 2 hrs. Removing outliers.\n",
    "# ________________________________________________________\n",
    "df = df[df.ARRIVAL_DELAY <= 120]\n",
    "df.shape"
   ]
  },
  {
   "cell_type": "code",
   "execution_count": 129,
   "metadata": {
    "collapsed": false
   },
   "outputs": [
    {
     "name": "stderr",
     "output_type": "stream",
     "text": [
      "/Anaconda/anaconda/lib/python3.6/site-packages/seaborn/categorical.py:454: FutureWarning: remove_na is deprecated and is a private function. Do not use.\n",
      "  box_data = remove_na(group_data)\n"
     ]
    },
    {
     "data": {
      "image/png": "[encoded data removed]",
      "text/plain": [
       "<Figure size 1152x432 with 1 Axes>"
      ]
     },
     "metadata": {
      "image/png": {
       "height": 451,
       "width": 919
      }
     },
     "output_type": "display_data"
    }
   ],
   "source": [
    "# My needed interval between 2 min and 120 minutes.\n",
    "# ________________________________________________________\n",
    "sns.set_style(\"darkgrid\")\n",
    "fig = plt.figure(1, figsize=(16,6))\n",
    "ax = sns.boxplot(data=df.ARRIVAL_DELAY.values, orient='h', fliersize=5, linewidth=2, notch=False, saturation=0.7, color='#02ab2e')\n",
    "plt.suptitle('Length of flight delays - for observation outliers', fontsize=19, color='#cb0162',  weight = 'bold')\n",
    "plt.xlabel('Delays in minutes', fontsize=20, labelpad=30, color='#730039')\n",
    "plt.xticks(fontsize=14)\n",
    "plt.show()"
   ]
  },
  {
   "cell_type": "markdown",
   "metadata": {},
   "source": [
    "<img src=\"img/lin.jpg\">"
   ]
  },
  {
   "cell_type": "markdown",
   "metadata": {},
   "source": [
    "# <span style=\"color:#040273\">Part C. Tuning of Target and Predictors"
   ]
  },
  {
   "cell_type": "markdown",
   "metadata": {},
   "source": [
    "<span style=\"color:#be0119\"><b>\n",
    "--- comment ---</b>\n",
    "\n",
    "<span style=\"color:#1e488f\"> In this part I will 1st create new column for my convenience where I store arrival delays values. 2nd I will create categorical variables again but this time they will be related to the mean of delay length. After that I will create dummy variables from categorical, which I will use in my regression model."
   ]
  },
  {
   "cell_type": "markdown",
   "metadata": {},
   "source": [
    "# <span style=\"color:#ffad01\">1. Target: <span style=\"color:#004577\">Length of Delay on Arrival."
   ]
  },
  {
   "cell_type": "markdown",
   "metadata": {},
   "source": [
    "<span style=\"color:#be0119\"><b>\n",
    "--- comment ---</b>\n",
    "\n",
    "<span style=\"color:#1e488f\"> Store my target in a new column."
   ]
  },
  {
   "cell_type": "code",
   "execution_count": 130,
   "metadata": {
    "collapsed": false
   },
   "outputs": [
    {
     "data": {
      "text/plain": [
       "2    8177\n",
       "3    7741\n",
       "4    6936\n",
       "5    6635\n",
       "6    6186\n",
       "Name: Arrival_delay_length, dtype: int64"
      ]
     },
     "execution_count": 130,
     "metadata": {},
     "output_type": "execute_result"
    }
   ],
   "source": [
    "#Count delay from 2 min and above. Mean for arrival_delay is 2.8 min. I have 179305 delays on arrivals.\n",
    "# ________________________________________________________\n",
    "df['Arrival_delay_length'] = df['ARRIVAL_DELAY']\n",
    "df.Arrival_delay_length = df.Arrival_delay_length.astype(int)\n",
    "\n",
    "df.Arrival_delay_length.value_counts().head(5)"
   ]
  },
  {
   "cell_type": "markdown",
   "metadata": {},
   "source": [
    "<img src=\"img/lin.jpg\">"
   ]
  },
  {
   "cell_type": "markdown",
   "metadata": {},
   "source": [
    "# <span style=\"color:#ffad01\">2. Predictor: <span style=\"color:#004577\">Day of the Week."
   ]
  },
  {
   "cell_type": "markdown",
   "metadata": {
    "collapsed": true
   },
   "source": [
    "<span style=\"color:#be0119\"><b>\n",
    "--- comment ---</b>\n",
    "\n",
    "<span style=\"color:#1e488f\">I will count mean of length of delay for each day of the week and make 7 categories."
   ]
  },
  {
   "cell_type": "code",
   "execution_count": 131,
   "metadata": {
    "collapsed": false
   },
   "outputs": [
    {
     "data": {
      "text/html": [
       "<div>\n",
       "<style scoped>\n",
       "    .dataframe tbody tr th:only-of-type {\n",
       "        vertical-align: middle;\n",
       "    }\n",
       "\n",
       "    .dataframe tbody tr th {\n",
       "        vertical-align: top;\n",
       "    }\n",
       "\n",
       "    .dataframe thead th {\n",
       "        text-align: right;\n",
       "    }\n",
       "</style>\n",
       "<table border=\"1\" class=\"dataframe\">\n",
       "  <thead>\n",
       "    <tr style=\"text-align: right;\">\n",
       "      <th></th>\n",
       "      <th>DAY_OF_WEEK</th>\n",
       "      <th>Arrival_delay_length</th>\n",
       "    </tr>\n",
       "  </thead>\n",
       "  <tbody>\n",
       "    <tr>\n",
       "      <th>0</th>\n",
       "      <td>1</td>\n",
       "      <td>28.237387</td>\n",
       "    </tr>\n",
       "    <tr>\n",
       "      <th>1</th>\n",
       "      <td>2</td>\n",
       "      <td>27.311503</td>\n",
       "    </tr>\n",
       "    <tr>\n",
       "      <th>2</th>\n",
       "      <td>3</td>\n",
       "      <td>26.011640</td>\n",
       "    </tr>\n",
       "    <tr>\n",
       "      <th>3</th>\n",
       "      <td>4</td>\n",
       "      <td>24.006217</td>\n",
       "    </tr>\n",
       "    <tr>\n",
       "      <th>4</th>\n",
       "      <td>5</td>\n",
       "      <td>27.059525</td>\n",
       "    </tr>\n",
       "    <tr>\n",
       "      <th>5</th>\n",
       "      <td>6</td>\n",
       "      <td>23.640680</td>\n",
       "    </tr>\n",
       "    <tr>\n",
       "      <th>6</th>\n",
       "      <td>7</td>\n",
       "      <td>25.333709</td>\n",
       "    </tr>\n",
       "  </tbody>\n",
       "</table>\n",
       "</div>"
      ],
      "text/plain": [
       "   DAY_OF_WEEK  Arrival_delay_length\n",
       "0            1             28.237387\n",
       "1            2             27.311503\n",
       "2            3             26.011640\n",
       "3            4             24.006217\n",
       "4            5             27.059525\n",
       "5            6             23.640680\n",
       "6            7             25.333709"
      ]
     },
     "execution_count": 131,
     "metadata": {},
     "output_type": "execute_result"
    }
   ],
   "source": [
    "time_delays_by_day = df.pivot_table(index='DAY_OF_WEEK', values='Arrival_delay_length', aggfunc='mean')\n",
    "df_xxx = pd.DataFrame(time_delays_by_day)\n",
    "df_xxx.reset_index(level=0, inplace=True)\n",
    "df_xxx"
   ]
  },
  {
   "cell_type": "code",
   "execution_count": 132,
   "metadata": {
    "collapsed": true
   },
   "outputs": [],
   "source": [
    "df_xxx['days_length_del'] =  df_xxx['Arrival_delay_length'].apply(lambda x: 1 if x > 23 and x <= 23.7 else float(x))\n",
    "df_xxx['days_length_del'] =  df_xxx['days_length_del'].apply(lambda x: 2 if x > 24 and x <= 25 else float(x))\n",
    "df_xxx['days_length_del'] =  df_xxx['days_length_del'].apply(lambda x: 3 if x > 25 and x <= 26 else float(x))\n",
    "df_xxx['days_length_del'] =  df_xxx['days_length_del'].apply(lambda x: 4 if x > 26 and x <= 27 else float(x))\n",
    "df_xxx['days_length_del'] =  df_xxx['days_length_del'].apply(lambda x: 5 if x > 27 and x <= 27.06 else float(x))\n",
    "df_xxx['days_length_del'] =  df_xxx['days_length_del'].apply(lambda x: 6 if x > 27.06 and x <= 28 else float(x))\n",
    "df_xxx['days_length_del'] =  df_xxx['days_length_del'].apply(lambda x: 7 if x > 28 else float(x))"
   ]
  },
  {
   "cell_type": "code",
   "execution_count": 133,
   "metadata": {
    "collapsed": true
   },
   "outputs": [],
   "source": [
    "df = pd.merge(df,df_xxx, on=['DAY_OF_WEEK'])\n",
    "df.drop('Arrival_delay_length_y', axis=1, inplace=True)"
   ]
  },
  {
   "cell_type": "markdown",
   "metadata": {},
   "source": [
    "<img src=\"img/lin.jpg\">"
   ]
  },
  {
   "cell_type": "markdown",
   "metadata": {},
   "source": [
    "# <span style=\"color:#ffad01\">3. Predictor: <span style=\"color:#004577\">Airline Code."
   ]
  },
  {
   "cell_type": "markdown",
   "metadata": {},
   "source": [
    "<span style=\"color:#be0119\"><b>\n",
    "--- comment ---</b>\n",
    "\n",
    "<span style=\"color:#1e488f\">I count mean of length of delay for each airline then I make 4 intervals. I will split for for group based on describe() information max, min, mean values. I will follow same approach for rest of my categorical features."
   ]
  },
  {
   "cell_type": "code",
   "execution_count": 134,
   "metadata": {
    "collapsed": false
   },
   "outputs": [
    {
     "data": {
      "text/html": [
       "<div>\n",
       "<style scoped>\n",
       "    .dataframe tbody tr th:only-of-type {\n",
       "        vertical-align: middle;\n",
       "    }\n",
       "\n",
       "    .dataframe tbody tr th {\n",
       "        vertical-align: top;\n",
       "    }\n",
       "\n",
       "    .dataframe thead th {\n",
       "        text-align: right;\n",
       "    }\n",
       "</style>\n",
       "<table border=\"1\" class=\"dataframe\">\n",
       "  <thead>\n",
       "    <tr style=\"text-align: right;\">\n",
       "      <th></th>\n",
       "      <th>AIRLINE_CODE</th>\n",
       "      <th>Arrival_delay_length_x</th>\n",
       "    </tr>\n",
       "  </thead>\n",
       "  <tbody>\n",
       "    <tr>\n",
       "      <th>0</th>\n",
       "      <td>9E</td>\n",
       "      <td>32.251547</td>\n",
       "    </tr>\n",
       "    <tr>\n",
       "      <th>1</th>\n",
       "      <td>AA</td>\n",
       "      <td>23.882518</td>\n",
       "    </tr>\n",
       "    <tr>\n",
       "      <th>2</th>\n",
       "      <td>AS</td>\n",
       "      <td>19.064572</td>\n",
       "    </tr>\n",
       "    <tr>\n",
       "      <th>3</th>\n",
       "      <td>B6</td>\n",
       "      <td>32.979501</td>\n",
       "    </tr>\n",
       "    <tr>\n",
       "      <th>4</th>\n",
       "      <td>DL</td>\n",
       "      <td>27.067780</td>\n",
       "    </tr>\n",
       "  </tbody>\n",
       "</table>\n",
       "</div>"
      ],
      "text/plain": [
       "  AIRLINE_CODE  Arrival_delay_length_x\n",
       "0           9E               32.251547\n",
       "1           AA               23.882518\n",
       "2           AS               19.064572\n",
       "3           B6               32.979501\n",
       "4           DL               27.067780"
      ]
     },
     "execution_count": 134,
     "metadata": {},
     "output_type": "execute_result"
    }
   ],
   "source": [
    "time_delays_by_airline = df.pivot_table(index='AIRLINE_CODE', values='Arrival_delay_length_x', aggfunc='mean')\n",
    "df_xxx = pd.DataFrame(time_delays_by_airline)\n",
    "df_xxx.reset_index(level=0, inplace=True)\n",
    "df_xxx.head(5)"
   ]
  },
  {
   "cell_type": "code",
   "execution_count": 135,
   "metadata": {
    "collapsed": false
   },
   "outputs": [
    {
     "data": {
      "text/html": [
       "<div>\n",
       "<style scoped>\n",
       "    .dataframe tbody tr th:only-of-type {\n",
       "        vertical-align: middle;\n",
       "    }\n",
       "\n",
       "    .dataframe tbody tr th {\n",
       "        vertical-align: top;\n",
       "    }\n",
       "\n",
       "    .dataframe thead th {\n",
       "        text-align: right;\n",
       "    }\n",
       "</style>\n",
       "<table border=\"1\" class=\"dataframe\">\n",
       "  <thead>\n",
       "    <tr style=\"text-align: right;\">\n",
       "      <th></th>\n",
       "      <th>Arrival_delay_length_x</th>\n",
       "    </tr>\n",
       "  </thead>\n",
       "  <tbody>\n",
       "    <tr>\n",
       "      <th>count</th>\n",
       "      <td>18.000000</td>\n",
       "    </tr>\n",
       "    <tr>\n",
       "      <th>mean</th>\n",
       "      <td>26.344196</td>\n",
       "    </tr>\n",
       "    <tr>\n",
       "      <th>std</th>\n",
       "      <td>4.449376</td>\n",
       "    </tr>\n",
       "    <tr>\n",
       "      <th>min</th>\n",
       "      <td>15.355207</td>\n",
       "    </tr>\n",
       "    <tr>\n",
       "      <th>25%</th>\n",
       "      <td>24.497494</td>\n",
       "    </tr>\n",
       "    <tr>\n",
       "      <th>50%</th>\n",
       "      <td>26.513544</td>\n",
       "    </tr>\n",
       "    <tr>\n",
       "      <th>75%</th>\n",
       "      <td>29.024912</td>\n",
       "    </tr>\n",
       "    <tr>\n",
       "      <th>max</th>\n",
       "      <td>32.979501</td>\n",
       "    </tr>\n",
       "  </tbody>\n",
       "</table>\n",
       "</div>"
      ],
      "text/plain": [
       "       Arrival_delay_length_x\n",
       "count               18.000000\n",
       "mean                26.344196\n",
       "std                  4.449376\n",
       "min                 15.355207\n",
       "25%                 24.497494\n",
       "50%                 26.513544\n",
       "75%                 29.024912\n",
       "max                 32.979501"
      ]
     },
     "execution_count": 135,
     "metadata": {},
     "output_type": "execute_result"
    }
   ],
   "source": [
    "df_xxx.describe()"
   ]
  },
  {
   "cell_type": "code",
   "execution_count": 136,
   "metadata": {
    "collapsed": false
   },
   "outputs": [],
   "source": [
    "df_xxx['airline_del_mean'] =  df_xxx['Arrival_delay_length_x'].apply(lambda x: 1 if x > 15 and x <= 20 else int(x))\n",
    "df_xxx['airline_del_mean'] =  df_xxx['airline_del_mean'].apply(lambda x: 2 if x > 20 and x <= 26 else int(x))\n",
    "df_xxx['airline_del_mean'] =  df_xxx['airline_del_mean'].apply(lambda x: 3 if x > 26 and x <= 30 else int(x))\n",
    "df_xxx['airline_del_mean'] =  df_xxx['airline_del_mean'].apply(lambda x: 4 if x > 30 and x <= 33 else int(x))"
   ]
  },
  {
   "cell_type": "code",
   "execution_count": 137,
   "metadata": {
    "collapsed": false
   },
   "outputs": [],
   "source": [
    "df = pd.merge(df,df_xxx, on=['AIRLINE_CODE'])\n",
    "df.drop('Arrival_delay_length_x_y', axis=1, inplace=True)"
   ]
  },
  {
   "cell_type": "code",
   "execution_count": 138,
   "metadata": {
    "collapsed": false
   },
   "outputs": [
    {
     "data": {
      "text/html": [
       "<div>\n",
       "<style scoped>\n",
       "    .dataframe tbody tr th:only-of-type {\n",
       "        vertical-align: middle;\n",
       "    }\n",
       "\n",
       "    .dataframe tbody tr th {\n",
       "        vertical-align: top;\n",
       "    }\n",
       "\n",
       "    .dataframe thead th {\n",
       "        text-align: right;\n",
       "    }\n",
       "</style>\n",
       "<table border=\"1\" class=\"dataframe\">\n",
       "  <thead>\n",
       "    <tr style=\"text-align: right;\">\n",
       "      <th></th>\n",
       "      <th>DAY_OF_WEEK</th>\n",
       "      <th>AIRLINE_CODE</th>\n",
       "      <th>TAIL_NUMBER</th>\n",
       "      <th>FLIGHT_NUMBER</th>\n",
       "      <th>ORIGIN_AIRPORT</th>\n",
       "      <th>CITY_ORIGIN</th>\n",
       "      <th>STATE_ORIGIN</th>\n",
       "      <th>DESTINATION_AIRPORT</th>\n",
       "      <th>STATE_DESTINATION</th>\n",
       "      <th>SCHEDULED_DEPARTURE</th>\n",
       "      <th>...</th>\n",
       "      <th>SCHEDULED_TIME</th>\n",
       "      <th>DISTANCE</th>\n",
       "      <th>AIRLINE_DELAY</th>\n",
       "      <th>WEATHER_DELAY</th>\n",
       "      <th>AIR_SYSTEM_DELAY</th>\n",
       "      <th>SECURITY_DELAY</th>\n",
       "      <th>LATE_AIRCRAFT_DELAY</th>\n",
       "      <th>Arrival_delay_length_x_x</th>\n",
       "      <th>days_length_del</th>\n",
       "      <th>airline_del_mean</th>\n",
       "    </tr>\n",
       "  </thead>\n",
       "  <tbody>\n",
       "    <tr>\n",
       "      <th>0</th>\n",
       "      <td>1</td>\n",
       "      <td>EV</td>\n",
       "      <td>N614QX</td>\n",
       "      <td>2815</td>\n",
       "      <td>BTR</td>\n",
       "      <td>Baton Rouge</td>\n",
       "      <td>LA</td>\n",
       "      <td>DFW</td>\n",
       "      <td>TX</td>\n",
       "      <td>2018-01-08 09:43:00</td>\n",
       "      <td>...</td>\n",
       "      <td>92.0</td>\n",
       "      <td>383.0</td>\n",
       "      <td>0.0</td>\n",
       "      <td>0.0</td>\n",
       "      <td>0.0</td>\n",
       "      <td>0.0</td>\n",
       "      <td>61.0</td>\n",
       "      <td>61</td>\n",
       "      <td>7.0</td>\n",
       "      <td>4</td>\n",
       "    </tr>\n",
       "    <tr>\n",
       "      <th>1</th>\n",
       "      <td>1</td>\n",
       "      <td>EV</td>\n",
       "      <td>N615QX</td>\n",
       "      <td>2815</td>\n",
       "      <td>DFW</td>\n",
       "      <td>Dallas-Fort Worth</td>\n",
       "      <td>TX</td>\n",
       "      <td>BTR</td>\n",
       "      <td>LA</td>\n",
       "      <td>2018-01-22 07:15:00</td>\n",
       "      <td>...</td>\n",
       "      <td>78.0</td>\n",
       "      <td>383.0</td>\n",
       "      <td>0.0</td>\n",
       "      <td>0.0</td>\n",
       "      <td>0.0</td>\n",
       "      <td>0.0</td>\n",
       "      <td>0.0</td>\n",
       "      <td>12</td>\n",
       "      <td>7.0</td>\n",
       "      <td>4</td>\n",
       "    </tr>\n",
       "    <tr>\n",
       "      <th>2</th>\n",
       "      <td>1</td>\n",
       "      <td>EV</td>\n",
       "      <td>N615QX</td>\n",
       "      <td>2816</td>\n",
       "      <td>BTR</td>\n",
       "      <td>Baton Rouge</td>\n",
       "      <td>LA</td>\n",
       "      <td>DFW</td>\n",
       "      <td>TX</td>\n",
       "      <td>2018-01-15 06:37:00</td>\n",
       "      <td>...</td>\n",
       "      <td>94.0</td>\n",
       "      <td>383.0</td>\n",
       "      <td>0.0</td>\n",
       "      <td>0.0</td>\n",
       "      <td>0.0</td>\n",
       "      <td>0.0</td>\n",
       "      <td>0.0</td>\n",
       "      <td>9</td>\n",
       "      <td>7.0</td>\n",
       "      <td>4</td>\n",
       "    </tr>\n",
       "  </tbody>\n",
       "</table>\n",
       "<p>3 rows × 24 columns</p>\n",
       "</div>"
      ],
      "text/plain": [
       "   DAY_OF_WEEK AIRLINE_CODE TAIL_NUMBER  FLIGHT_NUMBER ORIGIN_AIRPORT  \\\n",
       "0            1           EV      N614QX           2815            BTR   \n",
       "1            1           EV      N615QX           2815            DFW   \n",
       "2            1           EV      N615QX           2816            BTR   \n",
       "\n",
       "         CITY_ORIGIN STATE_ORIGIN DESTINATION_AIRPORT STATE_DESTINATION  \\\n",
       "0        Baton Rouge           LA                 DFW                TX   \n",
       "1  Dallas-Fort Worth           TX                 BTR                LA   \n",
       "2        Baton Rouge           LA                 DFW                TX   \n",
       "\n",
       "   SCHEDULED_DEPARTURE        ...         SCHEDULED_TIME  DISTANCE  \\\n",
       "0  2018-01-08 09:43:00        ...                   92.0     383.0   \n",
       "1  2018-01-22 07:15:00        ...                   78.0     383.0   \n",
       "2  2018-01-15 06:37:00        ...                   94.0     383.0   \n",
       "\n",
       "  AIRLINE_DELAY  WEATHER_DELAY  AIR_SYSTEM_DELAY  SECURITY_DELAY  \\\n",
       "0           0.0            0.0               0.0             0.0   \n",
       "1           0.0            0.0               0.0             0.0   \n",
       "2           0.0            0.0               0.0             0.0   \n",
       "\n",
       "   LATE_AIRCRAFT_DELAY  Arrival_delay_length_x_x  days_length_del  \\\n",
       "0                 61.0                        61              7.0   \n",
       "1                  0.0                        12              7.0   \n",
       "2                  0.0                         9              7.0   \n",
       "\n",
       "   airline_del_mean  \n",
       "0                 4  \n",
       "1                 4  \n",
       "2                 4  \n",
       "\n",
       "[3 rows x 24 columns]"
      ]
     },
     "execution_count": 138,
     "metadata": {},
     "output_type": "execute_result"
    }
   ],
   "source": [
    "# Check my new collumns at the end of dataframe.\n",
    "# ________________________________________________________\n",
    "df.head(3)"
   ]
  },
  {
   "cell_type": "markdown",
   "metadata": {},
   "source": [
    "<img src=\"img/lin.jpg\">"
   ]
  },
  {
   "cell_type": "markdown",
   "metadata": {},
   "source": [
    "# <span style=\"color:#ffad01\">4. Predictor: <span style=\"color:#004577\">Tail Number."
   ]
  },
  {
   "cell_type": "code",
   "execution_count": 139,
   "metadata": {
    "collapsed": false
   },
   "outputs": [
    {
     "data": {
      "text/html": [
       "<div>\n",
       "<style scoped>\n",
       "    .dataframe tbody tr th:only-of-type {\n",
       "        vertical-align: middle;\n",
       "    }\n",
       "\n",
       "    .dataframe tbody tr th {\n",
       "        vertical-align: top;\n",
       "    }\n",
       "\n",
       "    .dataframe thead th {\n",
       "        text-align: right;\n",
       "    }\n",
       "</style>\n",
       "<table border=\"1\" class=\"dataframe\">\n",
       "  <thead>\n",
       "    <tr style=\"text-align: right;\">\n",
       "      <th></th>\n",
       "      <th>TAIL_NUMBER</th>\n",
       "      <th>Arrival_delay_length_x_x</th>\n",
       "    </tr>\n",
       "  </thead>\n",
       "  <tbody>\n",
       "    <tr>\n",
       "      <th>0</th>\n",
       "      <td>215NV</td>\n",
       "      <td>31.400000</td>\n",
       "    </tr>\n",
       "    <tr>\n",
       "      <th>1</th>\n",
       "      <td>216NV</td>\n",
       "      <td>26.738095</td>\n",
       "    </tr>\n",
       "    <tr>\n",
       "      <th>2</th>\n",
       "      <td>217NV</td>\n",
       "      <td>11.885714</td>\n",
       "    </tr>\n",
       "    <tr>\n",
       "      <th>3</th>\n",
       "      <td>218NV</td>\n",
       "      <td>44.687500</td>\n",
       "    </tr>\n",
       "    <tr>\n",
       "      <th>4</th>\n",
       "      <td>219NV</td>\n",
       "      <td>27.586207</td>\n",
       "    </tr>\n",
       "  </tbody>\n",
       "</table>\n",
       "</div>"
      ],
      "text/plain": [
       "  TAIL_NUMBER  Arrival_delay_length_x_x\n",
       "0       215NV                 31.400000\n",
       "1       216NV                 26.738095\n",
       "2       217NV                 11.885714\n",
       "3       218NV                 44.687500\n",
       "4       219NV                 27.586207"
      ]
     },
     "execution_count": 139,
     "metadata": {},
     "output_type": "execute_result"
    }
   ],
   "source": [
    "time_delays_by_tail = df.pivot_table(index='TAIL_NUMBER', values='Arrival_delay_length_x_x', aggfunc='mean')\n",
    "df_xxx = pd.DataFrame(time_delays_by_tail)\n",
    "df_xxx.reset_index(level=0, inplace=True)\n",
    "df_xxx.head(5)"
   ]
  },
  {
   "cell_type": "code",
   "execution_count": 140,
   "metadata": {
    "collapsed": false
   },
   "outputs": [
    {
     "data": {
      "text/html": [
       "<div>\n",
       "<style scoped>\n",
       "    .dataframe tbody tr th:only-of-type {\n",
       "        vertical-align: middle;\n",
       "    }\n",
       "\n",
       "    .dataframe tbody tr th {\n",
       "        vertical-align: top;\n",
       "    }\n",
       "\n",
       "    .dataframe thead th {\n",
       "        text-align: right;\n",
       "    }\n",
       "</style>\n",
       "<table border=\"1\" class=\"dataframe\">\n",
       "  <thead>\n",
       "    <tr style=\"text-align: right;\">\n",
       "      <th></th>\n",
       "      <th>Arrival_delay_length_x_x</th>\n",
       "    </tr>\n",
       "  </thead>\n",
       "  <tbody>\n",
       "    <tr>\n",
       "      <th>count</th>\n",
       "      <td>5188.000000</td>\n",
       "    </tr>\n",
       "    <tr>\n",
       "      <th>mean</th>\n",
       "      <td>26.017686</td>\n",
       "    </tr>\n",
       "    <tr>\n",
       "      <th>std</th>\n",
       "      <td>9.007034</td>\n",
       "    </tr>\n",
       "    <tr>\n",
       "      <th>min</th>\n",
       "      <td>2.000000</td>\n",
       "    </tr>\n",
       "    <tr>\n",
       "      <th>25%</th>\n",
       "      <td>20.139725</td>\n",
       "    </tr>\n",
       "    <tr>\n",
       "      <th>50%</th>\n",
       "      <td>25.269231</td>\n",
       "    </tr>\n",
       "    <tr>\n",
       "      <th>75%</th>\n",
       "      <td>30.896053</td>\n",
       "    </tr>\n",
       "    <tr>\n",
       "      <th>max</th>\n",
       "      <td>112.000000</td>\n",
       "    </tr>\n",
       "  </tbody>\n",
       "</table>\n",
       "</div>"
      ],
      "text/plain": [
       "       Arrival_delay_length_x_x\n",
       "count               5188.000000\n",
       "mean                  26.017686\n",
       "std                    9.007034\n",
       "min                    2.000000\n",
       "25%                   20.139725\n",
       "50%                   25.269231\n",
       "75%                   30.896053\n",
       "max                  112.000000"
      ]
     },
     "execution_count": 140,
     "metadata": {},
     "output_type": "execute_result"
    }
   ],
   "source": [
    "df_xxx.describe()"
   ]
  },
  {
   "cell_type": "code",
   "execution_count": 141,
   "metadata": {
    "collapsed": false
   },
   "outputs": [],
   "source": [
    "df_xxx['tail_del_mean'] =  df_xxx['Arrival_delay_length_x_x'].apply(lambda x: 1 if x > 1 and x <= 28 else int(x))\n",
    "df_xxx['tail_del_mean'] =  df_xxx['tail_del_mean'].apply(lambda x: 2 if x > 28 and x <= 56 else int(x))\n",
    "df_xxx['tail_del_mean'] =  df_xxx['tail_del_mean'].apply(lambda x: 3 if x > 56 and x <= 84 else int(x))\n",
    "df_xxx['tail_del_mean'] =  df_xxx['tail_del_mean'].apply(lambda x: 4 if x > 84 and x <= 113 else int(x))\n",
    "df_xxx['tail_del_mean'] =  df_xxx['tail_del_mean'].apply(lambda x: 1 if x == 28 else int(x))"
   ]
  },
  {
   "cell_type": "code",
   "execution_count": 142,
   "metadata": {
    "collapsed": false
   },
   "outputs": [],
   "source": [
    "df = pd.merge(df,df_xxx, on=['TAIL_NUMBER'])\n",
    "df.drop('Arrival_delay_length_x_x_y', axis=1, inplace=True)"
   ]
  },
  {
   "cell_type": "markdown",
   "metadata": {},
   "source": [
    "<img src=\"img/lin.jpg\">"
   ]
  },
  {
   "cell_type": "markdown",
   "metadata": {},
   "source": [
    "# <span style=\"color:#ffad01\">5. Predictor: <span style=\"color:#004577\">Flight Number."
   ]
  },
  {
   "cell_type": "code",
   "execution_count": 143,
   "metadata": {
    "collapsed": false
   },
   "outputs": [
    {
     "data": {
      "text/html": [
       "<div>\n",
       "<style scoped>\n",
       "    .dataframe tbody tr th:only-of-type {\n",
       "        vertical-align: middle;\n",
       "    }\n",
       "\n",
       "    .dataframe tbody tr th {\n",
       "        vertical-align: top;\n",
       "    }\n",
       "\n",
       "    .dataframe thead th {\n",
       "        text-align: right;\n",
       "    }\n",
       "</style>\n",
       "<table border=\"1\" class=\"dataframe\">\n",
       "  <thead>\n",
       "    <tr style=\"text-align: right;\">\n",
       "      <th></th>\n",
       "      <th>FLIGHT_NUMBER</th>\n",
       "      <th>Arrival_delay_length_x_x_x</th>\n",
       "    </tr>\n",
       "  </thead>\n",
       "  <tbody>\n",
       "    <tr>\n",
       "      <th>0</th>\n",
       "      <td>1</td>\n",
       "      <td>27.868421</td>\n",
       "    </tr>\n",
       "    <tr>\n",
       "      <th>1</th>\n",
       "      <td>2</td>\n",
       "      <td>28.657895</td>\n",
       "    </tr>\n",
       "    <tr>\n",
       "      <th>2</th>\n",
       "      <td>3</td>\n",
       "      <td>28.650000</td>\n",
       "    </tr>\n",
       "    <tr>\n",
       "      <th>3</th>\n",
       "      <td>4</td>\n",
       "      <td>24.558824</td>\n",
       "    </tr>\n",
       "    <tr>\n",
       "      <th>4</th>\n",
       "      <td>5</td>\n",
       "      <td>19.190476</td>\n",
       "    </tr>\n",
       "  </tbody>\n",
       "</table>\n",
       "</div>"
      ],
      "text/plain": [
       "   FLIGHT_NUMBER  Arrival_delay_length_x_x_x\n",
       "0              1                   27.868421\n",
       "1              2                   28.657895\n",
       "2              3                   28.650000\n",
       "3              4                   24.558824\n",
       "4              5                   19.190476"
      ]
     },
     "execution_count": 143,
     "metadata": {},
     "output_type": "execute_result"
    }
   ],
   "source": [
    "time_delays_by_flight = df.pivot_table(index='FLIGHT_NUMBER', values='Arrival_delay_length_x_x_x', aggfunc='mean')\n",
    "df_xxx = pd.DataFrame(time_delays_by_flight)\n",
    "df_xxx.reset_index(level=0, inplace=True)\n",
    "df_xxx.head(5)"
   ]
  },
  {
   "cell_type": "code",
   "execution_count": 144,
   "metadata": {
    "collapsed": false
   },
   "outputs": [
    {
     "data": {
      "text/html": [
       "<div>\n",
       "<style scoped>\n",
       "    .dataframe tbody tr th:only-of-type {\n",
       "        vertical-align: middle;\n",
       "    }\n",
       "\n",
       "    .dataframe tbody tr th {\n",
       "        vertical-align: top;\n",
       "    }\n",
       "\n",
       "    .dataframe thead th {\n",
       "        text-align: right;\n",
       "    }\n",
       "</style>\n",
       "<table border=\"1\" class=\"dataframe\">\n",
       "  <thead>\n",
       "    <tr style=\"text-align: right;\">\n",
       "      <th></th>\n",
       "      <th>FLIGHT_NUMBER</th>\n",
       "      <th>Arrival_delay_length_x_x_x</th>\n",
       "    </tr>\n",
       "  </thead>\n",
       "  <tbody>\n",
       "    <tr>\n",
       "      <th>count</th>\n",
       "      <td>6703.000000</td>\n",
       "      <td>6703.000000</td>\n",
       "    </tr>\n",
       "    <tr>\n",
       "      <th>mean</th>\n",
       "      <td>3397.335671</td>\n",
       "      <td>26.074615</td>\n",
       "    </tr>\n",
       "    <tr>\n",
       "      <th>std</th>\n",
       "      <td>1987.543175</td>\n",
       "      <td>10.276940</td>\n",
       "    </tr>\n",
       "    <tr>\n",
       "      <th>min</th>\n",
       "      <td>1.000000</td>\n",
       "      <td>2.000000</td>\n",
       "    </tr>\n",
       "    <tr>\n",
       "      <th>25%</th>\n",
       "      <td>1680.500000</td>\n",
       "      <td>20.202941</td>\n",
       "    </tr>\n",
       "    <tr>\n",
       "      <th>50%</th>\n",
       "      <td>3384.000000</td>\n",
       "      <td>25.333333</td>\n",
       "    </tr>\n",
       "    <tr>\n",
       "      <th>75%</th>\n",
       "      <td>5094.500000</td>\n",
       "      <td>30.790491</td>\n",
       "    </tr>\n",
       "    <tr>\n",
       "      <th>max</th>\n",
       "      <td>7439.000000</td>\n",
       "      <td>120.000000</td>\n",
       "    </tr>\n",
       "  </tbody>\n",
       "</table>\n",
       "</div>"
      ],
      "text/plain": [
       "       FLIGHT_NUMBER  Arrival_delay_length_x_x_x\n",
       "count    6703.000000                 6703.000000\n",
       "mean     3397.335671                   26.074615\n",
       "std      1987.543175                   10.276940\n",
       "min         1.000000                    2.000000\n",
       "25%      1680.500000                   20.202941\n",
       "50%      3384.000000                   25.333333\n",
       "75%      5094.500000                   30.790491\n",
       "max      7439.000000                  120.000000"
      ]
     },
     "execution_count": 144,
     "metadata": {},
     "output_type": "execute_result"
    }
   ],
   "source": [
    "df_xxx.describe()"
   ]
  },
  {
   "cell_type": "code",
   "execution_count": 145,
   "metadata": {
    "collapsed": false
   },
   "outputs": [],
   "source": [
    "df_xxx['flight_del_mean'] =  df_xxx['Arrival_delay_length_x_x_x'].apply(lambda x: 1 if x > 1 and x <= 28 else int(x))\n",
    "df_xxx['flight_del_mean'] =  df_xxx['flight_del_mean'].apply(lambda x: 2 if x > 28 and x <= 56 else int(x))\n",
    "df_xxx['flight_del_mean'] =  df_xxx['flight_del_mean'].apply(lambda x: 3 if x > 56 and x <= 84 else int(x))\n",
    "df_xxx['flight_del_mean'] =  df_xxx['flight_del_mean'].apply(lambda x: 4 if x > 84 else int(x))\n",
    "df_xxx['flight_del_mean'] =  df_xxx['flight_del_mean'].apply(lambda x: 1 if x == 28 else int(x))"
   ]
  },
  {
   "cell_type": "code",
   "execution_count": 146,
   "metadata": {
    "collapsed": false
   },
   "outputs": [],
   "source": [
    "df = pd.merge(df,df_xxx, on=['FLIGHT_NUMBER'])\n",
    "df.drop('Arrival_delay_length_x_x_x_y', axis=1, inplace=True)"
   ]
  },
  {
   "cell_type": "markdown",
   "metadata": {},
   "source": [
    "<img src=\"img/lin.jpg\">"
   ]
  },
  {
   "cell_type": "markdown",
   "metadata": {},
   "source": [
    "# <span style=\"color:#ffad01\">6. Predictor: <span style=\"color:#004577\">Origin Airport."
   ]
  },
  {
   "cell_type": "code",
   "execution_count": 147,
   "metadata": {
    "collapsed": false
   },
   "outputs": [
    {
     "data": {
      "text/html": [
       "<div>\n",
       "<style scoped>\n",
       "    .dataframe tbody tr th:only-of-type {\n",
       "        vertical-align: middle;\n",
       "    }\n",
       "\n",
       "    .dataframe tbody tr th {\n",
       "        vertical-align: top;\n",
       "    }\n",
       "\n",
       "    .dataframe thead th {\n",
       "        text-align: right;\n",
       "    }\n",
       "</style>\n",
       "<table border=\"1\" class=\"dataframe\">\n",
       "  <thead>\n",
       "    <tr style=\"text-align: right;\">\n",
       "      <th></th>\n",
       "      <th>ORIGIN_AIRPORT</th>\n",
       "      <th>Arrival_delay_length_x_x_x_x</th>\n",
       "    </tr>\n",
       "  </thead>\n",
       "  <tbody>\n",
       "    <tr>\n",
       "      <th>0</th>\n",
       "      <td>ABE</td>\n",
       "      <td>26.324074</td>\n",
       "    </tr>\n",
       "    <tr>\n",
       "      <th>1</th>\n",
       "      <td>ABI</td>\n",
       "      <td>22.759259</td>\n",
       "    </tr>\n",
       "    <tr>\n",
       "      <th>2</th>\n",
       "      <td>ABQ</td>\n",
       "      <td>25.252315</td>\n",
       "    </tr>\n",
       "    <tr>\n",
       "      <th>3</th>\n",
       "      <td>ABR</td>\n",
       "      <td>17.529412</td>\n",
       "    </tr>\n",
       "    <tr>\n",
       "      <th>4</th>\n",
       "      <td>ABY</td>\n",
       "      <td>27.250000</td>\n",
       "    </tr>\n",
       "  </tbody>\n",
       "</table>\n",
       "</div>"
      ],
      "text/plain": [
       "  ORIGIN_AIRPORT  Arrival_delay_length_x_x_x_x\n",
       "0            ABE                     26.324074\n",
       "1            ABI                     22.759259\n",
       "2            ABQ                     25.252315\n",
       "3            ABR                     17.529412\n",
       "4            ABY                     27.250000"
      ]
     },
     "execution_count": 147,
     "metadata": {},
     "output_type": "execute_result"
    }
   ],
   "source": [
    "time_delays_by_origin_airport = df.pivot_table(index='ORIGIN_AIRPORT', values='Arrival_delay_length_x_x_x_x', aggfunc='mean')\n",
    "df_xxx = pd.DataFrame(time_delays_by_origin_airport)\n",
    "df_xxx.reset_index(level=0, inplace=True)\n",
    "df_xxx.head(5)"
   ]
  },
  {
   "cell_type": "code",
   "execution_count": 148,
   "metadata": {
    "collapsed": false
   },
   "outputs": [
    {
     "data": {
      "text/html": [
       "<div>\n",
       "<style scoped>\n",
       "    .dataframe tbody tr th:only-of-type {\n",
       "        vertical-align: middle;\n",
       "    }\n",
       "\n",
       "    .dataframe tbody tr th {\n",
       "        vertical-align: top;\n",
       "    }\n",
       "\n",
       "    .dataframe thead th {\n",
       "        text-align: right;\n",
       "    }\n",
       "</style>\n",
       "<table border=\"1\" class=\"dataframe\">\n",
       "  <thead>\n",
       "    <tr style=\"text-align: right;\">\n",
       "      <th></th>\n",
       "      <th>Arrival_delay_length_x_x_x_x</th>\n",
       "    </tr>\n",
       "  </thead>\n",
       "  <tbody>\n",
       "    <tr>\n",
       "      <th>count</th>\n",
       "      <td>332.000000</td>\n",
       "    </tr>\n",
       "    <tr>\n",
       "      <th>mean</th>\n",
       "      <td>26.511086</td>\n",
       "    </tr>\n",
       "    <tr>\n",
       "      <th>std</th>\n",
       "      <td>6.718321</td>\n",
       "    </tr>\n",
       "    <tr>\n",
       "      <th>min</th>\n",
       "      <td>4.250000</td>\n",
       "    </tr>\n",
       "    <tr>\n",
       "      <th>25%</th>\n",
       "      <td>23.072455</td>\n",
       "    </tr>\n",
       "    <tr>\n",
       "      <th>50%</th>\n",
       "      <td>26.525510</td>\n",
       "    </tr>\n",
       "    <tr>\n",
       "      <th>75%</th>\n",
       "      <td>29.799843</td>\n",
       "    </tr>\n",
       "    <tr>\n",
       "      <th>max</th>\n",
       "      <td>55.500000</td>\n",
       "    </tr>\n",
       "  </tbody>\n",
       "</table>\n",
       "</div>"
      ],
      "text/plain": [
       "       Arrival_delay_length_x_x_x_x\n",
       "count                    332.000000\n",
       "mean                      26.511086\n",
       "std                        6.718321\n",
       "min                        4.250000\n",
       "25%                       23.072455\n",
       "50%                       26.525510\n",
       "75%                       29.799843\n",
       "max                       55.500000"
      ]
     },
     "execution_count": 148,
     "metadata": {},
     "output_type": "execute_result"
    }
   ],
   "source": [
    "df_xxx.describe()"
   ]
  },
  {
   "cell_type": "code",
   "execution_count": 149,
   "metadata": {
    "collapsed": false
   },
   "outputs": [],
   "source": [
    "df_xxx['orig_airport_del_mean'] =  df_xxx['Arrival_delay_length_x_x_x_x'].apply(lambda x: 1 if x > 4 and x <= 14 else int(x))\n",
    "df_xxx['orig_airport_del_mean'] =  df_xxx['orig_airport_del_mean'].apply(lambda x: 2 if x > 14 and x <= 28 else int(x))\n",
    "df_xxx['orig_airport_del_mean'] =  df_xxx['orig_airport_del_mean'].apply(lambda x: 3 if x > 28 and x <= 42 else int(x))\n",
    "df_xxx['orig_airport_del_mean'] =  df_xxx['orig_airport_del_mean'].apply(lambda x: 4 if x > 42 and x <= 56 else int(x))\n",
    "df_xxx['orig_airport_del_mean'] =  df_xxx['orig_airport_del_mean'].apply(lambda x: 1 if x == 14 else int(x))"
   ]
  },
  {
   "cell_type": "code",
   "execution_count": 150,
   "metadata": {
    "collapsed": false
   },
   "outputs": [],
   "source": [
    "df = pd.merge(df,df_xxx, on=['ORIGIN_AIRPORT'])\n",
    "df.drop('Arrival_delay_length_x_x_x_x_y', axis=1, inplace=True)"
   ]
  },
  {
   "cell_type": "markdown",
   "metadata": {},
   "source": [
    "<img src=\"img/lin.jpg\">"
   ]
  },
  {
   "cell_type": "markdown",
   "metadata": {},
   "source": [
    "# <span style=\"color:#ffad01\">7. Predictor: <span style=\"color:#004577\">State Origin."
   ]
  },
  {
   "cell_type": "code",
   "execution_count": 151,
   "metadata": {
    "collapsed": false
   },
   "outputs": [
    {
     "data": {
      "text/html": [
       "<div>\n",
       "<style scoped>\n",
       "    .dataframe tbody tr th:only-of-type {\n",
       "        vertical-align: middle;\n",
       "    }\n",
       "\n",
       "    .dataframe tbody tr th {\n",
       "        vertical-align: top;\n",
       "    }\n",
       "\n",
       "    .dataframe thead th {\n",
       "        text-align: right;\n",
       "    }\n",
       "</style>\n",
       "<table border=\"1\" class=\"dataframe\">\n",
       "  <thead>\n",
       "    <tr style=\"text-align: right;\">\n",
       "      <th></th>\n",
       "      <th>STATE_ORIGIN</th>\n",
       "      <th>Arrival_delay_length_x_x_x_x_x</th>\n",
       "    </tr>\n",
       "  </thead>\n",
       "  <tbody>\n",
       "    <tr>\n",
       "      <th>0</th>\n",
       "      <td>AK</td>\n",
       "      <td>20.383367</td>\n",
       "    </tr>\n",
       "    <tr>\n",
       "      <th>1</th>\n",
       "      <td>AL</td>\n",
       "      <td>25.328217</td>\n",
       "    </tr>\n",
       "    <tr>\n",
       "      <th>2</th>\n",
       "      <td>AR</td>\n",
       "      <td>24.163575</td>\n",
       "    </tr>\n",
       "    <tr>\n",
       "      <th>3</th>\n",
       "      <td>AS</td>\n",
       "      <td>32.000000</td>\n",
       "    </tr>\n",
       "    <tr>\n",
       "      <th>4</th>\n",
       "      <td>AZ</td>\n",
       "      <td>22.231956</td>\n",
       "    </tr>\n",
       "  </tbody>\n",
       "</table>\n",
       "</div>"
      ],
      "text/plain": [
       "  STATE_ORIGIN  Arrival_delay_length_x_x_x_x_x\n",
       "0           AK                       20.383367\n",
       "1           AL                       25.328217\n",
       "2           AR                       24.163575\n",
       "3           AS                       32.000000\n",
       "4           AZ                       22.231956"
      ]
     },
     "execution_count": 151,
     "metadata": {},
     "output_type": "execute_result"
    }
   ],
   "source": [
    "time_delays_by_origin_state = df.pivot_table(index='STATE_ORIGIN', values='Arrival_delay_length_x_x_x_x_x', aggfunc='mean')\n",
    "df_xxx = pd.DataFrame(time_delays_by_origin_state)\n",
    "df_xxx.reset_index(level=0, inplace=True)\n",
    "df_xxx.head(5)"
   ]
  },
  {
   "cell_type": "code",
   "execution_count": 152,
   "metadata": {
    "collapsed": false
   },
   "outputs": [
    {
     "data": {
      "text/html": [
       "<div>\n",
       "<style scoped>\n",
       "    .dataframe tbody tr th:only-of-type {\n",
       "        vertical-align: middle;\n",
       "    }\n",
       "\n",
       "    .dataframe tbody tr th {\n",
       "        vertical-align: top;\n",
       "    }\n",
       "\n",
       "    .dataframe thead th {\n",
       "        text-align: right;\n",
       "    }\n",
       "</style>\n",
       "<table border=\"1\" class=\"dataframe\">\n",
       "  <thead>\n",
       "    <tr style=\"text-align: right;\">\n",
       "      <th></th>\n",
       "      <th>Arrival_delay_length_x_x_x_x_x</th>\n",
       "    </tr>\n",
       "  </thead>\n",
       "  <tbody>\n",
       "    <tr>\n",
       "      <th>count</th>\n",
       "      <td>53.000000</td>\n",
       "    </tr>\n",
       "    <tr>\n",
       "      <th>mean</th>\n",
       "      <td>26.752914</td>\n",
       "    </tr>\n",
       "    <tr>\n",
       "      <th>std</th>\n",
       "      <td>3.260181</td>\n",
       "    </tr>\n",
       "    <tr>\n",
       "      <th>min</th>\n",
       "      <td>16.922903</td>\n",
       "    </tr>\n",
       "    <tr>\n",
       "      <th>25%</th>\n",
       "      <td>24.669903</td>\n",
       "    </tr>\n",
       "    <tr>\n",
       "      <th>50%</th>\n",
       "      <td>26.988328</td>\n",
       "    </tr>\n",
       "    <tr>\n",
       "      <th>75%</th>\n",
       "      <td>28.842249</td>\n",
       "    </tr>\n",
       "    <tr>\n",
       "      <th>max</th>\n",
       "      <td>33.400000</td>\n",
       "    </tr>\n",
       "  </tbody>\n",
       "</table>\n",
       "</div>"
      ],
      "text/plain": [
       "       Arrival_delay_length_x_x_x_x_x\n",
       "count                       53.000000\n",
       "mean                        26.752914\n",
       "std                          3.260181\n",
       "min                         16.922903\n",
       "25%                         24.669903\n",
       "50%                         26.988328\n",
       "75%                         28.842249\n",
       "max                         33.400000"
      ]
     },
     "execution_count": 152,
     "metadata": {},
     "output_type": "execute_result"
    }
   ],
   "source": [
    "df_xxx.describe()"
   ]
  },
  {
   "cell_type": "code",
   "execution_count": 153,
   "metadata": {
    "collapsed": false
   },
   "outputs": [],
   "source": [
    "df_xxx['orig_state_del_mean'] =  df_xxx['Arrival_delay_length_x_x_x_x_x'].apply(lambda x: 1 if x > 16 and x <= 20 else int(x))\n",
    "df_xxx['orig_state_del_mean'] =  df_xxx['orig_state_del_mean'].apply(lambda x: 2 if x > 20 and x <= 24 else int(x))\n",
    "df_xxx['orig_state_del_mean'] =  df_xxx['orig_state_del_mean'].apply(lambda x: 3 if x > 24 and x <= 28 else int(x))\n",
    "df_xxx['orig_state_del_mean'] =  df_xxx['orig_state_del_mean'].apply(lambda x: 4 if x > 28 else int(x))\n",
    "df_xxx['orig_state_del_mean'] =  df_xxx['orig_state_del_mean'].apply(lambda x: 1 if x == 20 else int(x))"
   ]
  },
  {
   "cell_type": "code",
   "execution_count": 154,
   "metadata": {
    "collapsed": true
   },
   "outputs": [],
   "source": [
    "df = pd.merge(df,df_xxx, on=['STATE_ORIGIN'])\n",
    "df.drop('Arrival_delay_length_x_x_x_x_x_y', axis=1, inplace=True)"
   ]
  },
  {
   "cell_type": "markdown",
   "metadata": {},
   "source": [
    "<img src=\"img/lin.jpg\">"
   ]
  },
  {
   "cell_type": "markdown",
   "metadata": {},
   "source": [
    "# <span style=\"color:#ffad01\">8. Predictor: <span style=\"color:#004577\">State Destination."
   ]
  },
  {
   "cell_type": "code",
   "execution_count": 155,
   "metadata": {
    "collapsed": false
   },
   "outputs": [
    {
     "data": {
      "text/html": [
       "<div>\n",
       "<style scoped>\n",
       "    .dataframe tbody tr th:only-of-type {\n",
       "        vertical-align: middle;\n",
       "    }\n",
       "\n",
       "    .dataframe tbody tr th {\n",
       "        vertical-align: top;\n",
       "    }\n",
       "\n",
       "    .dataframe thead th {\n",
       "        text-align: right;\n",
       "    }\n",
       "</style>\n",
       "<table border=\"1\" class=\"dataframe\">\n",
       "  <thead>\n",
       "    <tr style=\"text-align: right;\">\n",
       "      <th></th>\n",
       "      <th>STATE_DESTINATION</th>\n",
       "      <th>Arrival_delay_length_x_x_x_x_x_x</th>\n",
       "    </tr>\n",
       "  </thead>\n",
       "  <tbody>\n",
       "    <tr>\n",
       "      <th>0</th>\n",
       "      <td>AK</td>\n",
       "      <td>18.752535</td>\n",
       "    </tr>\n",
       "    <tr>\n",
       "      <th>1</th>\n",
       "      <td>AL</td>\n",
       "      <td>27.652031</td>\n",
       "    </tr>\n",
       "    <tr>\n",
       "      <th>2</th>\n",
       "      <td>AR</td>\n",
       "      <td>24.995238</td>\n",
       "    </tr>\n",
       "    <tr>\n",
       "      <th>3</th>\n",
       "      <td>AS</td>\n",
       "      <td>16.800000</td>\n",
       "    </tr>\n",
       "    <tr>\n",
       "      <th>4</th>\n",
       "      <td>AZ</td>\n",
       "      <td>26.341090</td>\n",
       "    </tr>\n",
       "  </tbody>\n",
       "</table>\n",
       "</div>"
      ],
      "text/plain": [
       "  STATE_DESTINATION  Arrival_delay_length_x_x_x_x_x_x\n",
       "0                AK                         18.752535\n",
       "1                AL                         27.652031\n",
       "2                AR                         24.995238\n",
       "3                AS                         16.800000\n",
       "4                AZ                         26.341090"
      ]
     },
     "execution_count": 155,
     "metadata": {},
     "output_type": "execute_result"
    }
   ],
   "source": [
    "time_delays_by_dest_state = df.pivot_table(index='STATE_DESTINATION', values='Arrival_delay_length_x_x_x_x_x_x', aggfunc='mean')\n",
    "df_xxx = pd.DataFrame(time_delays_by_dest_state)\n",
    "df_xxx.reset_index(level=0, inplace=True)\n",
    "df_xxx.head(5)"
   ]
  },
  {
   "cell_type": "code",
   "execution_count": 156,
   "metadata": {
    "collapsed": false
   },
   "outputs": [
    {
     "data": {
      "text/html": [
       "<div>\n",
       "<style scoped>\n",
       "    .dataframe tbody tr th:only-of-type {\n",
       "        vertical-align: middle;\n",
       "    }\n",
       "\n",
       "    .dataframe tbody tr th {\n",
       "        vertical-align: top;\n",
       "    }\n",
       "\n",
       "    .dataframe thead th {\n",
       "        text-align: right;\n",
       "    }\n",
       "</style>\n",
       "<table border=\"1\" class=\"dataframe\">\n",
       "  <thead>\n",
       "    <tr style=\"text-align: right;\">\n",
       "      <th></th>\n",
       "      <th>Arrival_delay_length_x_x_x_x_x_x</th>\n",
       "    </tr>\n",
       "  </thead>\n",
       "  <tbody>\n",
       "    <tr>\n",
       "      <th>count</th>\n",
       "      <td>53.000000</td>\n",
       "    </tr>\n",
       "    <tr>\n",
       "      <th>mean</th>\n",
       "      <td>25.842684</td>\n",
       "    </tr>\n",
       "    <tr>\n",
       "      <th>std</th>\n",
       "      <td>3.387999</td>\n",
       "    </tr>\n",
       "    <tr>\n",
       "      <th>min</th>\n",
       "      <td>15.977548</td>\n",
       "    </tr>\n",
       "    <tr>\n",
       "      <th>25%</th>\n",
       "      <td>24.492267</td>\n",
       "    </tr>\n",
       "    <tr>\n",
       "      <th>50%</th>\n",
       "      <td>26.169697</td>\n",
       "    </tr>\n",
       "    <tr>\n",
       "      <th>75%</th>\n",
       "      <td>27.652031</td>\n",
       "    </tr>\n",
       "    <tr>\n",
       "      <th>max</th>\n",
       "      <td>32.274831</td>\n",
       "    </tr>\n",
       "  </tbody>\n",
       "</table>\n",
       "</div>"
      ],
      "text/plain": [
       "       Arrival_delay_length_x_x_x_x_x_x\n",
       "count                         53.000000\n",
       "mean                          25.842684\n",
       "std                            3.387999\n",
       "min                           15.977548\n",
       "25%                           24.492267\n",
       "50%                           26.169697\n",
       "75%                           27.652031\n",
       "max                           32.274831"
      ]
     },
     "execution_count": 156,
     "metadata": {},
     "output_type": "execute_result"
    }
   ],
   "source": [
    "df_xxx.describe()"
   ]
  },
  {
   "cell_type": "code",
   "execution_count": 157,
   "metadata": {
    "collapsed": true
   },
   "outputs": [],
   "source": [
    "df_xxx['dest_state_del_mean'] =  df_xxx['Arrival_delay_length_x_x_x_x_x_x'].apply(lambda x: 1 if x > 15 and x <= 20 else int(x))\n",
    "df_xxx['dest_state_del_mean'] =  df_xxx['dest_state_del_mean'].apply(lambda x: 2 if x > 20 and x <= 25 else int(x))\n",
    "df_xxx['dest_state_del_mean'] =  df_xxx['dest_state_del_mean'].apply(lambda x: 3 if x > 25 and x <= 30 else int(x))\n",
    "df_xxx['dest_state_del_mean'] =  df_xxx['dest_state_del_mean'].apply(lambda x: 4 if x > 30 else int(x))\n",
    "df_xxx['dest_state_del_mean'] =  df_xxx['dest_state_del_mean'].apply(lambda x: 1 if x == 20 else int(x))"
   ]
  },
  {
   "cell_type": "code",
   "execution_count": 158,
   "metadata": {
    "collapsed": true
   },
   "outputs": [],
   "source": [
    "df = pd.merge(df,df_xxx, on=['STATE_DESTINATION'])\n",
    "df.drop('Arrival_delay_length_x_x_x_x_x_x_y', axis=1, inplace=True)"
   ]
  },
  {
   "cell_type": "markdown",
   "metadata": {},
   "source": [
    "<img src=\"img/lin.jpg\">"
   ]
  },
  {
   "cell_type": "markdown",
   "metadata": {},
   "source": [
    "# <span style=\"color:#ffad01\">9. Predictor: <span style=\"color:#004577\">Departure Time."
   ]
  },
  {
   "cell_type": "markdown",
   "metadata": {},
   "source": [
    "<span style=\"color:#be0119\"><b>\n",
    "--- comment ---</b>\n",
    "\n",
    "<span style=\"color:#1e488f\">I will take scheduled departure hours and keep it as it is, each hour as a category. "
   ]
  },
  {
   "cell_type": "code",
   "execution_count": 159,
   "metadata": {
    "collapsed": false
   },
   "outputs": [],
   "source": [
    "df.SCHEDULED_DEPARTURE = pd.to_datetime(df.SCHEDULED_DEPARTURE)\n",
    "df['sched_hours_depart'] = df.SCHEDULED_DEPARTURE.map(lambda x: x.hour)\n",
    "df['sched_hours_depart'] = df['sched_hours_depart'].apply(lambda x: 24 if x == 0 else x)"
   ]
  },
  {
   "cell_type": "code",
   "execution_count": 160,
   "metadata": {
    "collapsed": false
   },
   "outputs": [
    {
     "data": {
      "text/html": [
       "<div>\n",
       "<style scoped>\n",
       "    .dataframe tbody tr th:only-of-type {\n",
       "        vertical-align: middle;\n",
       "    }\n",
       "\n",
       "    .dataframe tbody tr th {\n",
       "        vertical-align: top;\n",
       "    }\n",
       "\n",
       "    .dataframe thead th {\n",
       "        text-align: right;\n",
       "    }\n",
       "</style>\n",
       "<table border=\"1\" class=\"dataframe\">\n",
       "  <thead>\n",
       "    <tr style=\"text-align: right;\">\n",
       "      <th></th>\n",
       "      <th>DAY_OF_WEEK</th>\n",
       "      <th>AIRLINE_CODE</th>\n",
       "      <th>TAIL_NUMBER</th>\n",
       "      <th>FLIGHT_NUMBER</th>\n",
       "      <th>ORIGIN_AIRPORT</th>\n",
       "      <th>CITY_ORIGIN</th>\n",
       "      <th>STATE_ORIGIN</th>\n",
       "      <th>DESTINATION_AIRPORT</th>\n",
       "      <th>STATE_DESTINATION</th>\n",
       "      <th>SCHEDULED_DEPARTURE</th>\n",
       "      <th>...</th>\n",
       "      <th>LATE_AIRCRAFT_DELAY</th>\n",
       "      <th>Arrival_delay_length_x_x_x_x_x_x_x</th>\n",
       "      <th>days_length_del</th>\n",
       "      <th>airline_del_mean</th>\n",
       "      <th>tail_del_mean</th>\n",
       "      <th>flight_del_mean</th>\n",
       "      <th>orig_airport_del_mean</th>\n",
       "      <th>orig_state_del_mean</th>\n",
       "      <th>dest_state_del_mean</th>\n",
       "      <th>sched_hours_depart</th>\n",
       "    </tr>\n",
       "  </thead>\n",
       "  <tbody>\n",
       "    <tr>\n",
       "      <th>0</th>\n",
       "      <td>1</td>\n",
       "      <td>EV</td>\n",
       "      <td>N614QX</td>\n",
       "      <td>2815</td>\n",
       "      <td>BTR</td>\n",
       "      <td>Baton Rouge</td>\n",
       "      <td>LA</td>\n",
       "      <td>DFW</td>\n",
       "      <td>TX</td>\n",
       "      <td>2018-01-08 09:43:00</td>\n",
       "      <td>...</td>\n",
       "      <td>61.0</td>\n",
       "      <td>61</td>\n",
       "      <td>7.0</td>\n",
       "      <td>4</td>\n",
       "      <td>2</td>\n",
       "      <td>1</td>\n",
       "      <td>2</td>\n",
       "      <td>3</td>\n",
       "      <td>2</td>\n",
       "      <td>9</td>\n",
       "    </tr>\n",
       "    <tr>\n",
       "      <th>1</th>\n",
       "      <td>2</td>\n",
       "      <td>EV</td>\n",
       "      <td>N611QX</td>\n",
       "      <td>2815</td>\n",
       "      <td>BTR</td>\n",
       "      <td>Baton Rouge</td>\n",
       "      <td>LA</td>\n",
       "      <td>DFW</td>\n",
       "      <td>TX</td>\n",
       "      <td>2018-01-16 09:43:00</td>\n",
       "      <td>...</td>\n",
       "      <td>0.0</td>\n",
       "      <td>3</td>\n",
       "      <td>6.0</td>\n",
       "      <td>4</td>\n",
       "      <td>2</td>\n",
       "      <td>1</td>\n",
       "      <td>2</td>\n",
       "      <td>3</td>\n",
       "      <td>2</td>\n",
       "      <td>9</td>\n",
       "    </tr>\n",
       "    <tr>\n",
       "      <th>2</th>\n",
       "      <td>1</td>\n",
       "      <td>EV</td>\n",
       "      <td>N614QX</td>\n",
       "      <td>2856</td>\n",
       "      <td>BTR</td>\n",
       "      <td>Baton Rouge</td>\n",
       "      <td>LA</td>\n",
       "      <td>DFW</td>\n",
       "      <td>TX</td>\n",
       "      <td>2018-01-29 08:05:00</td>\n",
       "      <td>...</td>\n",
       "      <td>0.0</td>\n",
       "      <td>117</td>\n",
       "      <td>7.0</td>\n",
       "      <td>4</td>\n",
       "      <td>2</td>\n",
       "      <td>1</td>\n",
       "      <td>2</td>\n",
       "      <td>3</td>\n",
       "      <td>2</td>\n",
       "      <td>8</td>\n",
       "    </tr>\n",
       "    <tr>\n",
       "      <th>3</th>\n",
       "      <td>2</td>\n",
       "      <td>EV</td>\n",
       "      <td>N615QX</td>\n",
       "      <td>2856</td>\n",
       "      <td>BTR</td>\n",
       "      <td>Baton Rouge</td>\n",
       "      <td>LA</td>\n",
       "      <td>DFW</td>\n",
       "      <td>TX</td>\n",
       "      <td>2018-01-09 08:05:00</td>\n",
       "      <td>...</td>\n",
       "      <td>0.0</td>\n",
       "      <td>13</td>\n",
       "      <td>6.0</td>\n",
       "      <td>4</td>\n",
       "      <td>1</td>\n",
       "      <td>1</td>\n",
       "      <td>2</td>\n",
       "      <td>3</td>\n",
       "      <td>2</td>\n",
       "      <td>8</td>\n",
       "    </tr>\n",
       "  </tbody>\n",
       "</table>\n",
       "<p>4 rows × 30 columns</p>\n",
       "</div>"
      ],
      "text/plain": [
       "   DAY_OF_WEEK AIRLINE_CODE TAIL_NUMBER  FLIGHT_NUMBER ORIGIN_AIRPORT  \\\n",
       "0            1           EV      N614QX           2815            BTR   \n",
       "1            2           EV      N611QX           2815            BTR   \n",
       "2            1           EV      N614QX           2856            BTR   \n",
       "3            2           EV      N615QX           2856            BTR   \n",
       "\n",
       "   CITY_ORIGIN STATE_ORIGIN DESTINATION_AIRPORT STATE_DESTINATION  \\\n",
       "0  Baton Rouge           LA                 DFW                TX   \n",
       "1  Baton Rouge           LA                 DFW                TX   \n",
       "2  Baton Rouge           LA                 DFW                TX   \n",
       "3  Baton Rouge           LA                 DFW                TX   \n",
       "\n",
       "  SCHEDULED_DEPARTURE         ...          LATE_AIRCRAFT_DELAY  \\\n",
       "0 2018-01-08 09:43:00         ...                         61.0   \n",
       "1 2018-01-16 09:43:00         ...                          0.0   \n",
       "2 2018-01-29 08:05:00         ...                          0.0   \n",
       "3 2018-01-09 08:05:00         ...                          0.0   \n",
       "\n",
       "   Arrival_delay_length_x_x_x_x_x_x_x days_length_del  airline_del_mean  \\\n",
       "0                                  61             7.0                 4   \n",
       "1                                   3             6.0                 4   \n",
       "2                                 117             7.0                 4   \n",
       "3                                  13             6.0                 4   \n",
       "\n",
       "   tail_del_mean  flight_del_mean  orig_airport_del_mean  orig_state_del_mean  \\\n",
       "0              2                1                      2                    3   \n",
       "1              2                1                      2                    3   \n",
       "2              2                1                      2                    3   \n",
       "3              1                1                      2                    3   \n",
       "\n",
       "   dest_state_del_mean  sched_hours_depart  \n",
       "0                    2                   9  \n",
       "1                    2                   9  \n",
       "2                    2                   8  \n",
       "3                    2                   8  \n",
       "\n",
       "[4 rows x 30 columns]"
      ]
     },
     "execution_count": 160,
     "metadata": {},
     "output_type": "execute_result"
    }
   ],
   "source": [
    "df.head(4)"
   ]
  },
  {
   "cell_type": "markdown",
   "metadata": {},
   "source": [
    "<img src=\"img/lin.jpg\">"
   ]
  },
  {
   "cell_type": "markdown",
   "metadata": {},
   "source": [
    "# <span style=\"color:#ffad01\">10. Predictor: <span style=\"color:#004577\">Arrival Time."
   ]
  },
  {
   "cell_type": "code",
   "execution_count": 161,
   "metadata": {
    "collapsed": false
   },
   "outputs": [],
   "source": [
    "df.SCHEDULED_ARRIVAL = pd.to_datetime(df.SCHEDULED_ARRIVAL)\n",
    "df['sched_hours_arrival'] = df.SCHEDULED_ARRIVAL.map(lambda x: x.hour)\n",
    "df['sched_hours_arrival'] = df['sched_hours_arrival'].apply(lambda x: 24 if x == 0 else x)"
   ]
  },
  {
   "cell_type": "code",
   "execution_count": 162,
   "metadata": {
    "collapsed": false
   },
   "outputs": [
    {
     "data": {
      "text/plain": [
       "<matplotlib.axes._subplots.AxesSubplot at 0x1201886a0>"
      ]
     },
     "execution_count": 162,
     "metadata": {},
     "output_type": "execute_result"
    },
    {
     "data": {
      "image/png": "[encoded data removed]",
      "text/plain": [
       "<Figure size 432x288 with 1 Axes>"
      ]
     },
     "metadata": {
      "image/png": {
       "height": 262,
       "width": 390
      }
     },
     "output_type": "display_data"
    }
   ],
   "source": [
    "sns.regplot(df.sched_hours_arrival, df.Arrival_delay_length_x_x_x_x_x_x_x)"
   ]
  },
  {
   "cell_type": "code",
   "execution_count": 163,
   "metadata": {
    "collapsed": false
   },
   "outputs": [
    {
     "data": {
      "text/html": [
       "<div>\n",
       "<style scoped>\n",
       "    .dataframe tbody tr th:only-of-type {\n",
       "        vertical-align: middle;\n",
       "    }\n",
       "\n",
       "    .dataframe tbody tr th {\n",
       "        vertical-align: top;\n",
       "    }\n",
       "\n",
       "    .dataframe thead th {\n",
       "        text-align: right;\n",
       "    }\n",
       "</style>\n",
       "<table border=\"1\" class=\"dataframe\">\n",
       "  <thead>\n",
       "    <tr style=\"text-align: right;\">\n",
       "      <th></th>\n",
       "      <th>sched_hours_arrival</th>\n",
       "      <th>Arrival_delay_length_x_x_x_x_x_x_x</th>\n",
       "    </tr>\n",
       "  </thead>\n",
       "  <tbody>\n",
       "    <tr>\n",
       "      <th>sched_hours_arrival</th>\n",
       "      <td>1.000000</td>\n",
       "      <td>0.069981</td>\n",
       "    </tr>\n",
       "    <tr>\n",
       "      <th>Arrival_delay_length_x_x_x_x_x_x_x</th>\n",
       "      <td>0.069981</td>\n",
       "      <td>1.000000</td>\n",
       "    </tr>\n",
       "  </tbody>\n",
       "</table>\n",
       "</div>"
      ],
      "text/plain": [
       "                                    sched_hours_arrival  \\\n",
       "sched_hours_arrival                            1.000000   \n",
       "Arrival_delay_length_x_x_x_x_x_x_x             0.069981   \n",
       "\n",
       "                                    Arrival_delay_length_x_x_x_x_x_x_x  \n",
       "sched_hours_arrival                                           0.069981  \n",
       "Arrival_delay_length_x_x_x_x_x_x_x                            1.000000  "
      ]
     },
     "execution_count": 163,
     "metadata": {},
     "output_type": "execute_result"
    }
   ],
   "source": [
    "# Chech corelation between categorical hours on arrival vs arrival delay length\n",
    "# ________________________________________________________\n",
    "df[['sched_hours_arrival', 'Arrival_delay_length_x_x_x_x_x_x_x']].corr()"
   ]
  },
  {
   "cell_type": "markdown",
   "metadata": {},
   "source": [
    "<img src=\"img/lin.jpg\">"
   ]
  },
  {
   "cell_type": "markdown",
   "metadata": {},
   "source": [
    "# <span style=\"color:#ffad01\">11. Predictor: <span style=\"color:#004577\">Scheduled Length of Flight Time."
   ]
  },
  {
   "cell_type": "markdown",
   "metadata": {},
   "source": [
    "<span style=\"color:#be0119\"><b>\n",
    "--- comment ---</b>\n",
    "\n",
    "<span style=\"color:#1e488f\">As it is continuous variable I will keep it as it is."
   ]
  },
  {
   "cell_type": "code",
   "execution_count": 164,
   "metadata": {
    "collapsed": false
   },
   "outputs": [
    {
     "data": {
      "text/html": [
       "<div>\n",
       "<style scoped>\n",
       "    .dataframe tbody tr th:only-of-type {\n",
       "        vertical-align: middle;\n",
       "    }\n",
       "\n",
       "    .dataframe tbody tr th {\n",
       "        vertical-align: top;\n",
       "    }\n",
       "\n",
       "    .dataframe thead th {\n",
       "        text-align: right;\n",
       "    }\n",
       "</style>\n",
       "<table border=\"1\" class=\"dataframe\">\n",
       "  <thead>\n",
       "    <tr style=\"text-align: right;\">\n",
       "      <th></th>\n",
       "      <th>DAY_OF_WEEK</th>\n",
       "      <th>AIRLINE_CODE</th>\n",
       "      <th>TAIL_NUMBER</th>\n",
       "      <th>FLIGHT_NUMBER</th>\n",
       "      <th>ORIGIN_AIRPORT</th>\n",
       "      <th>CITY_ORIGIN</th>\n",
       "      <th>STATE_ORIGIN</th>\n",
       "      <th>DESTINATION_AIRPORT</th>\n",
       "      <th>STATE_DESTINATION</th>\n",
       "      <th>SCHEDULED_DEPARTURE</th>\n",
       "      <th>...</th>\n",
       "      <th>days_length_del</th>\n",
       "      <th>airline_del_mean</th>\n",
       "      <th>tail_del_mean</th>\n",
       "      <th>flight_del_mean</th>\n",
       "      <th>orig_airport_del_mean</th>\n",
       "      <th>orig_state_del_mean</th>\n",
       "      <th>dest_state_del_mean</th>\n",
       "      <th>sched_hours_depart</th>\n",
       "      <th>sched_hours_arrival</th>\n",
       "      <th>sched_time_duration</th>\n",
       "    </tr>\n",
       "  </thead>\n",
       "  <tbody>\n",
       "    <tr>\n",
       "      <th>0</th>\n",
       "      <td>1</td>\n",
       "      <td>EV</td>\n",
       "      <td>N614QX</td>\n",
       "      <td>2815</td>\n",
       "      <td>BTR</td>\n",
       "      <td>Baton Rouge</td>\n",
       "      <td>LA</td>\n",
       "      <td>DFW</td>\n",
       "      <td>TX</td>\n",
       "      <td>2018-01-08 09:43:00</td>\n",
       "      <td>...</td>\n",
       "      <td>7.0</td>\n",
       "      <td>4</td>\n",
       "      <td>2</td>\n",
       "      <td>1</td>\n",
       "      <td>2</td>\n",
       "      <td>3</td>\n",
       "      <td>2</td>\n",
       "      <td>9</td>\n",
       "      <td>11</td>\n",
       "      <td>92</td>\n",
       "    </tr>\n",
       "    <tr>\n",
       "      <th>1</th>\n",
       "      <td>2</td>\n",
       "      <td>EV</td>\n",
       "      <td>N611QX</td>\n",
       "      <td>2815</td>\n",
       "      <td>BTR</td>\n",
       "      <td>Baton Rouge</td>\n",
       "      <td>LA</td>\n",
       "      <td>DFW</td>\n",
       "      <td>TX</td>\n",
       "      <td>2018-01-16 09:43:00</td>\n",
       "      <td>...</td>\n",
       "      <td>6.0</td>\n",
       "      <td>4</td>\n",
       "      <td>2</td>\n",
       "      <td>1</td>\n",
       "      <td>2</td>\n",
       "      <td>3</td>\n",
       "      <td>2</td>\n",
       "      <td>9</td>\n",
       "      <td>11</td>\n",
       "      <td>92</td>\n",
       "    </tr>\n",
       "    <tr>\n",
       "      <th>2</th>\n",
       "      <td>1</td>\n",
       "      <td>EV</td>\n",
       "      <td>N614QX</td>\n",
       "      <td>2856</td>\n",
       "      <td>BTR</td>\n",
       "      <td>Baton Rouge</td>\n",
       "      <td>LA</td>\n",
       "      <td>DFW</td>\n",
       "      <td>TX</td>\n",
       "      <td>2018-01-29 08:05:00</td>\n",
       "      <td>...</td>\n",
       "      <td>7.0</td>\n",
       "      <td>4</td>\n",
       "      <td>2</td>\n",
       "      <td>1</td>\n",
       "      <td>2</td>\n",
       "      <td>3</td>\n",
       "      <td>2</td>\n",
       "      <td>8</td>\n",
       "      <td>9</td>\n",
       "      <td>94</td>\n",
       "    </tr>\n",
       "  </tbody>\n",
       "</table>\n",
       "<p>3 rows × 32 columns</p>\n",
       "</div>"
      ],
      "text/plain": [
       "   DAY_OF_WEEK AIRLINE_CODE TAIL_NUMBER  FLIGHT_NUMBER ORIGIN_AIRPORT  \\\n",
       "0            1           EV      N614QX           2815            BTR   \n",
       "1            2           EV      N611QX           2815            BTR   \n",
       "2            1           EV      N614QX           2856            BTR   \n",
       "\n",
       "   CITY_ORIGIN STATE_ORIGIN DESTINATION_AIRPORT STATE_DESTINATION  \\\n",
       "0  Baton Rouge           LA                 DFW                TX   \n",
       "1  Baton Rouge           LA                 DFW                TX   \n",
       "2  Baton Rouge           LA                 DFW                TX   \n",
       "\n",
       "  SCHEDULED_DEPARTURE         ...           days_length_del  airline_del_mean  \\\n",
       "0 2018-01-08 09:43:00         ...                       7.0                 4   \n",
       "1 2018-01-16 09:43:00         ...                       6.0                 4   \n",
       "2 2018-01-29 08:05:00         ...                       7.0                 4   \n",
       "\n",
       "  tail_del_mean  flight_del_mean  orig_airport_del_mean  orig_state_del_mean  \\\n",
       "0             2                1                      2                    3   \n",
       "1             2                1                      2                    3   \n",
       "2             2                1                      2                    3   \n",
       "\n",
       "   dest_state_del_mean  sched_hours_depart  sched_hours_arrival  \\\n",
       "0                    2                   9                   11   \n",
       "1                    2                   9                   11   \n",
       "2                    2                   8                    9   \n",
       "\n",
       "   sched_time_duration  \n",
       "0                   92  \n",
       "1                   92  \n",
       "2                   94  \n",
       "\n",
       "[3 rows x 32 columns]"
      ]
     },
     "execution_count": 164,
     "metadata": {},
     "output_type": "execute_result"
    }
   ],
   "source": [
    "df['sched_time_duration'] = df['SCHEDULED_TIME'].apply(lambda x: int(x) )\n",
    "df.head(3)"
   ]
  },
  {
   "cell_type": "markdown",
   "metadata": {},
   "source": [
    "<img src=\"img/lin.jpg\">"
   ]
  },
  {
   "cell_type": "markdown",
   "metadata": {},
   "source": [
    "# <span style=\"color:#ffad01\">12. Predictor: <span style=\"color:#004577\">Distance of the Flight."
   ]
  },
  {
   "cell_type": "code",
   "execution_count": 165,
   "metadata": {
    "collapsed": false
   },
   "outputs": [
    {
     "data": {
      "text/html": [
       "<div>\n",
       "<style scoped>\n",
       "    .dataframe tbody tr th:only-of-type {\n",
       "        vertical-align: middle;\n",
       "    }\n",
       "\n",
       "    .dataframe tbody tr th {\n",
       "        vertical-align: top;\n",
       "    }\n",
       "\n",
       "    .dataframe thead th {\n",
       "        text-align: right;\n",
       "    }\n",
       "</style>\n",
       "<table border=\"1\" class=\"dataframe\">\n",
       "  <thead>\n",
       "    <tr style=\"text-align: right;\">\n",
       "      <th></th>\n",
       "      <th>DISTANCE</th>\n",
       "      <th>Arrival_delay_length_x_x_x_x_x_x_x</th>\n",
       "    </tr>\n",
       "  </thead>\n",
       "  <tbody>\n",
       "    <tr>\n",
       "      <th>0</th>\n",
       "      <td>31.0</td>\n",
       "      <td>19.416667</td>\n",
       "    </tr>\n",
       "    <tr>\n",
       "      <th>1</th>\n",
       "      <td>66.0</td>\n",
       "      <td>45.348837</td>\n",
       "    </tr>\n",
       "    <tr>\n",
       "      <th>2</th>\n",
       "      <td>67.0</td>\n",
       "      <td>36.485380</td>\n",
       "    </tr>\n",
       "    <tr>\n",
       "      <th>3</th>\n",
       "      <td>68.0</td>\n",
       "      <td>48.166667</td>\n",
       "    </tr>\n",
       "    <tr>\n",
       "      <th>4</th>\n",
       "      <td>69.0</td>\n",
       "      <td>35.823529</td>\n",
       "    </tr>\n",
       "  </tbody>\n",
       "</table>\n",
       "</div>"
      ],
      "text/plain": [
       "   DISTANCE  Arrival_delay_length_x_x_x_x_x_x_x\n",
       "0      31.0                           19.416667\n",
       "1      66.0                           45.348837\n",
       "2      67.0                           36.485380\n",
       "3      68.0                           48.166667\n",
       "4      69.0                           35.823529"
      ]
     },
     "execution_count": 165,
     "metadata": {},
     "output_type": "execute_result"
    }
   ],
   "source": [
    "time_delays_by_distance = df.pivot_table(index='DISTANCE', values='Arrival_delay_length_x_x_x_x_x_x_x', aggfunc='mean')\n",
    "df_xxx = pd.DataFrame(time_delays_by_distance)\n",
    "df_xxx.reset_index(level=0, inplace=True)\n",
    "df_xxx.head(5)"
   ]
  },
  {
   "cell_type": "code",
   "execution_count": 166,
   "metadata": {
    "collapsed": false
   },
   "outputs": [
    {
     "data": {
      "text/html": [
       "<div>\n",
       "<style scoped>\n",
       "    .dataframe tbody tr th:only-of-type {\n",
       "        vertical-align: middle;\n",
       "    }\n",
       "\n",
       "    .dataframe tbody tr th {\n",
       "        vertical-align: top;\n",
       "    }\n",
       "\n",
       "    .dataframe thead th {\n",
       "        text-align: right;\n",
       "    }\n",
       "</style>\n",
       "<table border=\"1\" class=\"dataframe\">\n",
       "  <thead>\n",
       "    <tr style=\"text-align: right;\">\n",
       "      <th></th>\n",
       "      <th>DISTANCE</th>\n",
       "      <th>Arrival_delay_length_x_x_x_x_x_x_x</th>\n",
       "    </tr>\n",
       "  </thead>\n",
       "  <tbody>\n",
       "    <tr>\n",
       "      <th>count</th>\n",
       "      <td>1389.000000</td>\n",
       "      <td>1389.000000</td>\n",
       "    </tr>\n",
       "    <tr>\n",
       "      <th>mean</th>\n",
       "      <td>1054.351332</td>\n",
       "      <td>25.715920</td>\n",
       "    </tr>\n",
       "    <tr>\n",
       "      <th>std</th>\n",
       "      <td>749.952643</td>\n",
       "      <td>7.082676</td>\n",
       "    </tr>\n",
       "    <tr>\n",
       "      <th>min</th>\n",
       "      <td>31.000000</td>\n",
       "      <td>3.666667</td>\n",
       "    </tr>\n",
       "    <tr>\n",
       "      <th>25%</th>\n",
       "      <td>486.000000</td>\n",
       "      <td>21.690141</td>\n",
       "    </tr>\n",
       "    <tr>\n",
       "      <th>50%</th>\n",
       "      <td>901.000000</td>\n",
       "      <td>25.381250</td>\n",
       "    </tr>\n",
       "    <tr>\n",
       "      <th>75%</th>\n",
       "      <td>1447.000000</td>\n",
       "      <td>29.129032</td>\n",
       "    </tr>\n",
       "    <tr>\n",
       "      <th>max</th>\n",
       "      <td>4983.000000</td>\n",
       "      <td>85.500000</td>\n",
       "    </tr>\n",
       "  </tbody>\n",
       "</table>\n",
       "</div>"
      ],
      "text/plain": [
       "          DISTANCE  Arrival_delay_length_x_x_x_x_x_x_x\n",
       "count  1389.000000                         1389.000000\n",
       "mean   1054.351332                           25.715920\n",
       "std     749.952643                            7.082676\n",
       "min      31.000000                            3.666667\n",
       "25%     486.000000                           21.690141\n",
       "50%     901.000000                           25.381250\n",
       "75%    1447.000000                           29.129032\n",
       "max    4983.000000                           85.500000"
      ]
     },
     "execution_count": 166,
     "metadata": {},
     "output_type": "execute_result"
    }
   ],
   "source": [
    "df_xxx.describe()"
   ]
  },
  {
   "cell_type": "code",
   "execution_count": 167,
   "metadata": {
    "collapsed": true
   },
   "outputs": [],
   "source": [
    "df_xxx['distance_del_mean'] =  df_xxx['Arrival_delay_length_x_x_x_x_x_x_x'].apply(lambda x: 1 if x > 3 and x <= 24 else int(x))\n",
    "df_xxx['distance_del_mean'] =  df_xxx['distance_del_mean'].apply(lambda x: 2 if x > 24 and x <= 45 else int(x))\n",
    "df_xxx['distance_del_mean'] =  df_xxx['distance_del_mean'].apply(lambda x: 3 if x > 45 and x <= 66 else int(x))\n",
    "df_xxx['distance_del_mean'] =  df_xxx['distance_del_mean'].apply(lambda x: 4 if x > 66 else int(x))\n",
    "df_xxx['distance_del_mean'] =  df_xxx['distance_del_mean'].apply(lambda x: 1 if x == 24 else int(x))"
   ]
  },
  {
   "cell_type": "code",
   "execution_count": 168,
   "metadata": {
    "collapsed": true
   },
   "outputs": [],
   "source": [
    "df = pd.merge(df,df_xxx, on=['DISTANCE'])\n",
    "df.drop('Arrival_delay_length_x_x_x_x_x_x_x_y', axis=1, inplace=True)"
   ]
  },
  {
   "cell_type": "code",
   "execution_count": 169,
   "metadata": {
    "collapsed": false
   },
   "outputs": [
    {
     "data": {
      "text/html": [
       "<div>\n",
       "<style scoped>\n",
       "    .dataframe tbody tr th:only-of-type {\n",
       "        vertical-align: middle;\n",
       "    }\n",
       "\n",
       "    .dataframe tbody tr th {\n",
       "        vertical-align: top;\n",
       "    }\n",
       "\n",
       "    .dataframe thead th {\n",
       "        text-align: right;\n",
       "    }\n",
       "</style>\n",
       "<table border=\"1\" class=\"dataframe\">\n",
       "  <thead>\n",
       "    <tr style=\"text-align: right;\">\n",
       "      <th></th>\n",
       "      <th>DAY_OF_WEEK</th>\n",
       "      <th>AIRLINE_CODE</th>\n",
       "      <th>TAIL_NUMBER</th>\n",
       "      <th>FLIGHT_NUMBER</th>\n",
       "      <th>ORIGIN_AIRPORT</th>\n",
       "      <th>CITY_ORIGIN</th>\n",
       "      <th>STATE_ORIGIN</th>\n",
       "      <th>DESTINATION_AIRPORT</th>\n",
       "      <th>STATE_DESTINATION</th>\n",
       "      <th>SCHEDULED_DEPARTURE</th>\n",
       "      <th>...</th>\n",
       "      <th>airline_del_mean</th>\n",
       "      <th>tail_del_mean</th>\n",
       "      <th>flight_del_mean</th>\n",
       "      <th>orig_airport_del_mean</th>\n",
       "      <th>orig_state_del_mean</th>\n",
       "      <th>dest_state_del_mean</th>\n",
       "      <th>sched_hours_depart</th>\n",
       "      <th>sched_hours_arrival</th>\n",
       "      <th>sched_time_duration</th>\n",
       "      <th>distance_del_mean</th>\n",
       "    </tr>\n",
       "  </thead>\n",
       "  <tbody>\n",
       "    <tr>\n",
       "      <th>0</th>\n",
       "      <td>1</td>\n",
       "      <td>EV</td>\n",
       "      <td>N614QX</td>\n",
       "      <td>2815</td>\n",
       "      <td>BTR</td>\n",
       "      <td>Baton Rouge</td>\n",
       "      <td>LA</td>\n",
       "      <td>DFW</td>\n",
       "      <td>TX</td>\n",
       "      <td>2018-01-08 09:43:00</td>\n",
       "      <td>...</td>\n",
       "      <td>4</td>\n",
       "      <td>2</td>\n",
       "      <td>1</td>\n",
       "      <td>2</td>\n",
       "      <td>3</td>\n",
       "      <td>2</td>\n",
       "      <td>9</td>\n",
       "      <td>11</td>\n",
       "      <td>92</td>\n",
       "      <td>2</td>\n",
       "    </tr>\n",
       "    <tr>\n",
       "      <th>1</th>\n",
       "      <td>2</td>\n",
       "      <td>EV</td>\n",
       "      <td>N611QX</td>\n",
       "      <td>2815</td>\n",
       "      <td>BTR</td>\n",
       "      <td>Baton Rouge</td>\n",
       "      <td>LA</td>\n",
       "      <td>DFW</td>\n",
       "      <td>TX</td>\n",
       "      <td>2018-01-16 09:43:00</td>\n",
       "      <td>...</td>\n",
       "      <td>4</td>\n",
       "      <td>2</td>\n",
       "      <td>1</td>\n",
       "      <td>2</td>\n",
       "      <td>3</td>\n",
       "      <td>2</td>\n",
       "      <td>9</td>\n",
       "      <td>11</td>\n",
       "      <td>92</td>\n",
       "      <td>2</td>\n",
       "    </tr>\n",
       "  </tbody>\n",
       "</table>\n",
       "<p>2 rows × 33 columns</p>\n",
       "</div>"
      ],
      "text/plain": [
       "   DAY_OF_WEEK AIRLINE_CODE TAIL_NUMBER  FLIGHT_NUMBER ORIGIN_AIRPORT  \\\n",
       "0            1           EV      N614QX           2815            BTR   \n",
       "1            2           EV      N611QX           2815            BTR   \n",
       "\n",
       "   CITY_ORIGIN STATE_ORIGIN DESTINATION_AIRPORT STATE_DESTINATION  \\\n",
       "0  Baton Rouge           LA                 DFW                TX   \n",
       "1  Baton Rouge           LA                 DFW                TX   \n",
       "\n",
       "  SCHEDULED_DEPARTURE        ...          airline_del_mean  tail_del_mean  \\\n",
       "0 2018-01-08 09:43:00        ...                         4              2   \n",
       "1 2018-01-16 09:43:00        ...                         4              2   \n",
       "\n",
       "  flight_del_mean  orig_airport_del_mean  orig_state_del_mean  \\\n",
       "0               1                      2                    3   \n",
       "1               1                      2                    3   \n",
       "\n",
       "   dest_state_del_mean  sched_hours_depart  sched_hours_arrival  \\\n",
       "0                    2                   9                   11   \n",
       "1                    2                   9                   11   \n",
       "\n",
       "   sched_time_duration  distance_del_mean  \n",
       "0                   92                  2  \n",
       "1                   92                  2  \n",
       "\n",
       "[2 rows x 33 columns]"
      ]
     },
     "execution_count": 169,
     "metadata": {},
     "output_type": "execute_result"
    }
   ],
   "source": [
    "df.head(2)"
   ]
  },
  {
   "cell_type": "markdown",
   "metadata": {},
   "source": [
    "<img src=\"img/lin.jpg\">"
   ]
  },
  {
   "cell_type": "markdown",
   "metadata": {},
   "source": [
    "# <span style=\"color:#004577\">Part D. Categorical Variables into Dummies. "
   ]
  },
  {
   "cell_type": "markdown",
   "metadata": {},
   "source": [
    "<span style=\"color:#be0119\"><b>\n",
    "--- comment ---</b>\n",
    "\n",
    "<span style=\"color:#1e488f\">Now all my categorical variables are ready. I do dummies features from them, and delete categorical variables as I dont need them anymore. I use get_dummies method from pandas library to get dummies. Also I set prefix to easy understanding later where this features come from."
   ]
  },
  {
   "cell_type": "code",
   "execution_count": 170,
   "metadata": {
    "collapsed": false
   },
   "outputs": [
    {
     "data": {
      "text/html": [
       "<div>\n",
       "<style scoped>\n",
       "    .dataframe tbody tr th:only-of-type {\n",
       "        vertical-align: middle;\n",
       "    }\n",
       "\n",
       "    .dataframe tbody tr th {\n",
       "        vertical-align: top;\n",
       "    }\n",
       "\n",
       "    .dataframe thead th {\n",
       "        text-align: right;\n",
       "    }\n",
       "</style>\n",
       "<table border=\"1\" class=\"dataframe\">\n",
       "  <thead>\n",
       "    <tr style=\"text-align: right;\">\n",
       "      <th></th>\n",
       "      <th>DAY_OF_WEEK</th>\n",
       "      <th>AIRLINE_CODE</th>\n",
       "      <th>TAIL_NUMBER</th>\n",
       "      <th>FLIGHT_NUMBER</th>\n",
       "      <th>ORIGIN_AIRPORT</th>\n",
       "      <th>CITY_ORIGIN</th>\n",
       "      <th>STATE_ORIGIN</th>\n",
       "      <th>DESTINATION_AIRPORT</th>\n",
       "      <th>STATE_DESTINATION</th>\n",
       "      <th>SCHEDULED_DEPARTURE</th>\n",
       "      <th>...</th>\n",
       "      <th>time_arr_group_18</th>\n",
       "      <th>time_arr_group_19</th>\n",
       "      <th>time_arr_group_20</th>\n",
       "      <th>time_arr_group_21</th>\n",
       "      <th>time_arr_group_22</th>\n",
       "      <th>time_arr_group_23</th>\n",
       "      <th>time_arr_group_24</th>\n",
       "      <th>distanece_group_2</th>\n",
       "      <th>distanece_group_3</th>\n",
       "      <th>distanece_group_4</th>\n",
       "    </tr>\n",
       "  </thead>\n",
       "  <tbody>\n",
       "    <tr>\n",
       "      <th>0</th>\n",
       "      <td>1</td>\n",
       "      <td>EV</td>\n",
       "      <td>N614QX</td>\n",
       "      <td>2815</td>\n",
       "      <td>BTR</td>\n",
       "      <td>Baton Rouge</td>\n",
       "      <td>LA</td>\n",
       "      <td>DFW</td>\n",
       "      <td>TX</td>\n",
       "      <td>2018-01-08 09:43:00</td>\n",
       "      <td>...</td>\n",
       "      <td>0</td>\n",
       "      <td>0</td>\n",
       "      <td>0</td>\n",
       "      <td>0</td>\n",
       "      <td>0</td>\n",
       "      <td>0</td>\n",
       "      <td>0</td>\n",
       "      <td>1</td>\n",
       "      <td>0</td>\n",
       "      <td>0</td>\n",
       "    </tr>\n",
       "    <tr>\n",
       "      <th>1</th>\n",
       "      <td>2</td>\n",
       "      <td>EV</td>\n",
       "      <td>N611QX</td>\n",
       "      <td>2815</td>\n",
       "      <td>BTR</td>\n",
       "      <td>Baton Rouge</td>\n",
       "      <td>LA</td>\n",
       "      <td>DFW</td>\n",
       "      <td>TX</td>\n",
       "      <td>2018-01-16 09:43:00</td>\n",
       "      <td>...</td>\n",
       "      <td>0</td>\n",
       "      <td>0</td>\n",
       "      <td>0</td>\n",
       "      <td>0</td>\n",
       "      <td>0</td>\n",
       "      <td>0</td>\n",
       "      <td>0</td>\n",
       "      <td>1</td>\n",
       "      <td>0</td>\n",
       "      <td>0</td>\n",
       "    </tr>\n",
       "    <tr>\n",
       "      <th>2</th>\n",
       "      <td>1</td>\n",
       "      <td>EV</td>\n",
       "      <td>N614QX</td>\n",
       "      <td>2856</td>\n",
       "      <td>BTR</td>\n",
       "      <td>Baton Rouge</td>\n",
       "      <td>LA</td>\n",
       "      <td>DFW</td>\n",
       "      <td>TX</td>\n",
       "      <td>2018-01-29 08:05:00</td>\n",
       "      <td>...</td>\n",
       "      <td>0</td>\n",
       "      <td>0</td>\n",
       "      <td>0</td>\n",
       "      <td>0</td>\n",
       "      <td>0</td>\n",
       "      <td>0</td>\n",
       "      <td>0</td>\n",
       "      <td>1</td>\n",
       "      <td>0</td>\n",
       "      <td>0</td>\n",
       "    </tr>\n",
       "  </tbody>\n",
       "</table>\n",
       "<p>3 rows × 96 columns</p>\n",
       "</div>"
      ],
      "text/plain": [
       "   DAY_OF_WEEK AIRLINE_CODE TAIL_NUMBER  FLIGHT_NUMBER ORIGIN_AIRPORT  \\\n",
       "0            1           EV      N614QX           2815            BTR   \n",
       "1            2           EV      N611QX           2815            BTR   \n",
       "2            1           EV      N614QX           2856            BTR   \n",
       "\n",
       "   CITY_ORIGIN STATE_ORIGIN DESTINATION_AIRPORT STATE_DESTINATION  \\\n",
       "0  Baton Rouge           LA                 DFW                TX   \n",
       "1  Baton Rouge           LA                 DFW                TX   \n",
       "2  Baton Rouge           LA                 DFW                TX   \n",
       "\n",
       "  SCHEDULED_DEPARTURE        ...          time_arr_group_18  \\\n",
       "0 2018-01-08 09:43:00        ...                          0   \n",
       "1 2018-01-16 09:43:00        ...                          0   \n",
       "2 2018-01-29 08:05:00        ...                          0   \n",
       "\n",
       "   time_arr_group_19 time_arr_group_20  time_arr_group_21  time_arr_group_22  \\\n",
       "0                  0                 0                  0                  0   \n",
       "1                  0                 0                  0                  0   \n",
       "2                  0                 0                  0                  0   \n",
       "\n",
       "   time_arr_group_23  time_arr_group_24  distanece_group_2  distanece_group_3  \\\n",
       "0                  0                  0                  1                  0   \n",
       "1                  0                  0                  1                  0   \n",
       "2                  0                  0                  1                  0   \n",
       "\n",
       "   distanece_group_4  \n",
       "0                  0  \n",
       "1                  0  \n",
       "2                  0  \n",
       "\n",
       "[3 rows x 96 columns]"
      ]
     },
     "execution_count": 170,
     "metadata": {},
     "output_type": "execute_result"
    }
   ],
   "source": [
    "#1\n",
    "df = pd.concat([df, pd.get_dummies(df.days_length_del, drop_first=True, prefix='day_of_week')], axis=1)\n",
    "df.drop('days_length_del', axis=1, inplace=True)\n",
    "#2\n",
    "df = pd.concat([df, pd.get_dummies(df.airline_del_mean, drop_first=True, prefix='airline_code')], axis=1)\n",
    "df.drop('airline_del_mean', axis=1, inplace=True)\n",
    "#3\n",
    "df = pd.concat([df, pd.get_dummies(df.tail_del_mean, drop_first=True, prefix='flight_tail_group')], axis=1)\n",
    "df.drop('tail_del_mean', axis=1, inplace=True)\n",
    "#4\n",
    "df = pd.concat([df, pd.get_dummies(df.flight_del_mean, drop_first=True, prefix='flight_number_group')], axis=1)\n",
    "df.drop('flight_del_mean', axis=1, inplace=True)\n",
    "#5\n",
    "df = pd.concat([df, pd.get_dummies(df.orig_airport_del_mean, drop_first=True, prefix='origin_airport_group')], axis=1)\n",
    "df.drop('orig_airport_del_mean', axis=1, inplace=True)\n",
    "#6\n",
    "df = pd.concat([df, pd.get_dummies(df.orig_state_del_mean, drop_first=True, prefix='state_orig')], axis=1) \n",
    "df.drop('orig_state_del_mean', axis=1, inplace=True)\n",
    "#7\n",
    "df = pd.concat([df, pd.get_dummies(df.dest_state_del_mean, drop_first=True, prefix='state_dest')], axis=1)\n",
    "df.drop('dest_state_del_mean', axis=1, inplace=True)\n",
    "#8\n",
    "df = pd.concat([df, pd.get_dummies(df.sched_hours_depart, drop_first=True, prefix='time_dep_group')], axis=1)\n",
    "df.drop('sched_hours_depart', axis=1, inplace=True)\n",
    "#9\n",
    "df = pd.concat([df, pd.get_dummies(df.sched_hours_arrival, drop_first=True, prefix='time_arr_group')], axis=1)\n",
    "df.drop('sched_hours_arrival', axis=1, inplace=True)\n",
    "#10\n",
    "# df = pd.concat([df, pd.get_dummies(df.sched_time_del_mean, drop_first=True, prefix='sched_lenth_of_time')], axis=1)\n",
    "# df.drop('sched_time_del_mean', axis=1, inplace=True)\n",
    "#11\n",
    "df = pd.concat([df, pd.get_dummies(df.distance_del_mean, drop_first=True, prefix='distanece_group')], axis=1)\n",
    "df.drop('distance_del_mean', axis=1, inplace=True)\n",
    "\n",
    "df.rename(columns={'Arrival_delay_length_x_x_x_x_x_x_x_x':'Arrival_delay_length'}, inplace=True)\n",
    "df.head(3)"
   ]
  },
  {
   "cell_type": "markdown",
   "metadata": {},
   "source": [
    "<img src=\"img/lin.jpg\">"
   ]
  },
  {
   "cell_type": "markdown",
   "metadata": {},
   "source": [
    "# <span style=\"color:#004577\">Part E. Check for Multicollinearity."
   ]
  },
  {
   "cell_type": "markdown",
   "metadata": {},
   "source": [
    "<span style=\"color:#be0119\"><b>\n",
    "--- comment ---</b>\n",
    "\n",
    "<span style=\"color:#1e488f\">I have to check if my predictors variables are correlated among themselves. Multicollinearity doesn't change the predictive power of the models (at least, on the training data) but it does screw with our coefficient estimates. I will count as multicollinearity everything correlation more than 0.75. I have 604 columns of my predictors. Also as I have only 74 predictors I can plot it on Heatmap. "
   ]
  },
  {
   "cell_type": "code",
   "execution_count": 171,
   "metadata": {
    "collapsed": false
   },
   "outputs": [
    {
     "data": {
      "text/html": [
       "<div>\n",
       "<style scoped>\n",
       "    .dataframe tbody tr th:only-of-type {\n",
       "        vertical-align: middle;\n",
       "    }\n",
       "\n",
       "    .dataframe tbody tr th {\n",
       "        vertical-align: top;\n",
       "    }\n",
       "\n",
       "    .dataframe thead th {\n",
       "        text-align: right;\n",
       "    }\n",
       "</style>\n",
       "<table border=\"1\" class=\"dataframe\">\n",
       "  <thead>\n",
       "    <tr style=\"text-align: right;\">\n",
       "      <th></th>\n",
       "      <th>sched_time_duration</th>\n",
       "      <th>day_of_week_2.0</th>\n",
       "      <th>day_of_week_3.0</th>\n",
       "      <th>day_of_week_4.0</th>\n",
       "      <th>day_of_week_5.0</th>\n",
       "      <th>day_of_week_6.0</th>\n",
       "      <th>day_of_week_7.0</th>\n",
       "      <th>airline_code_2</th>\n",
       "      <th>airline_code_3</th>\n",
       "      <th>airline_code_4</th>\n",
       "      <th>...</th>\n",
       "      <th>time_arr_group_18</th>\n",
       "      <th>time_arr_group_19</th>\n",
       "      <th>time_arr_group_20</th>\n",
       "      <th>time_arr_group_21</th>\n",
       "      <th>time_arr_group_22</th>\n",
       "      <th>time_arr_group_23</th>\n",
       "      <th>time_arr_group_24</th>\n",
       "      <th>distanece_group_2</th>\n",
       "      <th>distanece_group_3</th>\n",
       "      <th>distanece_group_4</th>\n",
       "    </tr>\n",
       "  </thead>\n",
       "  <tbody>\n",
       "    <tr>\n",
       "      <th>0</th>\n",
       "      <td>92</td>\n",
       "      <td>0</td>\n",
       "      <td>0</td>\n",
       "      <td>0</td>\n",
       "      <td>0</td>\n",
       "      <td>0</td>\n",
       "      <td>1</td>\n",
       "      <td>0</td>\n",
       "      <td>0</td>\n",
       "      <td>1</td>\n",
       "      <td>...</td>\n",
       "      <td>0</td>\n",
       "      <td>0</td>\n",
       "      <td>0</td>\n",
       "      <td>0</td>\n",
       "      <td>0</td>\n",
       "      <td>0</td>\n",
       "      <td>0</td>\n",
       "      <td>1</td>\n",
       "      <td>0</td>\n",
       "      <td>0</td>\n",
       "    </tr>\n",
       "    <tr>\n",
       "      <th>1</th>\n",
       "      <td>92</td>\n",
       "      <td>0</td>\n",
       "      <td>0</td>\n",
       "      <td>0</td>\n",
       "      <td>0</td>\n",
       "      <td>1</td>\n",
       "      <td>0</td>\n",
       "      <td>0</td>\n",
       "      <td>0</td>\n",
       "      <td>1</td>\n",
       "      <td>...</td>\n",
       "      <td>0</td>\n",
       "      <td>0</td>\n",
       "      <td>0</td>\n",
       "      <td>0</td>\n",
       "      <td>0</td>\n",
       "      <td>0</td>\n",
       "      <td>0</td>\n",
       "      <td>1</td>\n",
       "      <td>0</td>\n",
       "      <td>0</td>\n",
       "    </tr>\n",
       "  </tbody>\n",
       "</table>\n",
       "<p>2 rows × 74 columns</p>\n",
       "</div>"
      ],
      "text/plain": [
       "   sched_time_duration  day_of_week_2.0  day_of_week_3.0  day_of_week_4.0  \\\n",
       "0                   92                0                0                0   \n",
       "1                   92                0                0                0   \n",
       "\n",
       "   day_of_week_5.0  day_of_week_6.0  day_of_week_7.0  airline_code_2  \\\n",
       "0                0                0                1               0   \n",
       "1                0                1                0               0   \n",
       "\n",
       "   airline_code_3  airline_code_4        ...          time_arr_group_18  \\\n",
       "0               0               1        ...                          0   \n",
       "1               0               1        ...                          0   \n",
       "\n",
       "   time_arr_group_19  time_arr_group_20  time_arr_group_21  time_arr_group_22  \\\n",
       "0                  0                  0                  0                  0   \n",
       "1                  0                  0                  0                  0   \n",
       "\n",
       "   time_arr_group_23  time_arr_group_24  distanece_group_2  distanece_group_3  \\\n",
       "0                  0                  0                  1                  0   \n",
       "1                  0                  0                  1                  0   \n",
       "\n",
       "   distanece_group_4  \n",
       "0                  0  \n",
       "1                  0  \n",
       "\n",
       "[2 rows x 74 columns]"
      ]
     },
     "execution_count": 171,
     "metadata": {},
     "output_type": "execute_result"
    }
   ],
   "source": [
    "check_mc = df.iloc[:, 22:]\n",
    "check_mc.head(2)"
   ]
  },
  {
   "cell_type": "code",
   "execution_count": 172,
   "metadata": {
    "collapsed": false
   },
   "outputs": [],
   "source": [
    "check_corr = check_mc.corr()"
   ]
  },
  {
   "cell_type": "code",
   "execution_count": 173,
   "metadata": {
    "collapsed": false
   },
   "outputs": [
    {
     "data": {
      "image/png": "[encoded data removed]",
      "text/plain": [
       "<Figure size 1296x864 with 2 Axes>"
      ]
     },
     "metadata": {
      "image/png": {
       "height": 829,
       "width": 886
      }
     },
     "output_type": "display_data"
    }
   ],
   "source": [
    "colormap = plt.cm.viridis\n",
    "fix, ax = plt.subplots(figsize = (18,12))\n",
    "\n",
    "mask = np.zeros_like(check_corr, dtype=np.bool)\n",
    "mask[np.triu_indices_from(mask)] = True\n",
    "\n",
    "plt.title('Correlation for all my 74 predictors', y=1.05, size = 20)\n",
    "ax = sns.heatmap(check_corr, \n",
    "            mask=mask,\n",
    "            linewidths=0.1, \n",
    "            center = 0,\n",
    "            vmin = -1,\n",
    "            vmax = 1, \n",
    "            annot = False,\n",
    "            square = True,\n",
    "            fmt ='.2f', \n",
    "            annot_kws = {'size': 10},\n",
    "            cmap = colormap, \n",
    "            linecolor ='white')"
   ]
  },
  {
   "cell_type": "markdown",
   "metadata": {},
   "source": [
    "<span style=\"color:#be0119\"><b>\n",
    "--- comment ---</b>\n",
    "\n",
    "<span style=\"color:#1e488f\">I see on heatmap and my my function that I have two highly correlated pairs which one I will remove in next step."
   ]
  },
  {
   "cell_type": "code",
   "execution_count": 174,
   "metadata": {
    "collapsed": false
   },
   "outputs": [
    {
     "name": "stdout",
     "output_type": "stream",
     "text": [
      "                                                 pairs      corr\n",
      "1108            (origin_airport_group_3, state_orig_4)  0.702254\n",
      "1734              (time_dep_group_6, time_arr_group_7)  0.442781\n",
      "2318            (time_dep_group_22, time_arr_group_23)  0.383343\n",
      "1689              (time_dep_group_5, time_arr_group_6)  0.380489\n",
      "1050            (origin_airport_group_2, state_orig_2)  0.350671\n",
      "1735              (time_dep_group_6, time_arr_group_8)  0.346674\n",
      "1822             (time_dep_group_8, time_arr_group_10)  0.346247\n",
      "1779              (time_dep_group_7, time_arr_group_9)  0.326341\n",
      "2164            (time_dep_group_17, time_arr_group_19)  0.323090\n",
      "2229            (time_dep_group_19, time_arr_group_21)  0.320526\n",
      "2095            (time_dep_group_15, time_arr_group_17)  0.311284\n",
      "2197            (time_dep_group_18, time_arr_group_20)  0.308949\n",
      "1984            (time_dep_group_12, time_arr_group_14)  0.301264\n",
      "2260            (time_dep_group_20, time_arr_group_22)  0.300652\n",
      "1905            (time_dep_group_10, time_arr_group_12)  0.298341\n",
      "1864             (time_dep_group_9, time_arr_group_11)  0.295897\n",
      "2130            (time_dep_group_16, time_arr_group_18)  0.292946\n",
      "1778              (time_dep_group_7, time_arr_group_8)  0.285681\n",
      "635                     (airline_code_4, state_dest_4)  0.275679\n",
      "1945            (time_dep_group_11, time_arr_group_13)  0.275074\n",
      "2290            (time_dep_group_21, time_arr_group_23)  0.273283\n",
      "621              (airline_code_4, flight_tail_group_2)  0.265663\n",
      "2059            (time_dep_group_14, time_arr_group_16)  0.265032\n",
      "628           (airline_code_4, origin_airport_group_3)  0.261242\n",
      "1983            (time_dep_group_12, time_arr_group_13)  0.259434\n",
      "1944            (time_dep_group_11, time_arr_group_12)  0.254302\n",
      "2163            (time_dep_group_17, time_arr_group_18)  0.253637\n",
      "2022            (time_dep_group_13, time_arr_group_15)  0.252202\n",
      "632                     (airline_code_4, state_orig_4)  0.250987\n",
      "2129            (time_dep_group_16, time_arr_group_17)  0.250575\n",
      "...                                                ...       ...\n",
      "147                 (day_of_week_3.0, day_of_week_6.0) -0.167868\n",
      "1423                 (state_dest_2, distanece_group_2) -0.167954\n",
      "74                  (day_of_week_2.0, day_of_week_4.0) -0.168315\n",
      "216                 (day_of_week_4.0, day_of_week_5.0) -0.175113\n",
      "76                  (day_of_week_2.0, day_of_week_6.0) -0.175178\n",
      "286                 (day_of_week_5.0, day_of_week_6.0) -0.182253\n",
      "148                 (day_of_week_3.0, day_of_week_7.0) -0.183083\n",
      "503                     (airline_code_2, state_orig_4) -0.186344\n",
      "77                  (day_of_week_2.0, day_of_week_7.0) -0.191056\n",
      "499           (airline_code_2, origin_airport_group_3) -0.197184\n",
      "287                 (day_of_week_5.0, day_of_week_7.0) -0.198772\n",
      "217                 (day_of_week_4.0, day_of_week_6.0) -0.202143\n",
      "1102       (origin_airport_group_2, distanece_group_2) -0.217572\n",
      "218                 (day_of_week_4.0, day_of_week_7.0) -0.220465\n",
      "556                   (airline_code_3, airline_code_4) -0.223043\n",
      "1267                 (state_orig_2, distanece_group_2) -0.224599\n",
      "355                 (day_of_week_6.0, day_of_week_7.0) -0.229454\n",
      "627           (airline_code_4, origin_airport_group_2) -0.258070\n",
      "1426                      (state_dest_3, state_dest_4) -0.264256\n",
      "492              (airline_code_2, flight_tail_group_2) -0.304608\n",
      "1217                      (state_orig_2, state_orig_4) -0.309573\n",
      "1376                      (state_dest_2, state_dest_4) -0.340251\n",
      "1106            (origin_airport_group_3, state_orig_2) -0.352818\n",
      "1270                      (state_orig_3, state_orig_4) -0.382341\n",
      "491                   (airline_code_2, airline_code_4) -0.419142\n",
      "1052            (origin_airport_group_2, state_orig_4) -0.697599\n",
      "490                   (airline_code_2, airline_code_3) -0.715345\n",
      "1216                      (state_orig_2, state_orig_3) -0.719797\n",
      "1375                      (state_dest_2, state_dest_3) -0.742978\n",
      "1048  (origin_airport_group_2, origin_airport_group_3) -0.992893\n",
      "\n",
      "[2701 rows x 2 columns]\n"
     ]
    }
   ],
   "source": [
    "def corrank(X):\n",
    "        df_corr2 = pd.DataFrame([[(i,j),X.loc[i,j]] for i,j in list(itertools.combinations(X, 2))],columns=['pairs','corr'])    \n",
    "        print(df_corr2.sort_values(by='corr',ascending=False))\n",
    "\n",
    "corrank(check_corr)"
   ]
  },
  {
   "cell_type": "markdown",
   "metadata": {
    "collapsed": true
   },
   "source": [
    "<img src=\"img/lin.jpg\">"
   ]
  },
  {
   "cell_type": "markdown",
   "metadata": {
    "collapsed": true
   },
   "source": [
    "# <span style=\"color:#004577\">Part F. Models Building."
   ]
  },
  {
   "cell_type": "markdown",
   "metadata": {
    "collapsed": true
   },
   "source": [
    "<span style=\"color:#be0119\"><b>\n",
    "--- comment ---</b>\n",
    "\n",
    "<span style=\"color:#1e488f\">In this part I will build my model to solve my regression problem in predicting length of delay. At the first stage I will use LinearRegression model."
   ]
  },
  {
   "cell_type": "markdown",
   "metadata": {
    "collapsed": true
   },
   "source": [
    "# <span style=\"color:#ffad01\">1. Separation: <span style=\"color:#004577\">Features and Target Splitting."
   ]
  },
  {
   "cell_type": "markdown",
   "metadata": {},
   "source": [
    "<span style=\"color:#be0119\"><b>\n",
    "--- comment ---</b>\n",
    "\n",
    "<span style=\"color:#1e488f\">I use iloc to slice my dataset by index. I put my predictors into \"features\" variable and my target I keep separate. Also I will drop highly correlated features to prevent multicollinearity."
   ]
  },
  {
   "cell_type": "code",
   "execution_count": 175,
   "metadata": {
    "collapsed": false
   },
   "outputs": [
    {
     "data": {
      "text/html": [
       "<div>\n",
       "<style scoped>\n",
       "    .dataframe tbody tr th:only-of-type {\n",
       "        vertical-align: middle;\n",
       "    }\n",
       "\n",
       "    .dataframe tbody tr th {\n",
       "        vertical-align: top;\n",
       "    }\n",
       "\n",
       "    .dataframe thead th {\n",
       "        text-align: right;\n",
       "    }\n",
       "</style>\n",
       "<table border=\"1\" class=\"dataframe\">\n",
       "  <thead>\n",
       "    <tr style=\"text-align: right;\">\n",
       "      <th></th>\n",
       "      <th>sched_time_duration</th>\n",
       "      <th>day_of_week_2.0</th>\n",
       "      <th>day_of_week_3.0</th>\n",
       "      <th>day_of_week_4.0</th>\n",
       "      <th>day_of_week_5.0</th>\n",
       "      <th>day_of_week_6.0</th>\n",
       "      <th>day_of_week_7.0</th>\n",
       "      <th>airline_code_2</th>\n",
       "      <th>airline_code_3</th>\n",
       "      <th>airline_code_4</th>\n",
       "      <th>...</th>\n",
       "      <th>time_arr_group_18</th>\n",
       "      <th>time_arr_group_19</th>\n",
       "      <th>time_arr_group_20</th>\n",
       "      <th>time_arr_group_21</th>\n",
       "      <th>time_arr_group_22</th>\n",
       "      <th>time_arr_group_23</th>\n",
       "      <th>time_arr_group_24</th>\n",
       "      <th>distanece_group_2</th>\n",
       "      <th>distanece_group_3</th>\n",
       "      <th>distanece_group_4</th>\n",
       "    </tr>\n",
       "  </thead>\n",
       "  <tbody>\n",
       "    <tr>\n",
       "      <th>0</th>\n",
       "      <td>92</td>\n",
       "      <td>0</td>\n",
       "      <td>0</td>\n",
       "      <td>0</td>\n",
       "      <td>0</td>\n",
       "      <td>0</td>\n",
       "      <td>1</td>\n",
       "      <td>0</td>\n",
       "      <td>0</td>\n",
       "      <td>1</td>\n",
       "      <td>...</td>\n",
       "      <td>0</td>\n",
       "      <td>0</td>\n",
       "      <td>0</td>\n",
       "      <td>0</td>\n",
       "      <td>0</td>\n",
       "      <td>0</td>\n",
       "      <td>0</td>\n",
       "      <td>1</td>\n",
       "      <td>0</td>\n",
       "      <td>0</td>\n",
       "    </tr>\n",
       "    <tr>\n",
       "      <th>1</th>\n",
       "      <td>92</td>\n",
       "      <td>0</td>\n",
       "      <td>0</td>\n",
       "      <td>0</td>\n",
       "      <td>0</td>\n",
       "      <td>1</td>\n",
       "      <td>0</td>\n",
       "      <td>0</td>\n",
       "      <td>0</td>\n",
       "      <td>1</td>\n",
       "      <td>...</td>\n",
       "      <td>0</td>\n",
       "      <td>0</td>\n",
       "      <td>0</td>\n",
       "      <td>0</td>\n",
       "      <td>0</td>\n",
       "      <td>0</td>\n",
       "      <td>0</td>\n",
       "      <td>1</td>\n",
       "      <td>0</td>\n",
       "      <td>0</td>\n",
       "    </tr>\n",
       "  </tbody>\n",
       "</table>\n",
       "<p>2 rows × 72 columns</p>\n",
       "</div>"
      ],
      "text/plain": [
       "   sched_time_duration  day_of_week_2.0  day_of_week_3.0  day_of_week_4.0  \\\n",
       "0                   92                0                0                0   \n",
       "1                   92                0                0                0   \n",
       "\n",
       "   day_of_week_5.0  day_of_week_6.0  day_of_week_7.0  airline_code_2  \\\n",
       "0                0                0                1               0   \n",
       "1                0                1                0               0   \n",
       "\n",
       "   airline_code_3  airline_code_4        ...          time_arr_group_18  \\\n",
       "0               0               1        ...                          0   \n",
       "1               0               1        ...                          0   \n",
       "\n",
       "   time_arr_group_19  time_arr_group_20  time_arr_group_21  time_arr_group_22  \\\n",
       "0                  0                  0                  0                  0   \n",
       "1                  0                  0                  0                  0   \n",
       "\n",
       "   time_arr_group_23  time_arr_group_24  distanece_group_2  distanece_group_3  \\\n",
       "0                  0                  0                  1                  0   \n",
       "1                  0                  0                  1                  0   \n",
       "\n",
       "   distanece_group_4  \n",
       "0                  0  \n",
       "1                  0  \n",
       "\n",
       "[2 rows x 72 columns]"
      ]
     },
     "execution_count": 175,
     "metadata": {},
     "output_type": "execute_result"
    }
   ],
   "source": [
    "features = df.iloc[:, 22:]\n",
    "features.drop(['origin_airport_group_2', 'state_dest_2'], axis=1, inplace=True)\n",
    "features.head(2)"
   ]
  },
  {
   "cell_type": "code",
   "execution_count": 176,
   "metadata": {
    "collapsed": false
   },
   "outputs": [
    {
     "data": {
      "text/html": [
       "<div>\n",
       "<style scoped>\n",
       "    .dataframe tbody tr th:only-of-type {\n",
       "        vertical-align: middle;\n",
       "    }\n",
       "\n",
       "    .dataframe tbody tr th {\n",
       "        vertical-align: top;\n",
       "    }\n",
       "\n",
       "    .dataframe thead th {\n",
       "        text-align: right;\n",
       "    }\n",
       "</style>\n",
       "<table border=\"1\" class=\"dataframe\">\n",
       "  <thead>\n",
       "    <tr style=\"text-align: right;\">\n",
       "      <th></th>\n",
       "      <th>Arrival_delay_length</th>\n",
       "    </tr>\n",
       "  </thead>\n",
       "  <tbody>\n",
       "    <tr>\n",
       "      <th>0</th>\n",
       "      <td>61</td>\n",
       "    </tr>\n",
       "    <tr>\n",
       "      <th>1</th>\n",
       "      <td>3</td>\n",
       "    </tr>\n",
       "  </tbody>\n",
       "</table>\n",
       "</div>"
      ],
      "text/plain": [
       "   Arrival_delay_length\n",
       "0                    61\n",
       "1                     3"
      ]
     },
     "execution_count": 176,
     "metadata": {},
     "output_type": "execute_result"
    }
   ],
   "source": [
    "target = df.iloc[:, 21:22]\n",
    "target.head(2)"
   ]
  },
  {
   "cell_type": "code",
   "execution_count": 177,
   "metadata": {
    "collapsed": false
   },
   "outputs": [
    {
     "data": {
      "text/plain": [
       "((157948, 72), (157948, 1))"
      ]
     },
     "execution_count": 177,
     "metadata": {},
     "output_type": "execute_result"
    }
   ],
   "source": [
    "# Check shape of my slises.\n",
    "# ________________________________________________________\n",
    "features.shape, target.shape"
   ]
  },
  {
   "cell_type": "markdown",
   "metadata": {
    "collapsed": true
   },
   "source": [
    "<img src=\"img/lin.jpg\">"
   ]
  },
  {
   "cell_type": "markdown",
   "metadata": {
    "collapsed": true
   },
   "source": [
    "# <span style=\"color:#ffad01\">2. Standardization: <span style=\"color:#004577\">All data into same scale."
   ]
  },
  {
   "cell_type": "markdown",
   "metadata": {
    "collapsed": true
   },
   "source": [
    "<span style=\"color:#be0119\"><b>\n",
    "--- comment ---</b>\n",
    "\n",
    "<span style=\"color:#1e488f\">I use <b>StandardScaler</b> from sklearn library for my features standardization. The idea behind StandardScaler is that it will transform my data such that its distribution will have a mean value 0 and standard deviation of 1. The scaler instance can then be used on new data to transform it the same way it did on the training set. I will save all my standardized values in featuresS variable."
   ]
  },
  {
   "cell_type": "code",
   "execution_count": 178,
   "metadata": {
    "collapsed": true
   },
   "outputs": [],
   "source": [
    "ss = StandardScaler()\n",
    "featuresS = ss.fit_transform(features)"
   ]
  },
  {
   "cell_type": "code",
   "execution_count": 179,
   "metadata": {
    "collapsed": false
   },
   "outputs": [
    {
     "name": "stdout",
     "output_type": "stream",
     "text": [
      "features:  (157948, 72)\n",
      "target:  (157948, 1)\n"
     ]
    }
   ],
   "source": [
    "print('features: ',featuresS.shape)\n",
    "print('target: ',target.shape)"
   ]
  },
  {
   "cell_type": "markdown",
   "metadata": {},
   "source": [
    "<img src=\"img/lin.jpg\">"
   ]
  },
  {
   "cell_type": "markdown",
   "metadata": {},
   "source": [
    "# <span style=\"color:#ffad01\">3. Split: <span style=\"color:#004577\">Train | Test."
   ]
  },
  {
   "cell_type": "markdown",
   "metadata": {},
   "source": [
    "<img src=\"img/split.png\">"
   ]
  },
  {
   "cell_type": "markdown",
   "metadata": {},
   "source": [
    "<span style=\"color:#be0119\"><b>\n",
    "--- comment ---</b>\n",
    "\n",
    "<span style=\"color:#1e488f\">I use <b>Train_test_split</b> from sklearn liberary for splitting my data. It is split arrays or matrices into random train and test subsets. I passing my features and target variables into train_test_split and set <b>Test_size</b> 0.25 which is means, my train subset will be 75% of all my data and 25% will be deferred selection or testing part. <b>Stratify</b> parameter makes a split so that the proportion of values in the sample produced will be the same as the proportion of values provided to parameter stratify. And I set <b>Random_state</b> which I use for the same split each time I run line of this code. Also I transformed my y_test and y_train into 1D format."
   ]
  },
  {
   "cell_type": "code",
   "execution_count": 180,
   "metadata": {
    "collapsed": true
   },
   "outputs": [],
   "source": [
    "X_train, X_test, y_train, y_test = train_test_split(featuresS, target, test_size=0.25, stratify=target, random_state=21)"
   ]
  },
  {
   "cell_type": "code",
   "execution_count": 181,
   "metadata": {
    "collapsed": false
   },
   "outputs": [
    {
     "name": "stdout",
     "output_type": "stream",
     "text": [
      "------------------------------\n",
      "X_train shape:  (118461, 72)\n",
      "y_train shape:  (118461, 1)\n",
      "------------------------------\n",
      "X_test shape:  (39487, 72)\n",
      "y_test shape:  (39487, 1)\n",
      "------------------------------\n"
     ]
    }
   ],
   "source": [
    "# Check shape for new splits. \n",
    "# ________________________________________________________\n",
    "print('------------------------------')\n",
    "print('X_train shape: ',X_train.shape)\n",
    "print('y_train shape: ',y_train.shape)\n",
    "print('------------------------------')\n",
    "print('X_test shape: ',X_test.shape)\n",
    "print('y_test shape: ',y_test.shape)\n",
    "print('------------------------------')"
   ]
  },
  {
   "cell_type": "code",
   "execution_count": 182,
   "metadata": {
    "collapsed": true
   },
   "outputs": [],
   "source": [
    "# From 2D to 1D\n",
    "# ________________________________________________________\n",
    "yt = y_train.values\n",
    "ytst = y_test.values"
   ]
  },
  {
   "cell_type": "markdown",
   "metadata": {},
   "source": [
    "<img src=\"img/lin.jpg\">"
   ]
  },
  {
   "cell_type": "markdown",
   "metadata": {},
   "source": [
    "# <span style=\"color:#ffad01\">4. Model: <span style=\"color:#004577\">LinearRegression."
   ]
  },
  {
   "cell_type": "markdown",
   "metadata": {},
   "source": [
    "<span style=\"color:#be0119\"><b>\n",
    "--- comment ---</b>\n",
    "\n",
    "<span style=\"color:#1e488f\">I will try to find best hyperparameters for my LinearRegression using GridSearch. And I will fit my model and check what score can I get with this predictors. "
   ]
  },
  {
   "cell_type": "markdown",
   "metadata": {},
   "source": [
    "# <span style=\"color:#7f7053\">- GridSearch for LinearRegression."
   ]
  },
  {
   "cell_type": "code",
   "execution_count": 72,
   "metadata": {
    "collapsed": false
   },
   "outputs": [
    {
     "name": "stderr",
     "output_type": "stream",
     "text": [
      "/Anaconda/anaconda/lib/python3.6/site-packages/sklearn/linear_model/base.py:509: RuntimeWarning: internal gelsd driver lwork query error, required iwork dimension not returned. This is likely the result of LAPACK bug 0038, fixed in LAPACK 3.2.2 (released July 21, 2010). Falling back to 'gelss' driver.\n",
      "  linalg.lstsq(X, y)\n"
     ]
    },
    {
     "name": "stdout",
     "output_type": "stream",
     "text": [
      "Best Hyper Parameters:\n",
      " {'copy_X': True, 'fit_intercept': True, 'normalize': True}\n"
     ]
    }
   ],
   "source": [
    "parameters = {'fit_intercept':[True,False], \n",
    "              'normalize':[True,False], \n",
    "              'copy_X':[True, False]}\n",
    "\n",
    "grid = GridSearchCV(LinearRegression(),parameters, cv=10)\n",
    "grid.fit(X_train, yt)\n",
    "\n",
    "print(\"Best Hyper Parameters:\\n\",grid.best_params_)"
   ]
  },
  {
   "cell_type": "markdown",
   "metadata": {},
   "source": [
    "# <span style=\"color:#7f7053\">- Fit Best Parameters into my Model."
   ]
  },
  {
   "cell_type": "markdown",
   "metadata": {},
   "source": [
    "<span style=\"color:#be0119\"><b>\n",
    "--- comment ---</b>\n",
    "\n",
    "<span style=\"color:#1e488f\">I found optimal parameters for my LiearRegression:<b>{'copy_X': True, 'fit_intercept': True, 'normalize': True}</b>. I got model <b>score 0.1027</b> which is low, and I don't think there is a way to get much bigger score for LinearRegression with that predictors I got. I will use different approach in next chapter."
   ]
  },
  {
   "cell_type": "code",
   "execution_count": 73,
   "metadata": {
    "collapsed": true
   },
   "outputs": [],
   "source": [
    "model = LinearRegression(copy_X=True, fit_intercept=True, normalize=True)"
   ]
  },
  {
   "cell_type": "code",
   "execution_count": 88,
   "metadata": {
    "collapsed": false
   },
   "outputs": [
    {
     "name": "stdout",
     "output_type": "stream",
     "text": [
      "[ 0.10285598  0.09958359  0.09646694  0.09435438  0.10348805  0.10594938\n",
      "  0.10425572  0.09984981  0.09874662  0.11488317]\n",
      "0.102043361715\n"
     ]
    }
   ],
   "source": [
    "# Check score with cross validation using 10 folds\n",
    "# ________________________________________________________\n",
    "linreg_scores = cross_val_score(model, X_train, yt, cv=10)\n",
    "\n",
    "print(linreg_scores)\n",
    "print(np.mean(linreg_scores))"
   ]
  },
  {
   "cell_type": "code",
   "execution_count": 74,
   "metadata": {
    "collapsed": false
   },
   "outputs": [
    {
     "data": {
      "text/plain": [
       "LinearRegression(copy_X=True, fit_intercept=True, n_jobs=1, normalize=True)"
      ]
     },
     "execution_count": 74,
     "metadata": {},
     "output_type": "execute_result"
    }
   ],
   "source": [
    "model.fit(X_train, yt)"
   ]
  },
  {
   "cell_type": "code",
   "execution_count": 75,
   "metadata": {
    "collapsed": false
   },
   "outputs": [
    {
     "data": {
      "text/plain": [
       "0.10320801214438124"
      ]
     },
     "execution_count": 75,
     "metadata": {},
     "output_type": "execute_result"
    }
   ],
   "source": [
    "model.score(X_train, yt)"
   ]
  },
  {
   "cell_type": "code",
   "execution_count": 77,
   "metadata": {
    "collapsed": false
   },
   "outputs": [
    {
     "data": {
      "text/plain": [
       "0.10273003336403053"
      ]
     },
     "execution_count": 77,
     "metadata": {},
     "output_type": "execute_result"
    }
   ],
   "source": [
    "model.score(X_test, ytst)"
   ]
  },
  {
   "cell_type": "markdown",
   "metadata": {},
   "source": [
    "<img src=\"img/lin.jpg\">"
   ]
  },
  {
   "cell_type": "markdown",
   "metadata": {
    "collapsed": true
   },
   "source": [
    "# <span style=\"color:#ffad01\">5. Model: <span style=\"color:#004577\">Ridge regression R2"
   ]
  },
  {
   "cell_type": "markdown",
   "metadata": {},
   "source": [
    "<span style=\"color:#be0119\"><b>\n",
    "--- comment ---</b>\n",
    "\n",
    "<span style=\"color:#1e488f\">I used Ridge regresion and got the same score as LinearRegression."
   ]
  },
  {
   "cell_type": "markdown",
   "metadata": {},
   "source": [
    "# <span style=\"color:#7f7053\">- Find an optimal value for Ridge regression alpha using RidgeCV."
   ]
  },
  {
   "cell_type": "code",
   "execution_count": 89,
   "metadata": {
    "collapsed": false
   },
   "outputs": [
    {
     "name": "stdout",
     "output_type": "stream",
     "text": [
      "731.680714343\n"
     ]
    }
   ],
   "source": [
    "ridge_alphas = np.logspace(0, 5, 200)\n",
    "\n",
    "optimal_ridge = RidgeCV(alphas=ridge_alphas, cv=10)\n",
    "optimal_ridge.fit(X_train, yt)\n",
    "\n",
    "print(optimal_ridge.alpha_)"
   ]
  },
  {
   "cell_type": "markdown",
   "metadata": {},
   "source": [
    "# <span style=\"color:#7f7053\">- Cross-validate the Ridge Regression R2."
   ]
  },
  {
   "cell_type": "code",
   "execution_count": 91,
   "metadata": {
    "collapsed": false
   },
   "outputs": [
    {
     "name": "stdout",
     "output_type": "stream",
     "text": [
      "[ 0.10849985  0.12064969  0.09100556  0.10559894  0.09761083  0.0929081\n",
      "  0.09247681  0.11356118  0.1026295   0.09152395  0.10254901  0.12358315\n",
      "  0.09635299  0.07902415  0.09882918]\n",
      "0.101120192869\n"
     ]
    }
   ],
   "source": [
    "ridge = Ridge(alpha=optimal_ridge.alpha_)\n",
    "\n",
    "ridge_scores = cross_val_score(ridge, X_test, ytst, cv=15)\n",
    "\n",
    "print(ridge_scores)\n",
    "print(np.mean(ridge_scores))"
   ]
  },
  {
   "cell_type": "code",
   "execution_count": 92,
   "metadata": {
    "collapsed": false
   },
   "outputs": [
    {
     "data": {
      "text/plain": [
       "0.10272298651166432"
      ]
     },
     "execution_count": 92,
     "metadata": {},
     "output_type": "execute_result"
    }
   ],
   "source": [
    "optimal_ridge.score(X_test, y_test)"
   ]
  },
  {
   "cell_type": "markdown",
   "metadata": {},
   "source": [
    "<img src=\"img/lin.jpg\">"
   ]
  },
  {
   "cell_type": "markdown",
   "metadata": {},
   "source": [
    "# <span style=\"color:#ffad01\">6. Model: <span style=\"color:#004577\">Lasso Regression."
   ]
  },
  {
   "cell_type": "markdown",
   "metadata": {},
   "source": [
    "<span style=\"color:#be0119\"><b>\n",
    "--- comment ---</b>\n",
    "\n",
    "<span style=\"color:#1e488f\">Lasso deals primarily with the feature selection of valuable variables, eliminating ones that are not useful. This also takes care of multicollinearity, but in a different way: it will choose the \"best\" of the correlated variables and zero-out the other redundant ones. There may also be useless variables in the data which it is simply getting rid of entirely. I used Lasso regresion and got same <b>result 0.1027.</b>"
   ]
  },
  {
   "cell_type": "markdown",
   "metadata": {},
   "source": [
    "# <span style=\"color:#7f7053\">- Find an optimal value for Lasso regression alpha using LassoCV."
   ]
  },
  {
   "cell_type": "code",
   "execution_count": 94,
   "metadata": {
    "collapsed": false
   },
   "outputs": [
    {
     "name": "stderr",
     "output_type": "stream",
     "text": [
      "/Anaconda/anaconda/lib/python3.6/site-packages/sklearn/linear_model/coordinate_descent.py:1094: DataConversionWarning: A column-vector y was passed when a 1d array was expected. Please change the shape of y to (n_samples, ), for example using ravel().\n",
      "  y = column_or_1d(y, warn=True)\n",
      "........................................................................................................................................................................................................................................................................................................................................................................................................................................................................................................................................................................................................................................................................................................................................................................................................................................................................................................................................................................................................................................................................................................................................................................................................................................................................................................................................................................................................................................................................................................................................................................................................................................................................................................................................................................................................................................................................................................................................................................................................................................................................................................................................................................................................................................................................................................................................................................................................................................................................................................................................................................................................................................................................................................................................................................................................................................................................................................................................................................................................................................................................................................................................................................................................................................................................................................................................................................................................................................................................................................................................................................................................................................................................................................................................................................................................................................................................................................................................................................................................................................................................................................................................................................................................................................................................................................................................................................................................................................................................................................................................................................................................................................................................................................................................................................................................................................................................................................................................................................................................................................................................................................................................................................................................[Parallel(n_jobs=1)]: Done  10 out of  10 | elapsed:   12.0s finished\n"
     ]
    },
    {
     "name": "stdout",
     "output_type": "stream",
     "text": [
      "0.00579476543749\n"
     ]
    }
   ],
   "source": [
    "optimal_lasso = LassoCV(n_alphas=500, cv=10, verbose=1)\n",
    "optimal_lasso.fit(X_train, yt)\n",
    "\n",
    "print(optimal_lasso.alpha_)"
   ]
  },
  {
   "cell_type": "markdown",
   "metadata": {},
   "source": [
    "# <span style=\"color:#7f7053\">- Cross-validate the Lasso Regression."
   ]
  },
  {
   "cell_type": "code",
   "execution_count": 96,
   "metadata": {
    "collapsed": false
   },
   "outputs": [
    {
     "name": "stdout",
     "output_type": "stream",
     "text": [
      "[ 0.10858643  0.10506897  0.09466137  0.10194492  0.1026576   0.10212376\n",
      "  0.10592197  0.1072231   0.08935749  0.09298731]\n",
      "0.101053292065\n"
     ]
    }
   ],
   "source": [
    "lasso = Lasso(alpha=optimal_lasso.alpha_)\n",
    "lasso_scores = cross_val_score(lasso, X_test, y_test, cv=10)\n",
    "\n",
    "print(lasso_scores)\n",
    "print(np.mean(lasso_scores))"
   ]
  },
  {
   "cell_type": "code",
   "execution_count": 97,
   "metadata": {
    "collapsed": false
   },
   "outputs": [
    {
     "data": {
      "text/plain": [
       "0.10273992597757475"
      ]
     },
     "execution_count": 97,
     "metadata": {},
     "output_type": "execute_result"
    }
   ],
   "source": [
    "optimal_lasso.score(X_test, y_test)"
   ]
  },
  {
   "cell_type": "markdown",
   "metadata": {},
   "source": [
    "<img src=\"img/lin.jpg\">"
   ]
  },
  {
   "cell_type": "markdown",
   "metadata": {},
   "source": [
    "# <span style=\"color:#ffad01\">7. Model: <span style=\"color:#004577\">Elastic Net Regression."
   ]
  },
  {
   "cell_type": "markdown",
   "metadata": {},
   "source": [
    "<span style=\"color:#be0119\"><b>\n",
    "--- comment ---</b>\n",
    "\n",
    "<span style=\"color:#1e488f\">I will use Elastic Net Regression it is combination of Ridge and Lasso. And I got result for Elastic Net 0.1027"
   ]
  },
  {
   "cell_type": "markdown",
   "metadata": {},
   "source": [
    "# <span style=\"color:#7f7053\">- Find an optimal value for Elastic Net regression alpha using ElasticNetCV."
   ]
  },
  {
   "cell_type": "code",
   "execution_count": 101,
   "metadata": {
    "collapsed": false
   },
   "outputs": [
    {
     "name": "stderr",
     "output_type": "stream",
     "text": [
      "/Anaconda/anaconda/lib/python3.6/site-packages/sklearn/linear_model/coordinate_descent.py:1094: DataConversionWarning: A column-vector y was passed when a 1d array was expected. Please change the shape of y to (n_samples, ), for example using ravel().\n",
      "  y = column_or_1d(y, warn=True)\n",
      "........................................................................................................................................................................................................................................................................................................................................................................................................................................................................................................................................................................................................................................................................................................................................................................................................................................................................................................................................................................................................................................................................................................................................................................................................................................................................................................................................................................................................................................................................................................................................................................................................................................................................................................................................................................................................................................................................................................................................................................................................................................................................................................................................................................................................................................................................................................................................................................................................................................................................................................................................................................................................................................................................................................................................................................................................................................................................................................................................................................................................................................................................................................................................................................................................................................................................................................................................................................................................................................................................................................................................................................................................................................................................................................................................................................................................................................................................................................................................................................................................................................................................................................................................................................................................................................................................................................................................................................................................................................................................................................................................................................................................................................................................................................................................................................................................................................................................................................................................................................................................................................................................................................................................................................................................................................................................................................................................................................................................................................................................................................................................................................................................................................................................................................................................................................................................................................................................................................................................................................................................................................................................................................................................................................................................................................................................................................................................................................................................................................................................................................................................................................................................................................................................................................................................................................................................................................................................................................................................................................................................................................................................................................................................................................................................................................................................................................................................................................................................................................................................................................................................................................................................................................................................................................................................................................................................................................................................................................................................................................................................................................................................................................................................................................................................................................................................................................................................................................................................................................................................................................................................................................................................................................................................................................................................................................................................................................................................................................................................................................................................................................................................................................................................................................................................................................................................................................................................................................................................................................................................................................................................................................................................................................................................................................................................................................................................................................................................................................................................................................................................................................................................................................................................................................................................................................................................................................................................................................................................................................................................................................................................................................................................................................................................................................................................................................................................................................................................................................................................................................................................................................................................................................................................................................................................................................................................................................................................................................................................................................................................................................................................................................................................................................................................................................................................................................................................................................................................................................................................................................................................................................................................................................................................................................................................................................................................................................................................................................................................................................................................................................................................................................................................................................................................................................................................................................................................................................................................................................................................................................................................................................................................................................................................................................................................................................................................................................................................................................................................................................................................................................................................................................................................................................................................................................................................................................................................................................................................................................................................................................................................................................................................................................................................................................................................................................................................................................................................................................................................................................................................................................................................................................................................................................................................................................................................................................................................................................................................................................................................................................................................................................................................................................................................................................................................................................................................................................................................................................................................................................................................................................................................................................................................................................................................................................................................................................................................................................................................................................................................................................................................................................................................................................................................................................................................................................................................................................................................................................................................................................................................................................................................................................................................................................................................................................................................................................................................................................................................................................................................................................................................................................................................................................................................................................................................................................................................................................................................................................................................................................................................................................................................................................................................................................................................................................................................................................................................................................................................................................................................................................................................................................................................................................................................................................................................................................................................................................................................................................................................................................................................................................................................................................................................................................................................................................................................................................................................................................................................................................................................................................................................................................................................................................................................................................................................................................................................................................................................................................................................................................................................................................................................................................................................................................................................................................................................................................................................................................................................................................................................................................................................................................................................................................................................................................................................................................................................................................................................................................................................................................................................................................................................................................................................................................................................................................................................................................................................................................................................................................................................................................................................................................................................................................................................................................................................................................................................................................................................................................................................................................................................................................................................................................................................................................................................................................................................................................................................................................................................................................................................................................................................................................................................................................................................................................................................................................................................................................................................................................................................................................................................................................................................................................................................................................................................................................................................................................................................................................................................................................................................................................................................................................................................................................................................................................................................................................................................................................................................................................................................................................................................................................................................................................................................................................................................................................................................................................................................................................................................................................................................................................................................................................................................................................................................................................................................................................................................................................................................................................................................................................................................................................................................................................................................................................................................................................................................................................................................................................................................................................................................................................................................................................................................................................................................................................................................................................................................................................................................................................................................................................................................................................................................................................................................................................................................................................................................................................................................................................................................................................................................................................................................................................[Parallel(n_jobs=1)]: Done 250 out of 250 | elapsed:  1.6min finished\n"
     ]
    },
    {
     "name": "stdout",
     "output_type": "stream",
     "text": [
      "0.00579476543749\n",
      "1.0\n"
     ]
    }
   ],
   "source": [
    "l1_ratios = np.linspace(0.01, 1.0, 25)\n",
    "\n",
    "optimal_enet = ElasticNetCV(l1_ratio=l1_ratios, n_alphas=100, cv=10, verbose=1)\n",
    "optimal_enet.fit(X_train, yt)\n",
    "\n",
    "print(optimal_enet.alpha_)\n",
    "print(optimal_enet.l1_ratio_)"
   ]
  },
  {
   "cell_type": "markdown",
   "metadata": {},
   "source": [
    "# <span style=\"color:#7f7053\">- Cross-validate the ElasticNet R2"
   ]
  },
  {
   "cell_type": "code",
   "execution_count": 102,
   "metadata": {
    "collapsed": false
   },
   "outputs": [
    {
     "name": "stdout",
     "output_type": "stream",
     "text": [
      "[ 0.10858643  0.10506897  0.09466137  0.10194492  0.1026576   0.10212376\n",
      "  0.10592197  0.1072231   0.08935749  0.09298731]\n",
      "0.101053292065\n"
     ]
    }
   ],
   "source": [
    "enet = ElasticNet(alpha=optimal_enet.alpha_, l1_ratio=optimal_enet.l1_ratio_)\n",
    "enet_scores = cross_val_score(enet, X_test, ytst, cv=10)\n",
    "\n",
    "print(enet_scores)\n",
    "print(np.mean(enet_scores))"
   ]
  },
  {
   "cell_type": "code",
   "execution_count": 103,
   "metadata": {
    "collapsed": false
   },
   "outputs": [
    {
     "data": {
      "text/plain": [
       "0.10273992597757475"
      ]
     },
     "execution_count": 103,
     "metadata": {},
     "output_type": "execute_result"
    }
   ],
   "source": [
    "optimal_enet.score(X_test, y_test)"
   ]
  },
  {
   "cell_type": "markdown",
   "metadata": {},
   "source": [
    "<img src=\"img/lin.jpg\">"
   ]
  },
  {
   "cell_type": "markdown",
   "metadata": {},
   "source": [
    "# <span style=\"color:#ffad01\">8. Model: <span style=\"color:#004577\">RandomForestRegressor."
   ]
  },
  {
   "cell_type": "markdown",
   "metadata": {},
   "source": [
    "<span style=\"color:#be0119\"><b>\n",
    "--- comment ---</b>\n",
    "\n",
    "<span style=\"color:#1e488f\">I have tried to use RandomForestRegressor as my previous models does not perform well, but result for the RandomForestRegressor is even bit lower than from previous models."
   ]
  },
  {
   "cell_type": "markdown",
   "metadata": {},
   "source": [
    "# <span style=\"color:#7f7053\">- GridSearch for RandomForestRegressor."
   ]
  },
  {
   "cell_type": "code",
   "execution_count": 201,
   "metadata": {
    "collapsed": false
   },
   "outputs": [
    {
     "name": "stdout",
     "output_type": "stream",
     "text": [
      "Fitting 2 folds for each of 72 candidates, totalling 144 fits\n"
     ]
    },
    {
     "name": "stderr",
     "output_type": "stream",
     "text": [
      "[Parallel(n_jobs=1)]: Done 144 out of 144 | elapsed: 21.6min finished\n"
     ]
    },
    {
     "name": "stdout",
     "output_type": "stream",
     "text": [
      "{'criterion': 'mse', 'max_depth': 9, 'max_features': 'auto', 'min_samples_leaf': 2, 'min_samples_split': 2, 'n_estimators': 61, 'random_state': 123}\n",
      "CPU times: user 22min 7s, sys: 4.89 s, total: 22min 12s\n",
      "Wall time: 22min 14s\n"
     ]
    }
   ],
   "source": [
    "%%time\n",
    "params = {'criterion':['mse'],\n",
    "          'n_estimators':[41, 51, 61],\n",
    "          'min_samples_leaf':[1,2],\n",
    "          'min_samples_split':[2, 3],\n",
    "          'max_features':['auto', 'sqrt'],\n",
    "          'max_depth':[9, 10, 11],\n",
    "          'random_state':[123]}\n",
    "#Making models with hyper parameters sets\n",
    "Rforest_gs = GridSearchCV(RandomForestRegressor(), param_grid=params, cv=2, verbose=1)\n",
    "Rforest_gs.fit(X_train, yt.ravel())\n",
    "print(Rforest_gs.best_params_)"
   ]
  },
  {
   "cell_type": "markdown",
   "metadata": {},
   "source": [
    "# <span style=\"color:#7f7053\">- Fit Best Parameters into my Model."
   ]
  },
  {
   "cell_type": "code",
   "execution_count": 206,
   "metadata": {
    "collapsed": false
   },
   "outputs": [
    {
     "data": {
      "text/plain": [
       "RandomForestRegressor(bootstrap=True, criterion='mse', max_depth=9,\n",
       "           max_features='auto', max_leaf_nodes=None,\n",
       "           min_impurity_decrease=0.0, min_impurity_split=None,\n",
       "           min_samples_leaf=2, min_samples_split=4,\n",
       "           min_weight_fraction_leaf=0.0, n_estimators=101, n_jobs=1,\n",
       "           oob_score=False, random_state=123, verbose=0, warm_start=False)"
      ]
     },
     "execution_count": 206,
     "metadata": {},
     "output_type": "execute_result"
    }
   ],
   "source": [
    "regr = RandomForestRegressor(criterion='mse', max_depth=9, max_features='auto', min_samples_leaf=2, min_samples_split=2, n_estimators=61,  random_state=123)\n",
    "regr.fit(X_train, yt.ravel())"
   ]
  },
  {
   "cell_type": "code",
   "execution_count": 207,
   "metadata": {
    "collapsed": false
   },
   "outputs": [
    {
     "data": {
      "text/plain": [
       "0.10046330548755034"
      ]
     },
     "execution_count": 207,
     "metadata": {},
     "output_type": "execute_result"
    }
   ],
   "source": [
    "regr.score(X_test, ytst)"
   ]
  },
  {
   "cell_type": "markdown",
   "metadata": {},
   "source": [
    "<img src=\"img/lin.jpg\">"
   ]
  },
  {
   "cell_type": "markdown",
   "metadata": {
    "collapsed": true
   },
   "source": [
    "<img src=\"img/conc.jpg\">"
   ]
  },
  {
   "cell_type": "markdown",
   "metadata": {},
   "source": [
    "<span style=\"color:#610023\">In this part I used 5 regression models such as <b>LinearRegression, Ridge regression, Lasso Regression, Elastic Net Regression, RandomForestRegressor</b>. Regression regularization methods(Lasso, Ridge and ElasticNet) works well in case of high dimensionality and multicollinearity among the variables in the data set. They works by penalizing the magnitude of coefficients of features along with minimizing the error between predicted and actual observations. In all cases my score is not big, around <b>0.10</b>. I can make conclussion that my predictors in this case not god enought ore the regression problem,  probably I could try to add 1 more predictor such a length of the time on departure, as we are interesting in delays on arrivals. But this information we could get only after the plane took off the runway. As I'm focusing on features only given before plane start moving from the gate, I will leave everything as it is. And in next chapter I will try to find intervalse of flight delays solving <b>MultiClassification problem.</b>"
   ]
  },
  {
   "cell_type": "markdown",
   "metadata": {},
   "source": [
    "<img src=\"img/lin.jpg\">"
   ]
  },
  {
   "cell_type": "markdown",
   "metadata": {},
   "source": [
    "[GO NEXT >>](./Chapter-4-classification_problem_timeinterval.ipynb)"
   ]
  },
  {
   "cell_type": "markdown",
   "metadata": {},
   "source": [
    "[GO BACK <<](./Chapter-2-features-creation-classification problem.ipynb)"
   ]
  }
 ],
 "metadata": {
  "kernelspec": {
   "display_name": "Python 3",
   "language": "python",
   "name": "python3"
  },
  "language_info": {
   "codemirror_mode": {
    "name": "ipython",
    "version": 3
   },
   "file_extension": ".py",
   "mimetype": "text/x-python",
   "name": "python",
   "nbconvert_exporter": "python",
   "pygments_lexer": "ipython3",
   "version": "3.6.0"
  },
  "toc": {
   "base_numbering": 1,
   "nav_menu": {},
   "number_sections": false,
   "sideBar": true,
   "skip_h1_title": false,
   "title_cell": "Table of Contents",
   "title_sidebar": "Contents",
   "toc_cell": false,
   "toc_position": {},
   "toc_section_display": true,
   "toc_window_display": false
  }
 },
 "nbformat": 4,
 "nbformat_minor": 2
}
