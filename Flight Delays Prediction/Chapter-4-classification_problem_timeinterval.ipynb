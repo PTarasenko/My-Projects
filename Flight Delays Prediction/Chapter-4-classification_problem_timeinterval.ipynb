{
 "cells": [
  {
   "cell_type": "markdown",
   "metadata": {},
   "source": [
    "<span style=\"color:#929591\">Chapter 4.\n",
    "# <span style=\"color:#820747\">Flight Delays Prediction 2018. MultiClass Classification Problem."
   ]
  },
  {
   "cell_type": "markdown",
   "metadata": {},
   "source": [
    "<img src=\"img/pl3.jpg\">"
   ]
  },
  {
   "cell_type": "markdown",
   "metadata": {},
   "source": [
    "<span style=\"color:#610023\">In this part of my project I will work on Classification problem again but this time I will try to <b>predict length of delay in 4 different ranges</b>. I was trying to do 8 ranges but accuracy is not too good. That why I decided stick with 4 different ranges of time. The idea why I'm trying to do classification that because my Regression does not perform the way I want to. First step I will do the simillar way categorical variables like in chapter 3 for the Regression problem, and I will use models such as <b>LogisticRegression, DessisionTreeClassifire and RandomForestClassifire</b> to predict one of the group. I decided focus more on delays in group number 3 and 4, as I am more interesting in delays more than 15 minutes."
   ]
  },
  {
   "cell_type": "markdown",
   "metadata": {},
   "source": [
    "# <span style=\"color:#a83c09\">Navigator:\n",
    "\n",
    "<b>[Dictionary](img/dictionary.txt)\n",
    "\n",
    "<b>[1. EDA](./Chapter-1-EDA.ipynb)\n",
    "\n",
    "<b>[2. Delay. Prediction | Classification problem](./Chapter-2-features-creation-classification problem.ipynb)\n",
    "\n",
    "<b>[3. Length of Delay. Prediction | Regression problem](./Chapter-3-regression_problem.ipynb)"
   ]
  },
  {
   "cell_type": "markdown",
   "metadata": {},
   "source": [
    "<img src=\"img/lin.jpg\">"
   ]
  },
  {
   "cell_type": "markdown",
   "metadata": {},
   "source": [
    "# <span style=\"color:#a83c09\">Chapter Structure:"
   ]
  },
  {
   "cell_type": "markdown",
   "metadata": {},
   "source": [
    "A. <b>Null Values Dropping and Features Selection.</b><br>\n",
    "         \n",
    "B. <b>Tuning of Target and Predictors.</b><br>\n",
    "\n",
    "         1. Target: How big the delay.\n",
    "         2. Predictor: Day of the Week.\n",
    "         3. Predictor: Airline Code.\n",
    "         4. Predictor: Tail Number.\n",
    "         5. Predictor: Flight Number.\n",
    "         6. Predictor: Origin Airport.\n",
    "         7. Predictor: State Origin.\n",
    "         8. Predictor: State Destination.\n",
    "         9. Predictor: Departure Time.\n",
    "         10. Predictor: Arrival Time.\n",
    "         11. Predictor: Scheduled Length of Flight Time.\n",
    "         12. Predictor: Distance of the Flight.\n",
    "         \n",
    "C. <b>Categorical Variables into Dummies.</b><br>\n",
    "\n",
    "D. <b>Check for Multicollinearity.</b><br>\n",
    "\n",
    "E. <b>Models Building.</b><br>\n",
    "\n",
    "         1. Separation: Features and Target Splitting.\n",
    "         2. Standardization: All data into same scale.\n",
    "         3. Split: Train | Test.\n",
    "         4. Model: LogisticRegression.\n",
    "            - GridSearch for LogisticRegression.\n",
    "            - Fit Best Parameters into my Model.\n",
    "            - Confusion Matrix and Classification Report for LR Model.\n",
    "         5. Model: DecisionTreeClassifier.\n",
    "            - GridSearch for DecisionTreeClassifier.\n",
    "            - Fit Best Parameters into my Model.\n",
    "            - Confusion Matrix and Classification Report for DT Model.\n",
    "            - Features Importance for DT model.\n",
    "            - Tree Visualisation for DT model.\n",
    "         6. Model: RandomForestClassifier.\n",
    "            - GridSearch for RandomForestClassifier.\n",
    "            - Fit Best Parameters into my RF Model.\n",
    "            - Confusion Matrix and Classification Report for RF Model.\n",
    "            - Features Importance.\n",
    "         7. Conclusion.\n",
    "            "
   ]
  },
  {
   "cell_type": "markdown",
   "metadata": {},
   "source": [
    "<img src=\"img/lin.jpg\">"
   ]
  },
  {
   "cell_type": "markdown",
   "metadata": {},
   "source": [
    "<span style=\"color:#be0119\"><b>\n",
    "--- comment ---</b>\n",
    "\n",
    "<span style=\"color:#1e488f\"> Loading libraries which I will use during fourth part of the project. I will use same models from sklearn as in Chapter 3 when I was predicting delay on arrival or not delay. "
   ]
  },
  {
   "cell_type": "code",
   "execution_count": 202,
   "metadata": {
    "collapsed": false
   },
   "outputs": [],
   "source": [
    "import pandas as pd\n",
    "import numpy as np\n",
    "import seaborn as sns\n",
    "import matplotlib.pyplot as plt\n",
    "\n",
    "from numpy import *\n",
    "\n",
    "from sklearn.feature_extraction.text import CountVectorizer\n",
    "from sklearn.model_selection import cross_val_score\n",
    "from sklearn import metrics\n",
    "from sklearn.metrics import classification_report, confusion_matrix, accuracy_score, precision_recall_fscore_support\n",
    "from sklearn.model_selection import train_test_split, GridSearchCV\n",
    "from sklearn import metrics\n",
    "from sklearn.linear_model import LinearRegression\n",
    "from sklearn.linear_model import Ridge, Lasso, ElasticNet, LinearRegression, RidgeCV, LassoCV, ElasticNetCV\n",
    "from sklearn.tree import DecisionTreeRegressor\n",
    "from sklearn.linear_model import LogisticRegression\n",
    "from sklearn.tree import DecisionTreeClassifier\n",
    "from sklearn.ensemble import RandomForestClassifier\n",
    "from sklearn.preprocessing import StandardScaler\n",
    "\n",
    "from sklearn.externals.six import StringIO  \n",
    "from IPython.display import Image  \n",
    "from sklearn.tree import export_graphviz\n",
    "import pydotplus\n",
    "\n",
    "import itertools\n",
    "\n",
    "%config InlineBackend.figure_format = 'retina'\n",
    "%matplotlib inline\n",
    "\n",
    "import datetime, warnings, scipy "
   ]
  },
  {
   "cell_type": "markdown",
   "metadata": {},
   "source": [
    "# <span style=\"color:#040273\">Part A. Null Values Dropping and Features Selection"
   ]
  },
  {
   "cell_type": "markdown",
   "metadata": {},
   "source": [
    "<span style=\"color:#be0119\"><b>\n",
    "--- comment ---</b>\n",
    "\n",
    "<span style=\"color:#1e488f\"> I am prediction intervals of delays on arrival. Also I want to know about possible delays before plane start moving from the gate in departure airport. In this case I can use only information which not related to how long plane was moving to runway or how long plane was in the air, etc."
   ]
  },
  {
   "cell_type": "code",
   "execution_count": 135,
   "metadata": {
    "collapsed": false
   },
   "outputs": [
    {
     "name": "stdout",
     "output_type": "stream",
     "text": [
      "Number of records and columns:  (570007, 45)\n",
      "----------------------------------------------------------\n",
      "Columns:  Index(['Unnamed: 0', 'ID', 'YEAR', 'MONTH', 'DAY', 'DAY_OF_WEEK',\n",
      "       'AIRLINE_CODE', 'AIRLINE', 'TAIL_NUMBER', 'FLIGHT_NUMBER', 'DATE',\n",
      "       'ORIGIN_AIRPORT', 'AIRPORT_ORIGIN', 'CITY_ORIGIN', 'STATE_ORIGIN',\n",
      "       'LATITUDE_ORIGIN', 'LONGITUDE_ORIGIN', 'DESTINATION_AIRPORT',\n",
      "       'AIRPORT_DESTINATION', 'CITY_DESTINATION', 'STATE_DESTINATION',\n",
      "       'LATITUDE_DESTINATION', 'LONGITUDE_DESTINATION', 'SCHEDULED_DEPARTURE',\n",
      "       'DEPARTURE_TIME', 'DEPARTURE_DELAY', 'TAXI_OUT', 'WHEELS_OFF',\n",
      "       'WHEELS_ON', 'TAXI_IN', 'SCHEDULED_ARRIVAL', 'ARRIVAL_TIME',\n",
      "       'ARRIVAL_DELAY', 'CANCELLED', 'CANCELLATION_REASON', 'DIVERTED',\n",
      "       'SCHEDULED_TIME', 'ELAPSED_TIME', 'AIR_TIME', 'DISTANCE',\n",
      "       'AIRLINE_DELAY', 'WEATHER_DELAY', 'AIR_SYSTEM_DELAY', 'SECURITY_DELAY',\n",
      "       'LATE_AIRCRAFT_DELAY'],\n",
      "      dtype='object')\n"
     ]
    }
   ],
   "source": [
    "# Load my dataset and check shape with columns name. \n",
    "# ________________________________________________________\n",
    "df = pd.read_csv('1_full_file_ready_to_slice.csv', low_memory=False)\n",
    "print('Number of records and columns: ',df.shape)\n",
    "print('----------------------------------------------------------')\n",
    "print('Columns: ',df.columns)"
   ]
  },
  {
   "cell_type": "code",
   "execution_count": 136,
   "metadata": {
    "collapsed": false
   },
   "outputs": [
    {
     "data": {
      "text/plain": [
       "DAY_OF_WEEK                 0\n",
       "AIRLINE_CODE                0\n",
       "TAIL_NUMBER              1969\n",
       "FLIGHT_NUMBER               0\n",
       "ORIGIN_AIRPORT              0\n",
       "CITY_ORIGIN                 0\n",
       "STATE_ORIGIN                0\n",
       "DESTINATION_AIRPORT         0\n",
       "STATE_DESTINATION           0\n",
       "SCHEDULED_DEPARTURE         0\n",
       "DEPARTURE_DELAY         17332\n",
       "TAXI_OUT                17072\n",
       "SCHEDULED_ARRIVAL           0\n",
       "ARRIVAL_DELAY           18626\n",
       "SCHEDULED_TIME              0\n",
       "DISTANCE                    0\n",
       "AIRLINE_DELAY          472257\n",
       "WEATHER_DELAY          472257\n",
       "AIR_SYSTEM_DELAY       472257\n",
       "SECURITY_DELAY         472257\n",
       "LATE_AIRCRAFT_DELAY    472257\n",
       "dtype: int64"
      ]
     },
     "execution_count": 136,
     "metadata": {},
     "output_type": "execute_result"
    }
   ],
   "source": [
    "# Dropping unneeded columns and check for null values\n",
    "# ________________________________________________________\n",
    "df.drop(['Unnamed: 0', 'ID', 'YEAR', 'MONTH', 'DAY', 'AIRLINE', 'CANCELLATION_REASON', \n",
    "         'DATE', 'AIRPORT_ORIGIN', 'LATITUDE_ORIGIN', 'LONGITUDE_ORIGIN', 'AIRPORT_DESTINATION',\n",
    "         'LATITUDE_DESTINATION', 'LONGITUDE_DESTINATION', 'CITY_DESTINATION', 'DEPARTURE_TIME',\n",
    "         'WHEELS_OFF', 'WHEELS_ON', 'TAXI_IN', 'ARRIVAL_TIME', 'CANCELLED', 'CANCELLATION_REASON', \n",
    "         'DIVERTED', 'ELAPSED_TIME', 'AIR_TIME'], axis=1, inplace=True)\n",
    "\n",
    "df.isnull().sum()"
   ]
  },
  {
   "cell_type": "code",
   "execution_count": 138,
   "metadata": {
    "collapsed": false
   },
   "outputs": [
    {
     "name": "stdout",
     "output_type": "stream",
     "text": [
      "---------------------------------------------------\n",
      "Number of records after NaNs droping:  (550905, 21)\n",
      "---------------------------------------------------\n"
     ]
    }
   ],
   "source": [
    "# Fill all NaN's in features related to delays with '0'. Drop all nulls.\n",
    "# ________________________________________________________\n",
    "where_are_NaNs = isnan(df.AIRLINE_DELAY)\n",
    "df.AIRLINE_DELAY[where_are_NaNs] = 0\n",
    "\n",
    "where_are_NaNs = isnan(df.WEATHER_DELAY)\n",
    "df.WEATHER_DELAY[where_are_NaNs] = 0\n",
    "\n",
    "where_are_NaNs = isnan(df.AIR_SYSTEM_DELAY)\n",
    "df.AIR_SYSTEM_DELAY[where_are_NaNs] = 0\n",
    "\n",
    "where_are_NaNs = isnan(df.SECURITY_DELAY)\n",
    "df.SECURITY_DELAY[where_are_NaNs] = 0\n",
    "\n",
    "where_are_NaNs = isnan(df.LATE_AIRCRAFT_DELAY)\n",
    "df.LATE_AIRCRAFT_DELAY[where_are_NaNs] = 0\n",
    "\n",
    "\n",
    "df = df.dropna()\n",
    "print('---------------------------------------------------')\n",
    "print('Number of records after NaNs droping: ',df.shape)\n",
    "print('---------------------------------------------------')"
   ]
  },
  {
   "cell_type": "markdown",
   "metadata": {},
   "source": [
    "<img src=\"img/lin.jpg\">"
   ]
  },
  {
   "cell_type": "markdown",
   "metadata": {},
   "source": [
    "<b><span style=\"color:#610023\">First my attempt was to make 8 categories instead of 4 and my Baseline was lower than 0.10.<b><br>\n",
    "    \n",
    "<b><span style=\"color:#610023\">I used Intervals of Delays on Arrival:</b><br>\n",
    "                              1.  2 - 10 min\n",
    "                              2.  10 - 18 min\n",
    "                              3.  18 - 26 min\n",
    "                              4.  26 - 34 min\n",
    "                              5.  34 - 50 min\n",
    "                              6.  50 - 70 min\n",
    "                              7.  70 - 90 min\n",
    "                              8.  90 - 120 min\n",
    "                           \n",
    "<b><span style=\"color:#610023\">I got result for 3 different models:<br>\n",
    "\n",
    "                              LogisticRegression: 0.3268\n",
    "                              DessisionTree: 0.3267\n",
    "                              RandomForest: 0.2605\n",
    "                              \n",
    "<b><span style=\"color:#610023\">But based on confusion matrix, I was getting many wrong predictions, that why I decided reduce number of ranges.<br>"
   ]
  },
  {
   "cell_type": "markdown",
   "metadata": {},
   "source": [
    "<img src=\"img/lin.jpg\">"
   ]
  },
  {
   "cell_type": "markdown",
   "metadata": {},
   "source": [
    "# <span style=\"color:#040273\">Part B. Tuning of Target and Predictors."
   ]
  },
  {
   "cell_type": "markdown",
   "metadata": {},
   "source": [
    "<span style=\"color:#be0119\"><b>\n",
    "--- comment ---</b>\n",
    "\n",
    "<span style=\"color:#1e488f\"> In this part I will 1st set my Target variable as <b>( 1 / 2 / 3 / 4 )</b>. Each number will represent range in time of delays on Arrival.<br> \n",
    "\n",
    "                                1 = (2 - 8  minutes), \n",
    "                                2 = (8 - 15  minutes), \n",
    "                                3 = (15 - 45  minutes), \n",
    "                                4 = (45 - 120  minutes). \n",
    "<span style=\"color:#1e488f\">Then I will create categorical variables and tronsforme them into dummies. "
   ]
  },
  {
   "cell_type": "markdown",
   "metadata": {},
   "source": [
    "# <span style=\"color:#ffad01\">1. Target: <span style=\"color:#004577\">How big the delay."
   ]
  },
  {
   "cell_type": "code",
   "execution_count": 139,
   "metadata": {
    "collapsed": false
   },
   "outputs": [
    {
     "data": {
      "text/plain": [
       "(170555, 21)"
      ]
     },
     "execution_count": 139,
     "metadata": {},
     "output_type": "execute_result"
    }
   ],
   "source": [
    "# I will count delays if it's more than 2 minutes.\n",
    "# ________________________________________________________\n",
    "df = df[df.ARRIVAL_DELAY >= 2]\n",
    "df.shape"
   ]
  },
  {
   "cell_type": "code",
   "execution_count": 140,
   "metadata": {
    "collapsed": false
   },
   "outputs": [
    {
     "data": {
      "text/plain": [
       "count    170555.000000\n",
       "mean         40.990935\n",
       "std          72.650309\n",
       "min           2.000000\n",
       "25%           8.000000\n",
       "50%          19.000000\n",
       "75%          45.000000\n",
       "max        2023.000000\n",
       "Name: ARRIVAL_DELAY, dtype: float64"
      ]
     },
     "execution_count": 140,
     "metadata": {},
     "output_type": "execute_result"
    }
   ],
   "source": [
    "# As I can see mean is 40, when is max 2023. I will use range only 2 - 120 minutes.\n",
    "# ________________________________________________________\n",
    "df.ARRIVAL_DELAY.describe()"
   ]
  },
  {
   "cell_type": "code",
   "execution_count": 141,
   "metadata": {
    "collapsed": false
   },
   "outputs": [
    {
     "data": {
      "text/plain": [
       "(157948, 21)"
      ]
     },
     "execution_count": 141,
     "metadata": {},
     "output_type": "execute_result"
    }
   ],
   "source": [
    "# I will keep only delays up to 2 hrs. \n",
    "df = df[df.ARRIVAL_DELAY <= 120]\n",
    "df.shape"
   ]
  },
  {
   "cell_type": "code",
   "execution_count": 142,
   "metadata": {
    "collapsed": true
   },
   "outputs": [],
   "source": [
    "# Creating my 4 categories.\n",
    "# ________________________________________________________\n",
    "df['Delay_interval'] =  df['ARRIVAL_DELAY'].apply(lambda x: 0 if  x < 8 else int(x))\n",
    "df['Delay_interval'] =  df['Delay_interval'].apply(lambda x: 1 if x >= 8 and x < 15 else int(x))\n",
    "df['Delay_interval'] =  df['Delay_interval'].apply(lambda x: 2 if x >= 15 and x < 45 else int(x))\n",
    "df['Delay_interval'] =  df['Delay_interval'].apply(lambda x: 3 if x >= 45 else int(x))"
   ]
  },
  {
   "cell_type": "code",
   "execution_count": 143,
   "metadata": {
    "collapsed": false
   },
   "outputs": [
    {
     "data": {
      "text/plain": [
       "2    54263\n",
       "0    41404\n",
       "1    31436\n",
       "3    30845\n",
       "Name: Delay_interval, dtype: int64"
      ]
     },
     "execution_count": 143,
     "metadata": {},
     "output_type": "execute_result"
    }
   ],
   "source": [
    "# Check for proportions.\n",
    "# ________________________________________________________\n",
    "df.Delay_interval.value_counts()"
   ]
  },
  {
   "cell_type": "markdown",
   "metadata": {},
   "source": [
    "<img src=\"img/lin.jpg\">"
   ]
  },
  {
   "cell_type": "markdown",
   "metadata": {},
   "source": [
    "# <span style=\"color:#ffad01\">2. Predictor: <span style=\"color:#004577\">Day of the Week."
   ]
  },
  {
   "cell_type": "markdown",
   "metadata": {},
   "source": [
    "<span style=\"color:#be0119\"><b>\n",
    "--- comment ---</b>\n",
    "\n",
    "<span style=\"color:#1e488f\">I will count mean of length of delay for each day of the week and make 7 categories."
   ]
  },
  {
   "cell_type": "code",
   "execution_count": 144,
   "metadata": {
    "collapsed": false
   },
   "outputs": [
    {
     "data": {
      "text/html": [
       "<div>\n",
       "<style scoped>\n",
       "    .dataframe tbody tr th:only-of-type {\n",
       "        vertical-align: middle;\n",
       "    }\n",
       "\n",
       "    .dataframe tbody tr th {\n",
       "        vertical-align: top;\n",
       "    }\n",
       "\n",
       "    .dataframe thead th {\n",
       "        text-align: right;\n",
       "    }\n",
       "</style>\n",
       "<table border=\"1\" class=\"dataframe\">\n",
       "  <thead>\n",
       "    <tr style=\"text-align: right;\">\n",
       "      <th></th>\n",
       "      <th>DAY_OF_WEEK</th>\n",
       "      <th>ARRIVAL_DELAY</th>\n",
       "    </tr>\n",
       "  </thead>\n",
       "  <tbody>\n",
       "    <tr>\n",
       "      <th>0</th>\n",
       "      <td>1</td>\n",
       "      <td>28.237387</td>\n",
       "    </tr>\n",
       "    <tr>\n",
       "      <th>1</th>\n",
       "      <td>2</td>\n",
       "      <td>27.311503</td>\n",
       "    </tr>\n",
       "    <tr>\n",
       "      <th>2</th>\n",
       "      <td>3</td>\n",
       "      <td>26.011640</td>\n",
       "    </tr>\n",
       "    <tr>\n",
       "      <th>3</th>\n",
       "      <td>4</td>\n",
       "      <td>24.006217</td>\n",
       "    </tr>\n",
       "    <tr>\n",
       "      <th>4</th>\n",
       "      <td>5</td>\n",
       "      <td>27.059525</td>\n",
       "    </tr>\n",
       "    <tr>\n",
       "      <th>5</th>\n",
       "      <td>6</td>\n",
       "      <td>23.640680</td>\n",
       "    </tr>\n",
       "    <tr>\n",
       "      <th>6</th>\n",
       "      <td>7</td>\n",
       "      <td>25.333709</td>\n",
       "    </tr>\n",
       "  </tbody>\n",
       "</table>\n",
       "</div>"
      ],
      "text/plain": [
       "   DAY_OF_WEEK  ARRIVAL_DELAY\n",
       "0            1      28.237387\n",
       "1            2      27.311503\n",
       "2            3      26.011640\n",
       "3            4      24.006217\n",
       "4            5      27.059525\n",
       "5            6      23.640680\n",
       "6            7      25.333709"
      ]
     },
     "execution_count": 144,
     "metadata": {},
     "output_type": "execute_result"
    }
   ],
   "source": [
    "time_delays_by_day = df.pivot_table(index='DAY_OF_WEEK', values='ARRIVAL_DELAY', aggfunc='mean')\n",
    "df_xxx = pd.DataFrame(time_delays_by_day)\n",
    "df_xxx.reset_index(level=0, inplace=True)\n",
    "df_xxx"
   ]
  },
  {
   "cell_type": "code",
   "execution_count": 145,
   "metadata": {
    "collapsed": false
   },
   "outputs": [
    {
     "data": {
      "text/html": [
       "<div>\n",
       "<style scoped>\n",
       "    .dataframe tbody tr th:only-of-type {\n",
       "        vertical-align: middle;\n",
       "    }\n",
       "\n",
       "    .dataframe tbody tr th {\n",
       "        vertical-align: top;\n",
       "    }\n",
       "\n",
       "    .dataframe thead th {\n",
       "        text-align: right;\n",
       "    }\n",
       "</style>\n",
       "<table border=\"1\" class=\"dataframe\">\n",
       "  <thead>\n",
       "    <tr style=\"text-align: right;\">\n",
       "      <th></th>\n",
       "      <th>DAY_OF_WEEK</th>\n",
       "      <th>ARRIVAL_DELAY</th>\n",
       "    </tr>\n",
       "  </thead>\n",
       "  <tbody>\n",
       "    <tr>\n",
       "      <th>count</th>\n",
       "      <td>7.000000</td>\n",
       "      <td>7.000000</td>\n",
       "    </tr>\n",
       "    <tr>\n",
       "      <th>mean</th>\n",
       "      <td>4.000000</td>\n",
       "      <td>25.942951</td>\n",
       "    </tr>\n",
       "    <tr>\n",
       "      <th>std</th>\n",
       "      <td>2.160247</td>\n",
       "      <td>1.722953</td>\n",
       "    </tr>\n",
       "    <tr>\n",
       "      <th>min</th>\n",
       "      <td>1.000000</td>\n",
       "      <td>23.640680</td>\n",
       "    </tr>\n",
       "    <tr>\n",
       "      <th>25%</th>\n",
       "      <td>2.500000</td>\n",
       "      <td>24.669963</td>\n",
       "    </tr>\n",
       "    <tr>\n",
       "      <th>50%</th>\n",
       "      <td>4.000000</td>\n",
       "      <td>26.011640</td>\n",
       "    </tr>\n",
       "    <tr>\n",
       "      <th>75%</th>\n",
       "      <td>5.500000</td>\n",
       "      <td>27.185514</td>\n",
       "    </tr>\n",
       "    <tr>\n",
       "      <th>max</th>\n",
       "      <td>7.000000</td>\n",
       "      <td>28.237387</td>\n",
       "    </tr>\n",
       "  </tbody>\n",
       "</table>\n",
       "</div>"
      ],
      "text/plain": [
       "       DAY_OF_WEEK  ARRIVAL_DELAY\n",
       "count     7.000000       7.000000\n",
       "mean      4.000000      25.942951\n",
       "std       2.160247       1.722953\n",
       "min       1.000000      23.640680\n",
       "25%       2.500000      24.669963\n",
       "50%       4.000000      26.011640\n",
       "75%       5.500000      27.185514\n",
       "max       7.000000      28.237387"
      ]
     },
     "execution_count": 145,
     "metadata": {},
     "output_type": "execute_result"
    }
   ],
   "source": [
    "df_xxx.describe()"
   ]
  },
  {
   "cell_type": "code",
   "execution_count": 146,
   "metadata": {
    "collapsed": true
   },
   "outputs": [],
   "source": [
    "df_xxx['days_length_del'] =  df_xxx['ARRIVAL_DELAY'].apply(lambda x: 1 if x > 23 and x <= 23.7 else float(x))\n",
    "df_xxx['days_length_del'] =  df_xxx['days_length_del'].apply(lambda x: 2 if x > 24 and x <= 25 else float(x))\n",
    "df_xxx['days_length_del'] =  df_xxx['days_length_del'].apply(lambda x: 3 if x > 25 and x <= 26 else float(x))\n",
    "df_xxx['days_length_del'] =  df_xxx['days_length_del'].apply(lambda x: 4 if x > 26 and x <= 27 else float(x))\n",
    "df_xxx['days_length_del'] =  df_xxx['days_length_del'].apply(lambda x: 5 if x > 27 and x <= 27.06 else float(x))\n",
    "df_xxx['days_length_del'] =  df_xxx['days_length_del'].apply(lambda x: 6 if x > 27.06 and x <= 28 else float(x))\n",
    "df_xxx['days_length_del'] =  df_xxx['days_length_del'].apply(lambda x: 7 if x > 28 else float(x))"
   ]
  },
  {
   "cell_type": "code",
   "execution_count": 147,
   "metadata": {
    "collapsed": false
   },
   "outputs": [],
   "source": [
    "df = pd.merge(df,df_xxx, on=['DAY_OF_WEEK'])\n",
    "df.drop('ARRIVAL_DELAY_y', axis=1, inplace=True)"
   ]
  },
  {
   "cell_type": "markdown",
   "metadata": {},
   "source": [
    "<img src=\"img/lin.jpg\">"
   ]
  },
  {
   "cell_type": "markdown",
   "metadata": {},
   "source": [
    "# <span style=\"color:#ffad01\">3. Predictor: <span style=\"color:#004577\">Airline Code."
   ]
  },
  {
   "cell_type": "markdown",
   "metadata": {},
   "source": [
    "<span style=\"color:#be0119\"><b>\n",
    "--- comment ---</b>\n",
    "\n",
    "<span style=\"color:#1e488f\">I count mean of length of delay for each airline then I make 4 intervals. I will split for for group based on describe() information max, min, mean values. I will follow same approach for rest of my categorical features."
   ]
  },
  {
   "cell_type": "code",
   "execution_count": 148,
   "metadata": {
    "collapsed": false
   },
   "outputs": [
    {
     "data": {
      "text/html": [
       "<div>\n",
       "<style scoped>\n",
       "    .dataframe tbody tr th:only-of-type {\n",
       "        vertical-align: middle;\n",
       "    }\n",
       "\n",
       "    .dataframe tbody tr th {\n",
       "        vertical-align: top;\n",
       "    }\n",
       "\n",
       "    .dataframe thead th {\n",
       "        text-align: right;\n",
       "    }\n",
       "</style>\n",
       "<table border=\"1\" class=\"dataframe\">\n",
       "  <thead>\n",
       "    <tr style=\"text-align: right;\">\n",
       "      <th></th>\n",
       "      <th>AIRLINE_CODE</th>\n",
       "      <th>ARRIVAL_DELAY_x</th>\n",
       "    </tr>\n",
       "  </thead>\n",
       "  <tbody>\n",
       "    <tr>\n",
       "      <th>0</th>\n",
       "      <td>9E</td>\n",
       "      <td>32.251547</td>\n",
       "    </tr>\n",
       "    <tr>\n",
       "      <th>1</th>\n",
       "      <td>AA</td>\n",
       "      <td>23.882518</td>\n",
       "    </tr>\n",
       "    <tr>\n",
       "      <th>2</th>\n",
       "      <td>AS</td>\n",
       "      <td>19.064572</td>\n",
       "    </tr>\n",
       "    <tr>\n",
       "      <th>3</th>\n",
       "      <td>B6</td>\n",
       "      <td>32.979501</td>\n",
       "    </tr>\n",
       "    <tr>\n",
       "      <th>4</th>\n",
       "      <td>DL</td>\n",
       "      <td>27.067780</td>\n",
       "    </tr>\n",
       "  </tbody>\n",
       "</table>\n",
       "</div>"
      ],
      "text/plain": [
       "  AIRLINE_CODE  ARRIVAL_DELAY_x\n",
       "0           9E        32.251547\n",
       "1           AA        23.882518\n",
       "2           AS        19.064572\n",
       "3           B6        32.979501\n",
       "4           DL        27.067780"
      ]
     },
     "execution_count": 148,
     "metadata": {},
     "output_type": "execute_result"
    }
   ],
   "source": [
    "time_delays_by_airline = df.pivot_table(index='AIRLINE_CODE', values='ARRIVAL_DELAY_x', aggfunc='mean')\n",
    "df_xxx = pd.DataFrame(time_delays_by_airline)\n",
    "df_xxx.reset_index(level=0, inplace=True)\n",
    "df_xxx.head(5)"
   ]
  },
  {
   "cell_type": "code",
   "execution_count": 149,
   "metadata": {
    "collapsed": false
   },
   "outputs": [
    {
     "data": {
      "text/html": [
       "<div>\n",
       "<style scoped>\n",
       "    .dataframe tbody tr th:only-of-type {\n",
       "        vertical-align: middle;\n",
       "    }\n",
       "\n",
       "    .dataframe tbody tr th {\n",
       "        vertical-align: top;\n",
       "    }\n",
       "\n",
       "    .dataframe thead th {\n",
       "        text-align: right;\n",
       "    }\n",
       "</style>\n",
       "<table border=\"1\" class=\"dataframe\">\n",
       "  <thead>\n",
       "    <tr style=\"text-align: right;\">\n",
       "      <th></th>\n",
       "      <th>ARRIVAL_DELAY_x</th>\n",
       "    </tr>\n",
       "  </thead>\n",
       "  <tbody>\n",
       "    <tr>\n",
       "      <th>count</th>\n",
       "      <td>18.000000</td>\n",
       "    </tr>\n",
       "    <tr>\n",
       "      <th>mean</th>\n",
       "      <td>26.344196</td>\n",
       "    </tr>\n",
       "    <tr>\n",
       "      <th>std</th>\n",
       "      <td>4.449376</td>\n",
       "    </tr>\n",
       "    <tr>\n",
       "      <th>min</th>\n",
       "      <td>15.355207</td>\n",
       "    </tr>\n",
       "    <tr>\n",
       "      <th>25%</th>\n",
       "      <td>24.497494</td>\n",
       "    </tr>\n",
       "    <tr>\n",
       "      <th>50%</th>\n",
       "      <td>26.513544</td>\n",
       "    </tr>\n",
       "    <tr>\n",
       "      <th>75%</th>\n",
       "      <td>29.024912</td>\n",
       "    </tr>\n",
       "    <tr>\n",
       "      <th>max</th>\n",
       "      <td>32.979501</td>\n",
       "    </tr>\n",
       "  </tbody>\n",
       "</table>\n",
       "</div>"
      ],
      "text/plain": [
       "       ARRIVAL_DELAY_x\n",
       "count        18.000000\n",
       "mean         26.344196\n",
       "std           4.449376\n",
       "min          15.355207\n",
       "25%          24.497494\n",
       "50%          26.513544\n",
       "75%          29.024912\n",
       "max          32.979501"
      ]
     },
     "execution_count": 149,
     "metadata": {},
     "output_type": "execute_result"
    }
   ],
   "source": [
    "df_xxx.describe()"
   ]
  },
  {
   "cell_type": "code",
   "execution_count": 150,
   "metadata": {
    "collapsed": true
   },
   "outputs": [],
   "source": [
    "df_xxx['airline_del_mean'] =  df_xxx['ARRIVAL_DELAY_x'].apply(lambda x: 1 if x > 15 and x <= 20 else int(x))\n",
    "df_xxx['airline_del_mean'] =  df_xxx['airline_del_mean'].apply(lambda x: 2 if x > 20 and x <= 26 else int(x))\n",
    "df_xxx['airline_del_mean'] =  df_xxx['airline_del_mean'].apply(lambda x: 3 if x > 26 and x <= 30 else int(x))\n",
    "df_xxx['airline_del_mean'] =  df_xxx['airline_del_mean'].apply(lambda x: 4 if x > 30 and x <= 33 else int(x))"
   ]
  },
  {
   "cell_type": "code",
   "execution_count": 151,
   "metadata": {
    "collapsed": true
   },
   "outputs": [],
   "source": [
    "df = pd.merge(df,df_xxx, on=['AIRLINE_CODE'])\n",
    "df.drop('ARRIVAL_DELAY_x_y', axis=1, inplace=True)"
   ]
  },
  {
   "cell_type": "markdown",
   "metadata": {},
   "source": [
    "<img src=\"img/lin.jpg\">"
   ]
  },
  {
   "cell_type": "markdown",
   "metadata": {},
   "source": [
    "# <span style=\"color:#ffad01\">4. Predictor: <span style=\"color:#004577\">Tail Number."
   ]
  },
  {
   "cell_type": "code",
   "execution_count": 152,
   "metadata": {
    "collapsed": false
   },
   "outputs": [
    {
     "data": {
      "text/html": [
       "<div>\n",
       "<style scoped>\n",
       "    .dataframe tbody tr th:only-of-type {\n",
       "        vertical-align: middle;\n",
       "    }\n",
       "\n",
       "    .dataframe tbody tr th {\n",
       "        vertical-align: top;\n",
       "    }\n",
       "\n",
       "    .dataframe thead th {\n",
       "        text-align: right;\n",
       "    }\n",
       "</style>\n",
       "<table border=\"1\" class=\"dataframe\">\n",
       "  <thead>\n",
       "    <tr style=\"text-align: right;\">\n",
       "      <th></th>\n",
       "      <th>TAIL_NUMBER</th>\n",
       "      <th>ARRIVAL_DELAY_x_x</th>\n",
       "    </tr>\n",
       "  </thead>\n",
       "  <tbody>\n",
       "    <tr>\n",
       "      <th>0</th>\n",
       "      <td>215NV</td>\n",
       "      <td>31.400000</td>\n",
       "    </tr>\n",
       "    <tr>\n",
       "      <th>1</th>\n",
       "      <td>216NV</td>\n",
       "      <td>26.738095</td>\n",
       "    </tr>\n",
       "    <tr>\n",
       "      <th>2</th>\n",
       "      <td>217NV</td>\n",
       "      <td>11.885714</td>\n",
       "    </tr>\n",
       "    <tr>\n",
       "      <th>3</th>\n",
       "      <td>218NV</td>\n",
       "      <td>44.687500</td>\n",
       "    </tr>\n",
       "    <tr>\n",
       "      <th>4</th>\n",
       "      <td>219NV</td>\n",
       "      <td>27.586207</td>\n",
       "    </tr>\n",
       "  </tbody>\n",
       "</table>\n",
       "</div>"
      ],
      "text/plain": [
       "  TAIL_NUMBER  ARRIVAL_DELAY_x_x\n",
       "0       215NV          31.400000\n",
       "1       216NV          26.738095\n",
       "2       217NV          11.885714\n",
       "3       218NV          44.687500\n",
       "4       219NV          27.586207"
      ]
     },
     "execution_count": 152,
     "metadata": {},
     "output_type": "execute_result"
    }
   ],
   "source": [
    "time_delays_by_tail = df.pivot_table(index='TAIL_NUMBER', values='ARRIVAL_DELAY_x_x', aggfunc='mean')\n",
    "df_xxx = pd.DataFrame(time_delays_by_tail)\n",
    "df_xxx.reset_index(level=0, inplace=True)\n",
    "df_xxx.head(5)"
   ]
  },
  {
   "cell_type": "code",
   "execution_count": 153,
   "metadata": {
    "collapsed": false
   },
   "outputs": [
    {
     "data": {
      "text/html": [
       "<div>\n",
       "<style scoped>\n",
       "    .dataframe tbody tr th:only-of-type {\n",
       "        vertical-align: middle;\n",
       "    }\n",
       "\n",
       "    .dataframe tbody tr th {\n",
       "        vertical-align: top;\n",
       "    }\n",
       "\n",
       "    .dataframe thead th {\n",
       "        text-align: right;\n",
       "    }\n",
       "</style>\n",
       "<table border=\"1\" class=\"dataframe\">\n",
       "  <thead>\n",
       "    <tr style=\"text-align: right;\">\n",
       "      <th></th>\n",
       "      <th>ARRIVAL_DELAY_x_x</th>\n",
       "    </tr>\n",
       "  </thead>\n",
       "  <tbody>\n",
       "    <tr>\n",
       "      <th>count</th>\n",
       "      <td>5188.000000</td>\n",
       "    </tr>\n",
       "    <tr>\n",
       "      <th>mean</th>\n",
       "      <td>26.017686</td>\n",
       "    </tr>\n",
       "    <tr>\n",
       "      <th>std</th>\n",
       "      <td>9.007034</td>\n",
       "    </tr>\n",
       "    <tr>\n",
       "      <th>min</th>\n",
       "      <td>2.000000</td>\n",
       "    </tr>\n",
       "    <tr>\n",
       "      <th>25%</th>\n",
       "      <td>20.139725</td>\n",
       "    </tr>\n",
       "    <tr>\n",
       "      <th>50%</th>\n",
       "      <td>25.269231</td>\n",
       "    </tr>\n",
       "    <tr>\n",
       "      <th>75%</th>\n",
       "      <td>30.896053</td>\n",
       "    </tr>\n",
       "    <tr>\n",
       "      <th>max</th>\n",
       "      <td>112.000000</td>\n",
       "    </tr>\n",
       "  </tbody>\n",
       "</table>\n",
       "</div>"
      ],
      "text/plain": [
       "       ARRIVAL_DELAY_x_x\n",
       "count        5188.000000\n",
       "mean           26.017686\n",
       "std             9.007034\n",
       "min             2.000000\n",
       "25%            20.139725\n",
       "50%            25.269231\n",
       "75%            30.896053\n",
       "max           112.000000"
      ]
     },
     "execution_count": 153,
     "metadata": {},
     "output_type": "execute_result"
    }
   ],
   "source": [
    "df_xxx.describe()"
   ]
  },
  {
   "cell_type": "code",
   "execution_count": 154,
   "metadata": {
    "collapsed": true
   },
   "outputs": [],
   "source": [
    "df_xxx['tail_del_mean'] =  df_xxx['ARRIVAL_DELAY_x_x'].apply(lambda x: 1 if x > 1 and x <= 28 else int(x))\n",
    "df_xxx['tail_del_mean'] =  df_xxx['tail_del_mean'].apply(lambda x: 2 if x > 28 and x <= 56 else int(x))\n",
    "df_xxx['tail_del_mean'] =  df_xxx['tail_del_mean'].apply(lambda x: 3 if x > 56 and x <= 84 else int(x))\n",
    "df_xxx['tail_del_mean'] =  df_xxx['tail_del_mean'].apply(lambda x: 4 if x > 84 and x <= 113 else int(x))\n",
    "df_xxx['tail_del_mean'] =  df_xxx['tail_del_mean'].apply(lambda x: 1 if x == 28 else int(x))"
   ]
  },
  {
   "cell_type": "code",
   "execution_count": 155,
   "metadata": {
    "collapsed": false
   },
   "outputs": [],
   "source": [
    "df = pd.merge(df,df_xxx, on=['TAIL_NUMBER'])\n",
    "df.drop('ARRIVAL_DELAY_x_x_y', axis=1, inplace=True)"
   ]
  },
  {
   "cell_type": "markdown",
   "metadata": {},
   "source": [
    "<img src=\"img/lin.jpg\">"
   ]
  },
  {
   "cell_type": "markdown",
   "metadata": {},
   "source": [
    "# <span style=\"color:#ffad01\">5. Predictor: <span style=\"color:#004577\">Flight Number."
   ]
  },
  {
   "cell_type": "code",
   "execution_count": 156,
   "metadata": {
    "collapsed": false
   },
   "outputs": [
    {
     "data": {
      "text/html": [
       "<div>\n",
       "<style scoped>\n",
       "    .dataframe tbody tr th:only-of-type {\n",
       "        vertical-align: middle;\n",
       "    }\n",
       "\n",
       "    .dataframe tbody tr th {\n",
       "        vertical-align: top;\n",
       "    }\n",
       "\n",
       "    .dataframe thead th {\n",
       "        text-align: right;\n",
       "    }\n",
       "</style>\n",
       "<table border=\"1\" class=\"dataframe\">\n",
       "  <thead>\n",
       "    <tr style=\"text-align: right;\">\n",
       "      <th></th>\n",
       "      <th>FLIGHT_NUMBER</th>\n",
       "      <th>ARRIVAL_DELAY_x_x_x</th>\n",
       "    </tr>\n",
       "  </thead>\n",
       "  <tbody>\n",
       "    <tr>\n",
       "      <th>0</th>\n",
       "      <td>1</td>\n",
       "      <td>27.868421</td>\n",
       "    </tr>\n",
       "    <tr>\n",
       "      <th>1</th>\n",
       "      <td>2</td>\n",
       "      <td>28.657895</td>\n",
       "    </tr>\n",
       "    <tr>\n",
       "      <th>2</th>\n",
       "      <td>3</td>\n",
       "      <td>28.650000</td>\n",
       "    </tr>\n",
       "    <tr>\n",
       "      <th>3</th>\n",
       "      <td>4</td>\n",
       "      <td>24.558824</td>\n",
       "    </tr>\n",
       "    <tr>\n",
       "      <th>4</th>\n",
       "      <td>5</td>\n",
       "      <td>19.190476</td>\n",
       "    </tr>\n",
       "  </tbody>\n",
       "</table>\n",
       "</div>"
      ],
      "text/plain": [
       "   FLIGHT_NUMBER  ARRIVAL_DELAY_x_x_x\n",
       "0              1            27.868421\n",
       "1              2            28.657895\n",
       "2              3            28.650000\n",
       "3              4            24.558824\n",
       "4              5            19.190476"
      ]
     },
     "execution_count": 156,
     "metadata": {},
     "output_type": "execute_result"
    }
   ],
   "source": [
    "time_delays_by_flight = df.pivot_table(index='FLIGHT_NUMBER', values='ARRIVAL_DELAY_x_x_x', aggfunc='mean')\n",
    "df_xxx = pd.DataFrame(time_delays_by_flight)\n",
    "df_xxx.reset_index(level=0, inplace=True)\n",
    "df_xxx.head(5)"
   ]
  },
  {
   "cell_type": "code",
   "execution_count": 157,
   "metadata": {
    "collapsed": false
   },
   "outputs": [
    {
     "data": {
      "text/html": [
       "<div>\n",
       "<style scoped>\n",
       "    .dataframe tbody tr th:only-of-type {\n",
       "        vertical-align: middle;\n",
       "    }\n",
       "\n",
       "    .dataframe tbody tr th {\n",
       "        vertical-align: top;\n",
       "    }\n",
       "\n",
       "    .dataframe thead th {\n",
       "        text-align: right;\n",
       "    }\n",
       "</style>\n",
       "<table border=\"1\" class=\"dataframe\">\n",
       "  <thead>\n",
       "    <tr style=\"text-align: right;\">\n",
       "      <th></th>\n",
       "      <th>FLIGHT_NUMBER</th>\n",
       "      <th>ARRIVAL_DELAY_x_x_x</th>\n",
       "    </tr>\n",
       "  </thead>\n",
       "  <tbody>\n",
       "    <tr>\n",
       "      <th>count</th>\n",
       "      <td>6703.000000</td>\n",
       "      <td>6703.000000</td>\n",
       "    </tr>\n",
       "    <tr>\n",
       "      <th>mean</th>\n",
       "      <td>3397.335671</td>\n",
       "      <td>26.074615</td>\n",
       "    </tr>\n",
       "    <tr>\n",
       "      <th>std</th>\n",
       "      <td>1987.543175</td>\n",
       "      <td>10.276940</td>\n",
       "    </tr>\n",
       "    <tr>\n",
       "      <th>min</th>\n",
       "      <td>1.000000</td>\n",
       "      <td>2.000000</td>\n",
       "    </tr>\n",
       "    <tr>\n",
       "      <th>25%</th>\n",
       "      <td>1680.500000</td>\n",
       "      <td>20.202941</td>\n",
       "    </tr>\n",
       "    <tr>\n",
       "      <th>50%</th>\n",
       "      <td>3384.000000</td>\n",
       "      <td>25.333333</td>\n",
       "    </tr>\n",
       "    <tr>\n",
       "      <th>75%</th>\n",
       "      <td>5094.500000</td>\n",
       "      <td>30.790491</td>\n",
       "    </tr>\n",
       "    <tr>\n",
       "      <th>max</th>\n",
       "      <td>7439.000000</td>\n",
       "      <td>120.000000</td>\n",
       "    </tr>\n",
       "  </tbody>\n",
       "</table>\n",
       "</div>"
      ],
      "text/plain": [
       "       FLIGHT_NUMBER  ARRIVAL_DELAY_x_x_x\n",
       "count    6703.000000          6703.000000\n",
       "mean     3397.335671            26.074615\n",
       "std      1987.543175            10.276940\n",
       "min         1.000000             2.000000\n",
       "25%      1680.500000            20.202941\n",
       "50%      3384.000000            25.333333\n",
       "75%      5094.500000            30.790491\n",
       "max      7439.000000           120.000000"
      ]
     },
     "execution_count": 157,
     "metadata": {},
     "output_type": "execute_result"
    }
   ],
   "source": [
    "df_xxx.describe()"
   ]
  },
  {
   "cell_type": "code",
   "execution_count": 158,
   "metadata": {
    "collapsed": true
   },
   "outputs": [],
   "source": [
    "df_xxx['flight_del_mean'] =  df_xxx['ARRIVAL_DELAY_x_x_x'].apply(lambda x: 1 if x > 1 and x <= 28 else int(x))\n",
    "df_xxx['flight_del_mean'] =  df_xxx['flight_del_mean'].apply(lambda x: 2 if x > 28 and x <= 56 else int(x))\n",
    "df_xxx['flight_del_mean'] =  df_xxx['flight_del_mean'].apply(lambda x: 3 if x > 56 and x <= 84 else int(x))\n",
    "df_xxx['flight_del_mean'] =  df_xxx['flight_del_mean'].apply(lambda x: 4 if x > 84 else int(x))\n",
    "df_xxx['flight_del_mean'] =  df_xxx['flight_del_mean'].apply(lambda x: 1 if x == 28 else int(x))"
   ]
  },
  {
   "cell_type": "code",
   "execution_count": 159,
   "metadata": {
    "collapsed": true
   },
   "outputs": [],
   "source": [
    "df = pd.merge(df,df_xxx, on=['FLIGHT_NUMBER'])\n",
    "df.drop('ARRIVAL_DELAY_x_x_x_y', axis=1, inplace=True)"
   ]
  },
  {
   "cell_type": "markdown",
   "metadata": {},
   "source": [
    "<img src=\"img/lin.jpg\">"
   ]
  },
  {
   "cell_type": "markdown",
   "metadata": {},
   "source": [
    "# <span style=\"color:#ffad01\">6. Predictor: <span style=\"color:#004577\">Origin Airport."
   ]
  },
  {
   "cell_type": "code",
   "execution_count": 160,
   "metadata": {
    "collapsed": false
   },
   "outputs": [
    {
     "data": {
      "text/html": [
       "<div>\n",
       "<style scoped>\n",
       "    .dataframe tbody tr th:only-of-type {\n",
       "        vertical-align: middle;\n",
       "    }\n",
       "\n",
       "    .dataframe tbody tr th {\n",
       "        vertical-align: top;\n",
       "    }\n",
       "\n",
       "    .dataframe thead th {\n",
       "        text-align: right;\n",
       "    }\n",
       "</style>\n",
       "<table border=\"1\" class=\"dataframe\">\n",
       "  <thead>\n",
       "    <tr style=\"text-align: right;\">\n",
       "      <th></th>\n",
       "      <th>ORIGIN_AIRPORT</th>\n",
       "      <th>ARRIVAL_DELAY_x_x_x_x</th>\n",
       "    </tr>\n",
       "  </thead>\n",
       "  <tbody>\n",
       "    <tr>\n",
       "      <th>0</th>\n",
       "      <td>ABE</td>\n",
       "      <td>26.324074</td>\n",
       "    </tr>\n",
       "    <tr>\n",
       "      <th>1</th>\n",
       "      <td>ABI</td>\n",
       "      <td>22.759259</td>\n",
       "    </tr>\n",
       "    <tr>\n",
       "      <th>2</th>\n",
       "      <td>ABQ</td>\n",
       "      <td>25.252315</td>\n",
       "    </tr>\n",
       "    <tr>\n",
       "      <th>3</th>\n",
       "      <td>ABR</td>\n",
       "      <td>17.529412</td>\n",
       "    </tr>\n",
       "    <tr>\n",
       "      <th>4</th>\n",
       "      <td>ABY</td>\n",
       "      <td>27.250000</td>\n",
       "    </tr>\n",
       "  </tbody>\n",
       "</table>\n",
       "</div>"
      ],
      "text/plain": [
       "  ORIGIN_AIRPORT  ARRIVAL_DELAY_x_x_x_x\n",
       "0            ABE              26.324074\n",
       "1            ABI              22.759259\n",
       "2            ABQ              25.252315\n",
       "3            ABR              17.529412\n",
       "4            ABY              27.250000"
      ]
     },
     "execution_count": 160,
     "metadata": {},
     "output_type": "execute_result"
    }
   ],
   "source": [
    "time_delays_by_origin_airport = df.pivot_table(index='ORIGIN_AIRPORT', values='ARRIVAL_DELAY_x_x_x_x', aggfunc='mean')\n",
    "df_xxx = pd.DataFrame(time_delays_by_origin_airport)\n",
    "df_xxx.reset_index(level=0, inplace=True)\n",
    "df_xxx.head(5)"
   ]
  },
  {
   "cell_type": "code",
   "execution_count": 161,
   "metadata": {
    "collapsed": false
   },
   "outputs": [
    {
     "data": {
      "text/html": [
       "<div>\n",
       "<style scoped>\n",
       "    .dataframe tbody tr th:only-of-type {\n",
       "        vertical-align: middle;\n",
       "    }\n",
       "\n",
       "    .dataframe tbody tr th {\n",
       "        vertical-align: top;\n",
       "    }\n",
       "\n",
       "    .dataframe thead th {\n",
       "        text-align: right;\n",
       "    }\n",
       "</style>\n",
       "<table border=\"1\" class=\"dataframe\">\n",
       "  <thead>\n",
       "    <tr style=\"text-align: right;\">\n",
       "      <th></th>\n",
       "      <th>ARRIVAL_DELAY_x_x_x_x</th>\n",
       "    </tr>\n",
       "  </thead>\n",
       "  <tbody>\n",
       "    <tr>\n",
       "      <th>count</th>\n",
       "      <td>332.000000</td>\n",
       "    </tr>\n",
       "    <tr>\n",
       "      <th>mean</th>\n",
       "      <td>26.511086</td>\n",
       "    </tr>\n",
       "    <tr>\n",
       "      <th>std</th>\n",
       "      <td>6.718321</td>\n",
       "    </tr>\n",
       "    <tr>\n",
       "      <th>min</th>\n",
       "      <td>4.250000</td>\n",
       "    </tr>\n",
       "    <tr>\n",
       "      <th>25%</th>\n",
       "      <td>23.072455</td>\n",
       "    </tr>\n",
       "    <tr>\n",
       "      <th>50%</th>\n",
       "      <td>26.525510</td>\n",
       "    </tr>\n",
       "    <tr>\n",
       "      <th>75%</th>\n",
       "      <td>29.799843</td>\n",
       "    </tr>\n",
       "    <tr>\n",
       "      <th>max</th>\n",
       "      <td>55.500000</td>\n",
       "    </tr>\n",
       "  </tbody>\n",
       "</table>\n",
       "</div>"
      ],
      "text/plain": [
       "       ARRIVAL_DELAY_x_x_x_x\n",
       "count             332.000000\n",
       "mean               26.511086\n",
       "std                 6.718321\n",
       "min                 4.250000\n",
       "25%                23.072455\n",
       "50%                26.525510\n",
       "75%                29.799843\n",
       "max                55.500000"
      ]
     },
     "execution_count": 161,
     "metadata": {},
     "output_type": "execute_result"
    }
   ],
   "source": [
    "df_xxx.describe()"
   ]
  },
  {
   "cell_type": "code",
   "execution_count": 162,
   "metadata": {
    "collapsed": true
   },
   "outputs": [],
   "source": [
    "df_xxx['orig_airport_del_mean'] =  df_xxx['ARRIVAL_DELAY_x_x_x_x'].apply(lambda x: 1 if x > 4 and x <= 14 else int(x))\n",
    "df_xxx['orig_airport_del_mean'] =  df_xxx['orig_airport_del_mean'].apply(lambda x: 2 if x > 14 and x <= 28 else int(x))\n",
    "df_xxx['orig_airport_del_mean'] =  df_xxx['orig_airport_del_mean'].apply(lambda x: 3 if x > 28 and x <= 42 else int(x))\n",
    "df_xxx['orig_airport_del_mean'] =  df_xxx['orig_airport_del_mean'].apply(lambda x: 4 if x > 42 and x <= 56 else int(x))\n",
    "df_xxx['orig_airport_del_mean'] =  df_xxx['orig_airport_del_mean'].apply(lambda x: 1 if x == 14 else int(x))"
   ]
  },
  {
   "cell_type": "code",
   "execution_count": 163,
   "metadata": {
    "collapsed": true
   },
   "outputs": [],
   "source": [
    "df = pd.merge(df,df_xxx, on=['ORIGIN_AIRPORT'])\n",
    "df.drop('ARRIVAL_DELAY_x_x_x_x_y', axis=1, inplace=True)"
   ]
  },
  {
   "cell_type": "markdown",
   "metadata": {},
   "source": [
    "<img src=\"img/lin.jpg\">"
   ]
  },
  {
   "cell_type": "markdown",
   "metadata": {},
   "source": [
    "# <span style=\"color:#ffad01\">7. Predictor: <span style=\"color:#004577\">State Origin."
   ]
  },
  {
   "cell_type": "code",
   "execution_count": 164,
   "metadata": {
    "collapsed": false
   },
   "outputs": [
    {
     "data": {
      "text/html": [
       "<div>\n",
       "<style scoped>\n",
       "    .dataframe tbody tr th:only-of-type {\n",
       "        vertical-align: middle;\n",
       "    }\n",
       "\n",
       "    .dataframe tbody tr th {\n",
       "        vertical-align: top;\n",
       "    }\n",
       "\n",
       "    .dataframe thead th {\n",
       "        text-align: right;\n",
       "    }\n",
       "</style>\n",
       "<table border=\"1\" class=\"dataframe\">\n",
       "  <thead>\n",
       "    <tr style=\"text-align: right;\">\n",
       "      <th></th>\n",
       "      <th>STATE_ORIGIN</th>\n",
       "      <th>ARRIVAL_DELAY_x_x_x_x_x</th>\n",
       "    </tr>\n",
       "  </thead>\n",
       "  <tbody>\n",
       "    <tr>\n",
       "      <th>0</th>\n",
       "      <td>AK</td>\n",
       "      <td>20.383367</td>\n",
       "    </tr>\n",
       "    <tr>\n",
       "      <th>1</th>\n",
       "      <td>AL</td>\n",
       "      <td>25.328217</td>\n",
       "    </tr>\n",
       "    <tr>\n",
       "      <th>2</th>\n",
       "      <td>AR</td>\n",
       "      <td>24.163575</td>\n",
       "    </tr>\n",
       "    <tr>\n",
       "      <th>3</th>\n",
       "      <td>AS</td>\n",
       "      <td>32.000000</td>\n",
       "    </tr>\n",
       "    <tr>\n",
       "      <th>4</th>\n",
       "      <td>AZ</td>\n",
       "      <td>22.231956</td>\n",
       "    </tr>\n",
       "  </tbody>\n",
       "</table>\n",
       "</div>"
      ],
      "text/plain": [
       "  STATE_ORIGIN  ARRIVAL_DELAY_x_x_x_x_x\n",
       "0           AK                20.383367\n",
       "1           AL                25.328217\n",
       "2           AR                24.163575\n",
       "3           AS                32.000000\n",
       "4           AZ                22.231956"
      ]
     },
     "execution_count": 164,
     "metadata": {},
     "output_type": "execute_result"
    }
   ],
   "source": [
    "time_delays_by_origin_state = df.pivot_table(index='STATE_ORIGIN', values='ARRIVAL_DELAY_x_x_x_x_x', aggfunc='mean')\n",
    "df_xxx = pd.DataFrame(time_delays_by_origin_state)\n",
    "df_xxx.reset_index(level=0, inplace=True)\n",
    "df_xxx.head(5)"
   ]
  },
  {
   "cell_type": "code",
   "execution_count": 165,
   "metadata": {
    "collapsed": false
   },
   "outputs": [
    {
     "data": {
      "text/html": [
       "<div>\n",
       "<style scoped>\n",
       "    .dataframe tbody tr th:only-of-type {\n",
       "        vertical-align: middle;\n",
       "    }\n",
       "\n",
       "    .dataframe tbody tr th {\n",
       "        vertical-align: top;\n",
       "    }\n",
       "\n",
       "    .dataframe thead th {\n",
       "        text-align: right;\n",
       "    }\n",
       "</style>\n",
       "<table border=\"1\" class=\"dataframe\">\n",
       "  <thead>\n",
       "    <tr style=\"text-align: right;\">\n",
       "      <th></th>\n",
       "      <th>ARRIVAL_DELAY_x_x_x_x_x</th>\n",
       "    </tr>\n",
       "  </thead>\n",
       "  <tbody>\n",
       "    <tr>\n",
       "      <th>count</th>\n",
       "      <td>53.000000</td>\n",
       "    </tr>\n",
       "    <tr>\n",
       "      <th>mean</th>\n",
       "      <td>26.752914</td>\n",
       "    </tr>\n",
       "    <tr>\n",
       "      <th>std</th>\n",
       "      <td>3.260181</td>\n",
       "    </tr>\n",
       "    <tr>\n",
       "      <th>min</th>\n",
       "      <td>16.922903</td>\n",
       "    </tr>\n",
       "    <tr>\n",
       "      <th>25%</th>\n",
       "      <td>24.669903</td>\n",
       "    </tr>\n",
       "    <tr>\n",
       "      <th>50%</th>\n",
       "      <td>26.988328</td>\n",
       "    </tr>\n",
       "    <tr>\n",
       "      <th>75%</th>\n",
       "      <td>28.842249</td>\n",
       "    </tr>\n",
       "    <tr>\n",
       "      <th>max</th>\n",
       "      <td>33.400000</td>\n",
       "    </tr>\n",
       "  </tbody>\n",
       "</table>\n",
       "</div>"
      ],
      "text/plain": [
       "       ARRIVAL_DELAY_x_x_x_x_x\n",
       "count                53.000000\n",
       "mean                 26.752914\n",
       "std                   3.260181\n",
       "min                  16.922903\n",
       "25%                  24.669903\n",
       "50%                  26.988328\n",
       "75%                  28.842249\n",
       "max                  33.400000"
      ]
     },
     "execution_count": 165,
     "metadata": {},
     "output_type": "execute_result"
    }
   ],
   "source": [
    "df_xxx.describe()"
   ]
  },
  {
   "cell_type": "code",
   "execution_count": 166,
   "metadata": {
    "collapsed": true
   },
   "outputs": [],
   "source": [
    "df_xxx['orig_state_del_mean'] =  df_xxx['ARRIVAL_DELAY_x_x_x_x_x'].apply(lambda x: 1 if x > 16 and x <= 20 else int(x))\n",
    "df_xxx['orig_state_del_mean'] =  df_xxx['orig_state_del_mean'].apply(lambda x: 2 if x > 20 and x <= 24 else int(x))\n",
    "df_xxx['orig_state_del_mean'] =  df_xxx['orig_state_del_mean'].apply(lambda x: 3 if x > 24 and x <= 28 else int(x))\n",
    "df_xxx['orig_state_del_mean'] =  df_xxx['orig_state_del_mean'].apply(lambda x: 4 if x > 28 else int(x))\n",
    "df_xxx['orig_state_del_mean'] =  df_xxx['orig_state_del_mean'].apply(lambda x: 1 if x == 20 else int(x))"
   ]
  },
  {
   "cell_type": "code",
   "execution_count": 167,
   "metadata": {
    "collapsed": true
   },
   "outputs": [],
   "source": [
    "df = pd.merge(df,df_xxx, on=['STATE_ORIGIN'])\n",
    "df.drop('ARRIVAL_DELAY_x_x_x_x_x_y', axis=1, inplace=True)"
   ]
  },
  {
   "cell_type": "markdown",
   "metadata": {},
   "source": [
    "<img src=\"img/lin.jpg\">"
   ]
  },
  {
   "cell_type": "markdown",
   "metadata": {},
   "source": [
    "# <span style=\"color:#ffad01\">8. Predictor: <span style=\"color:#004577\">State Destination."
   ]
  },
  {
   "cell_type": "code",
   "execution_count": 168,
   "metadata": {
    "collapsed": false
   },
   "outputs": [
    {
     "data": {
      "text/html": [
       "<div>\n",
       "<style scoped>\n",
       "    .dataframe tbody tr th:only-of-type {\n",
       "        vertical-align: middle;\n",
       "    }\n",
       "\n",
       "    .dataframe tbody tr th {\n",
       "        vertical-align: top;\n",
       "    }\n",
       "\n",
       "    .dataframe thead th {\n",
       "        text-align: right;\n",
       "    }\n",
       "</style>\n",
       "<table border=\"1\" class=\"dataframe\">\n",
       "  <thead>\n",
       "    <tr style=\"text-align: right;\">\n",
       "      <th></th>\n",
       "      <th>STATE_DESTINATION</th>\n",
       "      <th>ARRIVAL_DELAY_x_x_x_x_x_x</th>\n",
       "    </tr>\n",
       "  </thead>\n",
       "  <tbody>\n",
       "    <tr>\n",
       "      <th>0</th>\n",
       "      <td>AK</td>\n",
       "      <td>18.752535</td>\n",
       "    </tr>\n",
       "    <tr>\n",
       "      <th>1</th>\n",
       "      <td>AL</td>\n",
       "      <td>27.652031</td>\n",
       "    </tr>\n",
       "    <tr>\n",
       "      <th>2</th>\n",
       "      <td>AR</td>\n",
       "      <td>24.995238</td>\n",
       "    </tr>\n",
       "    <tr>\n",
       "      <th>3</th>\n",
       "      <td>AS</td>\n",
       "      <td>16.800000</td>\n",
       "    </tr>\n",
       "    <tr>\n",
       "      <th>4</th>\n",
       "      <td>AZ</td>\n",
       "      <td>26.341090</td>\n",
       "    </tr>\n",
       "  </tbody>\n",
       "</table>\n",
       "</div>"
      ],
      "text/plain": [
       "  STATE_DESTINATION  ARRIVAL_DELAY_x_x_x_x_x_x\n",
       "0                AK                  18.752535\n",
       "1                AL                  27.652031\n",
       "2                AR                  24.995238\n",
       "3                AS                  16.800000\n",
       "4                AZ                  26.341090"
      ]
     },
     "execution_count": 168,
     "metadata": {},
     "output_type": "execute_result"
    }
   ],
   "source": [
    "time_delays_by_dest_state = df.pivot_table(index='STATE_DESTINATION', values='ARRIVAL_DELAY_x_x_x_x_x_x', aggfunc='mean')\n",
    "df_xxx = pd.DataFrame(time_delays_by_dest_state)\n",
    "df_xxx.reset_index(level=0, inplace=True)\n",
    "df_xxx.head(5)"
   ]
  },
  {
   "cell_type": "code",
   "execution_count": 169,
   "metadata": {
    "collapsed": false
   },
   "outputs": [
    {
     "data": {
      "text/html": [
       "<div>\n",
       "<style scoped>\n",
       "    .dataframe tbody tr th:only-of-type {\n",
       "        vertical-align: middle;\n",
       "    }\n",
       "\n",
       "    .dataframe tbody tr th {\n",
       "        vertical-align: top;\n",
       "    }\n",
       "\n",
       "    .dataframe thead th {\n",
       "        text-align: right;\n",
       "    }\n",
       "</style>\n",
       "<table border=\"1\" class=\"dataframe\">\n",
       "  <thead>\n",
       "    <tr style=\"text-align: right;\">\n",
       "      <th></th>\n",
       "      <th>ARRIVAL_DELAY_x_x_x_x_x_x</th>\n",
       "    </tr>\n",
       "  </thead>\n",
       "  <tbody>\n",
       "    <tr>\n",
       "      <th>count</th>\n",
       "      <td>53.000000</td>\n",
       "    </tr>\n",
       "    <tr>\n",
       "      <th>mean</th>\n",
       "      <td>25.842684</td>\n",
       "    </tr>\n",
       "    <tr>\n",
       "      <th>std</th>\n",
       "      <td>3.387999</td>\n",
       "    </tr>\n",
       "    <tr>\n",
       "      <th>min</th>\n",
       "      <td>15.977548</td>\n",
       "    </tr>\n",
       "    <tr>\n",
       "      <th>25%</th>\n",
       "      <td>24.492267</td>\n",
       "    </tr>\n",
       "    <tr>\n",
       "      <th>50%</th>\n",
       "      <td>26.169697</td>\n",
       "    </tr>\n",
       "    <tr>\n",
       "      <th>75%</th>\n",
       "      <td>27.652031</td>\n",
       "    </tr>\n",
       "    <tr>\n",
       "      <th>max</th>\n",
       "      <td>32.274831</td>\n",
       "    </tr>\n",
       "  </tbody>\n",
       "</table>\n",
       "</div>"
      ],
      "text/plain": [
       "       ARRIVAL_DELAY_x_x_x_x_x_x\n",
       "count                  53.000000\n",
       "mean                   25.842684\n",
       "std                     3.387999\n",
       "min                    15.977548\n",
       "25%                    24.492267\n",
       "50%                    26.169697\n",
       "75%                    27.652031\n",
       "max                    32.274831"
      ]
     },
     "execution_count": 169,
     "metadata": {},
     "output_type": "execute_result"
    }
   ],
   "source": [
    "df_xxx.describe()"
   ]
  },
  {
   "cell_type": "code",
   "execution_count": 170,
   "metadata": {
    "collapsed": true
   },
   "outputs": [],
   "source": [
    "df_xxx['dest_state_del_mean'] =  df_xxx['ARRIVAL_DELAY_x_x_x_x_x_x'].apply(lambda x: 1 if x > 15 and x <= 20 else int(x))\n",
    "df_xxx['dest_state_del_mean'] =  df_xxx['dest_state_del_mean'].apply(lambda x: 2 if x > 20 and x <= 25 else int(x))\n",
    "df_xxx['dest_state_del_mean'] =  df_xxx['dest_state_del_mean'].apply(lambda x: 3 if x > 25 and x <= 30 else int(x))\n",
    "df_xxx['dest_state_del_mean'] =  df_xxx['dest_state_del_mean'].apply(lambda x: 4 if x > 30 else int(x))\n",
    "df_xxx['dest_state_del_mean'] =  df_xxx['dest_state_del_mean'].apply(lambda x: 1 if x == 20 else int(x))"
   ]
  },
  {
   "cell_type": "code",
   "execution_count": 171,
   "metadata": {
    "collapsed": true
   },
   "outputs": [],
   "source": [
    "df = pd.merge(df,df_xxx, on=['STATE_DESTINATION'])\n",
    "df.drop('ARRIVAL_DELAY_x_x_x_x_x_x_y', axis=1, inplace=True)"
   ]
  },
  {
   "cell_type": "markdown",
   "metadata": {},
   "source": [
    "<img src=\"img/lin.jpg\">"
   ]
  },
  {
   "cell_type": "markdown",
   "metadata": {},
   "source": [
    "# <span style=\"color:#ffad01\">9. Predictor: <span style=\"color:#004577\">Departure Time."
   ]
  },
  {
   "cell_type": "markdown",
   "metadata": {},
   "source": [
    "<span style=\"color:#be0119\"><b>\n",
    "--- comment ---</b>\n",
    "\n",
    "<span style=\"color:#1e488f\">I will take scheduled departure hours and keep it as it is, each hour as a category. "
   ]
  },
  {
   "cell_type": "code",
   "execution_count": 172,
   "metadata": {
    "collapsed": true
   },
   "outputs": [],
   "source": [
    "df.SCHEDULED_DEPARTURE = pd.to_datetime(df.SCHEDULED_DEPARTURE)\n",
    "df['sched_hours_depart'] = df.SCHEDULED_DEPARTURE.map(lambda x: x.hour)\n",
    "df['sched_hours_depart'] = df['sched_hours_depart'].apply(lambda x: 24 if x == 0 else x)"
   ]
  },
  {
   "cell_type": "code",
   "execution_count": 173,
   "metadata": {
    "collapsed": false
   },
   "outputs": [
    {
     "data": {
      "text/html": [
       "<div>\n",
       "<style scoped>\n",
       "    .dataframe tbody tr th:only-of-type {\n",
       "        vertical-align: middle;\n",
       "    }\n",
       "\n",
       "    .dataframe tbody tr th {\n",
       "        vertical-align: top;\n",
       "    }\n",
       "\n",
       "    .dataframe thead th {\n",
       "        text-align: right;\n",
       "    }\n",
       "</style>\n",
       "<table border=\"1\" class=\"dataframe\">\n",
       "  <thead>\n",
       "    <tr style=\"text-align: right;\">\n",
       "      <th></th>\n",
       "      <th>DAY_OF_WEEK</th>\n",
       "      <th>AIRLINE_CODE</th>\n",
       "      <th>TAIL_NUMBER</th>\n",
       "      <th>FLIGHT_NUMBER</th>\n",
       "      <th>ORIGIN_AIRPORT</th>\n",
       "      <th>CITY_ORIGIN</th>\n",
       "      <th>STATE_ORIGIN</th>\n",
       "      <th>DESTINATION_AIRPORT</th>\n",
       "      <th>STATE_DESTINATION</th>\n",
       "      <th>SCHEDULED_DEPARTURE</th>\n",
       "      <th>...</th>\n",
       "      <th>LATE_AIRCRAFT_DELAY</th>\n",
       "      <th>Delay_interval</th>\n",
       "      <th>days_length_del</th>\n",
       "      <th>airline_del_mean</th>\n",
       "      <th>tail_del_mean</th>\n",
       "      <th>flight_del_mean</th>\n",
       "      <th>orig_airport_del_mean</th>\n",
       "      <th>orig_state_del_mean</th>\n",
       "      <th>dest_state_del_mean</th>\n",
       "      <th>sched_hours_depart</th>\n",
       "    </tr>\n",
       "  </thead>\n",
       "  <tbody>\n",
       "    <tr>\n",
       "      <th>0</th>\n",
       "      <td>1</td>\n",
       "      <td>EV</td>\n",
       "      <td>N614QX</td>\n",
       "      <td>2815</td>\n",
       "      <td>BTR</td>\n",
       "      <td>Baton Rouge</td>\n",
       "      <td>LA</td>\n",
       "      <td>DFW</td>\n",
       "      <td>TX</td>\n",
       "      <td>2018-01-08 09:43:00</td>\n",
       "      <td>...</td>\n",
       "      <td>61.0</td>\n",
       "      <td>3</td>\n",
       "      <td>7.0</td>\n",
       "      <td>4</td>\n",
       "      <td>2</td>\n",
       "      <td>1</td>\n",
       "      <td>2</td>\n",
       "      <td>3</td>\n",
       "      <td>2</td>\n",
       "      <td>9</td>\n",
       "    </tr>\n",
       "    <tr>\n",
       "      <th>1</th>\n",
       "      <td>2</td>\n",
       "      <td>EV</td>\n",
       "      <td>N611QX</td>\n",
       "      <td>2815</td>\n",
       "      <td>BTR</td>\n",
       "      <td>Baton Rouge</td>\n",
       "      <td>LA</td>\n",
       "      <td>DFW</td>\n",
       "      <td>TX</td>\n",
       "      <td>2018-01-16 09:43:00</td>\n",
       "      <td>...</td>\n",
       "      <td>0.0</td>\n",
       "      <td>0</td>\n",
       "      <td>6.0</td>\n",
       "      <td>4</td>\n",
       "      <td>2</td>\n",
       "      <td>1</td>\n",
       "      <td>2</td>\n",
       "      <td>3</td>\n",
       "      <td>2</td>\n",
       "      <td>9</td>\n",
       "    </tr>\n",
       "    <tr>\n",
       "      <th>2</th>\n",
       "      <td>1</td>\n",
       "      <td>EV</td>\n",
       "      <td>N614QX</td>\n",
       "      <td>2856</td>\n",
       "      <td>BTR</td>\n",
       "      <td>Baton Rouge</td>\n",
       "      <td>LA</td>\n",
       "      <td>DFW</td>\n",
       "      <td>TX</td>\n",
       "      <td>2018-01-29 08:05:00</td>\n",
       "      <td>...</td>\n",
       "      <td>0.0</td>\n",
       "      <td>3</td>\n",
       "      <td>7.0</td>\n",
       "      <td>4</td>\n",
       "      <td>2</td>\n",
       "      <td>1</td>\n",
       "      <td>2</td>\n",
       "      <td>3</td>\n",
       "      <td>2</td>\n",
       "      <td>8</td>\n",
       "    </tr>\n",
       "  </tbody>\n",
       "</table>\n",
       "<p>3 rows × 30 columns</p>\n",
       "</div>"
      ],
      "text/plain": [
       "   DAY_OF_WEEK AIRLINE_CODE TAIL_NUMBER  FLIGHT_NUMBER ORIGIN_AIRPORT  \\\n",
       "0            1           EV      N614QX           2815            BTR   \n",
       "1            2           EV      N611QX           2815            BTR   \n",
       "2            1           EV      N614QX           2856            BTR   \n",
       "\n",
       "   CITY_ORIGIN STATE_ORIGIN DESTINATION_AIRPORT STATE_DESTINATION  \\\n",
       "0  Baton Rouge           LA                 DFW                TX   \n",
       "1  Baton Rouge           LA                 DFW                TX   \n",
       "2  Baton Rouge           LA                 DFW                TX   \n",
       "\n",
       "  SCHEDULED_DEPARTURE         ...          LATE_AIRCRAFT_DELAY  \\\n",
       "0 2018-01-08 09:43:00         ...                         61.0   \n",
       "1 2018-01-16 09:43:00         ...                          0.0   \n",
       "2 2018-01-29 08:05:00         ...                          0.0   \n",
       "\n",
       "   Delay_interval days_length_del  airline_del_mean  tail_del_mean  \\\n",
       "0               3             7.0                 4              2   \n",
       "1               0             6.0                 4              2   \n",
       "2               3             7.0                 4              2   \n",
       "\n",
       "   flight_del_mean  orig_airport_del_mean  orig_state_del_mean  \\\n",
       "0                1                      2                    3   \n",
       "1                1                      2                    3   \n",
       "2                1                      2                    3   \n",
       "\n",
       "   dest_state_del_mean  sched_hours_depart  \n",
       "0                    2                   9  \n",
       "1                    2                   9  \n",
       "2                    2                   8  \n",
       "\n",
       "[3 rows x 30 columns]"
      ]
     },
     "execution_count": 173,
     "metadata": {},
     "output_type": "execute_result"
    }
   ],
   "source": [
    "df.head(3)"
   ]
  },
  {
   "cell_type": "markdown",
   "metadata": {},
   "source": [
    "<img src=\"img/lin.jpg\">"
   ]
  },
  {
   "cell_type": "markdown",
   "metadata": {},
   "source": [
    "# <span style=\"color:#ffad01\">10. Predictor: <span style=\"color:#004577\">Arrival Time."
   ]
  },
  {
   "cell_type": "code",
   "execution_count": 174,
   "metadata": {
    "collapsed": true
   },
   "outputs": [],
   "source": [
    "df.SCHEDULED_ARRIVAL = pd.to_datetime(df.SCHEDULED_ARRIVAL)\n",
    "df['sched_hours_arrival'] = df.SCHEDULED_ARRIVAL.map(lambda x: x.hour)\n",
    "df['sched_hours_arrival'] = df['sched_hours_arrival'].apply(lambda x: 24 if x == 0 else x)"
   ]
  },
  {
   "cell_type": "markdown",
   "metadata": {},
   "source": [
    "<img src=\"img/lin.jpg\">"
   ]
  },
  {
   "cell_type": "markdown",
   "metadata": {},
   "source": [
    "# <span style=\"color:#ffad01\">11. Predictor: <span style=\"color:#004577\">Scheduled Length of Flight Time."
   ]
  },
  {
   "cell_type": "markdown",
   "metadata": {},
   "source": [
    "<span style=\"color:#be0119\"><b>\n",
    "--- comment ---</b>\n",
    "\n",
    "<span style=\"color:#1e488f\">For the scheduled time I will create category for each unique value of length of time and store it in \"scheduled_time_numeric\" column."
   ]
  },
  {
   "cell_type": "code",
   "execution_count": 175,
   "metadata": {
    "collapsed": false
   },
   "outputs": [
    {
     "name": "stdout",
     "output_type": "stream",
     "text": [
      "104838    22.0\n",
      "104834    22.0\n",
      "157713    23.0\n",
      "157714    23.0\n",
      "157715    23.0\n",
      "Name: SCHEDULED_TIME, dtype: float64\n",
      "-----------------\n",
      "104838    1\n",
      "104834    1\n",
      "157713    2\n",
      "157714    2\n",
      "157715    2\n",
      "Name: scheduled_time_numeric, dtype: int64\n"
     ]
    }
   ],
   "source": [
    "df = df.sort_values('SCHEDULED_TIME')\n",
    "print(df.SCHEDULED_TIME.head(5))\n",
    "print('-----------------')\n",
    "df['scheduled_time_numeric'] = pd.factorize(df.SCHEDULED_TIME)[0] + 1\n",
    "print(df.scheduled_time_numeric.head(5))"
   ]
  },
  {
   "cell_type": "markdown",
   "metadata": {},
   "source": [
    "<img src=\"img/lin.jpg\">"
   ]
  },
  {
   "cell_type": "markdown",
   "metadata": {},
   "source": [
    "# <span style=\"color:#ffad01\">12. Predictor: <span style=\"color:#004577\">Distance of the Flight."
   ]
  },
  {
   "cell_type": "code",
   "execution_count": 176,
   "metadata": {
    "collapsed": false
   },
   "outputs": [
    {
     "data": {
      "text/html": [
       "<div>\n",
       "<style scoped>\n",
       "    .dataframe tbody tr th:only-of-type {\n",
       "        vertical-align: middle;\n",
       "    }\n",
       "\n",
       "    .dataframe tbody tr th {\n",
       "        vertical-align: top;\n",
       "    }\n",
       "\n",
       "    .dataframe thead th {\n",
       "        text-align: right;\n",
       "    }\n",
       "</style>\n",
       "<table border=\"1\" class=\"dataframe\">\n",
       "  <thead>\n",
       "    <tr style=\"text-align: right;\">\n",
       "      <th></th>\n",
       "      <th>DISTANCE</th>\n",
       "      <th>ARRIVAL_DELAY_x_x_x_x_x_x_x</th>\n",
       "    </tr>\n",
       "  </thead>\n",
       "  <tbody>\n",
       "    <tr>\n",
       "      <th>0</th>\n",
       "      <td>31.0</td>\n",
       "      <td>19.416667</td>\n",
       "    </tr>\n",
       "    <tr>\n",
       "      <th>1</th>\n",
       "      <td>66.0</td>\n",
       "      <td>45.348837</td>\n",
       "    </tr>\n",
       "    <tr>\n",
       "      <th>2</th>\n",
       "      <td>67.0</td>\n",
       "      <td>36.485380</td>\n",
       "    </tr>\n",
       "    <tr>\n",
       "      <th>3</th>\n",
       "      <td>68.0</td>\n",
       "      <td>48.166667</td>\n",
       "    </tr>\n",
       "    <tr>\n",
       "      <th>4</th>\n",
       "      <td>69.0</td>\n",
       "      <td>35.823529</td>\n",
       "    </tr>\n",
       "  </tbody>\n",
       "</table>\n",
       "</div>"
      ],
      "text/plain": [
       "   DISTANCE  ARRIVAL_DELAY_x_x_x_x_x_x_x\n",
       "0      31.0                    19.416667\n",
       "1      66.0                    45.348837\n",
       "2      67.0                    36.485380\n",
       "3      68.0                    48.166667\n",
       "4      69.0                    35.823529"
      ]
     },
     "execution_count": 176,
     "metadata": {},
     "output_type": "execute_result"
    }
   ],
   "source": [
    "time_delays_by_distance = df.pivot_table(index='DISTANCE', values='ARRIVAL_DELAY_x_x_x_x_x_x_x', aggfunc='mean')\n",
    "df_xxx = pd.DataFrame(time_delays_by_distance)\n",
    "df_xxx.reset_index(level=0, inplace=True)\n",
    "df_xxx.head(5)"
   ]
  },
  {
   "cell_type": "code",
   "execution_count": 177,
   "metadata": {
    "collapsed": false
   },
   "outputs": [
    {
     "data": {
      "text/html": [
       "<div>\n",
       "<style scoped>\n",
       "    .dataframe tbody tr th:only-of-type {\n",
       "        vertical-align: middle;\n",
       "    }\n",
       "\n",
       "    .dataframe tbody tr th {\n",
       "        vertical-align: top;\n",
       "    }\n",
       "\n",
       "    .dataframe thead th {\n",
       "        text-align: right;\n",
       "    }\n",
       "</style>\n",
       "<table border=\"1\" class=\"dataframe\">\n",
       "  <thead>\n",
       "    <tr style=\"text-align: right;\">\n",
       "      <th></th>\n",
       "      <th>DISTANCE</th>\n",
       "      <th>ARRIVAL_DELAY_x_x_x_x_x_x_x</th>\n",
       "    </tr>\n",
       "  </thead>\n",
       "  <tbody>\n",
       "    <tr>\n",
       "      <th>count</th>\n",
       "      <td>1389.000000</td>\n",
       "      <td>1389.000000</td>\n",
       "    </tr>\n",
       "    <tr>\n",
       "      <th>mean</th>\n",
       "      <td>1054.351332</td>\n",
       "      <td>25.715920</td>\n",
       "    </tr>\n",
       "    <tr>\n",
       "      <th>std</th>\n",
       "      <td>749.952643</td>\n",
       "      <td>7.082676</td>\n",
       "    </tr>\n",
       "    <tr>\n",
       "      <th>min</th>\n",
       "      <td>31.000000</td>\n",
       "      <td>3.666667</td>\n",
       "    </tr>\n",
       "    <tr>\n",
       "      <th>25%</th>\n",
       "      <td>486.000000</td>\n",
       "      <td>21.690141</td>\n",
       "    </tr>\n",
       "    <tr>\n",
       "      <th>50%</th>\n",
       "      <td>901.000000</td>\n",
       "      <td>25.381250</td>\n",
       "    </tr>\n",
       "    <tr>\n",
       "      <th>75%</th>\n",
       "      <td>1447.000000</td>\n",
       "      <td>29.129032</td>\n",
       "    </tr>\n",
       "    <tr>\n",
       "      <th>max</th>\n",
       "      <td>4983.000000</td>\n",
       "      <td>85.500000</td>\n",
       "    </tr>\n",
       "  </tbody>\n",
       "</table>\n",
       "</div>"
      ],
      "text/plain": [
       "          DISTANCE  ARRIVAL_DELAY_x_x_x_x_x_x_x\n",
       "count  1389.000000                  1389.000000\n",
       "mean   1054.351332                    25.715920\n",
       "std     749.952643                     7.082676\n",
       "min      31.000000                     3.666667\n",
       "25%     486.000000                    21.690141\n",
       "50%     901.000000                    25.381250\n",
       "75%    1447.000000                    29.129032\n",
       "max    4983.000000                    85.500000"
      ]
     },
     "execution_count": 177,
     "metadata": {},
     "output_type": "execute_result"
    }
   ],
   "source": [
    "df_xxx.describe()"
   ]
  },
  {
   "cell_type": "code",
   "execution_count": 178,
   "metadata": {
    "collapsed": true
   },
   "outputs": [],
   "source": [
    "df_xxx['distance_del_mean'] =  df_xxx['ARRIVAL_DELAY_x_x_x_x_x_x_x'].apply(lambda x: 1 if x > 3 and x <= 24 else int(x))\n",
    "df_xxx['distance_del_mean'] =  df_xxx['distance_del_mean'].apply(lambda x: 2 if x > 24 and x <= 45 else int(x))\n",
    "df_xxx['distance_del_mean'] =  df_xxx['distance_del_mean'].apply(lambda x: 3 if x > 45 and x <= 66 else int(x))\n",
    "df_xxx['distance_del_mean'] =  df_xxx['distance_del_mean'].apply(lambda x: 4 if x > 66 else int(x))\n",
    "df_xxx['distance_del_mean'] =  df_xxx['distance_del_mean'].apply(lambda x: 1 if x == 24 else int(x))"
   ]
  },
  {
   "cell_type": "code",
   "execution_count": 179,
   "metadata": {
    "collapsed": false
   },
   "outputs": [
    {
     "data": {
      "text/html": [
       "<div>\n",
       "<style scoped>\n",
       "    .dataframe tbody tr th:only-of-type {\n",
       "        vertical-align: middle;\n",
       "    }\n",
       "\n",
       "    .dataframe tbody tr th {\n",
       "        vertical-align: top;\n",
       "    }\n",
       "\n",
       "    .dataframe thead th {\n",
       "        text-align: right;\n",
       "    }\n",
       "</style>\n",
       "<table border=\"1\" class=\"dataframe\">\n",
       "  <thead>\n",
       "    <tr style=\"text-align: right;\">\n",
       "      <th></th>\n",
       "      <th>DAY_OF_WEEK</th>\n",
       "      <th>AIRLINE_CODE</th>\n",
       "      <th>TAIL_NUMBER</th>\n",
       "      <th>FLIGHT_NUMBER</th>\n",
       "      <th>ORIGIN_AIRPORT</th>\n",
       "      <th>CITY_ORIGIN</th>\n",
       "      <th>STATE_ORIGIN</th>\n",
       "      <th>DESTINATION_AIRPORT</th>\n",
       "      <th>STATE_DESTINATION</th>\n",
       "      <th>SCHEDULED_DEPARTURE</th>\n",
       "      <th>...</th>\n",
       "      <th>airline_del_mean</th>\n",
       "      <th>tail_del_mean</th>\n",
       "      <th>flight_del_mean</th>\n",
       "      <th>orig_airport_del_mean</th>\n",
       "      <th>orig_state_del_mean</th>\n",
       "      <th>dest_state_del_mean</th>\n",
       "      <th>sched_hours_depart</th>\n",
       "      <th>sched_hours_arrival</th>\n",
       "      <th>scheduled_time_numeric</th>\n",
       "      <th>distance_del_mean</th>\n",
       "    </tr>\n",
       "  </thead>\n",
       "  <tbody>\n",
       "    <tr>\n",
       "      <th>0</th>\n",
       "      <td>3</td>\n",
       "      <td>OO</td>\n",
       "      <td>N779CA</td>\n",
       "      <td>4781</td>\n",
       "      <td>GRR</td>\n",
       "      <td>Grand Rapids</td>\n",
       "      <td>MI</td>\n",
       "      <td>MSP</td>\n",
       "      <td>MN</td>\n",
       "      <td>2018-01-10 13:20:00</td>\n",
       "      <td>...</td>\n",
       "      <td>3</td>\n",
       "      <td>1</td>\n",
       "      <td>2</td>\n",
       "      <td>3</td>\n",
       "      <td>4</td>\n",
       "      <td>3</td>\n",
       "      <td>13</td>\n",
       "      <td>12</td>\n",
       "      <td>1</td>\n",
       "      <td>2</td>\n",
       "    </tr>\n",
       "    <tr>\n",
       "      <th>1</th>\n",
       "      <td>1</td>\n",
       "      <td>OO</td>\n",
       "      <td>N675BR</td>\n",
       "      <td>4781</td>\n",
       "      <td>GRR</td>\n",
       "      <td>Grand Rapids</td>\n",
       "      <td>MI</td>\n",
       "      <td>MSP</td>\n",
       "      <td>MN</td>\n",
       "      <td>2018-01-08 13:20:00</td>\n",
       "      <td>...</td>\n",
       "      <td>3</td>\n",
       "      <td>2</td>\n",
       "      <td>2</td>\n",
       "      <td>3</td>\n",
       "      <td>4</td>\n",
       "      <td>3</td>\n",
       "      <td>13</td>\n",
       "      <td>12</td>\n",
       "      <td>1</td>\n",
       "      <td>2</td>\n",
       "    </tr>\n",
       "  </tbody>\n",
       "</table>\n",
       "<p>2 rows × 33 columns</p>\n",
       "</div>"
      ],
      "text/plain": [
       "   DAY_OF_WEEK AIRLINE_CODE TAIL_NUMBER  FLIGHT_NUMBER ORIGIN_AIRPORT  \\\n",
       "0            3           OO      N779CA           4781            GRR   \n",
       "1            1           OO      N675BR           4781            GRR   \n",
       "\n",
       "    CITY_ORIGIN STATE_ORIGIN DESTINATION_AIRPORT STATE_DESTINATION  \\\n",
       "0  Grand Rapids           MI                 MSP                MN   \n",
       "1  Grand Rapids           MI                 MSP                MN   \n",
       "\n",
       "  SCHEDULED_DEPARTURE        ...          airline_del_mean  tail_del_mean  \\\n",
       "0 2018-01-10 13:20:00        ...                         3              1   \n",
       "1 2018-01-08 13:20:00        ...                         3              2   \n",
       "\n",
       "  flight_del_mean  orig_airport_del_mean  orig_state_del_mean  \\\n",
       "0               2                      3                    4   \n",
       "1               2                      3                    4   \n",
       "\n",
       "   dest_state_del_mean  sched_hours_depart  sched_hours_arrival  \\\n",
       "0                    3                  13                   12   \n",
       "1                    3                  13                   12   \n",
       "\n",
       "   scheduled_time_numeric  distance_del_mean  \n",
       "0                       1                  2  \n",
       "1                       1                  2  \n",
       "\n",
       "[2 rows x 33 columns]"
      ]
     },
     "execution_count": 179,
     "metadata": {},
     "output_type": "execute_result"
    }
   ],
   "source": [
    "df = pd.merge(df,df_xxx, on=['DISTANCE'])\n",
    "df.drop('ARRIVAL_DELAY_x_x_x_x_x_x_x_y', axis=1, inplace=True)\n",
    "df.head(2)"
   ]
  },
  {
   "cell_type": "markdown",
   "metadata": {},
   "source": [
    "<img src=\"img/lin.jpg\">"
   ]
  },
  {
   "cell_type": "markdown",
   "metadata": {},
   "source": [
    "# <span style=\"color:#004577\">Part C. Categorical Variables into Dummies. "
   ]
  },
  {
   "cell_type": "markdown",
   "metadata": {},
   "source": [
    "<span style=\"color:#be0119\"><b>\n",
    "--- comment ---</b>\n",
    "\n",
    "<span style=\"color:#1e488f\">Now all my categorical variables are ready. I do dummies features from them, and delete categorical variables as I dont need them anymore. I use get_dummies method from pandas library to get dummies. Also I set prefix to easy understanding later where this features come from."
   ]
  },
  {
   "cell_type": "code",
   "execution_count": 180,
   "metadata": {
    "collapsed": false
   },
   "outputs": [
    {
     "data": {
      "text/html": [
       "<div>\n",
       "<style scoped>\n",
       "    .dataframe tbody tr th:only-of-type {\n",
       "        vertical-align: middle;\n",
       "    }\n",
       "\n",
       "    .dataframe tbody tr th {\n",
       "        vertical-align: top;\n",
       "    }\n",
       "\n",
       "    .dataframe thead th {\n",
       "        text-align: right;\n",
       "    }\n",
       "</style>\n",
       "<table border=\"1\" class=\"dataframe\">\n",
       "  <thead>\n",
       "    <tr style=\"text-align: right;\">\n",
       "      <th></th>\n",
       "      <th>DAY_OF_WEEK</th>\n",
       "      <th>AIRLINE_CODE</th>\n",
       "      <th>TAIL_NUMBER</th>\n",
       "      <th>FLIGHT_NUMBER</th>\n",
       "      <th>ORIGIN_AIRPORT</th>\n",
       "      <th>CITY_ORIGIN</th>\n",
       "      <th>STATE_ORIGIN</th>\n",
       "      <th>DESTINATION_AIRPORT</th>\n",
       "      <th>STATE_DESTINATION</th>\n",
       "      <th>SCHEDULED_DEPARTURE</th>\n",
       "      <th>...</th>\n",
       "      <th>flight_duration_440</th>\n",
       "      <th>flight_duration_441</th>\n",
       "      <th>flight_duration_442</th>\n",
       "      <th>flight_duration_443</th>\n",
       "      <th>flight_duration_444</th>\n",
       "      <th>flight_duration_445</th>\n",
       "      <th>flight_duration_446</th>\n",
       "      <th>distanece_group_2</th>\n",
       "      <th>distanece_group_3</th>\n",
       "      <th>distanece_group_4</th>\n",
       "    </tr>\n",
       "  </thead>\n",
       "  <tbody>\n",
       "    <tr>\n",
       "      <th>0</th>\n",
       "      <td>3</td>\n",
       "      <td>OO</td>\n",
       "      <td>N779CA</td>\n",
       "      <td>4781</td>\n",
       "      <td>GRR</td>\n",
       "      <td>Grand Rapids</td>\n",
       "      <td>MI</td>\n",
       "      <td>MSP</td>\n",
       "      <td>MN</td>\n",
       "      <td>2018-01-10 13:20:00</td>\n",
       "      <td>...</td>\n",
       "      <td>0</td>\n",
       "      <td>0</td>\n",
       "      <td>0</td>\n",
       "      <td>0</td>\n",
       "      <td>0</td>\n",
       "      <td>0</td>\n",
       "      <td>0</td>\n",
       "      <td>1</td>\n",
       "      <td>0</td>\n",
       "      <td>0</td>\n",
       "    </tr>\n",
       "    <tr>\n",
       "      <th>1</th>\n",
       "      <td>1</td>\n",
       "      <td>OO</td>\n",
       "      <td>N675BR</td>\n",
       "      <td>4781</td>\n",
       "      <td>GRR</td>\n",
       "      <td>Grand Rapids</td>\n",
       "      <td>MI</td>\n",
       "      <td>MSP</td>\n",
       "      <td>MN</td>\n",
       "      <td>2018-01-08 13:20:00</td>\n",
       "      <td>...</td>\n",
       "      <td>0</td>\n",
       "      <td>0</td>\n",
       "      <td>0</td>\n",
       "      <td>0</td>\n",
       "      <td>0</td>\n",
       "      <td>0</td>\n",
       "      <td>0</td>\n",
       "      <td>1</td>\n",
       "      <td>0</td>\n",
       "      <td>0</td>\n",
       "    </tr>\n",
       "    <tr>\n",
       "      <th>2</th>\n",
       "      <td>1</td>\n",
       "      <td>YV</td>\n",
       "      <td>N905J</td>\n",
       "      <td>5881</td>\n",
       "      <td>DFW</td>\n",
       "      <td>Dallas-Fort Worth</td>\n",
       "      <td>TX</td>\n",
       "      <td>JAN</td>\n",
       "      <td>MS</td>\n",
       "      <td>2018-01-01 18:00:00</td>\n",
       "      <td>...</td>\n",
       "      <td>0</td>\n",
       "      <td>0</td>\n",
       "      <td>0</td>\n",
       "      <td>0</td>\n",
       "      <td>0</td>\n",
       "      <td>0</td>\n",
       "      <td>0</td>\n",
       "      <td>1</td>\n",
       "      <td>0</td>\n",
       "      <td>0</td>\n",
       "    </tr>\n",
       "    <tr>\n",
       "      <th>3</th>\n",
       "      <td>4</td>\n",
       "      <td>YV</td>\n",
       "      <td>N913FJ</td>\n",
       "      <td>5879</td>\n",
       "      <td>DFW</td>\n",
       "      <td>Dallas-Fort Worth</td>\n",
       "      <td>TX</td>\n",
       "      <td>JAN</td>\n",
       "      <td>MS</td>\n",
       "      <td>2018-01-18 17:35:00</td>\n",
       "      <td>...</td>\n",
       "      <td>0</td>\n",
       "      <td>0</td>\n",
       "      <td>0</td>\n",
       "      <td>0</td>\n",
       "      <td>0</td>\n",
       "      <td>0</td>\n",
       "      <td>0</td>\n",
       "      <td>1</td>\n",
       "      <td>0</td>\n",
       "      <td>0</td>\n",
       "    </tr>\n",
       "    <tr>\n",
       "      <th>4</th>\n",
       "      <td>7</td>\n",
       "      <td>YV</td>\n",
       "      <td>N248LR</td>\n",
       "      <td>5879</td>\n",
       "      <td>DFW</td>\n",
       "      <td>Dallas-Fort Worth</td>\n",
       "      <td>TX</td>\n",
       "      <td>JAN</td>\n",
       "      <td>MS</td>\n",
       "      <td>2018-01-14 17:35:00</td>\n",
       "      <td>...</td>\n",
       "      <td>0</td>\n",
       "      <td>0</td>\n",
       "      <td>0</td>\n",
       "      <td>0</td>\n",
       "      <td>0</td>\n",
       "      <td>0</td>\n",
       "      <td>0</td>\n",
       "      <td>1</td>\n",
       "      <td>0</td>\n",
       "      <td>0</td>\n",
       "    </tr>\n",
       "  </tbody>\n",
       "</table>\n",
       "<p>5 rows × 540 columns</p>\n",
       "</div>"
      ],
      "text/plain": [
       "   DAY_OF_WEEK AIRLINE_CODE TAIL_NUMBER  FLIGHT_NUMBER ORIGIN_AIRPORT  \\\n",
       "0            3           OO      N779CA           4781            GRR   \n",
       "1            1           OO      N675BR           4781            GRR   \n",
       "2            1           YV       N905J           5881            DFW   \n",
       "3            4           YV      N913FJ           5879            DFW   \n",
       "4            7           YV      N248LR           5879            DFW   \n",
       "\n",
       "         CITY_ORIGIN STATE_ORIGIN DESTINATION_AIRPORT STATE_DESTINATION  \\\n",
       "0       Grand Rapids           MI                 MSP                MN   \n",
       "1       Grand Rapids           MI                 MSP                MN   \n",
       "2  Dallas-Fort Worth           TX                 JAN                MS   \n",
       "3  Dallas-Fort Worth           TX                 JAN                MS   \n",
       "4  Dallas-Fort Worth           TX                 JAN                MS   \n",
       "\n",
       "  SCHEDULED_DEPARTURE        ...          flight_duration_440  \\\n",
       "0 2018-01-10 13:20:00        ...                            0   \n",
       "1 2018-01-08 13:20:00        ...                            0   \n",
       "2 2018-01-01 18:00:00        ...                            0   \n",
       "3 2018-01-18 17:35:00        ...                            0   \n",
       "4 2018-01-14 17:35:00        ...                            0   \n",
       "\n",
       "   flight_duration_441 flight_duration_442  flight_duration_443  \\\n",
       "0                    0                   0                    0   \n",
       "1                    0                   0                    0   \n",
       "2                    0                   0                    0   \n",
       "3                    0                   0                    0   \n",
       "4                    0                   0                    0   \n",
       "\n",
       "   flight_duration_444  flight_duration_445  flight_duration_446  \\\n",
       "0                    0                    0                    0   \n",
       "1                    0                    0                    0   \n",
       "2                    0                    0                    0   \n",
       "3                    0                    0                    0   \n",
       "4                    0                    0                    0   \n",
       "\n",
       "   distanece_group_2  distanece_group_3  distanece_group_4  \n",
       "0                  1                  0                  0  \n",
       "1                  1                  0                  0  \n",
       "2                  1                  0                  0  \n",
       "3                  1                  0                  0  \n",
       "4                  1                  0                  0  \n",
       "\n",
       "[5 rows x 540 columns]"
      ]
     },
     "execution_count": 180,
     "metadata": {},
     "output_type": "execute_result"
    }
   ],
   "source": [
    "#1\n",
    "df = pd.concat([df, pd.get_dummies(df.days_length_del, drop_first=True, prefix='day_of_week')], axis=1)\n",
    "df.drop('days_length_del', axis=1, inplace=True)\n",
    "#2\n",
    "df = pd.concat([df, pd.get_dummies(df.airline_del_mean, drop_first=True, prefix='airline_code')], axis=1)\n",
    "df.drop('airline_del_mean', axis=1, inplace=True)\n",
    "#3\n",
    "df = pd.concat([df, pd.get_dummies(df.tail_del_mean, drop_first=True, prefix='flight_tail_group')], axis=1)\n",
    "df.drop('tail_del_mean', axis=1, inplace=True)\n",
    "#4\n",
    "df = pd.concat([df, pd.get_dummies(df.flight_del_mean, drop_first=True, prefix='flight_number_group')], axis=1)\n",
    "df.drop('flight_del_mean', axis=1, inplace=True)\n",
    "#5\n",
    "df = pd.concat([df, pd.get_dummies(df.orig_airport_del_mean, drop_first=True, prefix='origin_airport_group')], axis=1)\n",
    "df.drop('orig_airport_del_mean', axis=1, inplace=True)\n",
    "#6\n",
    "df = pd.concat([df, pd.get_dummies(df.orig_state_del_mean, drop_first=True, prefix='state_orig')], axis=1) \n",
    "df.drop('orig_state_del_mean', axis=1, inplace=True)\n",
    "#7\n",
    "df = pd.concat([df, pd.get_dummies(df.dest_state_del_mean, drop_first=True, prefix='state_dest')], axis=1)\n",
    "df.drop('dest_state_del_mean', axis=1, inplace=True)\n",
    "#8\n",
    "df = pd.concat([df, pd.get_dummies(df.sched_hours_depart, drop_first=True, prefix='time_dep_group')], axis=1)\n",
    "df.drop('sched_hours_depart', axis=1, inplace=True)\n",
    "#9\n",
    "df = pd.concat([df, pd.get_dummies(df.sched_hours_arrival, drop_first=True, prefix='time_arr_group')], axis=1)\n",
    "df.drop('sched_hours_arrival', axis=1, inplace=True)\n",
    "#10\n",
    "df = pd.concat([df, pd.get_dummies(df.scheduled_time_numeric, drop_first=True, prefix='flight_duration')], axis=1)\n",
    "df.drop('scheduled_time_numeric', axis=1, inplace=True)\n",
    "# df = pd.concat([df, pd.get_dummies(df.sched_time_del_mean, drop_first=True, prefix='sched_lenth_of_time')], axis=1)\n",
    "# df.drop('sched_time_del_mean', axis=1, inplace=True)\n",
    "#11\n",
    "df = pd.concat([df, pd.get_dummies(df.distance_del_mean, drop_first=True, prefix='distanece_group')], axis=1)\n",
    "df.drop('distance_del_mean', axis=1, inplace=True)\n",
    "\n",
    "df.rename(columns={'ARRIVAL_DELAY_x_x_x_x_x_x_x_x':'ARRIVAL_DELAY'}, inplace=True)\n",
    "df.head(5)"
   ]
  },
  {
   "cell_type": "markdown",
   "metadata": {},
   "source": [
    "<img src=\"img/lin.jpg\">"
   ]
  },
  {
   "cell_type": "markdown",
   "metadata": {},
   "source": [
    "# <span style=\"color:#004577\">Part D. Check for Multicollinearity."
   ]
  },
  {
   "cell_type": "markdown",
   "metadata": {},
   "source": [
    "<span style=\"color:#be0119\"><b>\n",
    "--- comment ---</b>\n",
    "\n",
    "<span style=\"color:#1e488f\">I have to check if my predictors variables are correlated among themselves. Multicollinearity doesn't change the predictive power of the models (at least, on the training data) but it does screw with our coefficient estimates. I will count as multicollinearity everything correlation more than 0.75. I found two highly correlated pairs <b>(state_dest_2, state_dest_3) -0.742978</b> and <b>(origin_airport_group_2, origin_airport_group_3) -0.992893</b>. I will delete them on next stage when I will do Target and Features splitting."
   ]
  },
  {
   "cell_type": "code",
   "execution_count": 60,
   "metadata": {
    "collapsed": false
   },
   "outputs": [
    {
     "data": {
      "text/html": [
       "<div>\n",
       "<style scoped>\n",
       "    .dataframe tbody tr th:only-of-type {\n",
       "        vertical-align: middle;\n",
       "    }\n",
       "\n",
       "    .dataframe tbody tr th {\n",
       "        vertical-align: top;\n",
       "    }\n",
       "\n",
       "    .dataframe thead th {\n",
       "        text-align: right;\n",
       "    }\n",
       "</style>\n",
       "<table border=\"1\" class=\"dataframe\">\n",
       "  <thead>\n",
       "    <tr style=\"text-align: right;\">\n",
       "      <th></th>\n",
       "      <th>day_of_week_2.0</th>\n",
       "      <th>day_of_week_3.0</th>\n",
       "      <th>day_of_week_4.0</th>\n",
       "      <th>day_of_week_5.0</th>\n",
       "      <th>day_of_week_6.0</th>\n",
       "      <th>day_of_week_7.0</th>\n",
       "      <th>airline_code_2</th>\n",
       "      <th>airline_code_3</th>\n",
       "      <th>airline_code_4</th>\n",
       "      <th>flight_tail_group_2</th>\n",
       "      <th>...</th>\n",
       "      <th>flight_duration_440</th>\n",
       "      <th>flight_duration_441</th>\n",
       "      <th>flight_duration_442</th>\n",
       "      <th>flight_duration_443</th>\n",
       "      <th>flight_duration_444</th>\n",
       "      <th>flight_duration_445</th>\n",
       "      <th>flight_duration_446</th>\n",
       "      <th>distanece_group_2</th>\n",
       "      <th>distanece_group_3</th>\n",
       "      <th>distanece_group_4</th>\n",
       "    </tr>\n",
       "  </thead>\n",
       "  <tbody>\n",
       "    <tr>\n",
       "      <th>0</th>\n",
       "      <td>0</td>\n",
       "      <td>0</td>\n",
       "      <td>1</td>\n",
       "      <td>0</td>\n",
       "      <td>0</td>\n",
       "      <td>0</td>\n",
       "      <td>0</td>\n",
       "      <td>1</td>\n",
       "      <td>0</td>\n",
       "      <td>0</td>\n",
       "      <td>...</td>\n",
       "      <td>0</td>\n",
       "      <td>0</td>\n",
       "      <td>0</td>\n",
       "      <td>0</td>\n",
       "      <td>0</td>\n",
       "      <td>0</td>\n",
       "      <td>0</td>\n",
       "      <td>1</td>\n",
       "      <td>0</td>\n",
       "      <td>0</td>\n",
       "    </tr>\n",
       "    <tr>\n",
       "      <th>1</th>\n",
       "      <td>0</td>\n",
       "      <td>0</td>\n",
       "      <td>0</td>\n",
       "      <td>0</td>\n",
       "      <td>0</td>\n",
       "      <td>1</td>\n",
       "      <td>0</td>\n",
       "      <td>1</td>\n",
       "      <td>0</td>\n",
       "      <td>1</td>\n",
       "      <td>...</td>\n",
       "      <td>0</td>\n",
       "      <td>0</td>\n",
       "      <td>0</td>\n",
       "      <td>0</td>\n",
       "      <td>0</td>\n",
       "      <td>0</td>\n",
       "      <td>0</td>\n",
       "      <td>1</td>\n",
       "      <td>0</td>\n",
       "      <td>0</td>\n",
       "    </tr>\n",
       "  </tbody>\n",
       "</table>\n",
       "<p>2 rows × 518 columns</p>\n",
       "</div>"
      ],
      "text/plain": [
       "   day_of_week_2.0  day_of_week_3.0  day_of_week_4.0  day_of_week_5.0  \\\n",
       "0                0                0                1                0   \n",
       "1                0                0                0                0   \n",
       "\n",
       "   day_of_week_6.0  day_of_week_7.0  airline_code_2  airline_code_3  \\\n",
       "0                0                0               0               1   \n",
       "1                0                1               0               1   \n",
       "\n",
       "   airline_code_4  flight_tail_group_2        ...          \\\n",
       "0               0                    0        ...           \n",
       "1               0                    1        ...           \n",
       "\n",
       "   flight_duration_440  flight_duration_441  flight_duration_442  \\\n",
       "0                    0                    0                    0   \n",
       "1                    0                    0                    0   \n",
       "\n",
       "   flight_duration_443  flight_duration_444  flight_duration_445  \\\n",
       "0                    0                    0                    0   \n",
       "1                    0                    0                    0   \n",
       "\n",
       "   flight_duration_446  distanece_group_2  distanece_group_3  \\\n",
       "0                    0                  1                  0   \n",
       "1                    0                  1                  0   \n",
       "\n",
       "   distanece_group_4  \n",
       "0                  0  \n",
       "1                  0  \n",
       "\n",
       "[2 rows x 518 columns]"
      ]
     },
     "execution_count": 60,
     "metadata": {},
     "output_type": "execute_result"
    }
   ],
   "source": [
    "check_mc = df.iloc[:, 22:]\n",
    "check_mc.head(2)"
   ]
  },
  {
   "cell_type": "code",
   "execution_count": 61,
   "metadata": {
    "collapsed": true
   },
   "outputs": [],
   "source": [
    "check_corr = check_mc.corr()"
   ]
  },
  {
   "cell_type": "code",
   "execution_count": 65,
   "metadata": {
    "collapsed": false
   },
   "outputs": [
    {
     "name": "stdout",
     "output_type": "stream",
     "text": [
      "                                                  pairs      corr\n",
      "8155             (origin_airport_group_3, state_orig_4)  0.702254\n",
      "14121              (time_dep_group_6, time_arr_group_7)  0.442781\n",
      "21825            (time_dep_group_22, time_arr_group_23)  0.383343\n",
      "13631              (time_dep_group_5, time_arr_group_6)  0.380489\n",
      "7652             (origin_airport_group_2, state_orig_2)  0.350671\n",
      "14122              (time_dep_group_6, time_arr_group_8)  0.346674\n",
      "15099             (time_dep_group_8, time_arr_group_10)  0.346247\n",
      "14611              (time_dep_group_7, time_arr_group_9)  0.326341\n",
      "19446            (time_dep_group_17, time_arr_group_19)  0.323090\n",
      "20401            (time_dep_group_19, time_arr_group_21)  0.320526\n",
      "6133         (flight_tail_group_4, flight_duration_445)  0.316219\n",
      "18487            (time_dep_group_15, time_arr_group_17)  0.311284\n",
      "19924            (time_dep_group_18, time_arr_group_20)  0.308949\n",
      "17041            (time_dep_group_12, time_arr_group_14)  0.301264\n",
      "20877            (time_dep_group_20, time_arr_group_22)  0.300652\n",
      "16072            (time_dep_group_10, time_arr_group_12)  0.298341\n",
      "15586             (time_dep_group_9, time_arr_group_11)  0.295897\n",
      "18967            (time_dep_group_16, time_arr_group_18)  0.292946\n",
      "14610              (time_dep_group_7, time_arr_group_8)  0.285681\n",
      "4122                     (airline_code_4, state_dest_4)  0.275679\n",
      "16557            (time_dep_group_11, time_arr_group_13)  0.275074\n",
      "21352            (time_dep_group_21, time_arr_group_23)  0.273283\n",
      "4108              (airline_code_4, flight_tail_group_2)  0.265663\n",
      "18006            (time_dep_group_14, time_arr_group_16)  0.265032\n",
      "4115           (airline_code_4, origin_airport_group_3)  0.261242\n",
      "17040            (time_dep_group_12, time_arr_group_13)  0.259434\n",
      "16556            (time_dep_group_11, time_arr_group_12)  0.254302\n",
      "19445            (time_dep_group_17, time_arr_group_18)  0.253637\n",
      "17524            (time_dep_group_13, time_arr_group_15)  0.252202\n",
      "4119                     (airline_code_4, state_orig_4)  0.250987\n",
      "...                                                 ...       ...\n",
      "519                  (day_of_week_3.0, day_of_week_6.0) -0.167868\n",
      "11140                 (state_dest_2, distanece_group_2) -0.167954\n",
      "1                    (day_of_week_2.0, day_of_week_4.0) -0.168315\n",
      "1033                 (day_of_week_4.0, day_of_week_5.0) -0.175113\n",
      "3                    (day_of_week_2.0, day_of_week_6.0) -0.175178\n",
      "1548                 (day_of_week_5.0, day_of_week_6.0) -0.182253\n",
      "520                  (day_of_week_3.0, day_of_week_7.0) -0.183083\n",
      "3100                     (airline_code_2, state_orig_4) -0.186344\n",
      "4                    (day_of_week_2.0, day_of_week_7.0) -0.191056\n",
      "3096           (airline_code_2, origin_airport_group_3) -0.197184\n",
      "1549                 (day_of_week_5.0, day_of_week_7.0) -0.198772\n",
      "1034                 (day_of_week_4.0, day_of_week_6.0) -0.202143\n",
      "8149        (origin_airport_group_2, distanece_group_2) -0.217572\n",
      "1035                 (day_of_week_4.0, day_of_week_7.0) -0.220465\n",
      "3598                   (airline_code_3, airline_code_4) -0.223043\n",
      "9649                  (state_orig_2, distanece_group_2) -0.224599\n",
      "2062                 (day_of_week_6.0, day_of_week_7.0) -0.229454\n",
      "4114           (airline_code_4, origin_airport_group_2) -0.258070\n",
      "11143                      (state_dest_3, state_dest_4) -0.264256\n",
      "3089              (airline_code_2, flight_tail_group_2) -0.304608\n",
      "9154                       (state_orig_2, state_orig_4) -0.309573\n",
      "10648                      (state_dest_2, state_dest_4) -0.340251\n",
      "8153             (origin_airport_group_3, state_orig_2) -0.352818\n",
      "9652                       (state_orig_3, state_orig_4) -0.382341\n",
      "3088                   (airline_code_2, airline_code_4) -0.419142\n",
      "7654             (origin_airport_group_2, state_orig_4) -0.697599\n",
      "3087                   (airline_code_2, airline_code_3) -0.715345\n",
      "9153                       (state_orig_2, state_orig_3) -0.719797\n",
      "10647                      (state_dest_2, state_dest_3) -0.742978\n",
      "7650   (origin_airport_group_2, origin_airport_group_3) -0.992893\n",
      "\n",
      "[133903 rows x 2 columns]\n"
     ]
    }
   ],
   "source": [
    "def corrank(X):\n",
    "        df_corr2 = pd.DataFrame([[(i,j),X.loc[i,j]] for i,j in list(itertools.combinations(X, 2))],columns=['pairs','corr'])    \n",
    "        print(df_corr2.sort_values(by='corr',ascending=False))\n",
    "\n",
    "corrank(check_corr)"
   ]
  },
  {
   "cell_type": "markdown",
   "metadata": {},
   "source": [
    "<img src=\"img/lin.jpg\">"
   ]
  },
  {
   "cell_type": "markdown",
   "metadata": {},
   "source": [
    "# <span style=\"color:#004577\">Part E. Models Building."
   ]
  },
  {
   "cell_type": "markdown",
   "metadata": {},
   "source": [
    "<span style=\"color:#be0119\"><b>\n",
    "--- comment ---</b>\n",
    "\n",
    "<span style=\"color:#1e488f\">\n",
    "In this part I will build few different models to solve my classification problem in predicting intervals of delay. I will use such modelas as: <b>LogisticRegression, DesissionTreeClasifire, RandomForestClasifire</b>."
   ]
  },
  {
   "cell_type": "markdown",
   "metadata": {},
   "source": [
    "# <span style=\"color:#ffad01\">1. Separation: <span style=\"color:#004577\">Features and Target Splitting."
   ]
  },
  {
   "cell_type": "markdown",
   "metadata": {},
   "source": [
    "<span style=\"color:#be0119\"><b>\n",
    "--- comment ---</b>\n",
    "\n",
    "<span style=\"color:#1e488f\">I use iloc to slice my dataset by index. I put my predictors into \"features\" variable and my target I keep separate. Also I will drop highly correlated features to prevent multicollinearity."
   ]
  },
  {
   "cell_type": "code",
   "execution_count": 181,
   "metadata": {
    "collapsed": false
   },
   "outputs": [
    {
     "data": {
      "text/html": [
       "<div>\n",
       "<style scoped>\n",
       "    .dataframe tbody tr th:only-of-type {\n",
       "        vertical-align: middle;\n",
       "    }\n",
       "\n",
       "    .dataframe tbody tr th {\n",
       "        vertical-align: top;\n",
       "    }\n",
       "\n",
       "    .dataframe thead th {\n",
       "        text-align: right;\n",
       "    }\n",
       "</style>\n",
       "<table border=\"1\" class=\"dataframe\">\n",
       "  <thead>\n",
       "    <tr style=\"text-align: right;\">\n",
       "      <th></th>\n",
       "      <th>day_of_week_2.0</th>\n",
       "      <th>day_of_week_3.0</th>\n",
       "      <th>day_of_week_4.0</th>\n",
       "      <th>day_of_week_5.0</th>\n",
       "      <th>day_of_week_6.0</th>\n",
       "      <th>day_of_week_7.0</th>\n",
       "      <th>airline_code_2</th>\n",
       "      <th>airline_code_3</th>\n",
       "      <th>airline_code_4</th>\n",
       "      <th>flight_tail_group_2</th>\n",
       "      <th>...</th>\n",
       "      <th>flight_duration_440</th>\n",
       "      <th>flight_duration_441</th>\n",
       "      <th>flight_duration_442</th>\n",
       "      <th>flight_duration_443</th>\n",
       "      <th>flight_duration_444</th>\n",
       "      <th>flight_duration_445</th>\n",
       "      <th>flight_duration_446</th>\n",
       "      <th>distanece_group_2</th>\n",
       "      <th>distanece_group_3</th>\n",
       "      <th>distanece_group_4</th>\n",
       "    </tr>\n",
       "  </thead>\n",
       "  <tbody>\n",
       "    <tr>\n",
       "      <th>0</th>\n",
       "      <td>0</td>\n",
       "      <td>0</td>\n",
       "      <td>1</td>\n",
       "      <td>0</td>\n",
       "      <td>0</td>\n",
       "      <td>0</td>\n",
       "      <td>0</td>\n",
       "      <td>1</td>\n",
       "      <td>0</td>\n",
       "      <td>0</td>\n",
       "      <td>...</td>\n",
       "      <td>0</td>\n",
       "      <td>0</td>\n",
       "      <td>0</td>\n",
       "      <td>0</td>\n",
       "      <td>0</td>\n",
       "      <td>0</td>\n",
       "      <td>0</td>\n",
       "      <td>1</td>\n",
       "      <td>0</td>\n",
       "      <td>0</td>\n",
       "    </tr>\n",
       "    <tr>\n",
       "      <th>1</th>\n",
       "      <td>0</td>\n",
       "      <td>0</td>\n",
       "      <td>0</td>\n",
       "      <td>0</td>\n",
       "      <td>0</td>\n",
       "      <td>1</td>\n",
       "      <td>0</td>\n",
       "      <td>1</td>\n",
       "      <td>0</td>\n",
       "      <td>1</td>\n",
       "      <td>...</td>\n",
       "      <td>0</td>\n",
       "      <td>0</td>\n",
       "      <td>0</td>\n",
       "      <td>0</td>\n",
       "      <td>0</td>\n",
       "      <td>0</td>\n",
       "      <td>0</td>\n",
       "      <td>1</td>\n",
       "      <td>0</td>\n",
       "      <td>0</td>\n",
       "    </tr>\n",
       "  </tbody>\n",
       "</table>\n",
       "<p>2 rows × 516 columns</p>\n",
       "</div>"
      ],
      "text/plain": [
       "   day_of_week_2.0  day_of_week_3.0  day_of_week_4.0  day_of_week_5.0  \\\n",
       "0                0                0                1                0   \n",
       "1                0                0                0                0   \n",
       "\n",
       "   day_of_week_6.0  day_of_week_7.0  airline_code_2  airline_code_3  \\\n",
       "0                0                0               0               1   \n",
       "1                0                1               0               1   \n",
       "\n",
       "   airline_code_4  flight_tail_group_2        ...          \\\n",
       "0               0                    0        ...           \n",
       "1               0                    1        ...           \n",
       "\n",
       "   flight_duration_440  flight_duration_441  flight_duration_442  \\\n",
       "0                    0                    0                    0   \n",
       "1                    0                    0                    0   \n",
       "\n",
       "   flight_duration_443  flight_duration_444  flight_duration_445  \\\n",
       "0                    0                    0                    0   \n",
       "1                    0                    0                    0   \n",
       "\n",
       "   flight_duration_446  distanece_group_2  distanece_group_3  \\\n",
       "0                    0                  1                  0   \n",
       "1                    0                  1                  0   \n",
       "\n",
       "   distanece_group_4  \n",
       "0                  0  \n",
       "1                  0  \n",
       "\n",
       "[2 rows x 516 columns]"
      ]
     },
     "execution_count": 181,
     "metadata": {},
     "output_type": "execute_result"
    }
   ],
   "source": [
    "features = df.iloc[:, 22:]\n",
    "features.drop(['origin_airport_group_2', 'state_dest_2'], axis=1, inplace=True)\n",
    "features.head(2)"
   ]
  },
  {
   "cell_type": "code",
   "execution_count": 182,
   "metadata": {
    "collapsed": false
   },
   "outputs": [
    {
     "data": {
      "text/html": [
       "<div>\n",
       "<style scoped>\n",
       "    .dataframe tbody tr th:only-of-type {\n",
       "        vertical-align: middle;\n",
       "    }\n",
       "\n",
       "    .dataframe tbody tr th {\n",
       "        vertical-align: top;\n",
       "    }\n",
       "\n",
       "    .dataframe thead th {\n",
       "        text-align: right;\n",
       "    }\n",
       "</style>\n",
       "<table border=\"1\" class=\"dataframe\">\n",
       "  <thead>\n",
       "    <tr style=\"text-align: right;\">\n",
       "      <th></th>\n",
       "      <th>Delay_interval</th>\n",
       "    </tr>\n",
       "  </thead>\n",
       "  <tbody>\n",
       "    <tr>\n",
       "      <th>0</th>\n",
       "      <td>3</td>\n",
       "    </tr>\n",
       "    <tr>\n",
       "      <th>1</th>\n",
       "      <td>3</td>\n",
       "    </tr>\n",
       "  </tbody>\n",
       "</table>\n",
       "</div>"
      ],
      "text/plain": [
       "   Delay_interval\n",
       "0               3\n",
       "1               3"
      ]
     },
     "execution_count": 182,
     "metadata": {},
     "output_type": "execute_result"
    }
   ],
   "source": [
    "target = df.iloc[:, 21:22]\n",
    "target.head(2)"
   ]
  },
  {
   "cell_type": "code",
   "execution_count": 183,
   "metadata": {
    "collapsed": false
   },
   "outputs": [
    {
     "data": {
      "text/plain": [
       "((157948, 516), (157948, 1))"
      ]
     },
     "execution_count": 183,
     "metadata": {},
     "output_type": "execute_result"
    }
   ],
   "source": [
    "# Check shape of my slises.\n",
    "# ________________________________________________________\n",
    "features.shape, target.shape"
   ]
  },
  {
   "cell_type": "markdown",
   "metadata": {},
   "source": [
    "<img src=\"img/lin.jpg\">"
   ]
  },
  {
   "cell_type": "markdown",
   "metadata": {},
   "source": [
    "# <span style=\"color:#ffad01\">2. Standardization: <span style=\"color:#004577\">All data into same scale."
   ]
  },
  {
   "cell_type": "markdown",
   "metadata": {},
   "source": [
    "<span style=\"color:#be0119\"><b>\n",
    "--- comment ---</b>\n",
    "\n",
    "<span style=\"color:#1e488f\">I use <b>StandardScaler</b> from sklearn library for my features standardization. The idea behind StandardScaler is that it will transform my data such that its distribution will have a mean value 0 and standard deviation of 1. The scaler instance can then be used on new data to transform it the same way it did on the training set. I will save all my standardized values in featuresS variable."
   ]
  },
  {
   "cell_type": "code",
   "execution_count": 184,
   "metadata": {
    "collapsed": true
   },
   "outputs": [],
   "source": [
    "ss = StandardScaler()\n",
    "featuresS = ss.fit_transform(features)"
   ]
  },
  {
   "cell_type": "code",
   "execution_count": 185,
   "metadata": {
    "collapsed": false
   },
   "outputs": [
    {
     "name": "stdout",
     "output_type": "stream",
     "text": [
      "features:  (157948, 516)\n",
      "target:  (157948, 1)\n"
     ]
    }
   ],
   "source": [
    "print('features: ',featuresS.shape)\n",
    "print('target: ',target.shape)"
   ]
  },
  {
   "cell_type": "markdown",
   "metadata": {},
   "source": [
    "<img src=\"img/lin.jpg\">"
   ]
  },
  {
   "cell_type": "markdown",
   "metadata": {},
   "source": [
    "# <span style=\"color:#ffad01\">3. Split: <span style=\"color:#004577\">Train | Test."
   ]
  },
  {
   "cell_type": "markdown",
   "metadata": {},
   "source": [
    "<img src=\"img/split.png\">"
   ]
  },
  {
   "cell_type": "markdown",
   "metadata": {},
   "source": [
    "<span style=\"color:#be0119\"><b>\n",
    "--- comment ---</b>\n",
    "\n",
    "<span style=\"color:#1e488f\">I use <b>Train_test_split</b> from sklearn liberary for splitting my data. It is split arrays or matrices into random train and test subsets. I passing my features and target variables into train_test_split and set <b>Test_size</b> 0.25 which is means, my train subset will be 75% of all my data and 25% will be deferred selection or testing part. <b>Stratify</b> parameter makes a split so that the proportion of values in the sample produced will be the same as the proportion of values provided to parameter stratify. And I set <b>Random_state</b> which I use for the same split each time I run line of this code. Also I transformed my y_test and y_train into 1D format, and checked my <b>Baseline</b>. I have to get score in my models higher than in baseline."
   ]
  },
  {
   "cell_type": "code",
   "execution_count": 186,
   "metadata": {
    "collapsed": true
   },
   "outputs": [],
   "source": [
    "X_train, X_test, y_train, y_test = train_test_split(featuresS, target, test_size=0.25, stratify=target, random_state=21)"
   ]
  },
  {
   "cell_type": "code",
   "execution_count": 187,
   "metadata": {
    "collapsed": false
   },
   "outputs": [
    {
     "name": "stdout",
     "output_type": "stream",
     "text": [
      "X_train shape:  (118461, 516)\n",
      "y_train shape:  (118461, 1)\n",
      "-------------------------\n",
      "X_test shape:  (39487, 516)\n",
      "y_test shape:  (39487, 1)\n"
     ]
    }
   ],
   "source": [
    "# Check shape for new splits. \n",
    "# ________________________________________________________\n",
    "print('X_train shape: ',X_train.shape)\n",
    "print('y_train shape: ',y_train.shape)\n",
    "print('-------------------------')\n",
    "print('X_test shape: ',X_test.shape)\n",
    "print('y_test shape: ',y_test.shape)"
   ]
  },
  {
   "cell_type": "code",
   "execution_count": 188,
   "metadata": {
    "collapsed": true
   },
   "outputs": [],
   "source": [
    "# From 2D to 1D\n",
    "# ________________________________________________________\n",
    "yt = y_train.values\n",
    "ytst = y_test.values"
   ]
  },
  {
   "cell_type": "code",
   "execution_count": 189,
   "metadata": {
    "collapsed": false
   },
   "outputs": [
    {
     "data": {
      "text/plain": [
       "2    0.233392\n",
       "0    0.178084\n",
       "1    0.135210\n",
       "3    0.132668\n",
       "Name: Delay_interval, dtype: float64"
      ]
     },
     "execution_count": 189,
     "metadata": {},
     "output_type": "execute_result"
    }
   ],
   "source": [
    "# Find baseline for each category \n",
    "# ________________________________________________________\n",
    "\n",
    "target.Delay_interval.value_counts()/target.Delay_interval.sum()"
   ]
  },
  {
   "cell_type": "markdown",
   "metadata": {},
   "source": [
    "<img src=\"img/lin.jpg\">"
   ]
  },
  {
   "cell_type": "markdown",
   "metadata": {},
   "source": [
    "# <span style=\"color:#ffad01\">4. Model: <span style=\"color:#004577\">LogisticRegression."
   ]
  },
  {
   "cell_type": "markdown",
   "metadata": {},
   "source": [
    "<span style=\"color:#be0119\"><b>\n",
    "--- comment ---</b>\n",
    "\n",
    "<span style=\"color:#1e488f\">First model traditionally is LogisticRegression. The regularization parameter <b>\"C\"</b> in logistic regression is used allow the function to be fitted to be well defined and avoid either overfitting or problems with step functions. Smaller value of \"C\" specify stronger regularization."
   ]
  },
  {
   "cell_type": "markdown",
   "metadata": {},
   "source": [
    "# <span style=\"color:#7f7053\">- GridSearch for LogisticRegression."
   ]
  },
  {
   "cell_type": "code",
   "execution_count": 118,
   "metadata": {
    "collapsed": false
   },
   "outputs": [
    {
     "name": "stdout",
     "output_type": "stream",
     "text": [
      "Fitting 2 folds for each of 4 candidates, totalling 8 fits\n"
     ]
    },
    {
     "name": "stderr",
     "output_type": "stream",
     "text": [
      "[Parallel(n_jobs=1)]: Done   8 out of   8 | elapsed: 13.7min finished\n"
     ]
    },
    {
     "name": "stdout",
     "output_type": "stream",
     "text": [
      "{'C': 0.07, 'penalty': 'l2', 'solver': 'liblinear'}\n",
      "0.324908619715\n",
      "CPU times: user 17min 52s, sys: 3.78 s, total: 17min 55s\n",
      "Wall time: 17min 55s\n"
     ]
    }
   ],
   "source": [
    "%%time\n",
    "lr_params = {\n",
    "    'penalty':['l2'],\n",
    "    'C':[0.07, 0.06, 0.05, 0.04],\n",
    "    'solver':['liblinear']\n",
    "}\n",
    "\n",
    "lr_gs = GridSearchCV(LogisticRegression(), lr_params, cv=2, verbose=1)\n",
    "lr_gs.fit(X_train, yt.ravel())\n",
    "\n",
    "best_lr = lr_gs.best_estimator_\n",
    "print(lr_gs.best_params_)\n",
    "print(lr_gs.best_score_)"
   ]
  },
  {
   "cell_type": "markdown",
   "metadata": {},
   "source": [
    "# <span style=\"color:#7f7053\">- Fit Best Parameters into my Model."
   ]
  },
  {
   "cell_type": "markdown",
   "metadata": {},
   "source": [
    "<span style=\"color:#be0119\"><b>\n",
    "--- comment ---</b>\n",
    "\n",
    "<span style=\"color:#1e488f\">After searching through the parameters I found optimal for my LogisticRegression model: <b>{'C': 0.07, 'penalty': 'l2', 'solver': 'liblinear'}</b>.First I will check my score with cross validation, also to chech if my score similar in all folds. For the <b>Train I got 0.3749</b> and for the <b>Test 0.3642</b> which much more higher than baseline."
   ]
  },
  {
   "cell_type": "code",
   "execution_count": 82,
   "metadata": {
    "collapsed": false
   },
   "outputs": [],
   "source": [
    "# Use cross validation with 4 folds. \n",
    "# ________________________________________________________\n",
    "lr = cross_val_score(LogisticRegression(penalty='l2', C=0.07, solver='liblinear'), X_train, yt.ravel(), cv=4)\n",
    "print (lr, np.mean(lr))"
   ]
  },
  {
   "cell_type": "code",
   "execution_count": 227,
   "metadata": {
    "collapsed": false
   },
   "outputs": [
    {
     "name": "stdout",
     "output_type": "stream",
     "text": [
      "CPU times: user 2min 13s, sys: 734 ms, total: 2min 14s\n",
      "Wall time: 2min 14s\n"
     ]
    }
   ],
   "source": [
    "%%time\n",
    "# Fit my LogisticRegression model.\n",
    "# ________________________________________________________\n",
    "lr = LogisticRegression(penalty='l2', C=0.07)\n",
    "lr.fit(X_train, yt.ravel())"
   ]
  },
  {
   "cell_type": "code",
   "execution_count": 228,
   "metadata": {
    "collapsed": false
   },
   "outputs": [
    {
     "name": "stdout",
     "output_type": "stream",
     "text": [
      "--------------------------------\n",
      "My Train Score:  0.374916639231\n",
      "--------------------------------\n",
      "My Test Score:  0.364246460861\n",
      "--------------------------------\n"
     ]
    }
   ],
   "source": [
    "print('--------------------------------')\n",
    "print(\"My Train Score: \", lr.score(X_train, yt))\n",
    "print('--------------------------------')\n",
    "print(\"My Test Score: \", lr.score(X_test, ytst))\n",
    "print('--------------------------------')"
   ]
  },
  {
   "cell_type": "markdown",
   "metadata": {},
   "source": [
    "# <span style=\"color:#7f7053\">- Confusion Matrix and Classification Report for LR Model."
   ]
  },
  {
   "cell_type": "markdown",
   "metadata": {},
   "source": [
    "<span style=\"color:#be0119\"><b>\n",
    "--- comment ---</b>\n",
    "\n",
    "<span style=\"color:#1e488f\">A <b>Confusion Matrix</b> is a technique for summarizing the performance of a classification algorithm. Calculating a confusion matrix can give us a better idea of what our classification model is getting right and what types of errors it is making. "
   ]
  },
  {
   "cell_type": "code",
   "execution_count": 229,
   "metadata": {
    "collapsed": false
   },
   "outputs": [
    {
     "name": "stdout",
     "output_type": "stream",
     "text": [
      "      0   1     2     3\n",
      "0  2911  41  6752   647\n",
      "1  1916  30  5326   587\n",
      "2  2533  38  9421  1574\n",
      "3   749  13  4928  2021\n",
      "\n",
      "\n",
      "precision = 0.36, recall = 0.36, F1 = 0.36, accuracy = 0.36\n",
      "\n"
     ]
    }
   ],
   "source": [
    "y_probs = lr.predict(X_test)\n",
    "print(pd.DataFrame(confusion_matrix(ytst, y_probs)))                                       \n",
    "print('')\n",
    "# Printing classification report\n",
    "report_svm = precision_recall_fscore_support(list(ytst), list(y_probs), average='micro')\n",
    "print (\"\\nprecision = %0.2f, recall = %0.2f, F1 = %0.2f, accuracy = %0.2f\\n\" % \\\n",
    "        (report_svm[0], report_svm[1], report_svm[2], accuracy_score(list(ytst), list(y_probs))))"
   ]
  },
  {
   "cell_type": "markdown",
   "metadata": {},
   "source": [
    "<img src=\"img/lin.jpg\">"
   ]
  },
  {
   "cell_type": "markdown",
   "metadata": {},
   "source": [
    "# <span style=\"color:#ffad01\">5. Model: <span style=\"color:#004577\">DecisionTreeClassifier."
   ]
  },
  {
   "cell_type": "markdown",
   "metadata": {},
   "source": [
    "<span style=\"color:#be0119\"><b>\n",
    "--- comment ---</b>\n",
    "\n",
    "<span style=\"color:#1e488f\">A tree structure is constructed that breaks the dataset down into smaller subsets eventually resulting in a prediction. There are decision nodes that partition the data and leaf nodes that give the prediction that can be followed by traversing simple IF..AND..AND….THEN logic down the nodes. First stage for the modeling will be finding better hyperparameters for my model. Also I will show how strong my model using confusion matrix."
   ]
  },
  {
   "cell_type": "markdown",
   "metadata": {},
   "source": [
    "# <span style=\"color:#7f7053\">- GridSearch for DecisionTreeClassifier."
   ]
  },
  {
   "cell_type": "code",
   "execution_count": 108,
   "metadata": {
    "collapsed": false
   },
   "outputs": [
    {
     "name": "stdout",
     "output_type": "stream",
     "text": [
      "Fitting 2 folds for each of 5 candidates, totalling 10 fits\n"
     ]
    },
    {
     "name": "stderr",
     "output_type": "stream",
     "text": [
      "[Parallel(n_jobs=1)]: Done  10 out of  10 | elapsed:   41.5s finished\n"
     ]
    },
    {
     "name": "stdout",
     "output_type": "stream",
     "text": [
      "{'max_depth': 5, 'max_features': None, 'min_samples_split': 2}\n",
      "CPU times: user 44.8 s, sys: 3.17 s, total: 47.9 s\n",
      "Wall time: 48.1 s\n"
     ]
    }
   ],
   "source": [
    "%%time\n",
    "dtc_params = {\n",
    "    'max_depth':[5,6,7,8,9],\n",
    "    'max_features':[None],\n",
    "    'min_samples_split':[2]\n",
    "}\n",
    "dtc_gs = GridSearchCV(DecisionTreeClassifier(), dtc_params, cv=2, verbose=1)\n",
    "\n",
    "dtc_gs.fit(X_train, yt.ravel())\n",
    "print(dtc_gs.best_params_)"
   ]
  },
  {
   "cell_type": "markdown",
   "metadata": {},
   "source": [
    "# <span style=\"color:#7f7053\">- Fit Best Parameters into my Model."
   ]
  },
  {
   "cell_type": "markdown",
   "metadata": {},
   "source": [
    "<span style=\"color:#be0119\"><b>\n",
    "--- comment ---</b>\n",
    "\n",
    "<span style=\"color:#1e488f\">After enumeration of parameters I found optimal one for my DecisionTreeClassifier: <b>{'max_depth': 5, 'max_features': None, 'min_samples_split': 2}</b>.  I used cross validation with 4 folds to check mean score. Then I fit my data into my model, and got result <b>0.3606 for the Train part</b>, and <b>0.3591 for the Test part</b>."
   ]
  },
  {
   "cell_type": "code",
   "execution_count": 110,
   "metadata": {
    "collapsed": false
   },
   "outputs": [
    {
     "name": "stdout",
     "output_type": "stream",
     "text": [
      "[ 0.3582281   0.35819686  0.35594651  0.36016749] 0.358134741091\n"
     ]
    }
   ],
   "source": [
    "dtr_scores = cross_val_score(DecisionTreeClassifier(max_depth=5, max_features=None, min_samples_split=2), X_train, yt.ravel(), cv=4)\n",
    "\n",
    "print (dtr_scores, np.mean(dtr_scores))"
   ]
  },
  {
   "cell_type": "code",
   "execution_count": 190,
   "metadata": {
    "collapsed": false
   },
   "outputs": [
    {
     "name": "stdout",
     "output_type": "stream",
     "text": [
      "CPU times: user 6.32 s, sys: 99.6 ms, total: 6.42 s\n",
      "Wall time: 6.42 s\n"
     ]
    }
   ],
   "source": [
    "%%time\n",
    "# Fit my DecisionTreeClassifier model.\n",
    "# ________________________________________________________\n",
    "tree = DecisionTreeClassifier(max_depth=5, max_features=None, min_samples_split=2)\n",
    "tree.fit(X_train, yt.ravel())"
   ]
  },
  {
   "cell_type": "code",
   "execution_count": 191,
   "metadata": {
    "collapsed": false
   },
   "outputs": [
    {
     "name": "stdout",
     "output_type": "stream",
     "text": [
      "--------------------------------\n",
      "My Train Score:  0.360650340618\n",
      "--------------------------------\n",
      "My Test Score:  0.359105528402\n",
      "--------------------------------\n"
     ]
    }
   ],
   "source": [
    "print('--------------------------------')\n",
    "print(\"My Train Score: \", tree.score(X_train, y_train))\n",
    "print('--------------------------------')\n",
    "print(\"My Test Score: \", tree.score(X_test, ytst))\n",
    "print('--------------------------------')"
   ]
  },
  {
   "cell_type": "markdown",
   "metadata": {},
   "source": [
    "# <span style=\"color:#7f7053\">- Confusion Matrix and Classification Report for DT Model."
   ]
  },
  {
   "cell_type": "code",
   "execution_count": 192,
   "metadata": {
    "collapsed": false
   },
   "outputs": [
    {
     "name": "stdout",
     "output_type": "stream",
     "text": [
      "      0  1      2     3\n",
      "0  1072  0   8618   661\n",
      "1   730  0   6511   618\n",
      "2   940  0  11051  1575\n",
      "3   251  0   5403  2057\n",
      "\n",
      "\n",
      "precision = 0.36, recall = 0.36, F1 = 0.36, accuracy = 0.36\n",
      "\n"
     ]
    }
   ],
   "source": [
    "y_probs1 = tree.predict(X_test)\n",
    "print(pd.DataFrame(confusion_matrix(ytst, y_probs1)))                                         \n",
    "print('')\n",
    "# Printing classification report\n",
    "report_svm = precision_recall_fscore_support(list(ytst), list(y_probs1), average='micro')\n",
    "print (\"\\nprecision = %0.2f, recall = %0.2f, F1 = %0.2f, accuracy = %0.2f\\n\" % \\\n",
    "        (report_svm[0], report_svm[1], report_svm[2], accuracy_score(list(ytst), list(y_probs1))))"
   ]
  },
  {
   "cell_type": "markdown",
   "metadata": {},
   "source": [
    "# <span style=\"color:#7f7053\">- Features Importance for DT model."
   ]
  },
  {
   "cell_type": "code",
   "execution_count": 238,
   "metadata": {
    "collapsed": false
   },
   "outputs": [
    {
     "data": {
      "text/html": [
       "<div>\n",
       "<style scoped>\n",
       "    .dataframe tbody tr th:only-of-type {\n",
       "        vertical-align: middle;\n",
       "    }\n",
       "\n",
       "    .dataframe tbody tr th {\n",
       "        vertical-align: top;\n",
       "    }\n",
       "\n",
       "    .dataframe thead th {\n",
       "        text-align: right;\n",
       "    }\n",
       "</style>\n",
       "<table border=\"1\" class=\"dataframe\">\n",
       "  <thead>\n",
       "    <tr style=\"text-align: right;\">\n",
       "      <th></th>\n",
       "      <th>feature</th>\n",
       "      <th>importance</th>\n",
       "    </tr>\n",
       "  </thead>\n",
       "  <tbody>\n",
       "    <tr>\n",
       "      <th>9</th>\n",
       "      <td>flight_tail_group_2</td>\n",
       "      <td>0.502576</td>\n",
       "    </tr>\n",
       "    <tr>\n",
       "      <th>12</th>\n",
       "      <td>flight_number_group_2</td>\n",
       "      <td>0.325879</td>\n",
       "    </tr>\n",
       "    <tr>\n",
       "      <th>513</th>\n",
       "      <td>distanece_group_2</td>\n",
       "      <td>0.065352</td>\n",
       "    </tr>\n",
       "    <tr>\n",
       "      <th>13</th>\n",
       "      <td>flight_number_group_3</td>\n",
       "      <td>0.035969</td>\n",
       "    </tr>\n",
       "    <tr>\n",
       "      <th>26</th>\n",
       "      <td>time_dep_group_6</td>\n",
       "      <td>0.016565</td>\n",
       "    </tr>\n",
       "    <tr>\n",
       "      <th>5</th>\n",
       "      <td>day_of_week_7.0</td>\n",
       "      <td>0.010606</td>\n",
       "    </tr>\n",
       "    <tr>\n",
       "      <th>51</th>\n",
       "      <td>time_arr_group_8</td>\n",
       "      <td>0.008072</td>\n",
       "    </tr>\n",
       "    <tr>\n",
       "      <th>6</th>\n",
       "      <td>airline_code_2</td>\n",
       "      <td>0.006574</td>\n",
       "    </tr>\n",
       "    <tr>\n",
       "      <th>10</th>\n",
       "      <td>flight_tail_group_3</td>\n",
       "      <td>0.005237</td>\n",
       "    </tr>\n",
       "    <tr>\n",
       "      <th>20</th>\n",
       "      <td>state_dest_3</td>\n",
       "      <td>0.004047</td>\n",
       "    </tr>\n",
       "  </tbody>\n",
       "</table>\n",
       "</div>"
      ],
      "text/plain": [
       "                   feature  importance\n",
       "9      flight_tail_group_2    0.502576\n",
       "12   flight_number_group_2    0.325879\n",
       "513      distanece_group_2    0.065352\n",
       "13   flight_number_group_3    0.035969\n",
       "26        time_dep_group_6    0.016565\n",
       "5          day_of_week_7.0    0.010606\n",
       "51        time_arr_group_8    0.008072\n",
       "6           airline_code_2    0.006574\n",
       "10     flight_tail_group_3    0.005237\n",
       "20            state_dest_3    0.004047"
      ]
     },
     "execution_count": 238,
     "metadata": {},
     "output_type": "execute_result"
    }
   ],
   "source": [
    "# Check what fitures more important for my model. \n",
    "# ________________________________________________________\n",
    "fi = pd.DataFrame({\n",
    "        'feature':features.columns,\n",
    "        'importance':tree.feature_importances_\n",
    "    })\n",
    "fi.sort_values('importance', ascending=False, inplace=True)\n",
    "fi.head(10)"
   ]
  },
  {
   "cell_type": "code",
   "execution_count": 239,
   "metadata": {
    "collapsed": false
   },
   "outputs": [
    {
     "data": {
      "image/png": "[encoded data removed]",
      "text/plain": [
       "<Figure size 720x360 with 1 Axes>"
      ]
     },
     "metadata": {
      "image/png": {
       "height": 459,
       "width": 618
      }
     },
     "output_type": "display_data"
    }
   ],
   "source": [
    "ax = fi.head(10).plot(kind='bar', figsize = (10,5), color=['#820747'])\n",
    "ax.set_xticklabels(fi.feature)\n",
    "plt.ylabel('Strenght of the feature', fontsize=14, weight = 'bold', labelpad=12)\n",
    "plt.setp(ax.get_xticklabels(), fontsize=12, ha = 'right', rotation = 70, weight = 'bold')\n",
    "plt.suptitle('Features Importance for the DecisionTreeClassifier', size=16, color='#8f1402', weight = 'bold')\n",
    "ax.legend().set_visible(False)\n",
    "\n",
    "plt.show()"
   ]
  },
  {
   "cell_type": "markdown",
   "metadata": {},
   "source": [
    "# <span style=\"color:#7f7053\">- Tree Visualisation for DT model."
   ]
  },
  {
   "cell_type": "code",
   "execution_count": 209,
   "metadata": {
    "collapsed": false
   },
   "outputs": [
    {
     "data": {
      "image/png": "[encoded data removed]",
      "text/plain": [
       "<IPython.core.display.Image object>"
      ]
     },
     "execution_count": 209,
     "metadata": {},
     "output_type": "execute_result"
    }
   ],
   "source": [
    "# initialize the output file object\n",
    "# ________________________________________________________\n",
    "dot_data = StringIO() \n",
    "\n",
    "export_graphviz(tree, out_file=dot_data, max_depth=3, filled=True, rounded=True,\n",
    "                special_characters=True, feature_names=features.columns)  \n",
    "\n",
    "graph = pydotplus.graph_from_dot_data(dot_data.getvalue())  \n",
    "Image(graph.create_png()) "
   ]
  },
  {
   "cell_type": "markdown",
   "metadata": {},
   "source": [
    "<img src=\"img/lin.jpg\">"
   ]
  },
  {
   "cell_type": "markdown",
   "metadata": {},
   "source": [
    "# <span style=\"color:#ffad01\">6. Model: <span style=\"color:#004577\">RandomForestClassifier."
   ]
  },
  {
   "cell_type": "markdown",
   "metadata": {},
   "source": [
    "<img src=\"img/forest.jpg\">"
   ]
  },
  {
   "cell_type": "markdown",
   "metadata": {},
   "source": [
    "<span style=\"color:#be0119\"><b>\n",
    "--- comment ---</b>\n",
    "\n",
    "<span style=\"color:#1e488f\">RandomForestClassifier is ensemble algorithm. Ensembled algorithms are those which combines more than one algorithms of same or different kind for classifying objects. And then taking vote for final consideration of class for test object. As usual I will follow step by step in building my model and I will give some reports."
   ]
  },
  {
   "cell_type": "markdown",
   "metadata": {},
   "source": [
    "# <span style=\"color:#7f7053\">- GridSearch for RandomForestClassifier."
   ]
  },
  {
   "cell_type": "code",
   "execution_count": 212,
   "metadata": {
    "collapsed": false
   },
   "outputs": [
    {
     "name": "stdout",
     "output_type": "stream",
     "text": [
      "Fitting 2 folds for each of 4 candidates, totalling 8 fits\n"
     ]
    },
    {
     "name": "stderr",
     "output_type": "stream",
     "text": [
      "[Parallel(n_jobs=1)]: Done   8 out of   8 | elapsed:  3.4min finished\n"
     ]
    },
    {
     "name": "stdout",
     "output_type": "stream",
     "text": [
      "{'criterion': 'entropy', 'min_samples_leaf': 6, 'min_samples_split': 2, 'n_estimators': 71, 'random_state': 123}\n",
      "CPU times: user 4min 26s, sys: 3.89 s, total: 4min 30s\n",
      "Wall time: 4min 31s\n"
     ]
    }
   ],
   "source": [
    "%%time\n",
    "params = {'criterion':['entropy'],\n",
    "          'n_estimators':[61, 71],\n",
    "          'min_samples_leaf':[4,6],\n",
    "          'min_samples_split':[2], \n",
    "          'random_state':[123]}\n",
    "#Making models with hyper parameters sets\n",
    "Rforest_gs = GridSearchCV(RandomForestClassifier(), param_grid=params, cv=2, verbose=1)\n",
    "Rforest_gs.fit(X_train, yt.ravel())\n",
    "print(Rforest_gs.best_params_)"
   ]
  },
  {
   "cell_type": "markdown",
   "metadata": {},
   "source": [
    "# <span style=\"color:#7f7053\">- Fit Best Parameters into my RF Model."
   ]
  },
  {
   "cell_type": "markdown",
   "metadata": {},
   "source": [
    "<span style=\"color:#be0119\"><b>\n",
    "--- comment ---</b>\n",
    "\n",
    "<span style=\"color:#1e488f\">Best parameters for my RandomForestClassifier: <b>{'criterion': 'entropy', 'min_samples_leaf': 6, 'min_samples_split': 2, 'n_estimators': 71, 'random_state': 123}</b>. \n",
    "\n",
    "\n",
    "\n",
    "Check my scores with cross validation. And after that I fit my data into my model, and got result <b>0.9768 for the Train part</b>, and <b>0.9386 for the Test part</b>."
   ]
  },
  {
   "cell_type": "code",
   "execution_count": 214,
   "metadata": {
    "collapsed": false
   },
   "outputs": [
    {
     "name": "stdout",
     "output_type": "stream",
     "text": [
      "[ 0.36454183  0.36616579  0.36617816  0.36567164] 0.358134741091\n"
     ]
    }
   ],
   "source": [
    "forest_cros = cross_val_score(RandomForestClassifier(criterion='entropy', min_samples_leaf=6, min_samples_split=2, n_estimators=71, random_state=123), X_train, yt.ravel(), cv=4)\n",
    "print (forest_cros, np.mean(dtr_scores))"
   ]
  },
  {
   "cell_type": "code",
   "execution_count": 221,
   "metadata": {
    "collapsed": false
   },
   "outputs": [
    {
     "name": "stdout",
     "output_type": "stream",
     "text": [
      "CPU times: user 1min 3s, sys: 463 ms, total: 1min 4s\n",
      "Wall time: 1min 5s\n"
     ]
    }
   ],
   "source": [
    "%%time\n",
    "# Fit my DecisionTreeClassifier model.\n",
    "# ________________________________________________________\n",
    "forest = RandomForestClassifier(criterion='entropy', min_samples_leaf=6, min_samples_split=2, n_estimators=71, random_state=123)\n",
    "forest.fit(X_train, yt.ravel())"
   ]
  },
  {
   "cell_type": "code",
   "execution_count": 222,
   "metadata": {
    "collapsed": false
   },
   "outputs": [
    {
     "name": "stdout",
     "output_type": "stream",
     "text": [
      "--------------------------------\n",
      "My Train Score:  0.41480318417\n",
      "--------------------------------\n",
      "My Test Score:  0.367184136551\n",
      "--------------------------------\n"
     ]
    }
   ],
   "source": [
    "print('--------------------------------')\n",
    "print(\"My Train Score: \", forest.score(X_train, y_train))\n",
    "print('--------------------------------')\n",
    "print(\"My Test Score: \", forest.score(X_test, ytst))\n",
    "print('--------------------------------')"
   ]
  },
  {
   "cell_type": "markdown",
   "metadata": {},
   "source": [
    "# <span style=\"color:#7f7053\">- Confusion Matrix and Classification Report for RF Model."
   ]
  },
  {
   "cell_type": "code",
   "execution_count": 223,
   "metadata": {
    "collapsed": false
   },
   "outputs": [
    {
     "name": "stdout",
     "output_type": "stream",
     "text": [
      "      0  1      2     3\n",
      "0  2544  6   7365   436\n",
      "1  1632  5   5837   385\n",
      "2  1996  2  10472  1096\n",
      "3   556  2   5675  1478\n",
      "\n",
      "\n",
      "precision = 0.37, recall = 0.37, F1 = 0.37, accuracy = 0.37\n",
      "\n"
     ]
    }
   ],
   "source": [
    "y_probs1 = forest.predict(X_test)\n",
    "print(pd.DataFrame(confusion_matrix(ytst, y_probs1)))                                       \n",
    "print('')\n",
    "# Printing classification report\n",
    "report_svm = precision_recall_fscore_support(list(ytst), list(y_probs1), average='micro')\n",
    "print (\"\\nprecision = %0.2f, recall = %0.2f, F1 = %0.2f, accuracy = %0.2f\\n\" % \\\n",
    "        (report_svm[0], report_svm[1], report_svm[2], accuracy_score(list(ytst), list(y_probs1))))"
   ]
  },
  {
   "cell_type": "markdown",
   "metadata": {},
   "source": [
    "# <span style=\"color:#7f7053\">- Features Importance."
   ]
  },
  {
   "cell_type": "code",
   "execution_count": 225,
   "metadata": {
    "collapsed": false
   },
   "outputs": [
    {
     "data": {
      "text/html": [
       "<div>\n",
       "<style scoped>\n",
       "    .dataframe tbody tr th:only-of-type {\n",
       "        vertical-align: middle;\n",
       "    }\n",
       "\n",
       "    .dataframe tbody tr th {\n",
       "        vertical-align: top;\n",
       "    }\n",
       "\n",
       "    .dataframe thead th {\n",
       "        text-align: right;\n",
       "    }\n",
       "</style>\n",
       "<table border=\"1\" class=\"dataframe\">\n",
       "  <thead>\n",
       "    <tr style=\"text-align: right;\">\n",
       "      <th></th>\n",
       "      <th>feature</th>\n",
       "      <th>importance</th>\n",
       "    </tr>\n",
       "  </thead>\n",
       "  <tbody>\n",
       "    <tr>\n",
       "      <th>9</th>\n",
       "      <td>flight_tail_group_2</td>\n",
       "      <td>0.118190</td>\n",
       "    </tr>\n",
       "    <tr>\n",
       "      <th>12</th>\n",
       "      <td>flight_number_group_2</td>\n",
       "      <td>0.098650</td>\n",
       "    </tr>\n",
       "    <tr>\n",
       "      <th>513</th>\n",
       "      <td>distanece_group_2</td>\n",
       "      <td>0.040618</td>\n",
       "    </tr>\n",
       "    <tr>\n",
       "      <th>6</th>\n",
       "      <td>airline_code_2</td>\n",
       "      <td>0.016420</td>\n",
       "    </tr>\n",
       "    <tr>\n",
       "      <th>15</th>\n",
       "      <td>origin_airport_group_3</td>\n",
       "      <td>0.016332</td>\n",
       "    </tr>\n",
       "    <tr>\n",
       "      <th>21</th>\n",
       "      <td>state_dest_4</td>\n",
       "      <td>0.015697</td>\n",
       "    </tr>\n",
       "    <tr>\n",
       "      <th>5</th>\n",
       "      <td>day_of_week_7.0</td>\n",
       "      <td>0.015028</td>\n",
       "    </tr>\n",
       "    <tr>\n",
       "      <th>17</th>\n",
       "      <td>state_orig_2</td>\n",
       "      <td>0.014098</td>\n",
       "    </tr>\n",
       "    <tr>\n",
       "      <th>20</th>\n",
       "      <td>state_dest_3</td>\n",
       "      <td>0.013786</td>\n",
       "    </tr>\n",
       "    <tr>\n",
       "      <th>8</th>\n",
       "      <td>airline_code_4</td>\n",
       "      <td>0.013456</td>\n",
       "    </tr>\n",
       "  </tbody>\n",
       "</table>\n",
       "</div>"
      ],
      "text/plain": [
       "                    feature  importance\n",
       "9       flight_tail_group_2    0.118190\n",
       "12    flight_number_group_2    0.098650\n",
       "513       distanece_group_2    0.040618\n",
       "6            airline_code_2    0.016420\n",
       "15   origin_airport_group_3    0.016332\n",
       "21             state_dest_4    0.015697\n",
       "5           day_of_week_7.0    0.015028\n",
       "17             state_orig_2    0.014098\n",
       "20             state_dest_3    0.013786\n",
       "8            airline_code_4    0.013456"
      ]
     },
     "execution_count": 225,
     "metadata": {},
     "output_type": "execute_result"
    }
   ],
   "source": [
    "# Check what fitures more important for my model. \n",
    "# ________________________________________________________\n",
    "fi2 = pd.DataFrame({\n",
    "        'feature':features.columns,\n",
    "        'importance':forest.feature_importances_\n",
    "    })\n",
    "fi2.sort_values('importance', ascending=False, inplace=True)\n",
    "fi2.head(10)"
   ]
  },
  {
   "cell_type": "code",
   "execution_count": 237,
   "metadata": {
    "collapsed": false
   },
   "outputs": [
    {
     "data": {
      "image/png": "[encoded data removed]",
      "text/plain": [
       "<Figure size 720x360 with 1 Axes>"
      ]
     },
     "metadata": {
      "image/png": {
       "height": 459,
       "width": 623
      }
     },
     "output_type": "display_data"
    }
   ],
   "source": [
    "ax = fi2.head(10).plot(kind='bar', figsize = (10,5), color=['#820747'])\n",
    "ax.set_xticklabels(fi2.feature)\n",
    "plt.ylabel('Strenght of the feature', fontsize=14, weight = 'bold', labelpad=12)\n",
    "plt.setp(ax.get_xticklabels(), fontsize=12, ha = 'right', rotation = 70, weight = 'bold')\n",
    "plt.suptitle('Features Importance for the RandomForestClassifier', size=16, color='#8f1402', weight = 'bold')\n",
    "ax.legend().set_visible(False)\n",
    "\n",
    "plt.show()"
   ]
  },
  {
   "cell_type": "markdown",
   "metadata": {},
   "source": [
    "<img src=\"img/lin.jpg\">"
   ]
  },
  {
   "cell_type": "markdown",
   "metadata": {},
   "source": [
    "<img src=\"img/conc.jpg\">"
   ]
  },
  {
   "cell_type": "markdown",
   "metadata": {},
   "source": [
    "<span style=\"color:#610023\">In this part I built 3 working models such as LogisticRegression, DessisionTreeClasifire, RandomForestClasifire. All of the gave me result higher than baseline. As I was focusing on predicting delays more than 15 min, I can say that DesisionTreeClassifire is perfoming best, it has score <b>0.3591</b> which is slightly lower than DessisionTreeClassifire model <b>0.3671</b>. My baseline for each category below than <b>0.24</b>. Confusion matrix for the DesisionTree:<br>\n",
    "\n",
    "   &emsp;&emsp;&emsp;   0 &emsp;&emsp; 1    &emsp;&emsp;  2  &emsp;&emsp;   3<br>\n",
    "0  &emsp;1072 &emsp; 0  &emsp; 8618  &emsp; 661<br>\n",
    "1  &emsp; 730 &emsp; &nbsp;0  &emsp; 6511 &emsp;  618<br>\n",
    "2  &emsp;&nbsp;940 &emsp;&nbsp; 0 &emsp; 11051 &nbsp; 1575<br>\n",
    "3  &emsp;&nbsp;251 &emsp; &nbsp;0  &emsp; 5403 &emsp; 2057\n",
    "\n",
    "<span style=\"color:#610023\">I can see that have <b>11051 correct prediction on delays from 15 - 45 minutes</b>. And prediction for last group which is 45 min and higher I got 2057 right predictions. I also do mistakes on predicting short delays, but it is not that critical, because I false predicting long delays in case when they will be shorter. \n",
    "\n",
    "<span style=\"color:#610023\">I found most important features for my models which was in a top list in all my models:\n",
    "\n",
    "<b>flight_tail_group_2</b> <span style=\"color:#610023\">(group of plane tail numbers which was recorded with length of delays in range 28 - 56 min)</span><br>\n",
    "<b>flight_number_group_2</b> <span style=\"color:#610023\">(group of flight numbers which was recorded with length of  delays in range 28 - 56 min)</span><br>\n",
    "<b>distanece_group_2</b> <span style=\"color:#610023\">(group of distance of routes which was recorded with length of delays in range 24 - 45 min)</span><br>\n",
    "<b>day_of_week_7</b> <span style=\"color:#610023\">(group of day of the week which was recorded with length of delays more than 28 min)</span><br>\n",
    "<b>airline_code_2</b> <span style=\"color:#610023\">(group of name of airlines which was recorded with length of  delays in range 20 - 26 min)</span><br>\n",
    "<b>state_dest_3</b> <span style=\"color:#610023\">(group of states of destination which was recorded with length of  delays in range 25 - 30 min)</span><br>"
   ]
  },
  {
   "cell_type": "markdown",
   "metadata": {},
   "source": [
    "<img src=\"img/atc.png\">"
   ]
  },
  {
   "cell_type": "markdown",
   "metadata": {},
   "source": [
    "<img src=\"img/atcl.png\">"
   ]
  },
  {
   "cell_type": "markdown",
   "metadata": {},
   "source": [
    "<span style=\"color:#610023\"><b>My predictive models could be used in real life like, application for air traffic controllers, so then can monitor in real life condition of air traffic across the country. Also This application could be useful for the passengers to check the airport condition before their upcoming flight.  "
   ]
  },
  {
   "cell_type": "markdown",
   "metadata": {
    "collapsed": true
   },
   "source": [
    "<img src=\"img/lin.jpg\">"
   ]
  },
  {
   "cell_type": "markdown",
   "metadata": {
    "collapsed": true
   },
   "source": [
    "[GO BACK <<](./Chapter-3-regression_problem.ipynb)  "
   ]
  }
 ],
 "metadata": {
  "kernelspec": {
   "display_name": "Python 3",
   "language": "python",
   "name": "python3"
  },
  "language_info": {
   "codemirror_mode": {
    "name": "ipython",
    "version": 3
   },
   "file_extension": ".py",
   "mimetype": "text/x-python",
   "name": "python",
   "nbconvert_exporter": "python",
   "pygments_lexer": "ipython3",
   "version": "3.6.0"
  },
  "toc": {
   "base_numbering": 1,
   "nav_menu": {},
   "number_sections": false,
   "sideBar": true,
   "skip_h1_title": false,
   "title_cell": "Table of Contents",
   "title_sidebar": "Contents",
   "toc_cell": false,
   "toc_position": {},
   "toc_section_display": true,
   "toc_window_display": false
  }
 },
 "nbformat": 4,
 "nbformat_minor": 2
}
